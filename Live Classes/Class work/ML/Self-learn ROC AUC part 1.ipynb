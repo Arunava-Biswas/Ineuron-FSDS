{
 "cells": [
  {
   "cell_type": "markdown",
   "id": "68668dd9",
   "metadata": {},
   "source": [
    "### Select the Right Threshold values using ROC Curve"
   ]
  },
  {
   "cell_type": "code",
   "execution_count": 1,
   "id": "29c79a65",
   "metadata": {},
   "outputs": [],
   "source": [
    "# importing the libraries\n",
    "\n",
    "import numpy as np\n",
    "import pandas as pd\n",
    "import matplotlib.pyplot as plt\n",
    "%matplotlib inline\n",
    "import seaborn as sns\n",
    "import warnings\n",
    "warnings.filterwarnings('ignore')\n",
    "\n",
    "\n",
    "# for roc curve and auc score\n",
    "# This 'make_classification' is the most important library\n",
    "from sklearn.datasets import make_classification"
   ]
  },
  {
   "cell_type": "markdown",
   "id": "db94b5a8",
   "metadata": {},
   "source": [
    "- This `make_classification` is basically a technique of creating a synthetic dataset, where it generates random classification problem.\n",
    "- This initially creates clusters of points normally distributed (std=1)about vertices of an `n_informative`-dimensional hypercube with sides of length `2*class_sep` and assigns an equal number of clusters to each class. It introduces interdependence between these features and adds various types of further noise to the data.\n",
    "- Here `n_classes` is to specify how many number of categories we want in the output feature, here we will have `0` and `1` i.e. 2.\n",
    "- Here we are taking a sample of 2000 data points where the number of classes should be 2 and the weight should be equal, i.e. if one category of data points are 1000 then the other category of data points should also be 1000. So it is a balanced dataset."
   ]
  },
  {
   "cell_type": "code",
   "execution_count": 2,
   "id": "4dcf2ea7",
   "metadata": {},
   "outputs": [],
   "source": [
    "# Creating the dataset\n",
    "\n",
    "from sklearn.model_selection import train_test_split\n",
    "X, y = make_classification(n_samples=2000, n_classes=2, weights=[1,1], random_state=1)"
   ]
  },
  {
   "cell_type": "code",
   "execution_count": 3,
   "id": "9664d3be",
   "metadata": {},
   "outputs": [
    {
     "data": {
      "text/plain": [
       "(2000, 20)"
      ]
     },
     "execution_count": 3,
     "metadata": {},
     "output_type": "execute_result"
    }
   ],
   "source": [
    "# Checking the shape of the data\n",
    "# So here we are getting 2000 rows with 20 features or columns\n",
    "\n",
    "X.shape"
   ]
  },
  {
   "cell_type": "code",
   "execution_count": 4,
   "id": "99c3c3dd",
   "metadata": {},
   "outputs": [
    {
     "data": {
      "text/plain": [
       "array([0, 0, 0, ..., 1, 1, 0])"
      ]
     },
     "execution_count": 4,
     "metadata": {},
     "output_type": "execute_result"
    }
   ],
   "source": [
    "# The number of categories in the output is 2 i.e. '0' and '1'\n",
    "\n",
    "y"
   ]
  },
  {
   "cell_type": "code",
   "execution_count": 5,
   "id": "ac1d7200",
   "metadata": {},
   "outputs": [],
   "source": [
    "# Now doing train test split\n",
    "# Here test size is 30%\n",
    "\n",
    "from sklearn.model_selection import train_test_split\n",
    "\n",
    "X_train,X_test,y_train,y_test = train_test_split(X, y, test_size=0.3, random_state=1)"
   ]
  },
  {
   "cell_type": "code",
   "execution_count": 6,
   "id": "be6e9a52",
   "metadata": {},
   "outputs": [],
   "source": [
    "# importing libraries for roc curve and roc_auc score\n",
    "\n",
    "from sklearn.metrics import roc_curve\n",
    "from sklearn.metrics import roc_auc_score"
   ]
  },
  {
   "cell_type": "markdown",
   "id": "4e927045",
   "metadata": {},
   "source": [
    "### Logistic Regression"
   ]
  },
  {
   "cell_type": "code",
   "execution_count": 7,
   "id": "1de5588f",
   "metadata": {},
   "outputs": [
    {
     "name": "stdout",
     "output_type": "stream",
     "text": [
      "Logistic train roc-auc: 0.9863568922694498\n",
      "Logistic test roc-auc: 0.9885777777777777\n"
     ]
    }
   ],
   "source": [
    "from sklearn.linear_model import LogisticRegression\n",
    "log_classifier = LogisticRegression()\n",
    "\n",
    "# training the model\n",
    "log_classifier.fit(X_train, y_train)\n",
    "\n",
    "# predict_proba() will give us the probability\n",
    "# Here we consider probability as 0.5 then anything less than this is 0 and anything equal or greater is 1\n",
    "ytrain_pred = log_classifier.predict_proba(X_train)\n",
    "print('Logistic train roc-auc: {}'.format(roc_auc_score(y_train, ytrain_pred[:,1])))\n",
    "\n",
    "ytest_pred = log_classifier.predict_proba(X_test)\n",
    "print('Logistic test roc-auc: {}'.format(roc_auc_score(y_test, ytest_pred[:,1])))"
   ]
  },
  {
   "cell_type": "markdown",
   "id": "818e3ba6",
   "metadata": {},
   "source": [
    "- The higher the area the better model it is that is the performance will be high.\n",
    "- As here we are getting a 98% for both test and train dataset so we can say this is a very good model."
   ]
  },
  {
   "cell_type": "code",
   "execution_count": 8,
   "id": "1989f989",
   "metadata": {},
   "outputs": [
    {
     "data": {
      "text/plain": [
       "array([[9.99688479e-01, 3.11520635e-04],\n",
       "       [9.99966000e-01, 3.39995695e-05],\n",
       "       [2.09976771e-02, 9.79002323e-01],\n",
       "       ...,\n",
       "       [8.58463348e-01, 1.41536652e-01],\n",
       "       [9.99422335e-01, 5.77665099e-04],\n",
       "       [6.07714035e-01, 3.92285965e-01]])"
      ]
     },
     "execution_count": 8,
     "metadata": {},
     "output_type": "execute_result"
    }
   ],
   "source": [
    "# To check in training dataset the probability of gettion 0 and 1\n",
    "\n",
    "log_classifier.predict_proba(X_train)"
   ]
  },
  {
   "cell_type": "code",
   "execution_count": 9,
   "id": "cc1ea005",
   "metadata": {},
   "outputs": [
    {
     "data": {
      "text/plain": [
       "array([3.11520635e-04, 3.39995695e-05, 9.79002323e-01, ...,\n",
       "       1.41536652e-01, 5.77665099e-04, 3.92285965e-01])"
      ]
     },
     "execution_count": 9,
     "metadata": {},
     "output_type": "execute_result"
    }
   ],
   "source": [
    "# Now to get the probability of 1 only we need to take the 1th column only\n",
    "\n",
    "log_classifier.predict_proba(X_train)[:,1]"
   ]
  },
  {
   "cell_type": "markdown",
   "id": "014af13c",
   "metadata": {},
   "source": [
    "#### Now we will focus on selecting the best threshold for maximum accuracy"
   ]
  },
  {
   "cell_type": "code",
   "execution_count": 10,
   "id": "922d866c",
   "metadata": {},
   "outputs": [
    {
     "name": "stdout",
     "output_type": "stream",
     "text": [
      "The test roc-auc: 0.9885777777777777\n"
     ]
    }
   ],
   "source": [
    "# Here we are using the roc_auc score along with the log classifier\n",
    "\n",
    "pred = []\n",
    "\n",
    "# Here we are taking all the prdictions of all the models and we are appending it\n",
    "# That is we are doing prediction on the X_test data find all the values where the probabilty of output is 1 \n",
    "# and then appending all those data as a series to the empty list 'pred'\n",
    "for model in [log_classifier]:\n",
    "    pred.append(pd.Series(model.predict_proba(X_test)[:,1]))\n",
    "\n",
    "# Doing the final prediction\n",
    "# Here we are concatinating with respect to all the prdictions we get from different models\n",
    "# axis=1 is so we concatinate all the values of different models horizontally\n",
    "# mean(axis=1) so we can find the mean of all these values and provide them in the final prediction\n",
    "final_prediction = pd.concat(pred, axis=1).mean(axis=1)\n",
    "\n",
    "print('The test roc-auc: {}'.format(roc_auc_score(y_test, final_prediction)))"
   ]
  },
  {
   "cell_type": "code",
   "execution_count": 11,
   "id": "488072b6",
   "metadata": {},
   "outputs": [
    {
     "data": {
      "text/html": [
       "<div>\n",
       "<style scoped>\n",
       "    .dataframe tbody tr th:only-of-type {\n",
       "        vertical-align: middle;\n",
       "    }\n",
       "\n",
       "    .dataframe tbody tr th {\n",
       "        vertical-align: top;\n",
       "    }\n",
       "\n",
       "    .dataframe thead th {\n",
       "        text-align: right;\n",
       "    }\n",
       "</style>\n",
       "<table border=\"1\" class=\"dataframe\">\n",
       "  <thead>\n",
       "    <tr style=\"text-align: right;\">\n",
       "      <th></th>\n",
       "      <th>0</th>\n",
       "    </tr>\n",
       "  </thead>\n",
       "  <tbody>\n",
       "    <tr>\n",
       "      <th>0</th>\n",
       "      <td>0.991861</td>\n",
       "    </tr>\n",
       "    <tr>\n",
       "      <th>1</th>\n",
       "      <td>0.000008</td>\n",
       "    </tr>\n",
       "    <tr>\n",
       "      <th>2</th>\n",
       "      <td>0.966929</td>\n",
       "    </tr>\n",
       "    <tr>\n",
       "      <th>3</th>\n",
       "      <td>0.761539</td>\n",
       "    </tr>\n",
       "    <tr>\n",
       "      <th>4</th>\n",
       "      <td>0.779443</td>\n",
       "    </tr>\n",
       "    <tr>\n",
       "      <th>...</th>\n",
       "      <td>...</td>\n",
       "    </tr>\n",
       "    <tr>\n",
       "      <th>595</th>\n",
       "      <td>0.024239</td>\n",
       "    </tr>\n",
       "    <tr>\n",
       "      <th>596</th>\n",
       "      <td>0.000003</td>\n",
       "    </tr>\n",
       "    <tr>\n",
       "      <th>597</th>\n",
       "      <td>0.984385</td>\n",
       "    </tr>\n",
       "    <tr>\n",
       "      <th>598</th>\n",
       "      <td>0.001147</td>\n",
       "    </tr>\n",
       "    <tr>\n",
       "      <th>599</th>\n",
       "      <td>0.989540</td>\n",
       "    </tr>\n",
       "  </tbody>\n",
       "</table>\n",
       "<p>600 rows × 1 columns</p>\n",
       "</div>"
      ],
      "text/plain": [
       "            0\n",
       "0    0.991861\n",
       "1    0.000008\n",
       "2    0.966929\n",
       "3    0.761539\n",
       "4    0.779443\n",
       "..        ...\n",
       "595  0.024239\n",
       "596  0.000003\n",
       "597  0.984385\n",
       "598  0.001147\n",
       "599  0.989540\n",
       "\n",
       "[600 rows x 1 columns]"
      ]
     },
     "execution_count": 11,
     "metadata": {},
     "output_type": "execute_result"
    }
   ],
   "source": [
    "# As here we have only one model \n",
    "\n",
    "pd.concat(pred, axis=1)"
   ]
  },
  {
   "cell_type": "code",
   "execution_count": 12,
   "id": "b168ff21",
   "metadata": {},
   "outputs": [
    {
     "data": {
      "text/plain": [
       "0      0.991861\n",
       "1      0.000008\n",
       "2      0.966929\n",
       "3      0.761539\n",
       "4      0.779443\n",
       "         ...   \n",
       "595    0.024239\n",
       "596    0.000003\n",
       "597    0.984385\n",
       "598    0.001147\n",
       "599    0.989540\n",
       "Length: 600, dtype: float64"
      ]
     },
     "execution_count": 12,
     "metadata": {},
     "output_type": "execute_result"
    }
   ],
   "source": [
    "# getting the final prediction outputs with respect to 1\n",
    "\n",
    "final_prediction"
   ]
  },
  {
   "cell_type": "code",
   "execution_count": 13,
   "id": "880cb840",
   "metadata": {},
   "outputs": [],
   "source": [
    "# Calculating the ROC Curve\n",
    "# Here we will get all the thresholds for all the different fpr and tpr\n",
    "\n",
    "\n",
    "fpr, tpr, thresholds = roc_curve(y_test, final_prediction)"
   ]
  },
  {
   "cell_type": "code",
   "execution_count": 14,
   "id": "cb4c810f",
   "metadata": {},
   "outputs": [
    {
     "data": {
      "text/plain": [
       "array([0.        , 0.        , 0.        , 0.00333333, 0.00333333,\n",
       "       0.00666667, 0.00666667, 0.01      , 0.01      , 0.01333333,\n",
       "       0.01333333, 0.01666667, 0.01666667, 0.02      , 0.02      ,\n",
       "       0.02333333, 0.02333333, 0.03      , 0.03      , 0.03333333,\n",
       "       0.03333333, 0.03666667, 0.03666667, 0.04      , 0.04      ,\n",
       "       0.05666667, 0.05666667, 0.06333333, 0.06333333, 0.07666667,\n",
       "       0.07666667, 0.08      , 0.08      , 0.09      , 0.09      ,\n",
       "       0.1       , 0.1       , 0.17      , 0.17      , 0.95666667,\n",
       "       0.95666667, 1.        ])"
      ]
     },
     "execution_count": 14,
     "metadata": {},
     "output_type": "execute_result"
    }
   ],
   "source": [
    "# all the different FPRs\n",
    "\n",
    "fpr"
   ]
  },
  {
   "cell_type": "code",
   "execution_count": 15,
   "id": "10a1906b",
   "metadata": {},
   "outputs": [
    {
     "data": {
      "text/plain": [
       "array([0.        , 0.00333333, 0.11      , 0.11      , 0.65666667,\n",
       "       0.65666667, 0.81      , 0.81      , 0.83      , 0.83      ,\n",
       "       0.84333333, 0.84333333, 0.87333333, 0.87333333, 0.93666667,\n",
       "       0.93666667, 0.95      , 0.95      , 0.95333333, 0.95333333,\n",
       "       0.96333333, 0.96333333, 0.97      , 0.97      , 0.97333333,\n",
       "       0.97333333, 0.97666667, 0.97666667, 0.98      , 0.98      ,\n",
       "       0.98333333, 0.98333333, 0.98666667, 0.98666667, 0.99      ,\n",
       "       0.99      , 0.99333333, 0.99333333, 0.99666667, 0.99666667,\n",
       "       1.        , 1.        ])"
      ]
     },
     "execution_count": 15,
     "metadata": {},
     "output_type": "execute_result"
    }
   ],
   "source": [
    "# all the TPRs\n",
    "\n",
    "tpr"
   ]
  },
  {
   "cell_type": "code",
   "execution_count": 16,
   "id": "381e57a9",
   "metadata": {},
   "outputs": [
    {
     "data": {
      "text/plain": [
       "array([1.99970150e+00, 9.99701500e-01, 9.96158877e-01, 9.96129645e-01,\n",
       "       9.47070326e-01, 9.46204924e-01, 8.65466258e-01, 8.63536252e-01,\n",
       "       8.53176377e-01, 8.50056757e-01, 8.41421435e-01, 8.39367909e-01,\n",
       "       8.15506733e-01, 8.14031083e-01, 7.10421057e-01, 6.95370907e-01,\n",
       "       6.71015565e-01, 6.37604614e-01, 6.28000190e-01, 6.25419393e-01,\n",
       "       5.85991638e-01, 5.72811301e-01, 5.44222421e-01, 5.09091565e-01,\n",
       "       5.05747727e-01, 4.25206094e-01, 4.00497635e-01, 3.57672321e-01,\n",
       "       3.57418343e-01, 3.08833885e-01, 3.04354181e-01, 2.98609914e-01,\n",
       "       2.96733938e-01, 2.62534344e-01, 2.58894947e-01, 2.46055520e-01,\n",
       "       2.13787155e-01, 8.32534990e-02, 8.12384385e-02, 5.22202002e-06,\n",
       "       4.99437632e-06, 2.17237065e-07])"
      ]
     },
     "execution_count": 16,
     "metadata": {},
     "output_type": "execute_result"
    }
   ],
   "source": [
    "# all the Threshold values\n",
    "\n",
    "thresholds"
   ]
  },
  {
   "cell_type": "code",
   "execution_count": 17,
   "id": "3cf2d275",
   "metadata": {},
   "outputs": [
    {
     "data": {
      "text/html": [
       "<div>\n",
       "<style scoped>\n",
       "    .dataframe tbody tr th:only-of-type {\n",
       "        vertical-align: middle;\n",
       "    }\n",
       "\n",
       "    .dataframe tbody tr th {\n",
       "        vertical-align: top;\n",
       "    }\n",
       "\n",
       "    .dataframe thead th {\n",
       "        text-align: right;\n",
       "    }\n",
       "</style>\n",
       "<table border=\"1\" class=\"dataframe\">\n",
       "  <thead>\n",
       "    <tr style=\"text-align: right;\">\n",
       "      <th></th>\n",
       "      <th>thresholds</th>\n",
       "      <th>accuracy</th>\n",
       "    </tr>\n",
       "  </thead>\n",
       "  <tbody>\n",
       "    <tr>\n",
       "      <th>23</th>\n",
       "      <td>0.509092</td>\n",
       "      <td>0.966667</td>\n",
       "    </tr>\n",
       "    <tr>\n",
       "      <th>21</th>\n",
       "      <td>0.572811</td>\n",
       "      <td>0.965000</td>\n",
       "    </tr>\n",
       "    <tr>\n",
       "      <th>24</th>\n",
       "      <td>0.505748</td>\n",
       "      <td>0.965000</td>\n",
       "    </tr>\n",
       "    <tr>\n",
       "      <th>22</th>\n",
       "      <td>0.544222</td>\n",
       "      <td>0.965000</td>\n",
       "    </tr>\n",
       "    <tr>\n",
       "      <th>20</th>\n",
       "      <td>0.585992</td>\n",
       "      <td>0.963333</td>\n",
       "    </tr>\n",
       "  </tbody>\n",
       "</table>\n",
       "</div>"
      ],
      "text/plain": [
       "    thresholds  accuracy\n",
       "23    0.509092  0.966667\n",
       "21    0.572811  0.965000\n",
       "24    0.505748  0.965000\n",
       "22    0.544222  0.965000\n",
       "20    0.585992  0.963333"
      ]
     },
     "execution_count": 17,
     "metadata": {},
     "output_type": "execute_result"
    }
   ],
   "source": [
    "# Now checking accuracy for each threshold\n",
    "# We need to find the best threshold on the basis of best accuracy\n",
    "# y_pred = Whereever the final prediction is greater than threshold make that as 1 else keep it as 0\n",
    "# Then append all the accuracy scores of the test data on the basis of the prediction we made in 'y_pred'\n",
    "# Now concatinate the threshold in the form of series along with the accuracy horizontally\n",
    "# accuracy_ls.columns = giving name to the columns\n",
    "# Now sort the dataframe in Descending order so we get the highest accuracy at the top\n",
    "\n",
    "from sklearn.metrics import accuracy_score\n",
    "\n",
    "accuracy_ls = []\n",
    "\n",
    "for thres in thresholds:\n",
    "    y_pred = np.where(final_prediction>thres, 1, 0)\n",
    "    accuracy_ls.append(accuracy_score(y_test, y_pred, normalize=True))\n",
    "    \n",
    "accuracy_ls = pd.concat([pd.Series(thresholds), pd.Series(accuracy_ls)], axis=1)\n",
    "\n",
    "accuracy_ls.columns = ['thresholds', 'accuracy']\n",
    "\n",
    "accuracy_ls.sort_values(by='accuracy', ascending=False, inplace=True)\n",
    "\n",
    "accuracy_ls.head()"
   ]
  },
  {
   "cell_type": "markdown",
   "id": "8a15ddb8",
   "metadata": {},
   "source": [
    "- On the basis of the accuracy we should select the threshold of `0.509092`.\n",
    "- We also need to check the FPR and TPR with this threshold."
   ]
  },
  {
   "cell_type": "code",
   "execution_count": 20,
   "id": "eb334923",
   "metadata": {},
   "outputs": [
    {
     "data": {
      "text/html": [
       "<div>\n",
       "<style scoped>\n",
       "    .dataframe tbody tr th:only-of-type {\n",
       "        vertical-align: middle;\n",
       "    }\n",
       "\n",
       "    .dataframe tbody tr th {\n",
       "        vertical-align: top;\n",
       "    }\n",
       "\n",
       "    .dataframe thead th {\n",
       "        text-align: right;\n",
       "    }\n",
       "</style>\n",
       "<table border=\"1\" class=\"dataframe\">\n",
       "  <thead>\n",
       "    <tr style=\"text-align: right;\">\n",
       "      <th></th>\n",
       "      <th>thresholds</th>\n",
       "      <th>tpr</th>\n",
       "      <th>fpr</th>\n",
       "      <th>accuracy</th>\n",
       "    </tr>\n",
       "  </thead>\n",
       "  <tbody>\n",
       "    <tr>\n",
       "      <th>23</th>\n",
       "      <td>0.509092</td>\n",
       "      <td>0.970000</td>\n",
       "      <td>0.040000</td>\n",
       "      <td>0.966667</td>\n",
       "    </tr>\n",
       "    <tr>\n",
       "      <th>21</th>\n",
       "      <td>0.572811</td>\n",
       "      <td>0.963333</td>\n",
       "      <td>0.036667</td>\n",
       "      <td>0.965000</td>\n",
       "    </tr>\n",
       "    <tr>\n",
       "      <th>24</th>\n",
       "      <td>0.505748</td>\n",
       "      <td>0.973333</td>\n",
       "      <td>0.040000</td>\n",
       "      <td>0.965000</td>\n",
       "    </tr>\n",
       "    <tr>\n",
       "      <th>22</th>\n",
       "      <td>0.544222</td>\n",
       "      <td>0.970000</td>\n",
       "      <td>0.036667</td>\n",
       "      <td>0.965000</td>\n",
       "    </tr>\n",
       "    <tr>\n",
       "      <th>20</th>\n",
       "      <td>0.585992</td>\n",
       "      <td>0.963333</td>\n",
       "      <td>0.033333</td>\n",
       "      <td>0.963333</td>\n",
       "    </tr>\n",
       "  </tbody>\n",
       "</table>\n",
       "</div>"
      ],
      "text/plain": [
       "    thresholds       tpr       fpr  accuracy\n",
       "23    0.509092  0.970000  0.040000  0.966667\n",
       "21    0.572811  0.963333  0.036667  0.965000\n",
       "24    0.505748  0.973333  0.040000  0.965000\n",
       "22    0.544222  0.970000  0.036667  0.965000\n",
       "20    0.585992  0.963333  0.033333  0.963333"
      ]
     },
     "execution_count": 20,
     "metadata": {},
     "output_type": "execute_result"
    }
   ],
   "source": [
    "# Creating the dataframe along with TPR and FPR\n",
    "\n",
    "from sklearn.metrics import accuracy_score\n",
    "\n",
    "accuracy_ls = []\n",
    "\n",
    "for thres in thresholds:\n",
    "    y_pred = np.where(final_prediction>thres, 1, 0)\n",
    "    accuracy_ls.append(accuracy_score(y_test, y_pred, normalize=True))\n",
    "    \n",
    "accuracy_ls = pd.concat([pd.Series(thresholds), pd.Series(tpr), pd.Series(fpr), pd.Series(accuracy_ls)], axis=1)\n",
    "\n",
    "accuracy_ls.columns = ['thresholds', 'tpr', 'fpr', 'accuracy']\n",
    "\n",
    "accuracy_ls.sort_values(by='accuracy', ascending=False, inplace=True)\n",
    "\n",
    "accuracy_ls.head()m"
   ]
  },
  {
   "cell_type": "markdown",
   "id": "3af0ed6c",
   "metadata": {},
   "source": [
    "### Drawing the curve"
   ]
  },
  {
   "cell_type": "code",
   "execution_count": 18,
   "id": "cf442fdc",
   "metadata": {},
   "outputs": [],
   "source": [
    "def plot_roc_curve(fpr, tpr):\n",
    "    plt.plot(fpr, tpr, color='orange', label='ROC')\n",
    "    plt.plot([0, 1], [0, 1], color='darkblue', linestyle='--')\n",
    "    plt.xlabel('False Positive Rate')\n",
    "    plt.ylabel('True Positive Rate')\n",
    "    plt.title('Receiver Operating Characteristic (ROC) Curve')\n",
    "    plt.legend()\n",
    "    plt.show()"
   ]
  },
  {
   "cell_type": "code",
   "execution_count": 19,
   "id": "99918561",
   "metadata": {},
   "outputs": [
    {
     "data": {
      "image/png": "[encoded data removed]",
      "text/plain": [
       "<Figure size 640x480 with 1 Axes>"
      ]
     },
     "metadata": {},
     "output_type": "display_data"
    }
   ],
   "source": [
    "plot_roc_curve(fpr,tpr)"
   ]
  },
  {
   "cell_type": "markdown",
   "id": "7f7253d4",
   "metadata": {},
   "source": [
    "- The ROC Curve should always remain over the dotted line if not the it will be a Dumb Model."
   ]
  },
  {
   "cell_type": "markdown",
   "id": "574bd18c",
   "metadata": {},
   "source": [
    "### Assignments:\n",
    "\n",
    "- **Regression problem**\n",
    "    - Collect dataset from here https://archive.ics.uci.edu/ml/datasets/individual+household+electric+power+consumption\n",
    "    - Here the number of instances is very high, so take a random sample of 50k using the `sample()`.\n",
    "    - Add all the three columns named `sub_metering_1`, `sub_metering_2` and `sub_metering_3` to get the total energy consumed.\n",
    "    - Create a Regression model on the basis of attributes.\n",
    "    - Create `Linear Regression`, `Ridge Regression`, `Lasso Regression`, `ElasticNet Regression`, `Support Vector Regression`.\n",
    "\n",
    "\n",
    "- **Classification problem**\n",
    "    - Collect dataset from here https://archive.ics.uci.edu/ml/datasets/census+income\n",
    "    - Here we have missing values also.\n",
    "    - So here perform EDA, Data wrangling, Data Pre processing\n",
    "    - Now make a Classification model to find how many people are `>50k` and how many are `<=50k`.\n",
    "    - Here create `Logistic Regression`, `SVM`.\n",
    "    \n",
    "    \n",
    "\n",
    "- **Steps to be followed**\n",
    "    - Data ingestion.\n",
    "    - EDA (end to end).\n",
    "    - Preprocessing of the data. While preprocessing save the data after every process like `standard scaling`, `standardization` etc. We have to use this same data when we are doing the evaluation of the model. So save whatever object get created after preprocessing.\n",
    "    - Store the final processed data inside MongoDB after preprocessing using pickle.\n",
    "    - Again load the data from MongoDB.\n",
    "    - Model building.\n",
    "    - Use `GridSearchCV` for hyper parameter tuning.\n",
    "    - Evaluation.\n",
    "        - `R2` and `adjusted R2` for regression model.\n",
    "        - `Confusion Matrix`, `ROC` and `AUC`.\n",
    "\n",
    "\n",
    "**Google form link**\n",
    "\n",
    "https://forms.gle/2PJSSCmL9S865nwe8"
   ]
  },
  {
   "cell_type": "code",
   "execution_count": null,
   "id": "c5d7aa2d",
   "metadata": {},
   "outputs": [],
   "source": []
  }
 ],
 "metadata": {
  "kernelspec": {
   "display_name": "Python 3 (ipykernel)",
   "language": "python",
   "name": "python3"
  },
  "language_info": {
   "codemirror_mode": {
    "name": "ipython",
    "version": 3
   },
   "file_extension": ".py",
   "mimetype": "text/x-python",
   "name": "python",
   "nbconvert_exporter": "python",
   "pygments_lexer": "ipython3",
   "version": "3.9.13"
  }
 },
 "nbformat": 4,
 "nbformat_minor": 5
}
