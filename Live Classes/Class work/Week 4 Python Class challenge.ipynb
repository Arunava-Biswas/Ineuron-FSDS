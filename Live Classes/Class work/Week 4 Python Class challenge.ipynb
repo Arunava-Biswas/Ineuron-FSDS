{
 "cells": [
  {
   "cell_type": "raw",
   "id": "53bc4b3b",
   "metadata": {},
   "source": [
    "Today's task:\n",
    "\n",
    "Q1. Try to print a prime number between 1 to 1000.\n",
    "Q2. Try to write a function which is equivalent to print function in python.\n",
    "Q3. Try to write a function which is a replica of list append, extend and pop function.\n",
    "Q4. Try to write a lambda function which can return a concatenation of all the string that are passed to it.\n",
    "Q5. Try to write a lambda function which can return list of square of all the data between 1 to 100.\n",
    "Q6. Try to write a 10 different different examples of lambda function with a choice of your task.\n",
    "Q7. Try to write a function which can perform a read operation from .txt file."
   ]
  },
  {
   "cell_type": "markdown",
   "id": "6dcd8541",
   "metadata": {},
   "source": [
    "### Q1: Try to print a prime number between 1 to 1000."
   ]
  },
  {
   "cell_type": "code",
   "execution_count": 60,
   "id": "0031f54a",
   "metadata": {},
   "outputs": [
    {
     "name": "stdout",
     "output_type": "stream",
     "text": [
      "1\n",
      "2\n",
      "3\n",
      "5\n",
      "7\n",
      "11\n",
      "13\n",
      "17\n",
      "19\n",
      "23\n",
      "29\n",
      "31\n",
      "37\n",
      "41\n",
      "43\n",
      "47\n",
      "53\n",
      "59\n",
      "61\n",
      "67\n",
      "71\n",
      "73\n",
      "79\n",
      "83\n",
      "89\n",
      "97\n",
      "101\n",
      "103\n",
      "107\n",
      "109\n",
      "113\n",
      "127\n",
      "131\n",
      "137\n",
      "139\n",
      "149\n",
      "151\n",
      "157\n",
      "163\n",
      "167\n",
      "173\n",
      "179\n",
      "181\n",
      "191\n",
      "193\n",
      "197\n",
      "199\n",
      "211\n",
      "223\n",
      "227\n",
      "229\n",
      "233\n",
      "239\n",
      "241\n",
      "251\n",
      "257\n",
      "263\n",
      "269\n",
      "271\n",
      "277\n",
      "281\n",
      "283\n",
      "293\n",
      "307\n",
      "311\n",
      "313\n",
      "317\n",
      "331\n",
      "337\n",
      "347\n",
      "349\n",
      "353\n",
      "359\n",
      "367\n",
      "373\n",
      "379\n",
      "383\n",
      "389\n",
      "397\n",
      "401\n",
      "409\n",
      "419\n",
      "421\n",
      "431\n",
      "433\n",
      "439\n",
      "443\n",
      "449\n",
      "457\n",
      "461\n",
      "463\n",
      "467\n",
      "479\n",
      "487\n",
      "491\n",
      "499\n",
      "503\n",
      "509\n",
      "521\n",
      "523\n",
      "541\n",
      "547\n",
      "557\n",
      "563\n",
      "569\n",
      "571\n",
      "577\n",
      "587\n",
      "593\n",
      "599\n",
      "601\n",
      "607\n",
      "613\n",
      "617\n",
      "619\n",
      "631\n",
      "641\n",
      "643\n",
      "647\n",
      "653\n",
      "659\n",
      "661\n",
      "673\n",
      "677\n",
      "683\n",
      "691\n",
      "701\n",
      "709\n",
      "719\n",
      "727\n",
      "733\n",
      "739\n",
      "743\n",
      "751\n",
      "757\n",
      "761\n",
      "769\n",
      "773\n",
      "787\n",
      "797\n",
      "809\n",
      "811\n",
      "821\n",
      "823\n",
      "827\n",
      "829\n",
      "839\n",
      "853\n",
      "857\n",
      "859\n",
      "863\n",
      "877\n",
      "881\n",
      "883\n",
      "887\n",
      "907\n",
      "911\n",
      "919\n",
      "929\n",
      "937\n",
      "941\n",
      "947\n",
      "953\n",
      "967\n",
      "971\n",
      "977\n",
      "983\n",
      "991\n",
      "997\n"
     ]
    }
   ],
   "source": [
    "for num in range(1, 1001):\n",
    "    if num == 1:\n",
    "        print(num)\n",
    "    elif num > 1:\n",
    "        for i in range(2, num):\n",
    "            if (num % i) == 0:\n",
    "                break\n",
    "        else:\n",
    "            print(num)"
   ]
  },
  {
   "cell_type": "markdown",
   "id": "e10e69f7",
   "metadata": {},
   "source": [
    "### Q2. Try to write a function which is equivalent to print function in python."
   ]
  },
  {
   "cell_type": "code",
   "execution_count": 3,
   "id": "3c867754",
   "metadata": {},
   "outputs": [
    {
     "name": "stdout",
     "output_type": "stream",
     "text": [
      "Hello World!"
     ]
    }
   ],
   "source": [
    "from sys import stdout\n",
    "\n",
    "def printing(txt):\n",
    "    stdout.write(txt)\n",
    "    return\n",
    "\n",
    "\n",
    "printing('Hello World!')"
   ]
  },
  {
   "cell_type": "markdown",
   "id": "6c99a97b",
   "metadata": {},
   "source": [
    "### Q3. Try to write a function which is a replica of list append, extend and pop function."
   ]
  },
  {
   "cell_type": "code",
   "execution_count": 4,
   "id": "b135713e",
   "metadata": {},
   "outputs": [
    {
     "data": {
      "text/plain": [
       "[1, 2, 4, 6, 7, 4, 5, 8]"
      ]
     },
     "execution_count": 4,
     "metadata": {},
     "output_type": "execute_result"
    }
   ],
   "source": [
    "# List append replica\n",
    "\n",
    "l = [1,2,4,6,7,4,5]\n",
    "\n",
    "def l_app(a, b):\n",
    "    i = len(a)\n",
    "    a.insert(i,b)\n",
    "    return a\n",
    "\n",
    "l_app(l,8)"
   ]
  },
  {
   "cell_type": "code",
   "execution_count": 8,
   "id": "8e826932",
   "metadata": {},
   "outputs": [
    {
     "data": {
      "text/plain": [
       "[9, 4, 3, 5, 6, 7, 1, 8, 2]"
      ]
     },
     "execution_count": 8,
     "metadata": {},
     "output_type": "execute_result"
    }
   ],
   "source": [
    "# List extend replica\n",
    "\n",
    "l1 = [9,4,3,5,6,7]\n",
    "l2 = [2,8,1]\n",
    "\n",
    "def l_ext(a, b):\n",
    "    i = len(a)\n",
    "    for n in b:\n",
    "        a.insert(i,n)\n",
    "    return a\n",
    "\n",
    "l_ext(l1,l2)"
   ]
  },
  {
   "cell_type": "code",
   "execution_count": 47,
   "id": "1cc1daa7",
   "metadata": {},
   "outputs": [
    {
     "name": "stdout",
     "output_type": "stream",
     "text": [
      "Pop index out of range.\n",
      "6\n",
      "7\n"
     ]
    }
   ],
   "source": [
    "# List pop replica\n",
    "\n",
    "l = [9,4,3,5,6,7]\n",
    "\n",
    "\n",
    "def l_pop(a, n=0): \n",
    "    if n > len(a):\n",
    "        print('Pop index out of range.')\n",
    "        return\n",
    "    elif n > 0 and n <= len(a):\n",
    "        i = a[n]\n",
    "    else:\n",
    "        i = a[-1]\n",
    "    return i\n",
    "\n",
    "l_pop(l,33)                # This will return the pop index error\n",
    "print(l_pop(l,4))          # This will return the element of the specified index i.e. 4\n",
    "print(l_pop(l))            # This will return the default last element"
   ]
  },
  {
   "cell_type": "markdown",
   "id": "7df35f75",
   "metadata": {},
   "source": [
    "### Q4. Try to write a lambda function which can return a concatenation of all the string that are passed to it."
   ]
  },
  {
   "cell_type": "code",
   "execution_count": 2,
   "id": "3728789e",
   "metadata": {},
   "outputs": [
    {
     "data": {
      "text/plain": [
       "'This is iNeuron FSDS course'"
      ]
     },
     "execution_count": 2,
     "metadata": {},
     "output_type": "execute_result"
    }
   ],
   "source": [
    "string = lambda *s : str(' '.join(s))\n",
    "\n",
    "string('This', 'is', 'iNeuron', 'FSDS', 'course')"
   ]
  },
  {
   "cell_type": "markdown",
   "id": "f8d121c7",
   "metadata": {},
   "source": [
    "### Q5. Try to write a lambda function which can return list of square of all the data between 1 to 100."
   ]
  },
  {
   "cell_type": "code",
   "execution_count": 9,
   "id": "f55ac023",
   "metadata": {},
   "outputs": [
    {
     "name": "stdout",
     "output_type": "stream",
     "text": [
      "The square of all the values from 1 to 100 are:\n"
     ]
    },
    {
     "data": {
      "text/plain": [
       "[1,\n",
       " 4,\n",
       " 9,\n",
       " 16,\n",
       " 25,\n",
       " 36,\n",
       " 49,\n",
       " 64,\n",
       " 81,\n",
       " 100,\n",
       " 121,\n",
       " 144,\n",
       " 169,\n",
       " 196,\n",
       " 225,\n",
       " 256,\n",
       " 289,\n",
       " 324,\n",
       " 361,\n",
       " 400,\n",
       " 441,\n",
       " 484,\n",
       " 529,\n",
       " 576,\n",
       " 625,\n",
       " 676,\n",
       " 729,\n",
       " 784,\n",
       " 841,\n",
       " 900,\n",
       " 961,\n",
       " 1024,\n",
       " 1089,\n",
       " 1156,\n",
       " 1225,\n",
       " 1296,\n",
       " 1369,\n",
       " 1444,\n",
       " 1521,\n",
       " 1600,\n",
       " 1681,\n",
       " 1764,\n",
       " 1849,\n",
       " 1936,\n",
       " 2025,\n",
       " 2116,\n",
       " 2209,\n",
       " 2304,\n",
       " 2401,\n",
       " 2500,\n",
       " 2601,\n",
       " 2704,\n",
       " 2809,\n",
       " 2916,\n",
       " 3025,\n",
       " 3136,\n",
       " 3249,\n",
       " 3364,\n",
       " 3481,\n",
       " 3600,\n",
       " 3721,\n",
       " 3844,\n",
       " 3969,\n",
       " 4096,\n",
       " 4225,\n",
       " 4356,\n",
       " 4489,\n",
       " 4624,\n",
       " 4761,\n",
       " 4900,\n",
       " 5041,\n",
       " 5184,\n",
       " 5329,\n",
       " 5476,\n",
       " 5625,\n",
       " 5776,\n",
       " 5929,\n",
       " 6084,\n",
       " 6241,\n",
       " 6400,\n",
       " 6561,\n",
       " 6724,\n",
       " 6889,\n",
       " 7056,\n",
       " 7225,\n",
       " 7396,\n",
       " 7569,\n",
       " 7744,\n",
       " 7921,\n",
       " 8100,\n",
       " 8281,\n",
       " 8464,\n",
       " 8649,\n",
       " 8836,\n",
       " 9025,\n",
       " 9216,\n",
       " 9409,\n",
       " 9604,\n",
       " 9801,\n",
       " 10000]"
      ]
     },
     "execution_count": 9,
     "metadata": {},
     "output_type": "execute_result"
    }
   ],
   "source": [
    "squares = [lambda x=x: x*x for x in range(1, 101)]\n",
    "\n",
    "l = []\n",
    "\n",
    "for square in squares:\n",
    "    l.append(square())\n",
    "\n",
    "print(\"The square of all the values from 1 to 100 are:\")\n",
    "l"
   ]
  },
  {
   "cell_type": "markdown",
   "id": "3908b8ec",
   "metadata": {},
   "source": [
    "### Q6. Try to write 10 different different examples of lambda function with a choice of your task."
   ]
  },
  {
   "cell_type": "code",
   "execution_count": 49,
   "id": "ba9e823f",
   "metadata": {},
   "outputs": [
    {
     "name": "stdout",
     "output_type": "stream",
     "text": [
      "3\n"
     ]
    }
   ],
   "source": [
    "# Lambda function for addition\n",
    "\n",
    "\n",
    "add = lambda x, y: x + y\n",
    "\n",
    "print(add(1, 2))"
   ]
  },
  {
   "cell_type": "code",
   "execution_count": 59,
   "id": "6b274c8e",
   "metadata": {},
   "outputs": [
    {
     "name": "stdout",
     "output_type": "stream",
     "text": [
      "200\n"
     ]
    }
   ],
   "source": [
    "# Lambda function to print a multiplication\n",
    "\n",
    "mul = lambda a,b: a*b  \n",
    "\n",
    "print(mul(20,10))  "
   ]
  },
  {
   "cell_type": "code",
   "execution_count": 50,
   "id": "33d9d64e",
   "metadata": {},
   "outputs": [
    {
     "name": "stdout",
     "output_type": "stream",
     "text": [
      "8\n"
     ]
    }
   ],
   "source": [
    "# Lambda function for exponential\n",
    "\n",
    "\n",
    "expo = lambda x,y: x**y\n",
    "\n",
    "print(expo(2,3))"
   ]
  },
  {
   "cell_type": "code",
   "execution_count": 52,
   "id": "59be1f73",
   "metadata": {},
   "outputs": [
    {
     "name": "stdout",
     "output_type": "stream",
     "text": [
      "25\n"
     ]
    }
   ],
   "source": [
    "# Lambda function with if else clause\n",
    "\n",
    "sq = lambda x : x*x if(x > 0) else None\n",
    " \n",
    "print(sq(5))"
   ]
  },
  {
   "cell_type": "code",
   "execution_count": 56,
   "id": "e0a99309",
   "metadata": {},
   "outputs": [
    {
     "name": "stdout",
     "output_type": "stream",
     "text": [
      "15\n"
     ]
    }
   ],
   "source": [
    "# Lambda function to increase value of a variable\n",
    " \n",
    "a = 5\n",
    "\n",
    "x = lambda i : i + 10\n",
    "\n",
    "print(x(a))"
   ]
  },
  {
   "cell_type": "code",
   "execution_count": 57,
   "id": "158efdd8",
   "metadata": {},
   "outputs": [
    {
     "name": "stdout",
     "output_type": "stream",
     "text": [
      "This is a string.This is a string.\n"
     ]
    }
   ],
   "source": [
    "# Lambda function to print a string multiple times\n",
    "\n",
    "s = lambda k,n: k*n\n",
    "\n",
    "a = \"This is a string.\"\n",
    "\n",
    "print(s(a,2))"
   ]
  },
  {
   "cell_type": "code",
   "execution_count": 53,
   "id": "5060ae12",
   "metadata": {},
   "outputs": [
    {
     "data": {
      "text/plain": [
       "'This is iNeuron FSDS course'"
      ]
     },
     "execution_count": 53,
     "metadata": {},
     "output_type": "execute_result"
    }
   ],
   "source": [
    "# lambda function to concatenate strings\n",
    "\n",
    "string = lambda *s : str(' '.join(s))\n",
    "\n",
    "string('This', 'is', 'iNeuron', 'FSDS', 'course')"
   ]
  },
  {
   "cell_type": "code",
   "execution_count": 54,
   "id": "f19cf374",
   "metadata": {},
   "outputs": [
    {
     "data": {
      "text/plain": [
       "9"
      ]
     },
     "execution_count": 54,
     "metadata": {},
     "output_type": "execute_result"
    }
   ],
   "source": [
    "# Lambda function to pop the last element of a list\n",
    "\n",
    "l = [1,2,4,3,6,8,7,9]\n",
    "\n",
    "pop_element = lambda a: a[-1]\n",
    "\n",
    "pop_element(l)"
   ]
  },
  {
   "cell_type": "code",
   "execution_count": 55,
   "id": "de3fbf45",
   "metadata": {},
   "outputs": [
    {
     "data": {
      "text/plain": [
       "[9, 4, 3, 5, 6, 7, 2, 8, 1]"
      ]
     },
     "execution_count": 55,
     "metadata": {},
     "output_type": "execute_result"
    }
   ],
   "source": [
    "# Lambda function to replicate extend for 2 lists\n",
    "\n",
    "l1 = [9,4,3,5,6,7]\n",
    "l2 = [2,8,1]\n",
    "\n",
    "l_extend = lambda a,b: a + b\n",
    "\n",
    "l_extend(l1,l2)"
   ]
  },
  {
   "cell_type": "code",
   "execution_count": 58,
   "id": "c889c1d6",
   "metadata": {},
   "outputs": [
    {
     "name": "stdout",
     "output_type": "stream",
     "text": [
      "Enter the number:5\n",
      "5 X 1 = 5\n",
      "5 X 2 = 10\n",
      "5 X 3 = 15\n",
      "5 X 4 = 20\n",
      "5 X 5 = 25\n",
      "5 X 6 = 30\n",
      "5 X 7 = 35\n",
      "5 X 8 = 40\n",
      "5 X 9 = 45\n",
      "5 X 10 = 50\n"
     ]
    }
   ],
   "source": [
    "# Lambda function to print a table upto 10 of a number\n",
    "\n",
    "def table(n):    \n",
    "    return lambda a:a*n\n",
    "\n",
    "n = int(input(\"Enter the number:\"))  \n",
    "\n",
    "b = table(n)\n",
    "\n",
    "for i in range(1,11):    \n",
    "    print(n,\"X\",i,\"=\",b(i))"
   ]
  },
  {
   "cell_type": "markdown",
   "id": "ca1f17ea",
   "metadata": {},
   "source": [
    "### Q7. Try to write a function which can perform a read operation from .txt file."
   ]
  },
  {
   "cell_type": "code",
   "execution_count": 8,
   "id": "7b1080d3",
   "metadata": {},
   "outputs": [
    {
     "name": "stdout",
     "output_type": "stream",
     "text": [
      "This is a text file to test.\n"
     ]
    }
   ],
   "source": [
    "f = open('textfile.txt', \"r\")\n",
    "print(f.read())\n",
    "f.close()"
   ]
  },
  {
   "cell_type": "code",
   "execution_count": null,
   "id": "1bb33b70",
   "metadata": {},
   "outputs": [],
   "source": []
  }
 ],
 "metadata": {
  "kernelspec": {
   "display_name": "Python 3 (ipykernel)",
   "language": "python",
   "name": "python3"
  },
  "language_info": {
   "codemirror_mode": {
    "name": "ipython",
    "version": 3
   },
   "file_extension": ".py",
   "mimetype": "text/x-python",
   "name": "python",
   "nbconvert_exporter": "python",
   "pygments_lexer": "ipython3",
   "version": "3.9.7"
  }
 },
 "nbformat": 4,
 "nbformat_minor": 5
}
