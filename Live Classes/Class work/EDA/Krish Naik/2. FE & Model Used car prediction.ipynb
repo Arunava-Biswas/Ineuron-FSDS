{
 "cells": [
  {
   "cell_type": "markdown",
   "id": "dee35c24",
   "metadata": {},
   "source": [
    "### Data Pre-Processing\n",
    "\n",
    "**Import Packages and CSV**"
   ]
  },
  {
   "cell_type": "code",
   "execution_count": 1,
   "id": "e3dbf38c",
   "metadata": {},
   "outputs": [],
   "source": [
    "import pandas as pd\n",
    "import numpy as np\n",
    "import matplotlib.pyplot as plt\n",
    "import seaborn as sns\n",
    "import warnings\n",
    "warnings.filterwarnings(\"ignore\")\n",
    "%matplotlib inline"
   ]
  },
  {
   "cell_type": "code",
   "execution_count": 2,
   "id": "1166ee87",
   "metadata": {},
   "outputs": [
    {
     "data": {
      "text/html": [
       "<div>\n",
       "<style scoped>\n",
       "    .dataframe tbody tr th:only-of-type {\n",
       "        vertical-align: middle;\n",
       "    }\n",
       "\n",
       "    .dataframe tbody tr th {\n",
       "        vertical-align: top;\n",
       "    }\n",
       "\n",
       "    .dataframe thead th {\n",
       "        text-align: right;\n",
       "    }\n",
       "</style>\n",
       "<table border=\"1\" class=\"dataframe\">\n",
       "  <thead>\n",
       "    <tr style=\"text-align: right;\">\n",
       "      <th></th>\n",
       "      <th>car_name</th>\n",
       "      <th>brand</th>\n",
       "      <th>model</th>\n",
       "      <th>vehicle_age</th>\n",
       "      <th>km_driven</th>\n",
       "      <th>seller_type</th>\n",
       "      <th>fuel_type</th>\n",
       "      <th>transmission_type</th>\n",
       "      <th>mileage</th>\n",
       "      <th>engine</th>\n",
       "      <th>max_power</th>\n",
       "      <th>seats</th>\n",
       "      <th>selling_price</th>\n",
       "    </tr>\n",
       "  </thead>\n",
       "  <tbody>\n",
       "    <tr>\n",
       "      <th>0</th>\n",
       "      <td>Maruti Alto</td>\n",
       "      <td>Maruti</td>\n",
       "      <td>Alto</td>\n",
       "      <td>9</td>\n",
       "      <td>120000</td>\n",
       "      <td>Individual</td>\n",
       "      <td>Petrol</td>\n",
       "      <td>Manual</td>\n",
       "      <td>19.70</td>\n",
       "      <td>796</td>\n",
       "      <td>46.30</td>\n",
       "      <td>5</td>\n",
       "      <td>120000</td>\n",
       "    </tr>\n",
       "    <tr>\n",
       "      <th>1</th>\n",
       "      <td>Hyundai Grand</td>\n",
       "      <td>Hyundai</td>\n",
       "      <td>Grand</td>\n",
       "      <td>5</td>\n",
       "      <td>20000</td>\n",
       "      <td>Individual</td>\n",
       "      <td>Petrol</td>\n",
       "      <td>Manual</td>\n",
       "      <td>18.90</td>\n",
       "      <td>1197</td>\n",
       "      <td>82.00</td>\n",
       "      <td>5</td>\n",
       "      <td>550000</td>\n",
       "    </tr>\n",
       "    <tr>\n",
       "      <th>2</th>\n",
       "      <td>Hyundai i20</td>\n",
       "      <td>Hyundai</td>\n",
       "      <td>i20</td>\n",
       "      <td>11</td>\n",
       "      <td>60000</td>\n",
       "      <td>Individual</td>\n",
       "      <td>Petrol</td>\n",
       "      <td>Manual</td>\n",
       "      <td>17.00</td>\n",
       "      <td>1197</td>\n",
       "      <td>80.00</td>\n",
       "      <td>5</td>\n",
       "      <td>215000</td>\n",
       "    </tr>\n",
       "    <tr>\n",
       "      <th>3</th>\n",
       "      <td>Maruti Alto</td>\n",
       "      <td>Maruti</td>\n",
       "      <td>Alto</td>\n",
       "      <td>9</td>\n",
       "      <td>37000</td>\n",
       "      <td>Individual</td>\n",
       "      <td>Petrol</td>\n",
       "      <td>Manual</td>\n",
       "      <td>20.92</td>\n",
       "      <td>998</td>\n",
       "      <td>67.10</td>\n",
       "      <td>5</td>\n",
       "      <td>226000</td>\n",
       "    </tr>\n",
       "    <tr>\n",
       "      <th>4</th>\n",
       "      <td>Ford Ecosport</td>\n",
       "      <td>Ford</td>\n",
       "      <td>Ecosport</td>\n",
       "      <td>6</td>\n",
       "      <td>30000</td>\n",
       "      <td>Dealer</td>\n",
       "      <td>Diesel</td>\n",
       "      <td>Manual</td>\n",
       "      <td>22.77</td>\n",
       "      <td>1498</td>\n",
       "      <td>98.59</td>\n",
       "      <td>5</td>\n",
       "      <td>570000</td>\n",
       "    </tr>\n",
       "  </tbody>\n",
       "</table>\n",
       "</div>"
      ],
      "text/plain": [
       "        car_name    brand     model  vehicle_age  km_driven seller_type  \\\n",
       "0    Maruti Alto   Maruti      Alto            9     120000  Individual   \n",
       "1  Hyundai Grand  Hyundai     Grand            5      20000  Individual   \n",
       "2    Hyundai i20  Hyundai       i20           11      60000  Individual   \n",
       "3    Maruti Alto   Maruti      Alto            9      37000  Individual   \n",
       "4  Ford Ecosport     Ford  Ecosport            6      30000      Dealer   \n",
       "\n",
       "  fuel_type transmission_type  mileage  engine  max_power  seats  \\\n",
       "0    Petrol            Manual    19.70     796      46.30      5   \n",
       "1    Petrol            Manual    18.90    1197      82.00      5   \n",
       "2    Petrol            Manual    17.00    1197      80.00      5   \n",
       "3    Petrol            Manual    20.92     998      67.10      5   \n",
       "4    Diesel            Manual    22.77    1498      98.59      5   \n",
       "\n",
       "   selling_price  \n",
       "0         120000  \n",
       "1         550000  \n",
       "2         215000  \n",
       "3         226000  \n",
       "4         570000  "
      ]
     },
     "execution_count": 2,
     "metadata": {},
     "output_type": "execute_result"
    }
   ],
   "source": [
    "df = pd.read_csv(\"data/cardekho_dataset.csv\", index_col=[0])\n",
    "pd.pandas.set_option(\"display.max_columns\", None)\n",
    "df.head()"
   ]
  },
  {
   "cell_type": "code",
   "execution_count": 3,
   "id": "de8dd897",
   "metadata": {},
   "outputs": [
    {
     "data": {
      "text/plain": [
       "(15411, 13)"
      ]
     },
     "execution_count": 3,
     "metadata": {},
     "output_type": "execute_result"
    }
   ],
   "source": [
    "# Shape of the dataset\n",
    "\n",
    "df.shape"
   ]
  },
  {
   "cell_type": "markdown",
   "id": "fdee0867",
   "metadata": {},
   "source": [
    "### Data Cleaning\n",
    "\n",
    "#### Handling Missing Values\n",
    "\n",
    "- Handling Missing Values\n",
    "- Handling Duplicates\n",
    "- Check data types\n",
    "- Understand the dataset\n",
    "\n",
    "\n",
    "\n",
    "**Check Null Values**"
   ]
  },
  {
   "cell_type": "code",
   "execution_count": 4,
   "id": "6818654e",
   "metadata": {},
   "outputs": [
    {
     "data": {
      "text/plain": [
       "car_name             0\n",
       "brand                0\n",
       "model                0\n",
       "vehicle_age          0\n",
       "km_driven            0\n",
       "seller_type          0\n",
       "fuel_type            0\n",
       "transmission_type    0\n",
       "mileage              0\n",
       "engine               0\n",
       "max_power            0\n",
       "seats                0\n",
       "selling_price        0\n",
       "dtype: int64"
      ]
     },
     "execution_count": 4,
     "metadata": {},
     "output_type": "execute_result"
    }
   ],
   "source": [
    "# Checking features with NaN values\n",
    "\n",
    "df.isnull().sum()"
   ]
  },
  {
   "cell_type": "markdown",
   "id": "8458faa7",
   "metadata": {},
   "source": [
    "**Report**\n",
    "\n",
    "- There are no Null values in the dataset."
   ]
  },
  {
   "cell_type": "markdown",
   "id": "1da12e7f",
   "metadata": {},
   "source": [
    "### 3.2 Other Data Cleaning steps\n",
    "\n",
    "**Handling Duplicates**"
   ]
  },
  {
   "cell_type": "code",
   "execution_count": 5,
   "id": "dd2cb27b",
   "metadata": {},
   "outputs": [
    {
     "data": {
      "text/plain": [
       "167"
      ]
     },
     "execution_count": 5,
     "metadata": {},
     "output_type": "execute_result"
    }
   ],
   "source": [
    "# Finding the number of duplicates\n",
    "\n",
    "df.duplicated().sum()"
   ]
  },
  {
   "cell_type": "markdown",
   "id": "d7675061",
   "metadata": {},
   "source": [
    "**Report**\n",
    "\n",
    "- No Duplicates in the dataset."
   ]
  },
  {
   "cell_type": "markdown",
   "id": "d09ab67b",
   "metadata": {},
   "source": [
    "### Feature Engineering"
   ]
  },
  {
   "cell_type": "code",
   "execution_count": 6,
   "id": "eccc9e89",
   "metadata": {},
   "outputs": [
    {
     "data": {
      "text/html": [
       "<div>\n",
       "<style scoped>\n",
       "    .dataframe tbody tr th:only-of-type {\n",
       "        vertical-align: middle;\n",
       "    }\n",
       "\n",
       "    .dataframe tbody tr th {\n",
       "        vertical-align: top;\n",
       "    }\n",
       "\n",
       "    .dataframe thead th {\n",
       "        text-align: right;\n",
       "    }\n",
       "</style>\n",
       "<table border=\"1\" class=\"dataframe\">\n",
       "  <thead>\n",
       "    <tr style=\"text-align: right;\">\n",
       "      <th></th>\n",
       "      <th>car_name</th>\n",
       "      <th>brand</th>\n",
       "      <th>model</th>\n",
       "      <th>vehicle_age</th>\n",
       "      <th>km_driven</th>\n",
       "      <th>seller_type</th>\n",
       "      <th>fuel_type</th>\n",
       "      <th>transmission_type</th>\n",
       "      <th>mileage</th>\n",
       "      <th>engine</th>\n",
       "      <th>max_power</th>\n",
       "      <th>seats</th>\n",
       "      <th>selling_price</th>\n",
       "    </tr>\n",
       "  </thead>\n",
       "  <tbody>\n",
       "    <tr>\n",
       "      <th>4845</th>\n",
       "      <td>Ferrari GTC4Lusso</td>\n",
       "      <td>Ferrari</td>\n",
       "      <td>GTC4Lusso</td>\n",
       "      <td>2</td>\n",
       "      <td>3800</td>\n",
       "      <td>Dealer</td>\n",
       "      <td>Petrol</td>\n",
       "      <td>Automatic</td>\n",
       "      <td>4.0</td>\n",
       "      <td>3855</td>\n",
       "      <td>601.0</td>\n",
       "      <td>4</td>\n",
       "      <td>39500000</td>\n",
       "    </tr>\n",
       "  </tbody>\n",
       "</table>\n",
       "</div>"
      ],
      "text/plain": [
       "               car_name    brand      model  vehicle_age  km_driven  \\\n",
       "4845  Ferrari GTC4Lusso  Ferrari  GTC4Lusso            2       3800   \n",
       "\n",
       "     seller_type fuel_type transmission_type  mileage  engine  max_power  \\\n",
       "4845      Dealer    Petrol         Automatic      4.0    3855      601.0   \n",
       "\n",
       "      seats  selling_price  \n",
       "4845      4       39500000  "
      ]
     },
     "execution_count": 6,
     "metadata": {},
     "output_type": "execute_result"
    }
   ],
   "source": [
    "df.loc[df['brand'] == 'Ferrari']"
   ]
  },
  {
   "cell_type": "markdown",
   "id": "dc574397",
   "metadata": {},
   "source": [
    "**Brand and model column can be dropped as the information is already available in car_name**"
   ]
  },
  {
   "cell_type": "code",
   "execution_count": 7,
   "id": "6b6e99cc",
   "metadata": {},
   "outputs": [],
   "source": [
    "df.drop(['brand','model'], axis=1, inplace=True)"
   ]
  },
  {
   "cell_type": "markdown",
   "id": "57a462af",
   "metadata": {},
   "source": [
    "### Separating Different Features"
   ]
  },
  {
   "cell_type": "markdown",
   "id": "e14fd850",
   "metadata": {},
   "source": [
    "**Numeric Features**"
   ]
  },
  {
   "cell_type": "code",
   "execution_count": 8,
   "id": "e5d5fbff",
   "metadata": {},
   "outputs": [
    {
     "name": "stdout",
     "output_type": "stream",
     "text": [
      "Num of Numerical Features is 7 and they are: \n",
      "['vehicle_age', 'km_driven', 'mileage', 'engine', 'max_power', 'seats', 'selling_price']\n"
     ]
    }
   ],
   "source": [
    "num_features = [feature for feature in df.columns if df[feature].dtype != 'O']\n",
    "print(f'Num of Numerical Features is {len(num_features)} and they are: \\n{num_features}')"
   ]
  },
  {
   "cell_type": "markdown",
   "id": "637b9422",
   "metadata": {},
   "source": [
    "**Categorical Features**"
   ]
  },
  {
   "cell_type": "code",
   "execution_count": 9,
   "id": "8b10f5a2",
   "metadata": {},
   "outputs": [
    {
     "name": "stdout",
     "output_type": "stream",
     "text": [
      "Num of Categorical Features is 4 and they are: \n",
      "['car_name', 'seller_type', 'fuel_type', 'transmission_type']\n"
     ]
    }
   ],
   "source": [
    "cat_features = [feature for feature in df.columns if df[feature].dtype == 'O']\n",
    "print(f'Num of Categorical Features is {len(cat_features)} and they are: \\n{cat_features}')"
   ]
  },
  {
   "cell_type": "markdown",
   "id": "cdfdb332",
   "metadata": {},
   "source": [
    "**Discrete Features**"
   ]
  },
  {
   "cell_type": "code",
   "execution_count": 10,
   "id": "9ad6d7d5",
   "metadata": {},
   "outputs": [
    {
     "name": "stdout",
     "output_type": "stream",
     "text": [
      "Num of Discrete Features is 2 and they are: \n",
      "['vehicle_age', 'seats']\n"
     ]
    }
   ],
   "source": [
    "dis_features = [feature for feature in num_features if len(df[feature].unique()) <= 25]\n",
    "print(f'Num of Discrete Features is {len(dis_features)} and they are: \\n{dis_features}')"
   ]
  },
  {
   "cell_type": "markdown",
   "id": "7e06bf32",
   "metadata": {},
   "source": [
    "**Continuous Features**"
   ]
  },
  {
   "cell_type": "code",
   "execution_count": 11,
   "id": "1ae2115d",
   "metadata": {},
   "outputs": [
    {
     "name": "stdout",
     "output_type": "stream",
     "text": [
      "Num of Continuous Features is 5 and they are: \n",
      "['km_driven', 'mileage', 'engine', 'max_power', 'selling_price']\n"
     ]
    }
   ],
   "source": [
    "con_features = [feature for feature in num_features if feature not in dis_features]\n",
    "print(f'Num of Continuous Features is {len(con_features)} and they are: \\n{con_features}')"
   ]
  },
  {
   "cell_type": "markdown",
   "id": "bc83d62d",
   "metadata": {},
   "source": [
    "### Multicollinearity Check\n",
    "\n",
    "\n",
    "**Correlation Heatmap**"
   ]
  },
  {
   "cell_type": "code",
   "execution_count": 12,
   "id": "f0a5f4fc",
   "metadata": {},
   "outputs": [
    {
     "data": {
      "image/png": "[encoded data removed]",
      "text/plain": [
       "<Figure size 1500x1000 with 2 Axes>"
      ]
     },
     "metadata": {},
     "output_type": "display_data"
    }
   ],
   "source": [
    "plt.figure(figsize=(15,10))\n",
    "sns.heatmap(df.corr(), cmap=\"CMRmap_r\", annot=True, mask=np.triu(df.corr(), k=1))\n",
    "plt.show()"
   ]
  },
  {
   "cell_type": "markdown",
   "id": "f8725087",
   "metadata": {},
   "source": [
    "**Report**\n",
    "\n",
    "- Max_power and Engine CC are highly correlated.\n",
    "- We can check Vif(Variance Inflation Factor) to remove any highly correlated independent features."
   ]
  },
  {
   "cell_type": "markdown",
   "id": "fe75d771",
   "metadata": {},
   "source": [
    "**Variance Inflation Factor (VIF)**\n",
    "\n",
    "- Multicollinearity occurs when there are two or more independent variables in a multiple regression model, which have a high correlation among themselves. When some features are highly correlated.\n",
    "- Multicollinearity can be detected using various techniques, one such technique being the Variance Inflation Factor(VIF).\n",
    "- **`VIF determines the strength of the correlation between the independent variables. It is predicted by taking a variable and regressing it against every other variable`.**"
   ]
  },
  {
   "cell_type": "code",
   "execution_count": 13,
   "id": "b9d92797",
   "metadata": {},
   "outputs": [
    {
     "name": "stdout",
     "output_type": "stream",
     "text": [
      "Variance Inflation Factor of vehicle_age column is 1.34 \n",
      "\n",
      "Variance Inflation Factor of km_driven column is 1.24 \n",
      "\n",
      "Variance Inflation Factor of mileage column is 1.54 \n",
      "\n",
      "Variance Inflation Factor of engine column is 2.41 \n",
      "\n",
      "Variance Inflation Factor of max_power column is 3.13 \n",
      "\n",
      "Variance Inflation Factor of seats column is 1.77 \n",
      "\n"
     ]
    }
   ],
   "source": [
    "import statsmodels.api as sm\n",
    "\n",
    "num_features = df.select_dtypes(exclude=\"object\").columns\n",
    "\n",
    "for i in range(0, len(num_features)-1):\n",
    "    x = df.loc[:, df.columns == num_features[i]]\n",
    "    y = df.selling_price\n",
    "    model = sm.OLS(x,y)\n",
    "    results = model.fit()\n",
    "    rsq = results.rsquared\n",
    "    vif = round(1 / (1 - rsq), 2)\n",
    "    print(\n",
    "        f\"Variance Inflation Factor of {num_features[i]} column is {vif} \\n\"\n",
    "        )"
   ]
  },
  {
   "cell_type": "markdown",
   "id": "5980bca5",
   "metadata": {},
   "source": [
    "**Report**\n",
    "\n",
    "- **This Dataset have MultiCollinearity in max_power column but not so much.**\n",
    "- Max Power and Engine are correlated but we can consider these two features because they hold important information for a vechicle."
   ]
  },
  {
   "cell_type": "markdown",
   "id": "ad5ca079",
   "metadata": {},
   "source": [
    "### Check Outlier and Capping it\n",
    "\n",
    "\n",
    "**Why Outliers?**\n",
    "\n",
    "- Data Entry error : Human error.\n",
    "- Measurement error: Instrument error.\n",
    "- Natural error: it will be Real life data.\n",
    "- Intentional error: People give wrong inputs.\n",
    "\n",
    "\n",
    "**Impact of Outliers**\n",
    "\n",
    "- Outliers can very high impact on few Machine learning models.\n",
    "- It can Cause bias in the output.\n",
    "\n",
    "\n",
    "**Why IQR For Outlier Handling?**\n",
    "\n",
    "- For Skewed distributions: Use Inter-Quartile Range (IQR) proximity rule.\n",
    "\n",
    "- As some columns are skewed we go with IQR method for outlier treatment\n",
    "\n",
    "- The data points which fall below Q1 – 1.5 IQR or above Q3 + 1.5 IQR are outliers.\n",
    "\n",
    "- Where Q1 and Q3 are the 25th and 75th percentile of the dataset respectively, and IQR represents the inter-quartile range and given by Q3 – Q1."
   ]
  },
  {
   "cell_type": "code",
   "execution_count": 14,
   "id": "63a00b3b",
   "metadata": {
    "scrolled": false
   },
   "outputs": [
    {
     "data": {
      "image/png": "[encoded data removed]",
      "text/plain": [
       "<Figure size 1000x600 with 1 Axes>"
      ]
     },
     "metadata": {},
     "output_type": "display_data"
    },
    {
     "data": {
      "image/png": "[encoded data removed]",
      "text/plain": [
       "<Figure size 1000x600 with 1 Axes>"
      ]
     },
     "metadata": {},
     "output_type": "display_data"
    },
    {
     "data": {
      "image/png": "[encoded data removed]",
      "text/plain": [
       "<Figure size 1000x600 with 1 Axes>"
      ]
     },
     "metadata": {},
     "output_type": "display_data"
    },
    {
     "data": {
      "image/png": "[encoded data removed]",
      "text/plain": [
       "<Figure size 1000x600 with 1 Axes>"
      ]
     },
     "metadata": {},
     "output_type": "display_data"
    },
    {
     "data": {
      "image/png": "[encoded data removed]",
      "text/plain": [
       "<Figure size 1000x600 with 1 Axes>"
      ]
     },
     "metadata": {},
     "output_type": "display_data"
    }
   ],
   "source": [
    "for i in con_features:\n",
    "        plt.figure(figsize=(10,6))\n",
    "        sns.set_style('ticks')\n",
    "        ax = sns.boxplot(df[i])"
   ]
  },
  {
   "cell_type": "markdown",
   "id": "9fd01d7e",
   "metadata": {},
   "source": [
    "**Detecting Outlier and Capping it**\n",
    "\n",
    "\n",
    "**Why are we capping it and why not trim it?**\n",
    "\n",
    "- Trimming outliers may result in the removal of a large number of records from this dataset as we have already very less rows so this isn’t desirable in this case since columns other than the ones containing the outlier values may contain useful information.\n",
    "\n",
    "- In this cases, you can use outlier capping to replace the outlier values with a maximum or minimum capped values. Be warned, this manipulates our data but we can replace outlier values by the upper and lower limit calculated using the IQR range."
   ]
  },
  {
   "cell_type": "code",
   "execution_count": 15,
   "id": "2a857cdc",
   "metadata": {},
   "outputs": [],
   "source": [
    "def detect_outliers(col):\n",
    "    # Finding the IQR\n",
    "    percentile25 = df[col].quantile(0.25)\n",
    "    percentile75 = df[col].quantile(0.75)\n",
    "    print('\\n ####', col , '####')\n",
    "    print(\"25percentile: \",percentile25)\n",
    "    print(\"75percentile: \",percentile75)\n",
    "    iqr = percentile75 - percentile25\n",
    "    upper_limit = percentile75 + 1.5 * iqr\n",
    "    lower_limit = percentile25 - 1.5 * iqr\n",
    "    print(\"Upper limit: \",upper_limit)\n",
    "    print(\"Lower limit: \",lower_limit)\n",
    "    df.loc[(df[col]>upper_limit), col]= upper_limit\n",
    "    df.loc[(df[col]<lower_limit), col]= lower_limit    \n",
    "    return df"
   ]
  },
  {
   "cell_type": "code",
   "execution_count": 16,
   "id": "da77d6c7",
   "metadata": {},
   "outputs": [
    {
     "name": "stdout",
     "output_type": "stream",
     "text": [
      "\n",
      " #### km_driven ####\n",
      "25percentile:  30000.0\n",
      "75percentile:  70000.0\n",
      "Upper limit:  130000.0\n",
      "Lower limit:  -30000.0\n",
      "\n",
      " #### mileage ####\n",
      "25percentile:  17.0\n",
      "75percentile:  22.7\n",
      "Upper limit:  31.25\n",
      "Lower limit:  8.450000000000001\n",
      "\n",
      " #### engine ####\n",
      "25percentile:  1197.0\n",
      "75percentile:  1582.0\n",
      "Upper limit:  2159.5\n",
      "Lower limit:  619.5\n",
      "\n",
      " #### max_power ####\n",
      "25percentile:  74.0\n",
      "75percentile:  117.3\n",
      "Upper limit:  182.25\n",
      "Lower limit:  9.050000000000011\n",
      "\n",
      " #### selling_price ####\n",
      "25percentile:  385000.0\n",
      "75percentile:  825000.0\n",
      "Upper limit:  1485000.0\n",
      "Lower limit:  -275000.0\n"
     ]
    }
   ],
   "source": [
    "for col in con_features:\n",
    "         detect_outliers(col)"
   ]
  },
  {
   "cell_type": "markdown",
   "id": "c5fd5bfb",
   "metadata": {},
   "source": [
    "**Checking Skewness after Outlier Capping**"
   ]
  },
  {
   "cell_type": "code",
   "execution_count": 17,
   "id": "4c44d713",
   "metadata": {},
   "outputs": [
    {
     "data": {
      "text/plain": [
       "km_driven        0.617437\n",
       "mileage          0.067940\n",
       "engine           0.684096\n",
       "max_power        1.067229\n",
       "selling_price    0.968836\n",
       "dtype: float64"
      ]
     },
     "execution_count": 17,
     "metadata": {},
     "output_type": "execute_result"
    }
   ],
   "source": [
    "df[con_features].skew(axis=0, skipna=True)"
   ]
  },
  {
   "cell_type": "markdown",
   "id": "484afac4",
   "metadata": {},
   "source": [
    "### Feature Transformation"
   ]
  },
  {
   "cell_type": "code",
   "execution_count": 18,
   "id": "19a97285",
   "metadata": {},
   "outputs": [
    {
     "data": {
      "image/png": "[encoded data removed]",
      "text/plain": [
       "<Figure size 1200x800 with 5 Axes>"
      ]
     },
     "metadata": {},
     "output_type": "display_data"
    }
   ],
   "source": [
    "# distribution of data before scaling\n",
    "plt.figure(figsize=(12, 8))\n",
    "for i, col in enumerate(['km_driven', 'mileage', 'engine', 'max_power', 'selling_price']):\n",
    "    plt.subplot(3, 2, i+1)\n",
    "    sns.kdeplot(x=df[col], color='indianred')\n",
    "    plt.xlabel(col)\n",
    "    plt.tight_layout()"
   ]
  },
  {
   "cell_type": "markdown",
   "id": "35849bee",
   "metadata": {},
   "source": [
    "**Report**\n",
    "\n",
    "- After Capping Outlier it is all column's distribution is Normal so transformation is not required."
   ]
  },
  {
   "cell_type": "markdown",
   "id": "dc823288",
   "metadata": {},
   "source": [
    "#### Split X and Y\n",
    "\n",
    "- **Split Dataframe to X and y**\n",
    "- **Here we set a variable X i.e, independent columns, and a variable y i.e, dependent column as the “ProdTaken” column.**"
   ]
  },
  {
   "cell_type": "code",
   "execution_count": 19,
   "id": "7d8ce0e7",
   "metadata": {},
   "outputs": [],
   "source": [
    "from sklearn.model_selection import train_test_split\n",
    "\n",
    "X = df.drop(['selling_price'], axis=1)\n",
    "y = df['selling_price']"
   ]
  },
  {
   "cell_type": "markdown",
   "id": "9ad2a96a",
   "metadata": {},
   "source": [
    "### Feature Selection"
   ]
  },
  {
   "cell_type": "code",
   "execution_count": 20,
   "id": "33ae10c5",
   "metadata": {},
   "outputs": [
    {
     "name": "stdout",
     "output_type": "stream",
     "text": [
      "car_name  :  121\n",
      "seller_type  :  3\n",
      "fuel_type  :  5\n",
      "transmission_type  :  2\n"
     ]
    }
   ],
   "source": [
    "for feature in cat_features:\n",
    "    print(feature, \" : \", X[feature].nunique())"
   ]
  },
  {
   "cell_type": "markdown",
   "id": "a0dbd353",
   "metadata": {},
   "source": [
    "### Feature Encoding and Scaling\n",
    "\n",
    "**One Hot Encoding for Columns which had lesser unique values and are not ordinal**\n",
    "\n",
    "- One hot encoding is a process by which categorical variables are converted into a form that could be provided to ML algorithms to do a better job in prediction.\n",
    "\n",
    "\n",
    "**Binary Encoder**\n",
    "\n",
    "- To fight the curse of dimensionality, binary encoding might be a good alternative to one-hot encoding because it creates fewer columns when encoding categorical variables."
   ]
  },
  {
   "cell_type": "code",
   "execution_count": 31,
   "id": "a0d435e9",
   "metadata": {},
   "outputs": [
    {
     "name": "stdout",
     "output_type": "stream",
     "text": [
      "Collecting category_encoders\n",
      "  Downloading category_encoders-2.5.1.post0-py2.py3-none-any.whl (72 kB)\n",
      "     -------------------------------------- 72.4/72.4 kB 570.2 kB/s eta 0:00:00\n",
      "Requirement already satisfied: numpy>=1.14.0 in c:\\users\\arun\\anaconda3\\envs\\data\\lib\\site-packages (from category_encoders) (1.23.3)\n",
      "Requirement already satisfied: pandas>=1.0.5 in c:\\users\\arun\\anaconda3\\envs\\data\\lib\\site-packages (from category_encoders) (1.4.4)\n",
      "Requirement already satisfied: scipy>=1.0.0 in c:\\users\\arun\\anaconda3\\envs\\data\\lib\\site-packages (from category_encoders) (1.9.1)\n",
      "Requirement already satisfied: statsmodels>=0.9.0 in c:\\users\\arun\\anaconda3\\envs\\data\\lib\\site-packages (from category_encoders) (0.13.2)\n",
      "Requirement already satisfied: patsy>=0.5.1 in c:\\users\\arun\\anaconda3\\envs\\data\\lib\\site-packages (from category_encoders) (0.5.2)\n",
      "Requirement already satisfied: scikit-learn>=0.20.0 in c:\\users\\arun\\anaconda3\\envs\\data\\lib\\site-packages (from category_encoders) (1.1.2)\n",
      "Requirement already satisfied: pytz>=2020.1 in c:\\users\\arun\\anaconda3\\envs\\data\\lib\\site-packages (from pandas>=1.0.5->category_encoders) (2022.1)\n",
      "Requirement already satisfied: python-dateutil>=2.8.1 in c:\\users\\arun\\anaconda3\\envs\\data\\lib\\site-packages (from pandas>=1.0.5->category_encoders) (2.8.2)\n",
      "Requirement already satisfied: six in c:\\users\\arun\\anaconda3\\envs\\data\\lib\\site-packages (from patsy>=0.5.1->category_encoders) (1.16.0)\n",
      "Requirement already satisfied: joblib>=1.0.0 in c:\\users\\arun\\anaconda3\\envs\\data\\lib\\site-packages (from scikit-learn>=0.20.0->category_encoders) (1.1.0)\n",
      "Requirement already satisfied: threadpoolctl>=2.0.0 in c:\\users\\arun\\anaconda3\\envs\\data\\lib\\site-packages (from scikit-learn>=0.20.0->category_encoders) (3.1.0)\n",
      "Requirement already satisfied: packaging>=21.3 in c:\\users\\arun\\anaconda3\\envs\\data\\lib\\site-packages (from statsmodels>=0.9.0->category_encoders) (21.3)\n",
      "Requirement already satisfied: pyparsing!=3.0.5,>=2.0.2 in c:\\users\\arun\\anaconda3\\envs\\data\\lib\\site-packages (from packaging>=21.3->statsmodels>=0.9.0->category_encoders) (3.0.9)\n",
      "Installing collected packages: category_encoders\n",
      "Successfully installed category_encoders-2.5.1.post0\n"
     ]
    }
   ],
   "source": [
    "! pip install --upgrade category_encoders"
   ]
  },
  {
   "cell_type": "code",
   "execution_count": 21,
   "id": "d841b765",
   "metadata": {},
   "outputs": [],
   "source": [
    "# Create Column Transformer with 3 types of transformers\n",
    "num_features = X.select_dtypes(exclude=\"object\").columns\n",
    "onehot_columns = ['seller_type','fuel_type','transmission_type']\n",
    "binary_columns = ['car_name']\n",
    "\n",
    "from sklearn.preprocessing import OneHotEncoder, StandardScaler\n",
    "from category_encoders.binary import BinaryEncoder\n",
    "from sklearn.compose import ColumnTransformer\n",
    "\n",
    "numeric_transformer = StandardScaler()\n",
    "oh_transformer = OneHotEncoder()\n",
    "binary_transformer = BinaryEncoder()\n",
    "\n",
    "preprocessor = ColumnTransformer(\n",
    "    [\n",
    "        (\"OneHotEncoder\", oh_transformer, onehot_columns),\n",
    "         (\"StandardScaler\", numeric_transformer, num_features),\n",
    "        (\"BinaryEncoder\", binary_transformer, binary_columns)\n",
    "        \n",
    "    ]\n",
    ")"
   ]
  },
  {
   "cell_type": "code",
   "execution_count": 22,
   "id": "c40d0ae7",
   "metadata": {},
   "outputs": [],
   "source": [
    "X= preprocessor.fit_transform(X)"
   ]
  },
  {
   "cell_type": "markdown",
   "id": "8a0bfcb9",
   "metadata": {},
   "source": [
    "### Train Test Split\n",
    "\n",
    "- The train-test split procedure is used to estimate the performance of machine learning algorithms when they are used to make predictions on data not used to train the model.\n",
    "\n",
    "- It is a fast and easy procedure to perform, the results of which allow you to compare the performance of machine learning algorithms."
   ]
  },
  {
   "cell_type": "code",
   "execution_count": 23,
   "id": "52b36c06",
   "metadata": {},
   "outputs": [
    {
     "data": {
      "text/plain": [
       "((12328, 23), (3083, 23))"
      ]
     },
     "execution_count": 23,
     "metadata": {},
     "output_type": "execute_result"
    }
   ],
   "source": [
    "# separate dataset into train and test\n",
    "X_train, X_test, y_train, y_test = train_test_split(X, y, test_size=0.2, random_state=42)\n",
    "X_train.shape, X_test.shape"
   ]
  },
  {
   "cell_type": "markdown",
   "id": "569bba85",
   "metadata": {},
   "source": [
    "### Model Selection\n",
    "\n",
    "- **Here should understand the Various Regression models with default values from these models we can choose top 4 with Highest Accuracy score and proceed with HyperParameter Tuning**\n",
    "\n",
    "\n",
    "**Import Required packages for model training**"
   ]
  },
  {
   "cell_type": "code",
   "execution_count": 36,
   "id": "cc3f234d",
   "metadata": {},
   "outputs": [
    {
     "name": "stdout",
     "output_type": "stream",
     "text": [
      "Collecting catboost\n",
      "  Downloading catboost-1.1-cp39-none-win_amd64.whl (74.0 MB)\n",
      "     ---------------------------------------- 74.0/74.0 MB 3.3 MB/s eta 0:00:00\n",
      "Requirement already satisfied: numpy>=1.16.0 in c:\\users\\arun\\anaconda3\\envs\\data\\lib\\site-packages (from catboost) (1.23.3)\n",
      "Requirement already satisfied: pandas>=0.24.0 in c:\\users\\arun\\anaconda3\\envs\\data\\lib\\site-packages (from catboost) (1.4.4)\n",
      "Requirement already satisfied: matplotlib in c:\\users\\arun\\anaconda3\\envs\\data\\lib\\site-packages (from catboost) (3.5.3)\n",
      "Collecting graphviz\n",
      "  Downloading graphviz-0.20.1-py3-none-any.whl (47 kB)\n",
      "     ---------------------------------------- 47.0/47.0 kB 1.2 MB/s eta 0:00:00\n",
      "Requirement already satisfied: scipy in c:\\users\\arun\\anaconda3\\envs\\data\\lib\\site-packages (from catboost) (1.9.1)\n",
      "Requirement already satisfied: six in c:\\users\\arun\\anaconda3\\envs\\data\\lib\\site-packages (from catboost) (1.16.0)\n",
      "Requirement already satisfied: plotly in c:\\users\\arun\\anaconda3\\envs\\data\\lib\\site-packages (from catboost) (5.10.0)\n",
      "Requirement already satisfied: pytz>=2020.1 in c:\\users\\arun\\anaconda3\\envs\\data\\lib\\site-packages (from pandas>=0.24.0->catboost) (2022.1)\n",
      "Requirement already satisfied: python-dateutil>=2.8.1 in c:\\users\\arun\\anaconda3\\envs\\data\\lib\\site-packages (from pandas>=0.24.0->catboost) (2.8.2)\n",
      "Requirement already satisfied: fonttools>=4.22.0 in c:\\users\\arun\\anaconda3\\envs\\data\\lib\\site-packages (from matplotlib->catboost) (4.37.2)\n",
      "Requirement already satisfied: packaging>=20.0 in c:\\users\\arun\\anaconda3\\envs\\data\\lib\\site-packages (from matplotlib->catboost) (21.3)\n",
      "Requirement already satisfied: pillow>=6.2.0 in c:\\users\\arun\\anaconda3\\envs\\data\\lib\\site-packages (from matplotlib->catboost) (9.2.0)\n",
      "Requirement already satisfied: cycler>=0.10 in c:\\users\\arun\\anaconda3\\envs\\data\\lib\\site-packages (from matplotlib->catboost) (0.11.0)\n",
      "Requirement already satisfied: kiwisolver>=1.0.1 in c:\\users\\arun\\anaconda3\\envs\\data\\lib\\site-packages (from matplotlib->catboost) (1.4.4)\n",
      "Requirement already satisfied: pyparsing>=2.2.1 in c:\\users\\arun\\anaconda3\\envs\\data\\lib\\site-packages (from matplotlib->catboost) (3.0.9)\n",
      "Requirement already satisfied: tenacity>=6.2.0 in c:\\users\\arun\\anaconda3\\envs\\data\\lib\\site-packages (from plotly->catboost) (8.0.1)\n",
      "Installing collected packages: graphviz, catboost\n",
      "Successfully installed catboost-1.1 graphviz-0.20.1\n"
     ]
    }
   ],
   "source": [
    "!pip3 install catboost"
   ]
  },
  {
   "cell_type": "code",
   "execution_count": 38,
   "id": "faebea2d",
   "metadata": {},
   "outputs": [
    {
     "name": "stdout",
     "output_type": "stream",
     "text": [
      "Collecting xgboost\n",
      "  Downloading xgboost-1.6.2-py3-none-win_amd64.whl (125.4 MB)\n",
      "     -------------------------------------- 125.4/125.4 MB 2.1 MB/s eta 0:00:00\n",
      "Requirement already satisfied: numpy in c:\\users\\arun\\anaconda3\\envs\\data\\lib\\site-packages (from xgboost) (1.23.3)\n",
      "Requirement already satisfied: scipy in c:\\users\\arun\\anaconda3\\envs\\data\\lib\\site-packages (from xgboost) (1.9.1)\n",
      "Installing collected packages: xgboost\n",
      "Successfully installed xgboost-1.6.2\n"
     ]
    }
   ],
   "source": [
    "! pip3 install xgboost"
   ]
  },
  {
   "cell_type": "code",
   "execution_count": 24,
   "id": "185e08cf",
   "metadata": {},
   "outputs": [],
   "source": [
    "from sklearn.metrics import mean_squared_error, r2_score\n",
    "from sklearn.neighbors import KNeighborsRegressor\n",
    "from sklearn.tree import DecisionTreeRegressor\n",
    "from sklearn.ensemble import RandomForestRegressor,AdaBoostRegressor\n",
    "from sklearn.svm import SVR\n",
    "from sklearn.linear_model import LinearRegression, Ridge,Lasso\n",
    "from sklearn.metrics import r2_score, mean_absolute_error, mean_squared_error\n",
    "from sklearn.model_selection import RandomizedSearchCV\n",
    "from catboost import CatBoostRegressor\n",
    "from xgboost import XGBRegressor"
   ]
  },
  {
   "cell_type": "markdown",
   "id": "acca560c",
   "metadata": {},
   "source": [
    "**Create a Function to Evaluate Model**"
   ]
  },
  {
   "cell_type": "code",
   "execution_count": 25,
   "id": "c6035bb7",
   "metadata": {},
   "outputs": [],
   "source": [
    "def evaluate_model(true, predicted):\n",
    "    mae = mean_absolute_error(true, predicted)\n",
    "    mse = mean_squared_error(true, predicted)\n",
    "    rmse = np.sqrt(mean_squared_error(true, predicted))\n",
    "    r2_square = r2_score(true, predicted)\n",
    "    return mae, rmse, r2_square"
   ]
  },
  {
   "cell_type": "code",
   "execution_count": 26,
   "id": "d2e6d1a8",
   "metadata": {
    "scrolled": false
   },
   "outputs": [
    {
     "name": "stdout",
     "output_type": "stream",
     "text": [
      "Linear Regression\n",
      "Model performance for Training set\n",
      "- Root Mean Squared Error: 148793.3557\n",
      "- Mean Absolute Error: 112869.9455\n",
      "- R2 Score: 0.8379\n",
      "----------------------------------\n",
      "Model performance for Test set\n",
      "- Root Mean Squared Error: 155467.5862\n",
      "- Mean Absolute Error: 118455.8323\n",
      "- R2 Score: 0.8344\n",
      "===================================\n",
      "\n",
      "\n",
      "Lasso\n",
      "Model performance for Training set\n",
      "- Root Mean Squared Error: 148767.4172\n",
      "- Mean Absolute Error: 112822.8031\n",
      "- R2 Score: 0.8380\n",
      "----------------------------------\n",
      "Model performance for Test set\n",
      "- Root Mean Squared Error: 155479.5196\n",
      "- Mean Absolute Error: 118418.6806\n",
      "- R2 Score: 0.8343\n",
      "===================================\n",
      "\n",
      "\n",
      "Ridge\n",
      "Model performance for Training set\n",
      "- Root Mean Squared Error: 148770.8205\n",
      "- Mean Absolute Error: 112835.0850\n",
      "- R2 Score: 0.8380\n",
      "----------------------------------\n",
      "Model performance for Test set\n",
      "- Root Mean Squared Error: 155485.9482\n",
      "- Mean Absolute Error: 118436.6096\n",
      "- R2 Score: 0.8343\n",
      "===================================\n",
      "\n",
      "\n",
      "K-Neighbors Regressor\n",
      "Model performance for Training set\n",
      "- Root Mean Squared Error: 81895.5371\n",
      "- Mean Absolute Error: 54735.2369\n",
      "- R2 Score: 0.9509\n",
      "----------------------------------\n",
      "Model performance for Test set\n",
      "- Root Mean Squared Error: 103076.0834\n",
      "- Mean Absolute Error: 68801.9867\n",
      "- R2 Score: 0.9272\n",
      "===================================\n",
      "\n",
      "\n",
      "Decision Tree\n",
      "Model performance for Training set\n",
      "- Root Mean Squared Error: 19892.7304\n",
      "- Mean Absolute Error: 5386.6533\n",
      "- R2 Score: 0.9971\n",
      "----------------------------------\n",
      "Model performance for Test set\n",
      "- Root Mean Squared Error: 122968.6644\n",
      "- Mean Absolute Error: 79048.7037\n",
      "- R2 Score: 0.8964\n",
      "===================================\n",
      "\n",
      "\n",
      "Random Forest Regressor\n",
      "Model performance for Training set\n",
      "- Root Mean Squared Error: 39060.7981\n",
      "- Mean Absolute Error: 26180.9362\n",
      "- R2 Score: 0.9888\n",
      "----------------------------------\n",
      "Model performance for Test set\n",
      "- Root Mean Squared Error: 99082.9036\n",
      "- Mean Absolute Error: 65656.3132\n",
      "- R2 Score: 0.9327\n",
      "===================================\n",
      "\n",
      "\n",
      "XGBRegressor\n",
      "Model performance for Training set\n",
      "- Root Mean Squared Error: 64604.3955\n",
      "- Mean Absolute Error: 46946.8468\n",
      "- R2 Score: 0.9694\n",
      "----------------------------------\n",
      "Model performance for Test set\n",
      "- Root Mean Squared Error: 93323.0762\n",
      "- Mean Absolute Error: 63986.2462\n",
      "- R2 Score: 0.9403\n",
      "===================================\n",
      "\n",
      "\n",
      "CatBoosting Regressor\n",
      "Model performance for Training set\n",
      "- Root Mean Squared Error: 74608.5033\n",
      "- Mean Absolute Error: 54468.1250\n",
      "- R2 Score: 0.9593\n",
      "----------------------------------\n",
      "Model performance for Test set\n",
      "- Root Mean Squared Error: 90935.6072\n",
      "- Mean Absolute Error: 63175.7719\n",
      "- R2 Score: 0.9433\n",
      "===================================\n",
      "\n",
      "\n",
      "AdaBoost Regressor\n",
      "Model performance for Training set\n",
      "- Root Mean Squared Error: 164453.6934\n",
      "- Mean Absolute Error: 135508.9530\n",
      "- R2 Score: 0.8020\n",
      "----------------------------------\n",
      "Model performance for Test set\n",
      "- Root Mean Squared Error: 172679.1371\n",
      "- Mean Absolute Error: 140916.1172\n",
      "- R2 Score: 0.7957\n",
      "===================================\n",
      "\n",
      "\n"
     ]
    }
   ],
   "source": [
    "models = {\n",
    "    \"Linear Regression\": LinearRegression(),\n",
    "    \"Lasso\": Lasso(),\n",
    "    \"Ridge\": Ridge(),\n",
    "    \"K-Neighbors Regressor\": KNeighborsRegressor(),\n",
    "    \"Decision Tree\": DecisionTreeRegressor(),\n",
    "    \"Random Forest Regressor\": RandomForestRegressor(),\n",
    "    \"XGBRegressor\": XGBRegressor(), \n",
    "    \"CatBoosting Regressor\": CatBoostRegressor(verbose=False),\n",
    "    \"AdaBoost Regressor\": AdaBoostRegressor()\n",
    "}\n",
    "\n",
    "model_list = []\n",
    "r2_list =[]\n",
    "\n",
    "for i in range(len(list(models))):\n",
    "    model = list(models.values())[i]\n",
    "    model.fit(X_train, y_train) # Train model\n",
    "\n",
    "    # Make predictions\n",
    "    y_train_pred = model.predict(X_train)\n",
    "    y_test_pred = model.predict(X_test)\n",
    "    \n",
    "    # Evaluate Train and Test dataset\n",
    "    model_train_mae , model_train_rmse, model_train_r2 = evaluate_model(y_train, y_train_pred)\n",
    "\n",
    "    model_test_mae , model_test_rmse, model_test_r2 = evaluate_model(y_test, y_test_pred)\n",
    "\n",
    "    \n",
    "    print(list(models.keys())[i])\n",
    "    model_list.append(list(models.keys())[i])\n",
    "    \n",
    "    print('Model performance for Training set')\n",
    "    print(\"- Root Mean Squared Error: {:.4f}\".format(model_train_rmse))\n",
    "    print(\"- Mean Absolute Error: {:.4f}\".format(model_train_mae))\n",
    "    print(\"- R2 Score: {:.4f}\".format(model_train_r2))\n",
    "\n",
    "    print('----------------------------------')\n",
    "    \n",
    "    print('Model performance for Test set')\n",
    "    print(\"- Root Mean Squared Error: {:.4f}\".format(model_test_rmse))\n",
    "    print(\"- Mean Absolute Error: {:.4f}\".format(model_test_mae))\n",
    "    print(\"- R2 Score: {:.4f}\".format(model_test_r2))\n",
    "    r2_list.append(model_test_r2)\n",
    "    \n",
    "    print('='*35)\n",
    "    print('\\n')"
   ]
  },
  {
   "cell_type": "markdown",
   "id": "143b8c37",
   "metadata": {},
   "source": [
    "**Results of All Models**"
   ]
  },
  {
   "cell_type": "code",
   "execution_count": 27,
   "id": "1e402a72",
   "metadata": {},
   "outputs": [
    {
     "data": {
      "text/html": [
       "<div>\n",
       "<style scoped>\n",
       "    .dataframe tbody tr th:only-of-type {\n",
       "        vertical-align: middle;\n",
       "    }\n",
       "\n",
       "    .dataframe tbody tr th {\n",
       "        vertical-align: top;\n",
       "    }\n",
       "\n",
       "    .dataframe thead th {\n",
       "        text-align: right;\n",
       "    }\n",
       "</style>\n",
       "<table border=\"1\" class=\"dataframe\">\n",
       "  <thead>\n",
       "    <tr style=\"text-align: right;\">\n",
       "      <th></th>\n",
       "      <th>Model Name</th>\n",
       "      <th>R2_Score</th>\n",
       "    </tr>\n",
       "  </thead>\n",
       "  <tbody>\n",
       "    <tr>\n",
       "      <th>7</th>\n",
       "      <td>CatBoosting Regressor</td>\n",
       "      <td>0.943329</td>\n",
       "    </tr>\n",
       "    <tr>\n",
       "      <th>6</th>\n",
       "      <td>XGBRegressor</td>\n",
       "      <td>0.940314</td>\n",
       "    </tr>\n",
       "    <tr>\n",
       "      <th>5</th>\n",
       "      <td>Random Forest Regressor</td>\n",
       "      <td>0.932719</td>\n",
       "    </tr>\n",
       "    <tr>\n",
       "      <th>3</th>\n",
       "      <td>K-Neighbors Regressor</td>\n",
       "      <td>0.927187</td>\n",
       "    </tr>\n",
       "    <tr>\n",
       "      <th>4</th>\n",
       "      <td>Decision Tree</td>\n",
       "      <td>0.896371</td>\n",
       "    </tr>\n",
       "    <tr>\n",
       "      <th>0</th>\n",
       "      <td>Linear Regression</td>\n",
       "      <td>0.834357</td>\n",
       "    </tr>\n",
       "    <tr>\n",
       "      <th>1</th>\n",
       "      <td>Lasso</td>\n",
       "      <td>0.834332</td>\n",
       "    </tr>\n",
       "    <tr>\n",
       "      <th>2</th>\n",
       "      <td>Ridge</td>\n",
       "      <td>0.834318</td>\n",
       "    </tr>\n",
       "    <tr>\n",
       "      <th>8</th>\n",
       "      <td>AdaBoost Regressor</td>\n",
       "      <td>0.795651</td>\n",
       "    </tr>\n",
       "  </tbody>\n",
       "</table>\n",
       "</div>"
      ],
      "text/plain": [
       "                Model Name  R2_Score\n",
       "7    CatBoosting Regressor  0.943329\n",
       "6             XGBRegressor  0.940314\n",
       "5  Random Forest Regressor  0.932719\n",
       "3    K-Neighbors Regressor  0.927187\n",
       "4            Decision Tree  0.896371\n",
       "0        Linear Regression  0.834357\n",
       "1                    Lasso  0.834332\n",
       "2                    Ridge  0.834318\n",
       "8       AdaBoost Regressor  0.795651"
      ]
     },
     "execution_count": 27,
     "metadata": {},
     "output_type": "execute_result"
    }
   ],
   "source": [
    "pd.DataFrame(list(zip(model_list, r2_list)), columns=['Model Name', 'R2_Score']).sort_values(by=[\"R2_Score\"], ascending=False)"
   ]
  },
  {
   "cell_type": "markdown",
   "id": "1ac957fa",
   "metadata": {},
   "source": [
    "**Here we can use Random Forest , XGBoost Regressor, CatBoost Regressor and K-Neighbours Regressor for Hyper Parameter Tuning**"
   ]
  },
  {
   "cell_type": "code",
   "execution_count": 28,
   "id": "5d466f32",
   "metadata": {},
   "outputs": [],
   "source": [
    "#Initialize few parameter for Hyperparamter tuning\n",
    "knn_params = {\"n_neighbors\": [2, 3, 10, 20, 40, 50]}\n",
    "\n",
    "rf_params = {\"max_depth\": [5, 8, 15, None, 10],\n",
    "             \"max_features\": [5, 7, \"auto\", 8],\n",
    "             \"min_samples_split\": [2, 8, 15, 20],\n",
    "             \"n_estimators\": [100, 200, 500, 1000]}\n",
    "\n",
    "xgboost_params = {\"learning_rate\": [0.1, 0.01],\n",
    "                  \"max_depth\": [5, 8, 12, 20, 30],\n",
    "                  \"n_estimators\": [100, 200, 300],\n",
    "                  \"colsample_bytree\": [0.5, 0.8, 1, 0.3, 0.4]}\n",
    "\n",
    "cat_params = {\"learning_rate\": [0.1, 0.01, 0.06, 0.05],\n",
    "              \"max_depth\": [6, 8, 12, 20, 30]}"
   ]
  },
  {
   "cell_type": "code",
   "execution_count": 29,
   "id": "15d9157b",
   "metadata": {},
   "outputs": [],
   "source": [
    "# Models list for Hyperparameter tuning\n",
    "randomcv_models = [('KNN', KNeighborsRegressor(), knn_params),\n",
    "                   (\"RF\", RandomForestRegressor(), rf_params),\n",
    "                   ('XGBoost', XGBRegressor(), xgboost_params),\n",
    "                   ('CatBoost', CatBoostRegressor(verbose=False), cat_params)\n",
    "                   ]"
   ]
  },
  {
   "cell_type": "code",
   "execution_count": 30,
   "id": "78374806",
   "metadata": {
    "scrolled": false
   },
   "outputs": [
    {
     "name": "stdout",
     "output_type": "stream",
     "text": [
      "Fitting 3 folds for each of 6 candidates, totalling 18 fits\n",
      "Fitting 3 folds for each of 100 candidates, totalling 300 fits\n",
      "Fitting 3 folds for each of 100 candidates, totalling 300 fits\n",
      "Fitting 3 folds for each of 20 candidates, totalling 60 fits\n",
      "---------------- Best Params for KNN -------------------\n",
      "{'n_neighbors': 10}\n",
      "---------------- Best Params for RF -------------------\n",
      "{'n_estimators': 1000, 'min_samples_split': 8, 'max_features': 8, 'max_depth': None}\n",
      "---------------- Best Params for XGBoost -------------------\n",
      "{'n_estimators': 300, 'max_depth': 5, 'learning_rate': 0.1, 'colsample_bytree': 0.5}\n",
      "---------------- Best Params for CatBoost -------------------\n",
      "{'max_depth': 8, 'learning_rate': 0.05}\n"
     ]
    }
   ],
   "source": [
    "from sklearn.model_selection import RandomizedSearchCV\n",
    "\n",
    "model_param = {}\n",
    "for name, model, params in randomcv_models:\n",
    "    random = RandomizedSearchCV(estimator=model,\n",
    "                                   param_distributions=params,\n",
    "                                   n_iter=100,\n",
    "                                   cv=3,\n",
    "                                   verbose=2,\n",
    "                                   n_jobs=-1)\n",
    "    random.fit(X_train, y_train)\n",
    "    model_param[name] = random.best_params_\n",
    "\n",
    "for model_name in model_param:\n",
    "    print(f\"---------------- Best Params for {model_name} -------------------\")\n",
    "    print(model_param[model_name])"
   ]
  },
  {
   "cell_type": "markdown",
   "id": "93201ce7",
   "metadata": {},
   "source": [
    "#### Retraining the Model with best Parameters"
   ]
  },
  {
   "cell_type": "code",
   "execution_count": 31,
   "id": "f02570e5",
   "metadata": {},
   "outputs": [
    {
     "name": "stdout",
     "output_type": "stream",
     "text": [
      "Random Forest Regressor\n",
      "Model performance for Training set\n",
      "- Root Mean Squared Error: 63769.4342\n",
      "- Mean Absolute Error: 44751.6439\n",
      "- R2 Score: 0.9702\n",
      "----------------------------------\n",
      "Model performance for Test set\n",
      "- Root Mean Squared Error: 93631.6823\n",
      "- Mean Absolute Error: 63898.4238\n",
      "- R2 Score: 0.9399\n",
      "===================================\n",
      "\n",
      "\n",
      "K-Neighbors Regressor\n",
      "Model performance for Training set\n",
      "- Root Mean Squared Error: 90424.3097\n",
      "- Mean Absolute Error: 61141.1502\n",
      "- R2 Score: 0.9401\n",
      "----------------------------------\n",
      "Model performance for Test set\n",
      "- Root Mean Squared Error: 103787.6486\n",
      "- Mean Absolute Error: 69740.1314\n",
      "- R2 Score: 0.9262\n",
      "===================================\n",
      "\n",
      "\n",
      "XGBRegressor\n",
      "Model performance for Training set\n",
      "- Root Mean Squared Error: 74949.7150\n",
      "- Mean Absolute Error: 54543.4131\n",
      "- R2 Score: 0.9589\n",
      "----------------------------------\n",
      "Model performance for Test set\n",
      "- Root Mean Squared Error: 92106.7656\n",
      "- Mean Absolute Error: 63874.9049\n",
      "- R2 Score: 0.9419\n",
      "===================================\n",
      "\n",
      "\n",
      "CatBoosting Regressor\n",
      "Model performance for Training set\n",
      "- Root Mean Squared Error: 68704.9792\n",
      "- Mean Absolute Error: 50363.0108\n",
      "- R2 Score: 0.9654\n",
      "----------------------------------\n",
      "Model performance for Test set\n",
      "- Root Mean Squared Error: 90603.1036\n",
      "- Mean Absolute Error: 62679.3469\n",
      "- R2 Score: 0.9437\n",
      "===================================\n",
      "\n",
      "\n"
     ]
    }
   ],
   "source": [
    "models = {\n",
    "    \"Random Forest Regressor\": RandomForestRegressor(**model_param['RF'], n_jobs=-1),\n",
    "     \"K-Neighbors Regressor\": KNeighborsRegressor(**model_param['KNN'], n_jobs=-1),\n",
    "    \"XGBRegressor\": XGBRegressor(**model_param['XGBoost'], n_jobs=-1), \n",
    "     \"CatBoosting Regressor\": CatBoostRegressor(**model_param['CatBoost'],verbose=False)\n",
    "}\n",
    "\n",
    "model_list = []\n",
    "r2_list =[]\n",
    "\n",
    "for i in range(len(list(models))):\n",
    "    model = list(models.values())[i]\n",
    "    model.fit(X_train, y_train) # Train model\n",
    "\n",
    "    # Make predictions\n",
    "    y_train_pred = model.predict(X_train)\n",
    "    y_test_pred = model.predict(X_test)\n",
    "\n",
    "    model_train_mae , model_train_rmse, model_train_r2 = evaluate_model(y_train, y_train_pred)\n",
    "\n",
    "    model_test_mae , model_test_rmse, model_test_r2 = evaluate_model(y_test, y_test_pred)\n",
    "    \n",
    "    print(list(models.keys())[i])\n",
    "    model_list.append(list(models.keys())[i])\n",
    "    \n",
    "    print('Model performance for Training set')\n",
    "    print(\"- Root Mean Squared Error: {:.4f}\".format(model_train_rmse))\n",
    "    print(\"- Mean Absolute Error: {:.4f}\".format(model_train_mae))\n",
    "    print(\"- R2 Score: {:.4f}\".format(model_train_r2))\n",
    "    \n",
    "    print('----------------------------------')\n",
    "    \n",
    "    print('Model performance for Test set')\n",
    "    print(\"- Root Mean Squared Error: {:.4f}\".format(model_test_rmse))\n",
    "    print(\"- Mean Absolute Error: {:.4f}\".format(model_test_mae))\n",
    "    print(\"- R2 Score: {:.4f}\".format(model_test_r2))\n",
    "    r2_list.append(model_test_r2)\n",
    "    \n",
    "    print('='*35)\n",
    "    print('\\n')"
   ]
  },
  {
   "cell_type": "code",
   "execution_count": 32,
   "id": "7c737166",
   "metadata": {},
   "outputs": [
    {
     "data": {
      "text/html": [
       "<div>\n",
       "<style scoped>\n",
       "    .dataframe tbody tr th:only-of-type {\n",
       "        vertical-align: middle;\n",
       "    }\n",
       "\n",
       "    .dataframe tbody tr th {\n",
       "        vertical-align: top;\n",
       "    }\n",
       "\n",
       "    .dataframe thead th {\n",
       "        text-align: right;\n",
       "    }\n",
       "</style>\n",
       "<table border=\"1\" class=\"dataframe\">\n",
       "  <thead>\n",
       "    <tr style=\"text-align: right;\">\n",
       "      <th></th>\n",
       "      <th>Model Name</th>\n",
       "      <th>R2_Score</th>\n",
       "    </tr>\n",
       "  </thead>\n",
       "  <tbody>\n",
       "    <tr>\n",
       "      <th>3</th>\n",
       "      <td>CatBoosting Regressor</td>\n",
       "      <td>0.943743</td>\n",
       "    </tr>\n",
       "    <tr>\n",
       "      <th>2</th>\n",
       "      <td>XGBRegressor</td>\n",
       "      <td>0.941860</td>\n",
       "    </tr>\n",
       "    <tr>\n",
       "      <th>0</th>\n",
       "      <td>Random Forest Regressor</td>\n",
       "      <td>0.939919</td>\n",
       "    </tr>\n",
       "    <tr>\n",
       "      <th>1</th>\n",
       "      <td>K-Neighbors Regressor</td>\n",
       "      <td>0.926178</td>\n",
       "    </tr>\n",
       "  </tbody>\n",
       "</table>\n",
       "</div>"
      ],
      "text/plain": [
       "                Model Name  R2_Score\n",
       "3    CatBoosting Regressor  0.943743\n",
       "2             XGBRegressor  0.941860\n",
       "0  Random Forest Regressor  0.939919\n",
       "1    K-Neighbors Regressor  0.926178"
      ]
     },
     "execution_count": 32,
     "metadata": {},
     "output_type": "execute_result"
    }
   ],
   "source": [
    "pd.DataFrame(list(zip(model_list, r2_list*100)), columns=['Model Name', 'R2_Score']).sort_values(by=[\"R2_Score\"],\n",
    "                                                                                                 ascending=False)"
   ]
  },
  {
   "cell_type": "markdown",
   "id": "f6b818e1",
   "metadata": {},
   "source": [
    "#### Best Model is CATBoost Regressor with 94.37% R2 Score"
   ]
  },
  {
   "cell_type": "code",
   "execution_count": null,
   "id": "90cc3483",
   "metadata": {},
   "outputs": [],
   "source": []
  }
 ],
 "metadata": {
  "kernelspec": {
   "display_name": "Python 3 (ipykernel)",
   "language": "python",
   "name": "python3"
  },
  "language_info": {
   "codemirror_mode": {
    "name": "ipython",
    "version": 3
   },
   "file_extension": ".py",
   "mimetype": "text/x-python",
   "name": "python",
   "nbconvert_exporter": "python",
   "pygments_lexer": "ipython3",
   "version": "3.9.13"
  }
 },
 "nbformat": 4,
 "nbformat_minor": 5
}
