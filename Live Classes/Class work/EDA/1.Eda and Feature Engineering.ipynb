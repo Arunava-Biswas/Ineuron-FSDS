{
 "cells": [
  {
   "cell_type": "markdown",
   "id": "8aedb229",
   "metadata": {},
   "source": [
    "<h3 align=\"center\"><u> EDA and FE </u></h3>\n",
    "\n",
    "\n",
    "- **1st Step:** Check the type of the features of the dataset.\n",
    "- **2nd Step:** Decide the type of the analysis (**Univariate, Bivariate or Multivariate**) we want to do with the features.\n",
    "- **3rd Step:** Select the **Independent** and **Dependent** variables.\n",
    "- **4th Step:** First conduct **EDA** and then **FE**\n",
    "\n",
    "\n",
    "- **To do EDA:**\n",
    "    1. Create Profile of the data. We can use the info() of the pandas to do this.\n",
    "    2. Statical analysis. Here we use statistics to interprete the data. Here we can try to find the Standard Deviation, Variance, Covariance, Correlation, mean, median, mode of the columns. Here we perform the tests like T test, Z test, Chi Square Test, Anova Test.\n",
    "    3. Graph based analysis. Here we can draw the graphs like the Boxplot, Scatterplot, Pieplot, Histogram, KDE plot, Countbar, Heatmap.\n",
    "    4. We can make conclusions from these Statistical and Graph based analysis.\n",
    "    \n",
    "\n",
    "- **Now based on the conclusions we got from EDA we can do the processing (FE) of the data.**\n",
    "    \n",
    "\n",
    "- **Feature Engineering (Preprocessing of data):**\n",
    "    1. Handling Missing Values\n",
    "    2. Handling Outliers\n",
    "    3. Scaling of data\n",
    "    4. Transformation of data (Log, BoxCox, Square root, Cube)\n",
    "    5. Encoding of data (from categorical to integer value like transforming male as 1 and female as 0)\n",
    "    6. Handling the Imbalanced data\n",
    "    7. Feature Selection\n",
    "    8. Dimension Reduction (PCA, TSNE)\n",
    "    \n",
    "    \n",
    "\n",
    "- **Automatic EDA:**\n",
    "    1. Pandas Profiling\n",
    "    2. Mito\n",
    "    3. Knime\n",
    "    4. Sweetviz\n",
    "    5. Autoviz\n"
   ]
  },
  {
   "cell_type": "code",
   "execution_count": null,
   "id": "44d4dac7",
   "metadata": {},
   "outputs": [],
   "source": []
  }
 ],
 "metadata": {
  "kernelspec": {
   "display_name": "Python 3 (ipykernel)",
   "language": "python",
   "name": "python3"
  },
  "language_info": {
   "codemirror_mode": {
    "name": "ipython",
    "version": 3
   },
   "file_extension": ".py",
   "mimetype": "text/x-python",
   "name": "python",
   "nbconvert_exporter": "python",
   "pygments_lexer": "ipython3",
   "version": "3.9.13"
  }
 },
 "nbformat": 4,
 "nbformat_minor": 5
}
