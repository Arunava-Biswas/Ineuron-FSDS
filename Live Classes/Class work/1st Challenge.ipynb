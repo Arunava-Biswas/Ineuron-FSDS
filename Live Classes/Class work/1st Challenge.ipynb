{
 "cells": [
  {
   "cell_type": "raw",
   "id": "0de66c3f",
   "metadata": {},
   "source": [
    "Challenge:\n",
    "\n",
    "Q1: Try to print this using a while loop:\n",
    "\n",
    "*\n",
    "* *\n",
    "* * *\n",
    "* * * *\n",
    "* * * * *\n",
    "* * * * * * \n",
    "* * * * * * *\n",
    "* * * * * * * * \n",
    "* * * * * * * * *\n",
    "\n",
    "Q2: Try to print using a while loop:\n",
    "\n",
    "A\n",
    "B H\n",
    "C I N\n",
    "D J O S\n",
    "E K P T W\n",
    "F L Q U X Z\n",
    "G M R V Y\n",
    "\n",
    "Q3: Try to print all the numbers divisible by 3 in between a range of 40 - 400.\n",
    "\n",
    "Q4: Try to filter out all the vowels from below text by using a while loop:\n",
    "\"\"\"\n",
    "Python is a high-level, interpreted, general-purpose programming language. Its design philosophy emphasizes code readability with the use of significant indentation.[32]\n",
    "\n",
    "Python is dynamically-typed and garbage-collected. It supports multiple programming paradigms, including structured (particularly procedural), object-oriented and functional programming. It is often described as a \"batteries included\" language due to its comprehensive standard library.[33][34]\n",
    "\n",
    "Guido van Rossum began working on Python in the late 1980s as a successor to the ABC programming language and first released it in 1991 as Python 0.9.0.[35] Python 2.0 was released in 2000 and introduced new features such as list comprehensions, cycle-detecting garbage collection, reference counting, and Unicode support. Python 3.0, released in 2008, was a major revision that is not completely backward-compatible with earlier versions. Python 2 was discontinued with version 2.7.18 in 2020.[36]\n",
    "\n",
    "Python consistently ranks as one of the most popular programming languages.\n",
    "\"\"\"\n",
    "\n",
    "Q5: Try to generate all the even numbers between 1 - 1000.\n",
    "\n",
    "Q6: Define a function for all the above problem statement.\n",
    "\n",
    "Q7: Write a code to get a time of your system.\n",
    "\n",
    "Q8: Write a code to fetch date from your system.\n",
    "\n",
    "Q9: Write a code to send a mail to your friend.\n",
    "\n",
    "Q10: Write a code to trigger an alarm for a scheduled time.\n",
    "\n",
    "Q11: Write a code to check ip address of your system.\n",
    "\n",
    "Q12: Write a code to check a particular installation in your system.\n",
    "\n",
    "Q13: Write a code to convert any text into voice.\n",
    "\n",
    "Q14: Write a function which will take string and return the length of it without uing the len().\n",
    "\n",
    "Q15: Write a function which will be able to print an index of all premitive element which will be passed to it.\n",
    "\n",
    "Q16: Write a function which will take input as a dictionary and return a list of all the values even in case of 2 level nesting it should work.\n",
    "\n",
    "Q17: Write a function which will take multiple list as inputs and give me concatanation of all the elements as an output.\n",
    "\n",
    "Q18: Write a function which would return list of all the file name from a directory.\n",
    "\n",
    "Q19: Write a function which will be able to read an image file and show it to you.\n",
    "\n",
    "Q20: Write a function by which you will be able to append two PDF files.\n",
    "\n",
    "Q21: Write a function which can help you to filter only word file from a directory.\n",
    "\n",
    "Q22: Write a function which can read video file and play for you. \n",
    "\n",
    "Q23: Write a function which will be able to shutdown your system.\n",
    "\n",
    "Q24: Write a function which whould return list of all the file name from a directory.\n",
    "\n",
    "Q25: Write a function which will be able to access your mail."
   ]
  },
  {
   "cell_type": "markdown",
   "id": "112d3fe5",
   "metadata": {},
   "source": [
    "##### Q1: Try to print this using a while loop:\n"
   ]
  },
  {
   "cell_type": "code",
   "execution_count": 17,
   "id": "21d0fc1b",
   "metadata": {},
   "outputs": [
    {
     "name": "stdout",
     "output_type": "stream",
     "text": [
      "*  \n",
      "* *  \n",
      "* * *  \n",
      "* * * *  \n",
      "* * * * *  \n",
      "* * * * * *  \n",
      "* * * * * * *  \n",
      "* * * * * * * *  \n",
      "* * * * * * * * *  \n"
     ]
    }
   ],
   "source": [
    "n = 1\n",
    "\n",
    "while n <= 9:\n",
    "    print(\"* \" * n, end=\" \")\n",
    "    print()\n",
    "    n += 1"
   ]
  },
  {
   "cell_type": "markdown",
   "id": "94492cd7",
   "metadata": {},
   "source": [
    "##### Q2: Try to print using a while loop:"
   ]
  },
  {
   "cell_type": "code",
   "execution_count": 18,
   "id": "d5dcf63b",
   "metadata": {},
   "outputs": [
    {
     "name": "stdout",
     "output_type": "stream",
     "text": [
      "A  \n",
      "B  H  \n",
      "C  I  N  \n",
      "D  J  O  S  \n",
      "E  K  P  T  W  \n",
      "F  L  Q  U  X  Z  \n",
      "G  M  R  V  Y  \n"
     ]
    }
   ],
   "source": [
    "# Using a While loop\n",
    "\n",
    "n = 6\n",
    "x = 0\n",
    "\n",
    "while x < (n+1) :\n",
    "    k = x\n",
    "    y = 0\n",
    "    \n",
    "    while y < (x+1) :\n",
    "        c = (chr(65+k))\n",
    "        if c == chr(91):\n",
    "            break\n",
    "        else:\n",
    "            print(c + \" \", end=\" \")\n",
    "        k = k+(n-y)\n",
    "        y += 1\n",
    "    print()\n",
    "    x += 1"
   ]
  },
  {
   "cell_type": "code",
   "execution_count": 19,
   "id": "2c981c49",
   "metadata": {},
   "outputs": [
    {
     "name": "stdout",
     "output_type": "stream",
     "text": [
      "A  \n",
      "B  H  \n",
      "C  I  N  \n",
      "D  J  O  S  \n",
      "E  K  P  T  W  \n",
      "F  L  Q  U  X  Z  \n",
      "G  M  R  V  Y  \n"
     ]
    }
   ],
   "source": [
    "# Using a for loop\n",
    "\n",
    "n = 6\n",
    "\n",
    "for x in range(0, n+1) :\n",
    "    k = x\n",
    "    \n",
    "    for y in range(0, x+1) :\n",
    "        c = (chr(65+k))\n",
    "        if c == chr(91):\n",
    "            break\n",
    "        else:\n",
    "            print(c + \" \", end=\" \")\n",
    "        k = k+(n-y)\n",
    "        y += 1\n",
    "    print()"
   ]
  },
  {
   "cell_type": "markdown",
   "id": "b13b7056",
   "metadata": {},
   "source": [
    "##### Q3: Try to print all the numbers divisible by 3 in between a range of 40 - 400."
   ]
  },
  {
   "cell_type": "code",
   "execution_count": 20,
   "id": "70667352",
   "metadata": {},
   "outputs": [
    {
     "name": "stdout",
     "output_type": "stream",
     "text": [
      "42\n",
      "45\n",
      "48\n",
      "51\n",
      "54\n",
      "57\n",
      "60\n",
      "63\n",
      "66\n",
      "69\n",
      "72\n",
      "75\n",
      "78\n",
      "81\n",
      "84\n",
      "87\n",
      "90\n",
      "93\n",
      "96\n",
      "99\n",
      "102\n",
      "105\n",
      "108\n",
      "111\n",
      "114\n",
      "117\n",
      "120\n",
      "123\n",
      "126\n",
      "129\n",
      "132\n",
      "135\n",
      "138\n",
      "141\n",
      "144\n",
      "147\n",
      "150\n",
      "153\n",
      "156\n",
      "159\n",
      "162\n",
      "165\n",
      "168\n",
      "171\n",
      "174\n",
      "177\n",
      "180\n",
      "183\n",
      "186\n",
      "189\n",
      "192\n",
      "195\n",
      "198\n",
      "201\n",
      "204\n",
      "207\n",
      "210\n",
      "213\n",
      "216\n",
      "219\n",
      "222\n",
      "225\n",
      "228\n",
      "231\n",
      "234\n",
      "237\n",
      "240\n",
      "243\n",
      "246\n",
      "249\n",
      "252\n",
      "255\n",
      "258\n",
      "261\n",
      "264\n",
      "267\n",
      "270\n",
      "273\n",
      "276\n",
      "279\n",
      "282\n",
      "285\n",
      "288\n",
      "291\n",
      "294\n",
      "297\n",
      "300\n",
      "303\n",
      "306\n",
      "309\n",
      "312\n",
      "315\n",
      "318\n",
      "321\n",
      "324\n",
      "327\n",
      "330\n",
      "333\n",
      "336\n",
      "339\n",
      "342\n",
      "345\n",
      "348\n",
      "351\n",
      "354\n",
      "357\n",
      "360\n",
      "363\n",
      "366\n",
      "369\n",
      "372\n",
      "375\n",
      "378\n",
      "381\n",
      "384\n",
      "387\n",
      "390\n",
      "393\n",
      "396\n",
      "399\n"
     ]
    }
   ],
   "source": [
    "for i in range(40, 401):\n",
    "    if i % 3 == 0:\n",
    "        print(i)"
   ]
  },
  {
   "cell_type": "markdown",
   "id": "aadd4d11",
   "metadata": {},
   "source": [
    "##### Q4: Try to filter out all the vowels from below text by using a while loop:"
   ]
  },
  {
   "cell_type": "code",
   "execution_count": 15,
   "id": "03434f71",
   "metadata": {},
   "outputs": [
    {
     "name": "stdout",
     "output_type": "stream",
     "text": [
      "i : 66\n",
      "o : 55\n",
      "u : 27\n",
      "e : 82\n",
      "a : 68\n"
     ]
    }
   ],
   "source": [
    "st = \"\"\"Python is a high-level, interpreted, general-purpose programming language. Its design philosophy emphasizes code readability with the use of significant indentation.[32]\n",
    "\n",
    "Python is dynamically-typed and garbage-collected. It supports multiple programming paradigms, including structured (particularly procedural), object-oriented and functional programming. It is often described as a \"batteries included\" language due to its comprehensive standard library.[33][34]\n",
    "\n",
    "Guido van Rossum began working on Python in the late 1980s as a successor to the ABC programming language and first released it in 1991 as Python 0.9.0.[35] Python 2.0 was released in 2000 and introduced new features such as list comprehensions, cycle-detecting garbage collection, reference counting, and Unicode support. Python 3.0, released in 2008, was a major revision that is not completely backward-compatible with earlier versions. Python 2 was discontinued with version 2.7.18 in 2020.[36]\n",
    "\n",
    "Python consistently ranks as one of the most popular programming languages.\"\"\"\n",
    "\n",
    "\n",
    "\n",
    "st = st.lower()\n",
    "\n",
    "\n",
    "v = [\"a\",\"e\",\"i\",\"o\",\"u\"]\n",
    "\n",
    "\n",
    "i = 0\n",
    "l = []\n",
    "\n",
    "\n",
    "while i < len(st):\n",
    "    l.append(st[i])            \n",
    "    i += 1\n",
    "\n",
    "\n",
    "for n in set(l):\n",
    "    if n in v:\n",
    "        print(n, \":\", l.count(n))\n"
   ]
  },
  {
   "cell_type": "code",
   "execution_count": 16,
   "id": "92c9c8a1",
   "metadata": {},
   "outputs": [
    {
     "name": "stdout",
     "output_type": "stream",
     "text": [
      "i : 66\n",
      "o : 55\n",
      "u : 27\n",
      "e : 82\n",
      "a : 68\n"
     ]
    }
   ],
   "source": [
    "# Now doing the entire task by spliting the paragraph wordwise\n",
    "\n",
    "st = \"\"\"Python is a high-level, interpreted, general-purpose programming language. Its design philosophy emphasizes code readability with the use of significant indentation.[32]\n",
    "\n",
    "Python is dynamically-typed and garbage-collected. It supports multiple programming paradigms, including structured (particularly procedural), object-oriented and functional programming. It is often described as a \"batteries included\" language due to its comprehensive standard library.[33][34]\n",
    "\n",
    "Guido van Rossum began working on Python in the late 1980s as a successor to the ABC programming language and first released it in 1991 as Python 0.9.0.[35] Python 2.0 was released in 2000 and introduced new features such as list comprehensions, cycle-detecting garbage collection, reference counting, and Unicode support. Python 3.0, released in 2008, was a major revision that is not completely backward-compatible with earlier versions. Python 2 was discontinued with version 2.7.18 in 2020.[36]\n",
    "\n",
    "Python consistently ranks as one of the most popular programming languages.\"\"\"\n",
    "\n",
    "\n",
    "st = st.lower()\n",
    "\n",
    "# here spliting wordwise\n",
    "st = st.split(' ')\n",
    "\n",
    "v = [\"a\",\"e\",\"i\",\"o\",\"u\"]\n",
    "\n",
    "i = 0\n",
    "l = []\n",
    "l1 = []\n",
    "\n",
    "\n",
    "while i < len(st):\n",
    "    l.append(st[i])            \n",
    "    i += 1\n",
    "    \n",
    "for n in l:\n",
    "    for j in str(n):\n",
    "        l1.append(j)\n",
    "\n",
    "for x in set(l1):\n",
    "    if x in v:\n",
    "        print(x, \":\", l1.count(x))"
   ]
  },
  {
   "cell_type": "markdown",
   "id": "60c1770a",
   "metadata": {},
   "source": [
    "##### Q5: Try to generate all the even numbers between 1 - 1000."
   ]
  },
  {
   "cell_type": "code",
   "execution_count": 3,
   "id": "93fc4a85",
   "metadata": {},
   "outputs": [
    {
     "name": "stdout",
     "output_type": "stream",
     "text": [
      "2\n",
      "4\n",
      "6\n",
      "8\n",
      "10\n",
      "12\n",
      "14\n",
      "16\n",
      "18\n",
      "20\n",
      "22\n",
      "24\n",
      "26\n",
      "28\n",
      "30\n",
      "32\n",
      "34\n",
      "36\n",
      "38\n",
      "40\n",
      "42\n",
      "44\n",
      "46\n",
      "48\n",
      "50\n",
      "52\n",
      "54\n",
      "56\n",
      "58\n",
      "60\n",
      "62\n",
      "64\n",
      "66\n",
      "68\n",
      "70\n",
      "72\n",
      "74\n",
      "76\n",
      "78\n",
      "80\n",
      "82\n",
      "84\n",
      "86\n",
      "88\n",
      "90\n",
      "92\n",
      "94\n",
      "96\n",
      "98\n",
      "100\n",
      "102\n",
      "104\n",
      "106\n",
      "108\n",
      "110\n",
      "112\n",
      "114\n",
      "116\n",
      "118\n",
      "120\n",
      "122\n",
      "124\n",
      "126\n",
      "128\n",
      "130\n",
      "132\n",
      "134\n",
      "136\n",
      "138\n",
      "140\n",
      "142\n",
      "144\n",
      "146\n",
      "148\n",
      "150\n",
      "152\n",
      "154\n",
      "156\n",
      "158\n",
      "160\n",
      "162\n",
      "164\n",
      "166\n",
      "168\n",
      "170\n",
      "172\n",
      "174\n",
      "176\n",
      "178\n",
      "180\n",
      "182\n",
      "184\n",
      "186\n",
      "188\n",
      "190\n",
      "192\n",
      "194\n",
      "196\n",
      "198\n",
      "200\n",
      "202\n",
      "204\n",
      "206\n",
      "208\n",
      "210\n",
      "212\n",
      "214\n",
      "216\n",
      "218\n",
      "220\n",
      "222\n",
      "224\n",
      "226\n",
      "228\n",
      "230\n",
      "232\n",
      "234\n",
      "236\n",
      "238\n",
      "240\n",
      "242\n",
      "244\n",
      "246\n",
      "248\n",
      "250\n",
      "252\n",
      "254\n",
      "256\n",
      "258\n",
      "260\n",
      "262\n",
      "264\n",
      "266\n",
      "268\n",
      "270\n",
      "272\n",
      "274\n",
      "276\n",
      "278\n",
      "280\n",
      "282\n",
      "284\n",
      "286\n",
      "288\n",
      "290\n",
      "292\n",
      "294\n",
      "296\n",
      "298\n",
      "300\n",
      "302\n",
      "304\n",
      "306\n",
      "308\n",
      "310\n",
      "312\n",
      "314\n",
      "316\n",
      "318\n",
      "320\n",
      "322\n",
      "324\n",
      "326\n",
      "328\n",
      "330\n",
      "332\n",
      "334\n",
      "336\n",
      "338\n",
      "340\n",
      "342\n",
      "344\n",
      "346\n",
      "348\n",
      "350\n",
      "352\n",
      "354\n",
      "356\n",
      "358\n",
      "360\n",
      "362\n",
      "364\n",
      "366\n",
      "368\n",
      "370\n",
      "372\n",
      "374\n",
      "376\n",
      "378\n",
      "380\n",
      "382\n",
      "384\n",
      "386\n",
      "388\n",
      "390\n",
      "392\n",
      "394\n",
      "396\n",
      "398\n",
      "400\n",
      "402\n",
      "404\n",
      "406\n",
      "408\n",
      "410\n",
      "412\n",
      "414\n",
      "416\n",
      "418\n",
      "420\n",
      "422\n",
      "424\n",
      "426\n",
      "428\n",
      "430\n",
      "432\n",
      "434\n",
      "436\n",
      "438\n",
      "440\n",
      "442\n",
      "444\n",
      "446\n",
      "448\n",
      "450\n",
      "452\n",
      "454\n",
      "456\n",
      "458\n",
      "460\n",
      "462\n",
      "464\n",
      "466\n",
      "468\n",
      "470\n",
      "472\n",
      "474\n",
      "476\n",
      "478\n",
      "480\n",
      "482\n",
      "484\n",
      "486\n",
      "488\n",
      "490\n",
      "492\n",
      "494\n",
      "496\n",
      "498\n",
      "500\n",
      "502\n",
      "504\n",
      "506\n",
      "508\n",
      "510\n",
      "512\n",
      "514\n",
      "516\n",
      "518\n",
      "520\n",
      "522\n",
      "524\n",
      "526\n",
      "528\n",
      "530\n",
      "532\n",
      "534\n",
      "536\n",
      "538\n",
      "540\n",
      "542\n",
      "544\n",
      "546\n",
      "548\n",
      "550\n",
      "552\n",
      "554\n",
      "556\n",
      "558\n",
      "560\n",
      "562\n",
      "564\n",
      "566\n",
      "568\n",
      "570\n",
      "572\n",
      "574\n",
      "576\n",
      "578\n",
      "580\n",
      "582\n",
      "584\n",
      "586\n",
      "588\n",
      "590\n",
      "592\n",
      "594\n",
      "596\n",
      "598\n",
      "600\n",
      "602\n",
      "604\n",
      "606\n",
      "608\n",
      "610\n",
      "612\n",
      "614\n",
      "616\n",
      "618\n",
      "620\n",
      "622\n",
      "624\n",
      "626\n",
      "628\n",
      "630\n",
      "632\n",
      "634\n",
      "636\n",
      "638\n",
      "640\n",
      "642\n",
      "644\n",
      "646\n",
      "648\n",
      "650\n",
      "652\n",
      "654\n",
      "656\n",
      "658\n",
      "660\n",
      "662\n",
      "664\n",
      "666\n",
      "668\n",
      "670\n",
      "672\n",
      "674\n",
      "676\n",
      "678\n",
      "680\n",
      "682\n",
      "684\n",
      "686\n",
      "688\n",
      "690\n",
      "692\n",
      "694\n",
      "696\n",
      "698\n",
      "700\n",
      "702\n",
      "704\n",
      "706\n",
      "708\n",
      "710\n",
      "712\n",
      "714\n",
      "716\n",
      "718\n",
      "720\n",
      "722\n",
      "724\n",
      "726\n",
      "728\n",
      "730\n",
      "732\n",
      "734\n",
      "736\n",
      "738\n",
      "740\n",
      "742\n",
      "744\n",
      "746\n",
      "748\n",
      "750\n",
      "752\n",
      "754\n",
      "756\n",
      "758\n",
      "760\n",
      "762\n",
      "764\n",
      "766\n",
      "768\n",
      "770\n",
      "772\n",
      "774\n",
      "776\n",
      "778\n",
      "780\n",
      "782\n",
      "784\n",
      "786\n",
      "788\n",
      "790\n",
      "792\n",
      "794\n",
      "796\n",
      "798\n",
      "800\n",
      "802\n",
      "804\n",
      "806\n",
      "808\n",
      "810\n",
      "812\n",
      "814\n",
      "816\n",
      "818\n",
      "820\n",
      "822\n",
      "824\n",
      "826\n",
      "828\n",
      "830\n",
      "832\n",
      "834\n",
      "836\n",
      "838\n",
      "840\n",
      "842\n",
      "844\n",
      "846\n",
      "848\n",
      "850\n",
      "852\n",
      "854\n",
      "856\n",
      "858\n",
      "860\n",
      "862\n",
      "864\n",
      "866\n",
      "868\n",
      "870\n",
      "872\n",
      "874\n",
      "876\n",
      "878\n",
      "880\n",
      "882\n",
      "884\n",
      "886\n",
      "888\n",
      "890\n",
      "892\n",
      "894\n",
      "896\n",
      "898\n",
      "900\n",
      "902\n",
      "904\n",
      "906\n",
      "908\n",
      "910\n",
      "912\n",
      "914\n",
      "916\n",
      "918\n",
      "920\n",
      "922\n",
      "924\n",
      "926\n",
      "928\n",
      "930\n",
      "932\n",
      "934\n",
      "936\n",
      "938\n",
      "940\n",
      "942\n",
      "944\n",
      "946\n",
      "948\n",
      "950\n",
      "952\n",
      "954\n",
      "956\n",
      "958\n",
      "960\n",
      "962\n",
      "964\n",
      "966\n",
      "968\n",
      "970\n",
      "972\n",
      "974\n",
      "976\n",
      "978\n",
      "980\n",
      "982\n",
      "984\n",
      "986\n",
      "988\n",
      "990\n",
      "992\n",
      "994\n",
      "996\n",
      "998\n",
      "1000\n"
     ]
    }
   ],
   "source": [
    "n = 1\n",
    "\n",
    "while n <= 1000:\n",
    "    if n % 2 == 0:\n",
    "        print(n)\n",
    "    n += 1"
   ]
  },
  {
   "cell_type": "markdown",
   "id": "854ceefd",
   "metadata": {},
   "source": [
    "##### Q6: Define a function for all the above problem statement."
   ]
  },
  {
   "cell_type": "code",
   "execution_count": null,
   "id": "c3c60763",
   "metadata": {},
   "outputs": [],
   "source": []
  },
  {
   "cell_type": "markdown",
   "id": "abf65927",
   "metadata": {},
   "source": [
    "##### Q7: Write a code to get a time of your system."
   ]
  },
  {
   "cell_type": "code",
   "execution_count": 4,
   "id": "bb11b262",
   "metadata": {},
   "outputs": [
    {
     "name": "stdout",
     "output_type": "stream",
     "text": [
      "Current Time : 06:35:50 PM\n"
     ]
    }
   ],
   "source": [
    "from datetime import datetime\n",
    "\n",
    "now = datetime.now()\n",
    "\n",
    "current_time = now.strftime(\"%I:%M:%S %p\")\n",
    "print(\"Current Time :\", current_time)"
   ]
  },
  {
   "cell_type": "markdown",
   "id": "0d8efb87",
   "metadata": {},
   "source": [
    "##### Q8: Write a code to fetch date from your system."
   ]
  },
  {
   "cell_type": "code",
   "execution_count": 5,
   "id": "09c33ad1",
   "metadata": {},
   "outputs": [
    {
     "name": "stdout",
     "output_type": "stream",
     "text": [
      "Current Date: 30 May, 2022\n"
     ]
    }
   ],
   "source": [
    "\n",
    "from datetime import datetime\n",
    "\n",
    "now = datetime.now() # current date and time\n",
    "\n",
    "curr_date = now.strftime(\"%d %B, %Y\")\n",
    "print(\"Current Date:\", curr_date)"
   ]
  },
  {
   "cell_type": "markdown",
   "id": "3fe05f61",
   "metadata": {},
   "source": [
    "##### Q9: Write a code to send a mail to your friend."
   ]
  },
  {
   "cell_type": "code",
   "execution_count": null,
   "id": "448f94c6",
   "metadata": {},
   "outputs": [],
   "source": []
  },
  {
   "cell_type": "markdown",
   "id": "597e3803",
   "metadata": {},
   "source": [
    "##### Q10: Write a code to trigger an alarm for a scheduled time."
   ]
  },
  {
   "cell_type": "code",
   "execution_count": 12,
   "id": "59be965b",
   "metadata": {},
   "outputs": [
    {
     "name": "stdout",
     "output_type": "stream",
     "text": [
      "Enter the time of alarm in 12 Hr format to be set:HH:MM:SS\n",
      "06:30:00\n",
      "\n",
      " Current Time:  06 : 28 : 22\n",
      "\n",
      " Setting up alarm..\n",
      "\n",
      " Current Time:  06 : 30 : 00\n",
      "\n",
      " Wake Up!\n"
     ]
    }
   ],
   "source": [
    "from datetime import datetime   \n",
    "\n",
    "alarm_time = input(\"Enter the time of alarm in 12 Hr format to be set:HH:MM:SS\\n\")\n",
    "alarm_hour=alarm_time[0:2]\n",
    "alarm_minute=alarm_time[3:5]\n",
    "alarm_seconds=alarm_time[6:8]\n",
    "\n",
    "now = datetime.now()\n",
    "current_hour = now.strftime(\"%I\")\n",
    "current_minute = now.strftime(\"%M\")\n",
    "current_seconds = now.strftime(\"%S\")\n",
    "\n",
    "print(\"\\n Current Time: \", current_hour,\":\",current_minute,\":\",current_seconds)\n",
    "\n",
    "print(\"\\n Setting up alarm..\")\n",
    "\n",
    "while True:\n",
    "    now = datetime.now()\n",
    "    current_hour = now.strftime(\"%I\")\n",
    "    current_minute = now.strftime(\"%M\")\n",
    "    current_seconds = now.strftime(\"%S\")\n",
    "\n",
    "\n",
    "\n",
    "    if(alarm_hour==current_hour):\n",
    "        if(alarm_minute==current_minute):\n",
    "            if(alarm_seconds==current_seconds):\n",
    "                print(\"\\n Current Time: \", current_hour,\":\",current_minute,\":\",current_seconds)\n",
    "                print(\"\\n Wake Up!\")\n",
    "                break"
   ]
  },
  {
   "cell_type": "markdown",
   "id": "97cc3f3d",
   "metadata": {},
   "source": [
    "##### Q11: Write a code to check ip address of your system."
   ]
  },
  {
   "cell_type": "code",
   "execution_count": 27,
   "id": "9376ad74",
   "metadata": {},
   "outputs": [
    {
     "name": "stdout",
     "output_type": "stream",
     "text": [
      "Your Computer Name is:DESKTOP-B56MR97\n",
      "Your Computer IP Address is:192.168.56.1\n"
     ]
    }
   ],
   "source": [
    "# import modules\n",
    "import socket  \n",
    "\n",
    "hostname = socket.gethostname()   \n",
    "IPAddr = socket.gethostbyname(hostname)   \n",
    "print(\"Your Computer Name is:\" + hostname)   \n",
    "print(\"Your Computer IP Address is:\" + IPAddr) "
   ]
  },
  {
   "cell_type": "markdown",
   "id": "8d6ec5ee",
   "metadata": {},
   "source": [
    "##### Q12: Write a code to check a particular installation in your system."
   ]
  },
  {
   "cell_type": "code",
   "execution_count": 17,
   "id": "e8b5c9ac",
   "metadata": {},
   "outputs": [
    {
     "name": "stdout",
     "output_type": "stream",
     "text": [
      "InstalledApplication(name='Notepad++ (64-bit x64)', version='7.8.8', install_date=None, install_location=None, install_source=None, modify_path=None, publisher='Notepad++ Team', uninstall_string='C:\\\\Program Files\\\\Notepad++\\\\uninstall.exe')\n"
     ]
    }
   ],
   "source": [
    "# import modules\n",
    "import winapps\n",
    "\n",
    "for item in winapps.search_installed('notepad'):\n",
    "    print(item)"
   ]
  },
  {
   "cell_type": "markdown",
   "id": "322db5df",
   "metadata": {},
   "source": [
    "##### Q13: Write a code to convert any text into voice."
   ]
  },
  {
   "cell_type": "code",
   "execution_count": 21,
   "id": "b22e2182",
   "metadata": {},
   "outputs": [
    {
     "name": "stdout",
     "output_type": "stream",
     "text": [
      "Please enter your name: Arunava\n"
     ]
    },
    {
     "data": {
      "text/html": [
       "\n",
       "                <audio  controls=\"controls\" >\n",
       "                    <source src=\"data:audio/mpeg;base64,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\" type=\"audio/mpeg\" />\n",
       "                    Your browser does not support the audio element.\n",
       "                </audio>\n",
       "              "
      ],
      "text/plain": [
       "<IPython.lib.display.Audio object>"
      ]
     },
     "execution_count": 21,
     "metadata": {},
     "output_type": "execute_result"
    }
   ],
   "source": [
    "# Import the required module for text to speech conversion\n",
    "from gtts import gTTS\n",
    "  \n",
    "# This module is imported so that we can play the converted audio\n",
    "import IPython\n",
    "\n",
    "# Enter the name to be greeted\n",
    "name = input(\"Please enter your name: \")\n",
    "    \n",
    "# The text that you want to convert to audio\n",
    "mytext = 'Hello ' + name + ',welcome to python learning class'\n",
    "  \n",
    "# Language in which you want to convert\n",
    "language = 'en'\n",
    "  \n",
    "# Passing the text and language to the engine, here we have marked slow=False. \n",
    "# Which tells the module that the converted audio should have a high speed\n",
    "myobj = gTTS(text=mytext, lang=language, slow=False)\n",
    "  \n",
    "# Saving the converted audio in a mp3 file named 'welcome.mp3' \n",
    "myobj.save(\"welcome.mp3\")\n",
    "  \n",
    "# Playing the converted file\n",
    "IPython.display.Audio(\"welcome.mp3\")"
   ]
  },
  {
   "cell_type": "markdown",
   "id": "59d26e2a",
   "metadata": {},
   "source": [
    "##### Q14: Write a function which will take string and return the length of it without uing the len()."
   ]
  },
  {
   "cell_type": "code",
   "execution_count": 17,
   "id": "68977e0b",
   "metadata": {},
   "outputs": [
    {
     "name": "stdout",
     "output_type": "stream",
     "text": [
      "Enter a string: Hello, my name is Arunava Biswas.\n",
      "Length of the input string is: 33\n"
     ]
    }
   ],
   "source": [
    "\n",
    "def find_length_str(string):\n",
    "    counter = 0\n",
    "    for s in string:\n",
    "      counter = counter + 1\n",
    "    return counter\n",
    "\n",
    "\n",
    "st = input(\"Enter a string: \")\n",
    "count = find_length_str(st)\n",
    "\n",
    "print(\"Length of the input string is:\", count)"
   ]
  },
  {
   "cell_type": "markdown",
   "id": "8fbb0c97",
   "metadata": {},
   "source": [
    "##### Q15: Write a function which will be able to print an index of all primitive element which will be passed to it."
   ]
  },
  {
   "cell_type": "code",
   "execution_count": 5,
   "id": "b3edd601",
   "metadata": {},
   "outputs": [
    {
     "data": {
      "text/plain": [
       "[1,\n",
       " 2,\n",
       " 3,\n",
       " (3, 4, 5, 6),\n",
       " True,\n",
       " 45.7,\n",
       " {'key': 'value'},\n",
       " 67345.456,\n",
       " 'a',\n",
       " True,\n",
       " 'Arunava',\n",
       " 'v',\n",
       " '2345',\n",
       " [1, 2, 3, 4],\n",
       " False,\n",
       " 4567]"
      ]
     },
     "execution_count": 5,
     "metadata": {},
     "output_type": "execute_result"
    }
   ],
   "source": [
    "lst = [1, 2, 3, (3, 4, 5, 6), True, 45.7, {'key' : \"value\"}, 67345.456, 'a', True, \"Arunava\", 'v', '2345', [1,2,3,4], False, 4567]\n",
    "lst"
   ]
  },
  {
   "cell_type": "code",
   "execution_count": 6,
   "id": "0cfb091f",
   "metadata": {},
   "outputs": [
    {
     "name": "stdout",
     "output_type": "stream",
     "text": [
      "0 1\n",
      "1 2\n",
      "2 3\n",
      "3 (3, 4, 5, 6)\n",
      "0 True\n",
      "5 45.7\n",
      "6 {'key': 'value'}\n",
      "7 67345.456\n",
      "8 a\n",
      "0 True\n",
      "10 Arunava\n",
      "11 v\n",
      "12 2345\n",
      "13 [1, 2, 3, 4]\n",
      "14 False\n",
      "15 4567\n"
     ]
    }
   ],
   "source": [
    "## To know the index of all the elements in the list irrespective of their types\n",
    "\n",
    "for i in lst:\n",
    "    print(lst.index(i), i)"
   ]
  },
  {
   "cell_type": "code",
   "execution_count": 8,
   "id": "1bba0f5c",
   "metadata": {},
   "outputs": [
    {
     "name": "stdout",
     "output_type": "stream",
     "text": [
      "List of indexes of primitive data types:\n"
     ]
    },
    {
     "data": {
      "text/plain": [
       "[0, 1, 2, 4, 5, 7, 8, 9, 10, 11, 12, 14, 15]"
      ]
     },
     "execution_count": 8,
     "metadata": {},
     "output_type": "execute_result"
    }
   ],
   "source": [
    "# Now finding the index of primitive elements\n",
    "\n",
    "l = []\n",
    "\n",
    "def prim(k):\n",
    "    for i in k:\n",
    "        if type(i) == int or type(i) == float:\n",
    "            l.append(k.index(i))\n",
    "        if type(i) == str:\n",
    "            l.append(k.index(i))\n",
    "        if type(i) == bool: \n",
    "            x = [k for k, val in enumerate(lst) if val == True or val == False]\n",
    "    for n in set(x):\n",
    "        l.append(n)\n",
    "    s = set(l)\n",
    "    \n",
    "    return list(s)\n",
    "\n",
    "l1 = prim(lst)\n",
    "print(\"List of indexes of primitive data types:\")\n",
    "l1"
   ]
  },
  {
   "cell_type": "markdown",
   "id": "16afa086",
   "metadata": {},
   "source": [
    "##### Q16: Write a function which will take input as a dictionary and return a list of all the values even in case of 2 level nesting it should work."
   ]
  },
  {
   "cell_type": "code",
   "execution_count": 18,
   "id": "c178a177",
   "metadata": {},
   "outputs": [
    {
     "data": {
      "text/plain": [
       "{4: 5,\n",
       " 'key1': 'sudh',\n",
       " 'key2': 'kumar',\n",
       " 'key3': {7: 8,\n",
       "  'nest_key1': 'nest_value1',\n",
       "  'nest_key2': {'d_n_key1': 'd_n_value1'}}}"
      ]
     },
     "execution_count": 18,
     "metadata": {},
     "output_type": "execute_result"
    }
   ],
   "source": [
    "d = {4:5, 'key1' : 'sudh', 'key2': \"kumar\", 'key3' : {7:8, 'nest_key1': \"nest_value1\", 'nest_key2' : {'d_n_key1': \"d_n_value1\"}}}\n",
    "\n",
    "d"
   ]
  },
  {
   "cell_type": "code",
   "execution_count": 3,
   "id": "f7e045c1",
   "metadata": {},
   "outputs": [
    {
     "data": {
      "text/plain": [
       "[4,\n",
       " 5,\n",
       " 'key1',\n",
       " 'sudh',\n",
       " 'key2',\n",
       " 'kumar',\n",
       " 'key3',\n",
       " 7,\n",
       " 8,\n",
       " 'nest_key1',\n",
       " 'nest_value1',\n",
       " 'nest_key2',\n",
       " 'd_n_key1',\n",
       " 'd_n_value1']"
      ]
     },
     "execution_count": 3,
     "metadata": {},
     "output_type": "execute_result"
    }
   ],
   "source": [
    "l = []\n",
    "\n",
    "def d_to_l(*args):\n",
    "    for i in args:\n",
    "        if type(i) == dict:\n",
    "            for k,v in i.items():\n",
    "                l.append(k)\n",
    "                if type(v) != dict:\n",
    "                    l.append(v)\n",
    "                if type(v) == dict:\n",
    "                    for m,n in v.items():\n",
    "                        l.append(m)\n",
    "                        if type(n) != dict:\n",
    "                            l.append(n)\n",
    "                        if type(n) == dict:\n",
    "                            for a,b in n.items():\n",
    "                                l.append(a)\n",
    "                                l.append(b)\n",
    "\n",
    "                        \n",
    "                       \n",
    "    return l\n",
    "\n",
    "final_list = d_to_l(d)\n",
    "final_list"
   ]
  },
  {
   "cell_type": "code",
   "execution_count": 20,
   "id": "8f9d57b1",
   "metadata": {},
   "outputs": [
    {
     "data": {
      "text/plain": [
       "[5, 'sudh', 'kumar', 8, 'nest_value1', 'd_n_value1']"
      ]
     },
     "execution_count": 20,
     "metadata": {},
     "output_type": "execute_result"
    }
   ],
   "source": [
    "# To get list of only the values of the dictionary\n",
    "\n",
    "l = []\n",
    "\n",
    "def d_to_l(*args):\n",
    "    for i in args:\n",
    "        if type(i) == dict:\n",
    "            for k,v in i.items():\n",
    "                if type(v) != dict:\n",
    "                    l.append(v)\n",
    "                if type(v) == dict:\n",
    "                    for m,n in v.items():\n",
    "                        if type(n) != dict:\n",
    "                            l.append(n)\n",
    "                        if type(n) == dict:\n",
    "                            for a,b in n.items():\n",
    "                                l.append(b)\n",
    "\n",
    "                        \n",
    "                       \n",
    "    return l\n",
    "\n",
    "final_list = d_to_l(d)\n",
    "final_list"
   ]
  },
  {
   "cell_type": "markdown",
   "id": "448deb4d",
   "metadata": {},
   "source": [
    "##### Q17: Write a function which will take multiple list as inputs and give me concatanation of all the elements as an output."
   ]
  },
  {
   "cell_type": "code",
   "execution_count": 4,
   "id": "d8a88451",
   "metadata": {},
   "outputs": [
    {
     "data": {
      "text/plain": [
       "[3,\n",
       " 5,\n",
       " 67.5,\n",
       " 'Arunava',\n",
       " {'key1': 'value1', 'key2': 'value2', 'key3': 'value3', 'key4': 'value4'},\n",
       " (34, 45, 56, 78, 65),\n",
       " {1, 2, 3, 4, 5, 6, 7},\n",
       " 34,\n",
       " 45,\n",
       " 56,\n",
       " 78,\n",
       " 65,\n",
       " 1,\n",
       " 2,\n",
       " 3,\n",
       " 4,\n",
       " 4,\n",
       " 5,\n",
       " 6,\n",
       " 7,\n",
       " 7,\n",
       " 'arunava',\n",
       " 'ineuron',\n",
       " 'challenge1',\n",
       " 'loops']"
      ]
     },
     "execution_count": 4,
     "metadata": {},
     "output_type": "execute_result"
    }
   ],
   "source": [
    "l1 = [3, 5, 67.5, \"Arunava\", {'key1': \"value1\", 'key2': \"value2\", 'key3': \"value3\", 'key4': \"value4\",}]\n",
    "l2 = [(34, 45, 56, 78, 65), {1, 2, 3, 4, 4, 5, 6, 7, 7}]\n",
    "l3 = [34, 45, 56, 78, 65, 1, 2, 3, 4, 4, 5, 6, 7, 7]\n",
    "l4 = [\"arunava\", \"ineuron\", \"challenge1\", \"loops\"]\n",
    "\n",
    "l = []\n",
    "\n",
    "def con_lst(*args):\n",
    "    for arg in args:\n",
    "        l.extend(arg)\n",
    "    return l\n",
    "        \n",
    "\n",
    "con_lst(l1,l2,l3,l4)"
   ]
  },
  {
   "cell_type": "markdown",
   "id": "8e93707a",
   "metadata": {},
   "source": [
    "##### Q18: Write a function which would return list of all the file name from a directory."
   ]
  },
  {
   "cell_type": "code",
   "execution_count": 21,
   "id": "849a796d",
   "metadata": {},
   "outputs": [
    {
     "data": {
      "text/plain": [
       "'F:\\\\Machine Learning\\\\INeuron_FSDS\\\\Live Classes\\\\Class work'"
      ]
     },
     "execution_count": 21,
     "metadata": {},
     "output_type": "execute_result"
    }
   ],
   "source": [
    "# creating directory path\n",
    "d_path = os.getcwd()\n",
    "d_path"
   ]
  },
  {
   "cell_type": "code",
   "execution_count": 23,
   "id": "f3fdfeec",
   "metadata": {},
   "outputs": [
    {
     "data": {
      "text/plain": [
       "['1st Challenge.ipynb',\n",
       " 'textfile.txt',\n",
       " 'Week 1 Python Class challenge.ipynb',\n",
       " 'Week 3 Python Class Challenge.ipynb',\n",
       " 'welcome.mp3']"
      ]
     },
     "execution_count": 23,
     "metadata": {},
     "output_type": "execute_result"
    }
   ],
   "source": [
    "import os\n",
    "\n",
    "l = []\n",
    "\n",
    "def l_file(d_path):\n",
    "    for path in os.listdir(d_path):\n",
    "    # check if current path is a file\n",
    "        if os.path.isfile(os.path.join(d_path, path)):\n",
    "            l.append(path)\n",
    "    return l\n",
    "\n",
    "list_file = l_file('F:\\\\Machine Learning\\\\INeuron_FSDS\\\\Live Classes\\\\Class work')\n",
    "list_file"
   ]
  },
  {
   "cell_type": "markdown",
   "id": "d661e7a1",
   "metadata": {},
   "source": [
    "##### Q19: Write a function which will be able to read an image file and show it to you."
   ]
  },
  {
   "cell_type": "code",
   "execution_count": null,
   "id": "55cab188",
   "metadata": {},
   "outputs": [],
   "source": []
  },
  {
   "cell_type": "markdown",
   "id": "98973e38",
   "metadata": {},
   "source": [
    "##### Q20: Write a function by which you will be able to append two PDF files."
   ]
  },
  {
   "cell_type": "code",
   "execution_count": 24,
   "id": "4f3ca96f",
   "metadata": {},
   "outputs": [
    {
     "data": {
      "text/plain": [
       "'F:\\\\Machine Learning\\\\INeuron_FSDS\\\\Live Classes\\\\Class work'"
      ]
     },
     "execution_count": 24,
     "metadata": {},
     "output_type": "execute_result"
    }
   ],
   "source": [
    "# creating directory path\n",
    "d_path = os.getcwd()\n",
    "d_path"
   ]
  },
  {
   "cell_type": "code",
   "execution_count": 25,
   "id": "b0c71af8",
   "metadata": {},
   "outputs": [
    {
     "data": {
      "text/plain": [
       "[]"
      ]
     },
     "execution_count": 25,
     "metadata": {},
     "output_type": "execute_result"
    }
   ],
   "source": [
    "import os\n",
    "\n",
    "l = []\n",
    "def p_append(d_path):\n",
    "    for file in os.listdir(d_path):\n",
    "        if file.endswith('.pdf'):\n",
    "            l.append(file)\n",
    "    return l\n",
    "\n",
    "pdf_file = p_append('F:\\\\Machine Learning\\\\INeuron_FSDS\\\\Live Classes\\\\Class work')\n",
    "pdf_file"
   ]
  },
  {
   "cell_type": "markdown",
   "id": "13984b25",
   "metadata": {},
   "source": [
    "##### Q21: Write a function which can help you to filter only word file from a directory."
   ]
  },
  {
   "cell_type": "code",
   "execution_count": 17,
   "id": "528ce207",
   "metadata": {},
   "outputs": [
    {
     "data": {
      "text/plain": [
       "'F:\\\\Machine Learning\\\\INeuron_FSDS\\\\Live Classes\\\\Class work'"
      ]
     },
     "execution_count": 17,
     "metadata": {},
     "output_type": "execute_result"
    }
   ],
   "source": [
    "# creating directory path\n",
    "d_path = os.getcwd()\n",
    "d_path"
   ]
  },
  {
   "cell_type": "code",
   "execution_count": 19,
   "id": "bcc9216c",
   "metadata": {},
   "outputs": [
    {
     "data": {
      "text/plain": [
       "['textfile.txt']"
      ]
     },
     "execution_count": 19,
     "metadata": {},
     "output_type": "execute_result"
    }
   ],
   "source": [
    "import os\n",
    "\n",
    "\n",
    "l = []\n",
    "def txt_file(d_path):\n",
    "    for path in os.listdir(d_path):\n",
    "        if path.endswith('.txt'):\n",
    "            l.append(path)\n",
    "    return l\n",
    "\n",
    "file_name = txt_file('F:\\\\Machine Learning\\\\INeuron_FSDS\\\\Live Classes\\\\Class work')\n",
    "file_name"
   ]
  },
  {
   "cell_type": "markdown",
   "id": "c53df8ba",
   "metadata": {},
   "source": [
    "##### Q22: Write a function which can read video file and play for you. "
   ]
  },
  {
   "cell_type": "code",
   "execution_count": null,
   "id": "a8b77a02",
   "metadata": {},
   "outputs": [],
   "source": []
  },
  {
   "cell_type": "markdown",
   "id": "cd4b1fb5",
   "metadata": {},
   "source": [
    "##### Q23: Write a function which will be able to shutdown your system."
   ]
  },
  {
   "cell_type": "code",
   "execution_count": null,
   "id": "11d9b362",
   "metadata": {},
   "outputs": [],
   "source": []
  },
  {
   "cell_type": "markdown",
   "id": "5a27f8be",
   "metadata": {},
   "source": [
    "##### Q24: Write a function which would return list of all the file name from a directory."
   ]
  },
  {
   "cell_type": "code",
   "execution_count": 15,
   "id": "e45402e2",
   "metadata": {},
   "outputs": [
    {
     "data": {
      "text/plain": [
       "['.ipynb_checkpoints',\n",
       " '1st Challenge.ipynb',\n",
       " 'textfile.txt',\n",
       " 'Week 1 Python Class challenge.ipynb',\n",
       " 'Week 3 Python Class Challenge.ipynb',\n",
       " 'welcome.mp3']"
      ]
     },
     "execution_count": 15,
     "metadata": {},
     "output_type": "execute_result"
    }
   ],
   "source": [
    "import os\n",
    "\n",
    "arr = os.listdir(os.getcwd())\n",
    "arr"
   ]
  },
  {
   "cell_type": "markdown",
   "id": "479e224a",
   "metadata": {},
   "source": [
    "##### Q25: Write a function which will be able to access your mail."
   ]
  },
  {
   "cell_type": "code",
   "execution_count": null,
   "id": "00ef1b10",
   "metadata": {},
   "outputs": [],
   "source": []
  }
 ],
 "metadata": {
  "kernelspec": {
   "display_name": "Python 3 (ipykernel)",
   "language": "python",
   "name": "python3"
  },
  "language_info": {
   "codemirror_mode": {
    "name": "ipython",
    "version": 3
   },
   "file_extension": ".py",
   "mimetype": "text/x-python",
   "name": "python",
   "nbconvert_exporter": "python",
   "pygments_lexer": "ipython3",
   "version": "3.9.7"
  }
 },
 "nbformat": 4,
 "nbformat_minor": 5
}
