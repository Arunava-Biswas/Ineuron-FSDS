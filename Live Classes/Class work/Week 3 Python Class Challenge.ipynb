{
 "cells": [
  {
   "cell_type": "raw",
   "id": "7e7a49a9",
   "metadata": {},
   "source": [
    "Q1 : print this:\n",
    "ineuron\n",
    "ineuron ineuron\n",
    "ineuron ineuron ineuron\n",
    "ineuron ineuron ineuron ineuron\n",
    "\n",
    "Q2: print this:\n",
    "          ineuron\n",
    "    ineuron     ineuron\n",
    "ineuron    ineuron    ineuron\n",
    "    ineuron     ineuron\n",
    "          ineuron\n",
    "\"\"\"   \n",
    "l = [[1,2,3,4] , (2,3,4,5,6) , (3,4,5,6,7) , set([23,4,5,45,4,4,5,45,45,4,5]) , \n",
    "     {'k1' : \"sudh\", 'k2' : \"ineuron\", 'k3' : \"kumar\", 3:6, 7:8} , ['ineuron', 'data science']]\n",
    "\"\"\"\n",
    "Q3: Try to extract all the list entity\n",
    "Q4: Try to extract all the dictionary entity\n",
    "Q5: Try to extract all the tuples entity\n",
    "Q6: Try to extract all the numeric data which may be part of dict key and values\n",
    "Q7: Try to give summation of all the numeric data.\n",
    "Q8: Try to filter out all the odd values out of all numeric data which is a part of a list\n",
    "Q9: Try to extract \"ineuron\" out of the data\n",
    "Q10: Try to find out a number of occurences of all the data\n",
    "Q11: Try to find out number of keys in dict element\n",
    "Q12: Try to filter out all the string data\n",
    "Q13: Try to find out alphanum in data\n",
    "Q14: Try to find out multiplication of all numeric values in the individual collection inside dataset\n",
    "Q15: Try to unwrap all the collection inside collection and create a flat list"
   ]
  },
  {
   "cell_type": "code",
   "execution_count": 1,
   "id": "202cbafe",
   "metadata": {},
   "outputs": [
    {
     "name": "stdout",
     "output_type": "stream",
     "text": [
      "ineuron \n",
      "ineuron ineuron \n",
      "ineuron ineuron ineuron \n",
      "ineuron ineuron ineuron ineuron \n"
     ]
    }
   ],
   "source": [
    "# Q1: print this:\n",
    "# ineuron\n",
    "# ineuron ineuron\n",
    "# ineuron ineuron ineuron\n",
    "# ineuron ineuron ineuron ineuron\n",
    "\n",
    "for i in range(4):\n",
    "    for j in range(i+1):\n",
    "        print(\"ineuron\", end=\" \")\n",
    "    print()"
   ]
  },
  {
   "cell_type": "code",
   "execution_count": 2,
   "id": "59342467",
   "metadata": {},
   "outputs": [
    {
     "name": "stdout",
     "output_type": "stream",
     "text": [
      "                ineuron \n",
      "        ineuron         ineuron \n",
      "ineuron         ineuron         ineuron \n",
      "        ineuron         ineuron \n",
      "                ineuron \n",
      "                        \n"
     ]
    }
   ],
   "source": [
    "# Q2: print this:\n",
    "\n",
    "#           ineuron\n",
    "#     ineuron     ineuron\n",
    "# ineuron    ineuron    ineuron\n",
    "#     ineuron     ineuron\n",
    "#           ineuron\n",
    "\n",
    "\n",
    "\n",
    "n = 3\n",
    "\n",
    "# upper triangle\n",
    "for i in range(n):\n",
    "    for j in range(i, n-1):\n",
    "        print(\" \" * len(\"ineuron\"), end=\" \")\n",
    "    for j in range(i+1):\n",
    "        if j == 0:\n",
    "            print(\"ineuron\", end=\" \")\n",
    "        elif j == 2:\n",
    "            print(\"ineuron\", end=\" \")\n",
    "        else:\n",
    "            print(\" \" * len(\"ineuron\"), end=\" \")\n",
    "    for j in range(i):\n",
    "        if i == 1:\n",
    "            if j == 0:\n",
    "                print(\"ineuron\", end=\" \")\n",
    "            elif j == 2:\n",
    "                print(\"ineuron\", end=\" \")\n",
    "            else:\n",
    "                print(\" \" * len(\"ineuron\"), end=\" \")\n",
    "        elif i == 2:\n",
    "            if j == 0:\n",
    "                print(\" \" * len(\"ineuron\"), end=\" \")\n",
    "            elif j == 2:\n",
    "                print(\" \" * len(\"ineuron\"), end=\" \")\n",
    "            else:\n",
    "                print(\"ineuron\", end=\" \")\n",
    "        else:\n",
    "            print(\"ineuron\", end=\" \")\n",
    "    print()\n",
    "\n",
    "#  lower triangle\n",
    "for i in range(n-1, -1, -1):\n",
    "    for j in range(i, n):\n",
    "        print(\" \" * len(\"ineuron\"), end=\" \")\n",
    "    for j in range(i-1):\n",
    "        print(\"ineuron\", end=\" \")\n",
    "    for j in range(i):\n",
    "        if i == 2:\n",
    "            if j == 0:\n",
    "                print(\" \" * len(\"ineuron\"), end=\" \")\n",
    "            else:\n",
    "                print(\"ineuron\", end=\" \")\n",
    "        elif i == 1:\n",
    "            if j == 0:\n",
    "                print(\"ineuron\", end=\" \")\n",
    "            else:\n",
    "                print(\" \" * len(\"ineuron\"), end=\" \")\n",
    "        else:\n",
    "            print(\"\")\n",
    "    print()"
   ]
  },
  {
   "cell_type": "code",
   "execution_count": 3,
   "id": "adcea9fd",
   "metadata": {},
   "outputs": [],
   "source": [
    "l = [[1,2,3,4] , (2,3,4,5,6) , (3,4,5,6,7) , set([23,4,5,45,4,4,5,45,45,4,5]) , \n",
    "     {'k1' : \"sudh\", 'k2' : \"ineuron\", 'k3' : \"kumar\", 3:6, 7:8} , ['ineuron', 'data science']]"
   ]
  },
  {
   "cell_type": "code",
   "execution_count": 4,
   "id": "2cd184b1",
   "metadata": {},
   "outputs": [
    {
     "name": "stdout",
     "output_type": "stream",
     "text": [
      "[1, 2, 3, 4]\n",
      "['ineuron', 'data science']\n"
     ]
    }
   ],
   "source": [
    "# Q3: Try to extract all the list entity\n",
    "\n",
    "for i in l:\n",
    "    if type(i) == list:\n",
    "        print(i)"
   ]
  },
  {
   "cell_type": "code",
   "execution_count": 5,
   "id": "0a126512",
   "metadata": {},
   "outputs": [
    {
     "name": "stdout",
     "output_type": "stream",
     "text": [
      "{'k1': 'sudh', 'k2': 'ineuron', 'k3': 'kumar', 3: 6, 7: 8}\n"
     ]
    }
   ],
   "source": [
    "# Q4: Try to extract all the dictionary entity\n",
    "\n",
    "for i in l:\n",
    "    if type(i) == dict:\n",
    "        print(i)"
   ]
  },
  {
   "cell_type": "code",
   "execution_count": 6,
   "id": "12bf31c7",
   "metadata": {},
   "outputs": [
    {
     "name": "stdout",
     "output_type": "stream",
     "text": [
      "(2, 3, 4, 5, 6)\n",
      "(3, 4, 5, 6, 7)\n"
     ]
    }
   ],
   "source": [
    "# Q5: Try to extract all the tuples entity\n",
    "\n",
    "for i in l:\n",
    "    if type(i) == tuple:\n",
    "        print(i)"
   ]
  },
  {
   "cell_type": "code",
   "execution_count": 7,
   "id": "e4be0213",
   "metadata": {},
   "outputs": [
    {
     "name": "stdout",
     "output_type": "stream",
     "text": [
      "3 6\n",
      "7 8\n"
     ]
    }
   ],
   "source": [
    "# Q6: Try to extract all the numeric data which may be part of dict key and values\n",
    "\n",
    "for i in l:\n",
    "    if type(i) == dict:\n",
    "        for k,v in i.items():\n",
    "            if type(k) == int or type(v) == int:\n",
    "                print(k,v)"
   ]
  },
  {
   "cell_type": "code",
   "execution_count": 8,
   "id": "ecb8c729",
   "metadata": {},
   "outputs": [
    {
     "name": "stdout",
     "output_type": "stream",
     "text": [
      "156\n"
     ]
    }
   ],
   "source": [
    "# Q7: Try to give summation of all the numeric data.\n",
    "\n",
    "sum = 0\n",
    "for i in l:\n",
    "    if type(i) == list or type(i) == tuple or type(i) == set:\n",
    "        for j in i:\n",
    "            if type(j) == int:\n",
    "                sum += j\n",
    "    if type(i) == dict:\n",
    "        for k,v in i.items():\n",
    "            if type(k) == int or type(v) == int:\n",
    "                sum += k\n",
    "                sum += v\n",
    "print(sum)"
   ]
  },
  {
   "cell_type": "code",
   "execution_count": 9,
   "id": "93105ed5",
   "metadata": {},
   "outputs": [
    {
     "name": "stdout",
     "output_type": "stream",
     "text": [
      "[1, 3]\n"
     ]
    }
   ],
   "source": [
    "# Q8: Try to filter out all the odd values out of all numeric data which is a part of a list\n",
    "\n",
    "l1 = []\n",
    "for i in l:\n",
    "    if type(i) == list:\n",
    "        for j in i:\n",
    "            if type(j) == int:\n",
    "                if j % 2 == 1:\n",
    "                    l1.append(j)\n",
    "print(l1)"
   ]
  },
  {
   "cell_type": "code",
   "execution_count": 10,
   "id": "a81af441",
   "metadata": {},
   "outputs": [
    {
     "name": "stdout",
     "output_type": "stream",
     "text": [
      "k2 ineuron\n",
      "0 ineuron\n"
     ]
    }
   ],
   "source": [
    "# Q9: Try to extract \"ineuron\" out of the data\n",
    "\n",
    "\n",
    "for i in l:\n",
    "    if type(i) == list:\n",
    "        for j in i:\n",
    "            if j == \"ineuron\":\n",
    "                print(i.index(j), j)\n",
    "    if type(i) == dict:\n",
    "        for k,v in i.items():\n",
    "            if v == \"ineuron\":\n",
    "                print(k, v)"
   ]
  },
  {
   "cell_type": "code",
   "execution_count": 11,
   "id": "34d468e1",
   "metadata": {},
   "outputs": [
    {
     "name": "stdout",
     "output_type": "stream",
     "text": [
      "{'ineuron', 1, 2, 3, 4, 5, 6, 7, 8, 'sudh', 45, 'kumar', 'k3', 'data science', 23, 'k1', 'k2'}\n"
     ]
    }
   ],
   "source": [
    "# Q10: Try to find out a number of occurences of all the data\n",
    "\n",
    "\n",
    "u = set()\n",
    "for i in l:\n",
    "    if type(i) == list or type(i) == tuple or type(i) == set:\n",
    "        for j in i:\n",
    "            u.add(j)\n",
    "    if type(i) == dict:\n",
    "        for k,v in i.items():\n",
    "            u.add(k)\n",
    "            u.add(v)\n",
    "print(u)"
   ]
  },
  {
   "cell_type": "code",
   "execution_count": 12,
   "id": "5004bf40",
   "metadata": {},
   "outputs": [
    {
     "name": "stdout",
     "output_type": "stream",
     "text": [
      "Number of keys:  5\n"
     ]
    }
   ],
   "source": [
    "# Q11: Try to find out number of keys in dict element\n",
    "\n",
    "d = {}\n",
    "for i in l:\n",
    "    if type(i) == dict:\n",
    "        d.update(i)\n",
    "\n",
    "print(\"Number of keys: \",len(d))"
   ]
  },
  {
   "cell_type": "code",
   "execution_count": 13,
   "id": "cd8e0926",
   "metadata": {},
   "outputs": [
    {
     "name": "stdout",
     "output_type": "stream",
     "text": [
      "All the strings are: \n",
      "k1\n",
      "sudh\n",
      "k2\n",
      "ineuron\n",
      "k3\n",
      "kumar\n",
      "ineuron\n",
      "data science\n"
     ]
    }
   ],
   "source": [
    "# Q12: Try to filter out all the string data\n",
    "\n",
    "l1 = []\n",
    "for i in l:\n",
    "    if type(i) == list or type(i) == tuple or type(i) == set:\n",
    "        for j in i:\n",
    "            if type(j) == str:\n",
    "                l1.append(j)\n",
    "    if type(i) == dict:\n",
    "        for k,v in i.items():\n",
    "            if type(k) == str or type(v) == str:\n",
    "                l1.append(k)\n",
    "                l1.append(v)\n",
    "                \n",
    "print(\"All the strings are: \")\n",
    "for i in l1:\n",
    "    print(i)"
   ]
  },
  {
   "cell_type": "code",
   "execution_count": 14,
   "id": "7fb29db7",
   "metadata": {},
   "outputs": [
    {
     "name": "stdout",
     "output_type": "stream",
     "text": [
      "k1\n",
      "k2\n",
      "k3\n",
      "3\n",
      "7\n"
     ]
    }
   ],
   "source": [
    "# Q13: Try to find out alphanum in data\n",
    "\n",
    "d = {}\n",
    "for i in l:                \n",
    "    if type(i) == dict:\n",
    "        d.update(i)\n",
    "\n",
    "for i in list(d.keys()):\n",
    "    n = str(i)\n",
    "    if n.isalnum() == True:\n",
    "        print(n)"
   ]
  },
  {
   "cell_type": "code",
   "execution_count": 15,
   "id": "2a269775",
   "metadata": {},
   "outputs": [
    {
     "name": "stdout",
     "output_type": "stream",
     "text": [
      "The multiplication reult for all list elements is:  24\n",
      "The multiplication reult for all tuple elements is:  1814400\n",
      "The multiplication reult for all set elements is:  20700\n",
      "The multiplication reult for all dict elements is:  1008\n",
      "The multiplication reult for all int elements is:  908605071360000\n"
     ]
    }
   ],
   "source": [
    "# Q14: Try to find out multiplication of all numeric values in the individual collection inside dataset\n",
    "\n",
    "lst = 1\n",
    "tup = 1\n",
    "s = 1\n",
    "d = 1\n",
    "res = 1\n",
    "\n",
    "for i in l:\n",
    "    if type(i) == list:\n",
    "        for j in i:\n",
    "            if type(j) == int:\n",
    "                lst = lst * j\n",
    "print(\"The multiplication reult for all list elements is: \", lst)\n",
    "\n",
    "for i in l:\n",
    "    if type(i) == tuple:\n",
    "        for j in i:\n",
    "            if type(j) == int:\n",
    "                tup = tup * j\n",
    "print(\"The multiplication reult for all tuple elements is: \", tup)\n",
    "\n",
    "for i in l:\n",
    "    if type(i) == set:\n",
    "        for j in i:\n",
    "            if type(j) == int:\n",
    "                s = s * j\n",
    "print(\"The multiplication reult for all set elements is: \", s)\n",
    "\n",
    "for i in l:\n",
    "    if type(i) == dict:\n",
    "        for k,v in i.items():\n",
    "            if type(k) == int or type(v) == int:\n",
    "                d = d * k\n",
    "                d = d * v\n",
    "print(\"The multiplication reult for all dict elements is: \", d)\n",
    "\n",
    "res = res * lst * tup * s * d\n",
    "print(\"The multiplication reult for all int elements is: \", res)"
   ]
  },
  {
   "cell_type": "code",
   "execution_count": 16,
   "id": "2f548d7f",
   "metadata": {},
   "outputs": [
    {
     "name": "stdout",
     "output_type": "stream",
     "text": [
      "[1, 2, 3, 4, 2, 3, 4, 5, 6, 3, 4, 5, 6, 7, 45, 4, 5, 23, 'k1', 'sudh', 'k2', 'ineuron', 'k3', 'kumar', 3, 6, 7, 8, 'ineuron', 'data science']\n"
     ]
    }
   ],
   "source": [
    "# Q15: Try to unwrap all the collection inside collection and create a flat list\n",
    "\n",
    "lst = []\n",
    "for i in l:\n",
    "    if type(i) == list or type(i) == tuple or type(i) == set:\n",
    "        for j in i:\n",
    "            lst.append(j)\n",
    "    if type(i) == dict:\n",
    "        for k,v in i.items():\n",
    "            lst.append(k)\n",
    "            lst.append(v)\n",
    "print(lst)"
   ]
  },
  {
   "cell_type": "code",
   "execution_count": null,
   "id": "44be364e",
   "metadata": {},
   "outputs": [],
   "source": []
  }
 ],
 "metadata": {
  "kernelspec": {
   "display_name": "Python 3 (ipykernel)",
   "language": "python",
   "name": "python3"
  },
  "language_info": {
   "codemirror_mode": {
    "name": "ipython",
    "version": 3
   },
   "file_extension": ".py",
   "mimetype": "text/x-python",
   "name": "python",
   "nbconvert_exporter": "python",
   "pygments_lexer": "ipython3",
   "version": "3.9.7"
  }
 },
 "nbformat": 4,
 "nbformat_minor": 5
}
