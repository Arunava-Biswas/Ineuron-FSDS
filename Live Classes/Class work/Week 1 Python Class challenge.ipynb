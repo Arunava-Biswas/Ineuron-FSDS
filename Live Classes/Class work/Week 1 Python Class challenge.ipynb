{
 "cells": [
  {
   "cell_type": "markdown",
   "id": "d1a06430",
   "metadata": {},
   "source": [
    "### Challenges:\n",
    "\n"
   ]
  },
  {
   "cell_type": "code",
   "execution_count": 1,
   "id": "03dcb868",
   "metadata": {},
   "outputs": [],
   "source": [
    "s = \"this is My First Python programming class and i am learNING python string and its function\""
   ]
  },
  {
   "cell_type": "markdown",
   "id": "06c57565",
   "metadata": {},
   "source": [
    "##### Try to extract data from index one to index 300 with a jump of 3"
   ]
  },
  {
   "cell_type": "code",
   "execution_count": 2,
   "id": "e2f7e74f",
   "metadata": {},
   "outputs": [
    {
     "data": {
      "text/plain": [
       "'h   r tnrrmglsnimeNGyosi dtfco'"
      ]
     },
     "execution_count": 2,
     "metadata": {},
     "output_type": "execute_result"
    }
   ],
   "source": [
    "s[1:300:3]"
   ]
  },
  {
   "cell_type": "markdown",
   "id": "9f67fec2",
   "metadata": {},
   "source": [
    "##### Try to reverse a string without using reverse function"
   ]
  },
  {
   "cell_type": "code",
   "execution_count": 4,
   "id": "5a4c483b",
   "metadata": {},
   "outputs": [
    {
     "data": {
      "text/plain": [
       "'noitcnuf sti dna gnirts nohtyp GNINrael ma i dna ssalc gnimmargorp nohtyP tsriF yM si sih'"
      ]
     },
     "execution_count": 4,
     "metadata": {},
     "output_type": "execute_result"
    }
   ],
   "source": [
    "s[-1:0:-1]"
   ]
  },
  {
   "cell_type": "markdown",
   "id": "370b8cbc",
   "metadata": {},
   "source": [
    "##### Try to split a string after conversion of entire string in uppercase"
   ]
  },
  {
   "cell_type": "code",
   "execution_count": 5,
   "id": "5901f9a0",
   "metadata": {},
   "outputs": [
    {
     "data": {
      "text/plain": [
       "['THIS',\n",
       " 'IS',\n",
       " 'MY',\n",
       " 'FIRST',\n",
       " 'PYTHON',\n",
       " 'PROGRAMMING',\n",
       " 'CLASS',\n",
       " 'AND',\n",
       " 'I',\n",
       " 'AM',\n",
       " 'LEARNING',\n",
       " 'PYTHON',\n",
       " 'STRING',\n",
       " 'AND',\n",
       " 'ITS',\n",
       " 'FUNCTION']"
      ]
     },
     "execution_count": 5,
     "metadata": {},
     "output_type": "execute_result"
    }
   ],
   "source": [
    "s1 = s.upper()\n",
    "s1.split(\" \")"
   ]
  },
  {
   "cell_type": "markdown",
   "id": "db6c65d7",
   "metadata": {},
   "source": [
    "##### Try to convert the whole string into lower case"
   ]
  },
  {
   "cell_type": "code",
   "execution_count": 6,
   "id": "d0875863",
   "metadata": {},
   "outputs": [
    {
     "data": {
      "text/plain": [
       "'this is my first python programming class and i am learning python string and its function'"
      ]
     },
     "execution_count": 6,
     "metadata": {},
     "output_type": "execute_result"
    }
   ],
   "source": [
    "s.lower()"
   ]
  },
  {
   "cell_type": "markdown",
   "id": "b90457f0",
   "metadata": {},
   "source": [
    "##### Try to Capitalize the whole string."
   ]
  },
  {
   "cell_type": "code",
   "execution_count": 7,
   "id": "19f700c3",
   "metadata": {},
   "outputs": [
    {
     "data": {
      "text/plain": [
       "'This is my first python programming class and i am learning python string and its function'"
      ]
     },
     "execution_count": 7,
     "metadata": {},
     "output_type": "execute_result"
    }
   ],
   "source": [
    "s.capitalize()"
   ]
  },
  {
   "cell_type": "markdown",
   "id": "622e7d7a",
   "metadata": {},
   "source": [
    "##### Write a diference between isalnum() and isalpha()"
   ]
  },
  {
   "cell_type": "markdown",
   "id": "87a1c289",
   "metadata": {},
   "source": [
    "The python isalpha() method returns True when the string attached with the method only contains alphabets otherwise it will return False, but the isalnum() method returns True when the string has any alphanumeric characters ecept the symbols. "
   ]
  },
  {
   "cell_type": "code",
   "execution_count": 8,
   "id": "11cbcc25",
   "metadata": {},
   "outputs": [],
   "source": [
    "str = \"ineuron123\""
   ]
  },
  {
   "cell_type": "code",
   "execution_count": 9,
   "id": "c0b6dcd1",
   "metadata": {},
   "outputs": [
    {
     "data": {
      "text/plain": [
       "False"
      ]
     },
     "execution_count": 9,
     "metadata": {},
     "output_type": "execute_result"
    }
   ],
   "source": [
    "# Here it will return False\n",
    "str.isalpha()"
   ]
  },
  {
   "cell_type": "code",
   "execution_count": 10,
   "id": "383b74f8",
   "metadata": {},
   "outputs": [
    {
     "data": {
      "text/plain": [
       "True"
      ]
     },
     "execution_count": 10,
     "metadata": {},
     "output_type": "execute_result"
    }
   ],
   "source": [
    "# Here it will return True\n",
    "str.isalnum()"
   ]
  },
  {
   "cell_type": "markdown",
   "id": "fa5178ff",
   "metadata": {},
   "source": [
    "##### Try to give an example of expandtab"
   ]
  },
  {
   "cell_type": "markdown",
   "id": "13be6cb2",
   "metadata": {},
   "source": [
    "The expandtabs() method is use to set the tab size to a specified number of whitespaces. By default it is 8."
   ]
  },
  {
   "cell_type": "code",
   "execution_count": 12,
   "id": "6da07d33",
   "metadata": {},
   "outputs": [
    {
     "name": "stdout",
     "output_type": "stream",
     "text": [
      "A\tr\tu\tn\ta\tv\ta\n"
     ]
    }
   ],
   "source": [
    "# Here is a string where letters are spaced by 1 tab size\n",
    "str = \"A\\tr\\tu\\tn\\ta\\tv\\ta\"\n",
    "print(str)"
   ]
  },
  {
   "cell_type": "code",
   "execution_count": 14,
   "id": "b004998d",
   "metadata": {},
   "outputs": [
    {
     "name": "stdout",
     "output_type": "stream",
     "text": [
      "A r u n a v a\n"
     ]
    }
   ],
   "source": [
    "# Now lets change the tab size to 2.\n",
    "str1 = str.expandtabs(2)\n",
    "print(str1)"
   ]
  },
  {
   "cell_type": "markdown",
   "id": "b85757e9",
   "metadata": {},
   "source": [
    "##### Give an example of strip , lstrip and rstrip"
   ]
  },
  {
   "cell_type": "markdown",
   "id": "04001dba",
   "metadata": {},
   "source": [
    "In strip() it will remove all the spaces arround the string whereas in lstrip() it only removes the spaces from the left side of the string and in rstrip() it removes the spaces from the right side of the string. But in all the cases it never removes any space from inside the string."
   ]
  },
  {
   "cell_type": "code",
   "execution_count": 20,
   "id": "a1e38f0f",
   "metadata": {},
   "outputs": [],
   "source": [
    "str = \"     Arun ava      \""
   ]
  },
  {
   "cell_type": "code",
   "execution_count": 21,
   "id": "294c7a97",
   "metadata": {},
   "outputs": [
    {
     "data": {
      "text/plain": [
       "'Arun ava'"
      ]
     },
     "execution_count": 21,
     "metadata": {},
     "output_type": "execute_result"
    }
   ],
   "source": [
    "# strip()\n",
    "\n",
    "str.strip()"
   ]
  },
  {
   "cell_type": "code",
   "execution_count": 22,
   "id": "1ff5220d",
   "metadata": {},
   "outputs": [
    {
     "data": {
      "text/plain": [
       "'Arun ava      '"
      ]
     },
     "execution_count": 22,
     "metadata": {},
     "output_type": "execute_result"
    }
   ],
   "source": [
    "# lstrip()\n",
    "\n",
    "str.lstrip()"
   ]
  },
  {
   "cell_type": "code",
   "execution_count": 23,
   "id": "8945edf8",
   "metadata": {},
   "outputs": [
    {
     "data": {
      "text/plain": [
       "'     Arun ava'"
      ]
     },
     "execution_count": 23,
     "metadata": {},
     "output_type": "execute_result"
    }
   ],
   "source": [
    "# rstrip()\n",
    "\n",
    "str.rstrip()"
   ]
  },
  {
   "cell_type": "markdown",
   "id": "3e0b23c4",
   "metadata": {},
   "source": [
    "##### Replace a string character by another character by taking your own example"
   ]
  },
  {
   "cell_type": "code",
   "execution_count": 24,
   "id": "1029cc4c",
   "metadata": {},
   "outputs": [
    {
     "data": {
      "text/plain": [
       "'Arun@v@'"
      ]
     },
     "execution_count": 24,
     "metadata": {},
     "output_type": "execute_result"
    }
   ],
   "source": [
    "str = \"Arunava\"\n",
    "\n",
    "str.replace('a', '@')"
   ]
  },
  {
   "cell_type": "markdown",
   "id": "0932a0b3",
   "metadata": {},
   "source": [
    "##### Try to give a definition of string center function with an exmple"
   ]
  },
  {
   "cell_type": "markdown",
   "id": "dc92d3af",
   "metadata": {},
   "source": [
    "The center() of string will align the string in the center while filling up the empty spaces with the specified character. Like here I make the string \"ineuron\" at the center by fiiling up the empty spaces with \"@\" symbol."
   ]
  },
  {
   "cell_type": "code",
   "execution_count": 25,
   "id": "45c07b6f",
   "metadata": {},
   "outputs": [
    {
     "data": {
      "text/plain": [
       "'@@@@@@ineuron@@@@@@@'"
      ]
     },
     "execution_count": 25,
     "metadata": {},
     "output_type": "execute_result"
    }
   ],
   "source": [
    "str = \"ineuron\"\n",
    "\n",
    "str.center(20, '@')"
   ]
  },
  {
   "cell_type": "markdown",
   "id": "24c1876b",
   "metadata": {},
   "source": [
    "##### Write your own definition of compiler and interpretor"
   ]
  },
  {
   "cell_type": "markdown",
   "id": "21c2f6af",
   "metadata": {},
   "source": [
    "The compiler is a computer program that translates one programming language to another as a whole, that is it executes the entire source code in one go.\n",
    "\n",
    "The interpreter is a computer program that directly executes the instructions written in a programming language one line at a time, without translate it into machine language."
   ]
  },
  {
   "cell_type": "markdown",
   "id": "8e3797dd",
   "metadata": {},
   "source": [
    "##### Python is an interpreted of compiled language give a clear ans with your understanding"
   ]
  },
  {
   "cell_type": "markdown",
   "id": "8c426c20",
   "metadata": {},
   "source": [
    "In Python the compilation part is hidden from the programmer. The compilation part is done first when we execute our code and this will generate byte code and internally this byte code gets converted by the python virtual machine(p.v.m) according to the underlying platform(machine+operating system). So the code becomes platform independent."
   ]
  },
  {
   "cell_type": "markdown",
   "id": "a28be894",
   "metadata": {},
   "source": [
    "##### Try to write a usecase of python with your understanding"
   ]
  },
  {
   "cell_type": "code",
   "execution_count": 26,
   "id": "3c79b735",
   "metadata": {},
   "outputs": [
    {
     "name": "stdout",
     "output_type": "stream",
     "text": [
      "Enter 1st number: 12\n",
      "Enter 2nd number: 13\n",
      "The sum of the numbers  12  and  13  is:  25\n"
     ]
    }
   ],
   "source": [
    "## Addition of 2 numbers\n",
    "\n",
    "int1 = int(input(\"Enter 1st number: \"))\n",
    "int2 = int(input(\"Enter 2nd number: \"))\n",
    "\n",
    "sum = int1 + int2\n",
    "\n",
    "print(\"The sum of the numbers \", int1, \" and \", int2, \" is: \", sum)"
   ]
  },
  {
   "cell_type": "code",
   "execution_count": null,
   "id": "928e6a47",
   "metadata": {},
   "outputs": [],
   "source": []
  }
 ],
 "metadata": {
  "kernelspec": {
   "display_name": "Python 3 (ipykernel)",
   "language": "python",
   "name": "python3"
  },
  "language_info": {
   "codemirror_mode": {
    "name": "ipython",
    "version": 3
   },
   "file_extension": ".py",
   "mimetype": "text/x-python",
   "name": "python",
   "nbconvert_exporter": "python",
   "pygments_lexer": "ipython3",
   "version": "3.9.7"
  }
 },
 "nbformat": 4,
 "nbformat_minor": 5
}
