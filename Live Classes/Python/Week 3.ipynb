{
 "cells": [
  {
   "cell_type": "markdown",
   "id": "9f86da28",
   "metadata": {},
   "source": [
    "### Loops : For"
   ]
  },
  {
   "cell_type": "code",
   "execution_count": 1,
   "id": "ca3a4d5d",
   "metadata": {},
   "outputs": [],
   "source": [
    "l = [1,2,3,4,\"sudh\", \"kumar\", 45.56]"
   ]
  },
  {
   "cell_type": "code",
   "execution_count": 2,
   "id": "e42eb872",
   "metadata": {},
   "outputs": [
    {
     "name": "stdout",
     "output_type": "stream",
     "text": [
      "1\n",
      "2\n",
      "3\n",
      "4\n",
      "sudh\n",
      "kumar\n",
      "45.56\n"
     ]
    }
   ],
   "source": [
    "for i in l:\n",
    "    print(i)"
   ]
  },
  {
   "cell_type": "code",
   "execution_count": 3,
   "id": "dbb94568",
   "metadata": {},
   "outputs": [
    {
     "name": "stdout",
     "output_type": "stream",
     "text": [
      "1\n",
      "2\n",
      "3\n",
      "4\n",
      "sudh\n",
      "kumar\n",
      "45.56\n",
      "If for loop is complete then this else will be executed.\n"
     ]
    }
   ],
   "source": [
    "# else with for loop (exclusive for Python only)\n",
    "\n",
    "for i in l:\n",
    "    print(i)\n",
    "else:\n",
    "    print(\"If for loop is complete then this else will be executed.\")"
   ]
  },
  {
   "cell_type": "code",
   "execution_count": 4,
   "id": "ab2fbfc4",
   "metadata": {},
   "outputs": [
    {
     "name": "stdout",
     "output_type": "stream",
     "text": [
      "1\n",
      "2\n",
      "3\n"
     ]
    }
   ],
   "source": [
    "# here because of the 'break' the for loop gets abrupt midway so the else will not be executed.\n",
    "\n",
    "for i in l:\n",
    "    if i == 4:\n",
    "        break\n",
    "    print(i)\n",
    "else:\n",
    "    print(\"This will be executed only when the for loop is exhausted normally.\")"
   ]
  },
  {
   "cell_type": "markdown",
   "id": "5f1b84be",
   "metadata": {},
   "source": [
    "### Remember the break keyword cannot be use in if else case, there we need to use either \"return\" or \"sys.exit()\" to get out from the condition. Although the break can be used in an if else block when it is inside a loop.\n",
    "\n",
    "**Because break cannot be used to break out of an if - it can only break out of loops. That's the way Python (and most other languages) are specified to behave. To get out from the condition we should use `sys.exit()` or `return`.**\n"
   ]
  },
  {
   "cell_type": "code",
   "execution_count": 5,
   "id": "482d95ee",
   "metadata": {},
   "outputs": [
    {
     "name": "stdout",
     "output_type": "stream",
     "text": [
      "arun \n",
      "\n",
      "arun arun \n",
      "\n",
      "arun arun arun \n",
      "\n",
      "arun arun arun arun \n",
      "\n"
     ]
    }
   ],
   "source": [
    "n = 4\n",
    "\n",
    "for i in range(4):\n",
    "    for j in range (0, i+1):\n",
    "        print(\"arun\", end=\" \")\n",
    "    print(\"\\n\")"
   ]
  },
  {
   "cell_type": "code",
   "execution_count": 9,
   "id": "4ce32886",
   "metadata": {},
   "outputs": [
    {
     "name": "stdout",
     "output_type": "stream",
     "text": [
      "          sudh \n",
      "     sudh sudh sudh \n",
      "sudh sudh sudh sudh sudh \n"
     ]
    }
   ],
   "source": [
    "n = 3\n",
    "for i in range(n):\n",
    "    for j in range(i, n-1):\n",
    "        print(\" \" * len(\"sudh\"), end=\" \")\n",
    "    for j in range(i+1):\n",
    "        print(\"sudh\", end=\" \")\n",
    "    for j in range(i):\n",
    "        print(\"sudh\", end=\" \")\n",
    "    print()"
   ]
  },
  {
   "cell_type": "code",
   "execution_count": 11,
   "id": "10a84250",
   "metadata": {},
   "outputs": [],
   "source": [
    "t = (3,23,45,67,2,4,5,6)"
   ]
  },
  {
   "cell_type": "code",
   "execution_count": 14,
   "id": "d90b6308",
   "metadata": {},
   "outputs": [
    {
     "name": "stdout",
     "output_type": "stream",
     "text": [
      "0 3\n",
      "1 23\n",
      "2 45\n",
      "3 67\n",
      "4 2\n",
      "5 4\n",
      "6 5\n",
      "7 6\n"
     ]
    }
   ],
   "source": [
    "for i in range(len(t)):\n",
    "    print(i, t[i])"
   ]
  },
  {
   "cell_type": "code",
   "execution_count": 15,
   "id": "2d308051",
   "metadata": {},
   "outputs": [],
   "source": [
    "s = \"ineuron\""
   ]
  },
  {
   "cell_type": "code",
   "execution_count": 16,
   "id": "029fe28b",
   "metadata": {},
   "outputs": [
    {
     "name": "stdout",
     "output_type": "stream",
     "text": [
      "0 i\n",
      "1 n\n",
      "2 e\n",
      "3 u\n",
      "4 r\n",
      "5 o\n",
      "6 n\n"
     ]
    }
   ],
   "source": [
    "for i in range(len(s)):\n",
    "    print(i, s[i])"
   ]
  },
  {
   "cell_type": "code",
   "execution_count": 20,
   "id": "bc05fae9",
   "metadata": {},
   "outputs": [
    {
     "name": "stdout",
     "output_type": "stream",
     "text": [
      "6 n\n",
      "5 o\n",
      "4 r\n",
      "3 u\n",
      "2 e\n",
      "1 n\n",
      "0 i\n"
     ]
    }
   ],
   "source": [
    "# len(s)-1 is for the upper bound so we can get the index upto 6\n",
    "# the -1 is for the upper bound so we get the index 0 and the step is -1 so it is reversewards\n",
    "\n",
    "for i in range (len(s)-1, -1, -1):\n",
    "    print(i, s[i])"
   ]
  },
  {
   "cell_type": "code",
   "execution_count": 21,
   "id": "d2f4b26f",
   "metadata": {},
   "outputs": [],
   "source": [
    "d = {'key1' : 'sudh', 'contact' : 'sudhanshu@ineuron.ai', 'position' : 'xyz'}"
   ]
  },
  {
   "cell_type": "code",
   "execution_count": 22,
   "id": "c160d6b4",
   "metadata": {},
   "outputs": [
    {
     "name": "stdout",
     "output_type": "stream",
     "text": [
      "('key1', 'sudh') <class 'tuple'> <class 'str'>\n",
      "('contact', 'sudhanshu@ineuron.ai') <class 'tuple'> <class 'str'>\n",
      "('position', 'xyz') <class 'tuple'> <class 'str'>\n"
     ]
    }
   ],
   "source": [
    "# printing the type of the key and values along with them as tuple\n",
    "\n",
    "for i in d.items():\n",
    "    print(i, type(i), type(i[1]))"
   ]
  },
  {
   "cell_type": "code",
   "execution_count": 23,
   "id": "17d2e11f",
   "metadata": {},
   "outputs": [],
   "source": [
    "l =['sudh', 'kumar', 3234545, 'sudhanshu@ineuron.ai', 345, 34345353]"
   ]
  },
  {
   "cell_type": "code",
   "execution_count": 24,
   "id": "d929c584",
   "metadata": {},
   "outputs": [
    {
     "name": "stdout",
     "output_type": "stream",
     "text": [
      "[3234545, 345, 34345353]\n"
     ]
    }
   ],
   "source": [
    "l1 =[]\n",
    "for i in l:\n",
    "    if type(i) == int:\n",
    "        l1.append(i)\n",
    "        \n",
    "print(l1)"
   ]
  },
  {
   "cell_type": "code",
   "execution_count": 25,
   "id": "9e4b55c6",
   "metadata": {},
   "outputs": [],
   "source": [
    "d = {1: 3345345, 'name': 'sudh', 'email' : 'sudhanshu@ineuron.ai', 234 : 'fsfddsf', \"43\" : \"fsdfg\", 234 : \"3454\"}"
   ]
  },
  {
   "cell_type": "code",
   "execution_count": 28,
   "id": "9f4d9dc2",
   "metadata": {},
   "outputs": [
    {
     "name": "stdout",
     "output_type": "stream",
     "text": [
      "1 : 3345345\n",
      "234 : 3454\n"
     ]
    }
   ],
   "source": [
    "# find key value pairs where key is a int\n",
    "\n",
    "for i in d:\n",
    "    if type(i) == int:\n",
    "        print(i, \":\", d[i])"
   ]
  },
  {
   "cell_type": "code",
   "execution_count": 29,
   "id": "72875eed",
   "metadata": {},
   "outputs": [],
   "source": [
    "s =\"aaaabbccd\""
   ]
  },
  {
   "cell_type": "code",
   "execution_count": 31,
   "id": "be64eef2",
   "metadata": {},
   "outputs": [
    {
     "name": "stdout",
     "output_type": "stream",
     "text": [
      "a : 4\n",
      "a : 4\n",
      "a : 4\n",
      "a : 4\n",
      "b : 2\n",
      "b : 2\n",
      "c : 2\n",
      "c : 2\n",
      "d : 1\n"
     ]
    }
   ],
   "source": [
    "# find occurance of each character\n",
    "# but here every item will be repeated \n",
    "\n",
    "for i in s:\n",
    "    print(i, \":\", s.count(i))"
   ]
  },
  {
   "cell_type": "code",
   "execution_count": 32,
   "id": "126700ea",
   "metadata": {},
   "outputs": [
    {
     "name": "stdout",
     "output_type": "stream",
     "text": [
      "b : 2\n",
      "c : 2\n",
      "d : 1\n",
      "a : 4\n"
     ]
    }
   ],
   "source": [
    "# first convert the tring into a set to get the unique elements then perform the count() in a for loop.\n",
    "\n",
    "for i in set(s):\n",
    "    print(i, \":\", s.count(i))"
   ]
  },
  {
   "cell_type": "code",
   "execution_count": 33,
   "id": "a38c5b20",
   "metadata": {},
   "outputs": [],
   "source": [
    "i = 3453465464645"
   ]
  },
  {
   "cell_type": "code",
   "execution_count": 34,
   "id": "da47b503",
   "metadata": {},
   "outputs": [
    {
     "ename": "TypeError",
     "evalue": "'int' object is not iterable",
     "output_type": "error",
     "traceback": [
      "\u001b[1;31m---------------------------------------------------------------------------\u001b[0m",
      "\u001b[1;31mTypeError\u001b[0m                                 Traceback (most recent call last)",
      "Input \u001b[1;32mIn [34]\u001b[0m, in \u001b[0;36m<module>\u001b[1;34m\u001b[0m\n\u001b[1;32m----> 1\u001b[0m \u001b[38;5;28;01mfor\u001b[39;00m j \u001b[38;5;129;01min\u001b[39;00m i:\n\u001b[0;32m      2\u001b[0m     \u001b[38;5;28mprint\u001b[39m(j)\n",
      "\u001b[1;31mTypeError\u001b[0m: 'int' object is not iterable"
     ]
    }
   ],
   "source": [
    "# individual int are not iterable\n",
    "\n",
    "for j in i:\n",
    "    print(j)"
   ]
  },
  {
   "cell_type": "code",
   "execution_count": 38,
   "id": "5a0e0525",
   "metadata": {},
   "outputs": [
    {
     "name": "stdout",
     "output_type": "stream",
     "text": [
      "3\n",
      "4\n",
      "5\n",
      "3\n",
      "4\n",
      "6\n",
      "5\n",
      "4\n",
      "6\n",
      "4\n",
      "6\n",
      "4\n",
      "5\n"
     ]
    }
   ],
   "source": [
    "# so to extract each element one by one we need to typecast and then again typecast it back to int for getting int as result\n",
    "\n",
    "for j in str(i):\n",
    "    print(int(j))"
   ]
  },
  {
   "cell_type": "code",
   "execution_count": 49,
   "id": "1381f5bd",
   "metadata": {},
   "outputs": [],
   "source": [
    "t = (\"sudh\", \"kumar\", [1,2,3,4,5], (3,4,5,6), {3:3, 'key2': \"kumar\"})"
   ]
  },
  {
   "cell_type": "code",
   "execution_count": 50,
   "id": "3df73d23",
   "metadata": {},
   "outputs": [
    {
     "name": "stdout",
     "output_type": "stream",
     "text": [
      "3\n",
      "3\n",
      "3\n",
      "3\n"
     ]
    }
   ],
   "source": [
    "# find all the 3\n",
    "# dict.items() will return a tuple of key, value pair\n",
    "\n",
    "for i in t:\n",
    "    if type(i) == list or type(i) == tuple:\n",
    "        for j in i:\n",
    "            if j == 3:\n",
    "                print(j)\n",
    "    if type(i) == dict:\n",
    "        for k,v in i.items():\n",
    "            if k == 3 or v == 3:\n",
    "                print(k)\n",
    "                print(v)"
   ]
  },
  {
   "cell_type": "code",
   "execution_count": 51,
   "id": "990eef21",
   "metadata": {},
   "outputs": [
    {
     "name": "stdout",
     "output_type": "stream",
     "text": [
      "(4, 5)\n",
      "('key1', 'sudh')\n",
      "('key2', 'kumar')\n"
     ]
    }
   ],
   "source": [
    "d = {4:5, 'key1' : 'sudh', 'key2': \"kumar\"}\n",
    "\n",
    "for i in d.items():\n",
    "    print(i)"
   ]
  },
  {
   "cell_type": "raw",
   "id": "27cb8ffb",
   "metadata": {},
   "source": [
    "Q1 : \n",
    "ineuron\n",
    "ineuron ineuron\n",
    "ineuron ineuron ineuron\n",
    "ineuron ineuron ineuron ineuron\n",
    "\n",
    "Q2:\n",
    "          ineuron\n",
    "    ineuron     ineuron\n",
    "ineuron    ineuron    ineuron\n",
    "    ineuron     ineuron\n",
    "          ineuron\n",
    "  \n",
    "l = [[1,2,3,4] , (2,3,4,5,6) , (3,4,5,6,7) , set([23,4,5,45,4,4,5,45,45,4,5]) , \n",
    "     {'k1' : \"sudh\", 'k2' : \"ineuron\", 'k3' : \"kumar\", 3:6, 7:8} , ['ineuron', 'data science']]\n",
    "\n",
    "Q3: Try to extract all the list entity\n",
    "Q4: Try to extract all the dictionary entity\n",
    "Q5: Try to extract all the tuples entity\n",
    "Q6: Try to extract all the numeric data which may be part of dict key and values\n",
    "Q7: Try to give summation of all the numeric data.\n",
    "Q8: Try to filter out all the odd values out of all numeric data which is a part of a list\n",
    "Q9: Try to extract \"ineuron\" out of the data\n",
    "Q10: Try to find out a number of occurences of all the data\n",
    "Q11: Try to find out number of keys in dict element\n",
    "Q12: Try to filter out all the string data\n",
    "Q13: Try to find out alphanum in data\n",
    "Q14: Try to find out multiplication of all numeric values in the individual collection inside dataset\n",
    "Q15: Try to unwrap all the collection inside collection and create a flat list"
   ]
  },
  {
   "cell_type": "markdown",
   "id": "9d692019",
   "metadata": {},
   "source": [
    "### Loops :  While"
   ]
  },
  {
   "cell_type": "code",
   "execution_count": 1,
   "id": "ae408a5c",
   "metadata": {},
   "outputs": [
    {
     "name": "stdout",
     "output_type": "stream",
     "text": [
      "1\n",
      "2\n",
      "3\n",
      "4\n",
      "5\n",
      "6\n",
      "7\n",
      "8\n",
      "9\n",
      "10\n"
     ]
    }
   ],
   "source": [
    "a = 1\n",
    "b = 10\n",
    "\n",
    "while a <= b :\n",
    "    print(a)\n",
    "    a += 1"
   ]
  },
  {
   "cell_type": "code",
   "execution_count": 2,
   "id": "f7510192",
   "metadata": {},
   "outputs": [
    {
     "name": "stdout",
     "output_type": "stream",
     "text": [
      "1\n",
      "3\n",
      "5\n",
      "7\n",
      "9\n",
      "Print this else clause.\n"
     ]
    }
   ],
   "source": [
    "a = 1\n",
    "b = 10\n",
    "\n",
    "while a <= b :\n",
    "    print(a)\n",
    "    a += 2\n",
    "else:\n",
    "    print(\"Print this else clause.\")"
   ]
  },
  {
   "cell_type": "code",
   "execution_count": 3,
   "id": "7f363d88",
   "metadata": {},
   "outputs": [
    {
     "name": "stdout",
     "output_type": "stream",
     "text": [
      "2\n",
      "4\n",
      "5\n",
      "6\n",
      "7\n",
      "8\n",
      "9\n",
      "10\n"
     ]
    }
   ],
   "source": [
    "a = 1\n",
    "b = 10\n",
    "\n",
    "while a < b :\n",
    "    a += 1\n",
    "    if a == 3:\n",
    "        continue\n",
    "    print(a)"
   ]
  },
  {
   "cell_type": "code",
   "execution_count": 4,
   "id": "ca0a4d39",
   "metadata": {},
   "outputs": [],
   "source": [
    "l = [1,2,3,4,65,56]"
   ]
  },
  {
   "cell_type": "code",
   "execution_count": 7,
   "id": "2fed944f",
   "metadata": {},
   "outputs": [
    {
     "name": "stdout",
     "output_type": "stream",
     "text": [
      "1\n",
      "2\n",
      "3\n",
      "4\n",
      "65\n",
      "56\n"
     ]
    }
   ],
   "source": [
    "# print all the elements of the list using while loop\n",
    "\n",
    "n = 0\n",
    "\n",
    "while n < len(l):\n",
    "    print(l[n])\n",
    "    n += 1"
   ]
  },
  {
   "cell_type": "code",
   "execution_count": 8,
   "id": "03bc9edf",
   "metadata": {},
   "outputs": [],
   "source": [
    "t = (3,4,5,6,7,8,9)"
   ]
  },
  {
   "cell_type": "code",
   "execution_count": 9,
   "id": "618d65e8",
   "metadata": {},
   "outputs": [
    {
     "name": "stdout",
     "output_type": "stream",
     "text": [
      "3\n",
      "4\n"
     ]
    }
   ],
   "source": [
    "# print the index of 6 and 7 using while loop\n",
    "\n",
    "n = 0\n",
    "\n",
    "while n < len(t):\n",
    "    if t[n] == 6 or t[n] == 7:\n",
    "        print(n)\n",
    "    n += 1"
   ]
  },
  {
   "cell_type": "code",
   "execution_count": 23,
   "id": "00fa0c3c",
   "metadata": {},
   "outputs": [
    {
     "name": "stdout",
     "output_type": "stream",
     "text": [
      "Index of 6 is:  -1\n",
      "Index of 7 is:  -4\n",
      "Index of 6 is:  -5\n",
      "Index of 6 is:  -9\n"
     ]
    }
   ],
   "source": [
    "# print the index in negative of 7 and 6 using while loop\n",
    "\n",
    "t = (6,3,4,5,6,7,8,9,6)\n",
    "\n",
    "n = -1\n",
    "\n",
    "while n >= -len(t):\n",
    "    if t[n] == 6 or t[n] == 7:\n",
    "        print(\"Index of\", t[n], \"is: \", n)\n",
    "    n = n - 1"
   ]
  },
  {
   "cell_type": "code",
   "execution_count": 24,
   "id": "3b6733d5",
   "metadata": {},
   "outputs": [],
   "source": [
    "d = {'k1' : \"sudh\", \"k2\" : [1,2,3,4], \"k3\" : (2,3,4,5)}"
   ]
  },
  {
   "cell_type": "code",
   "execution_count": 28,
   "id": "6a7be26d",
   "metadata": {},
   "outputs": [
    {
     "name": "stdout",
     "output_type": "stream",
     "text": [
      "sudh\n",
      "[1, 2, 3, 4]\n",
      "(2, 3, 4, 5)\n"
     ]
    }
   ],
   "source": [
    "# extract all the values using a while loop\n",
    "\n",
    "a = 0\n",
    "b = list(d.keys())       # making list of all the keys\n",
    "\n",
    "while a < len(d):\n",
    "    print(d[b[a]])       # here d[b[a]] acts as the d['key'] to print the value\n",
    "    a += 1"
   ]
  },
  {
   "cell_type": "markdown",
   "id": "6e4d05ef",
   "metadata": {},
   "source": [
    "### Functions:"
   ]
  },
  {
   "cell_type": "code",
   "execution_count": 32,
   "id": "cef3b4d4",
   "metadata": {},
   "outputs": [],
   "source": [
    "def test():\n",
    "    print(\"This is my first function.\")"
   ]
  },
  {
   "cell_type": "code",
   "execution_count": 33,
   "id": "ac54c8e8",
   "metadata": {},
   "outputs": [
    {
     "name": "stdout",
     "output_type": "stream",
     "text": [
      "This is my first function.\n"
     ]
    }
   ],
   "source": [
    "test()"
   ]
  },
  {
   "cell_type": "code",
   "execution_count": 34,
   "id": "a4191ed3",
   "metadata": {},
   "outputs": [
    {
     "name": "stdout",
     "output_type": "stream",
     "text": [
      "This is my first function.\n"
     ]
    },
    {
     "data": {
      "text/plain": [
       "NoneType"
      ]
     },
     "execution_count": 34,
     "metadata": {},
     "output_type": "execute_result"
    }
   ],
   "source": [
    "type(test())"
   ]
  },
  {
   "cell_type": "code",
   "execution_count": 35,
   "id": "132c8d1c",
   "metadata": {},
   "outputs": [],
   "source": [
    "# Always use return instead of print in a function.\n",
    "\n",
    "def test1():\n",
    "    return \"This is my first function.\""
   ]
  },
  {
   "cell_type": "code",
   "execution_count": 38,
   "id": "0342b05c",
   "metadata": {},
   "outputs": [
    {
     "data": {
      "text/plain": [
       "'This is my first function.'"
      ]
     },
     "execution_count": 38,
     "metadata": {},
     "output_type": "execute_result"
    }
   ],
   "source": [
    "test1()"
   ]
  },
  {
   "cell_type": "code",
   "execution_count": 39,
   "id": "d000e02f",
   "metadata": {},
   "outputs": [
    {
     "data": {
      "text/plain": [
       "str"
      ]
     },
     "execution_count": 39,
     "metadata": {},
     "output_type": "execute_result"
    }
   ],
   "source": [
    "type(test1())"
   ]
  },
  {
   "cell_type": "code",
   "execution_count": 41,
   "id": "00dae34e",
   "metadata": {},
   "outputs": [
    {
     "data": {
      "text/plain": [
       "'This is my first function. Arun'"
      ]
     },
     "execution_count": 41,
     "metadata": {},
     "output_type": "execute_result"
    }
   ],
   "source": [
    "test1() + \" Arun\""
   ]
  },
  {
   "cell_type": "code",
   "execution_count": 42,
   "id": "550980f4",
   "metadata": {},
   "outputs": [],
   "source": [
    "def add_mul():\n",
    "    a = 4 * 5\n",
    "    b = 6 + 4\n",
    "    return a,b"
   ]
  },
  {
   "cell_type": "code",
   "execution_count": 43,
   "id": "a0b46f6b",
   "metadata": {},
   "outputs": [],
   "source": [
    "g, h = add_mul()"
   ]
  },
  {
   "cell_type": "code",
   "execution_count": 44,
   "id": "1d4647e8",
   "metadata": {},
   "outputs": [
    {
     "data": {
      "text/plain": [
       "20"
      ]
     },
     "execution_count": 44,
     "metadata": {},
     "output_type": "execute_result"
    }
   ],
   "source": [
    "g"
   ]
  },
  {
   "cell_type": "code",
   "execution_count": 45,
   "id": "750b1b89",
   "metadata": {},
   "outputs": [
    {
     "data": {
      "text/plain": [
       "10"
      ]
     },
     "execution_count": 45,
     "metadata": {},
     "output_type": "execute_result"
    }
   ],
   "source": [
    "h"
   ]
  },
  {
   "cell_type": "code",
   "execution_count": 46,
   "id": "6a430342",
   "metadata": {},
   "outputs": [],
   "source": [
    "# We can use a placeholder '_' to get just one value i.e. if we don't want the addition part but just the multiplication\n",
    "\n",
    "_ , m = add_mul()"
   ]
  },
  {
   "cell_type": "code",
   "execution_count": 47,
   "id": "a8711899",
   "metadata": {},
   "outputs": [
    {
     "data": {
      "text/plain": [
       "10"
      ]
     },
     "execution_count": 47,
     "metadata": {},
     "output_type": "execute_result"
    }
   ],
   "source": [
    "m"
   ]
  },
  {
   "cell_type": "code",
   "execution_count": 48,
   "id": "1623b3ea",
   "metadata": {},
   "outputs": [],
   "source": [
    "# Let's create a function to perform the while loop\n",
    "\n",
    "    \n",
    "def while_fun(a,b):\n",
    "    while a <= b :\n",
    "        print(a)\n",
    "        a += 2\n",
    "    else:\n",
    "        print(\"Print this else clause.\")"
   ]
  },
  {
   "cell_type": "code",
   "execution_count": 49,
   "id": "b073d111",
   "metadata": {},
   "outputs": [
    {
     "name": "stdout",
     "output_type": "stream",
     "text": [
      "1\n",
      "3\n",
      "5\n",
      "7\n",
      "9\n",
      "Print this else clause.\n"
     ]
    }
   ],
   "source": [
    "# Now calling the function\n",
    "\n",
    "while_fun(1,10)"
   ]
  },
  {
   "cell_type": "code",
   "execution_count": 52,
   "id": "7448974f",
   "metadata": {},
   "outputs": [
    {
     "name": "stdout",
     "output_type": "stream",
     "text": [
      "Enter 1st value: 4\n",
      "Enter 2nd value: 9\n",
      "4\n",
      "6\n",
      "8\n",
      "Print this else clause.\n"
     ]
    }
   ],
   "source": [
    "m = int(input(\"Enter 1st value: \"))\n",
    "n = int(input(\"Enter 2nd value: \"))\n",
    "\n",
    "while_fun(m, n)"
   ]
  },
  {
   "cell_type": "code",
   "execution_count": 53,
   "id": "eb0777c1",
   "metadata": {},
   "outputs": [],
   "source": [
    "# problem with return is that it only return atleast one value so:\n",
    "\n",
    "\n",
    "def while_fun(a,b):\n",
    "    l = []\n",
    "    while a <= b :\n",
    "        l.append(a)\n",
    "        a += 2\n",
    "    else:\n",
    "        print(\"Print this else clause.\")\n",
    "        \n",
    "    return l"
   ]
  },
  {
   "cell_type": "code",
   "execution_count": 54,
   "id": "e841657c",
   "metadata": {},
   "outputs": [
    {
     "name": "stdout",
     "output_type": "stream",
     "text": [
      "Enter 1st value: 1\n",
      "Enter 2nd value: 10\n",
      "Print this else clause.\n"
     ]
    },
    {
     "data": {
      "text/plain": [
       "[1, 3, 5, 7, 9]"
      ]
     },
     "execution_count": 54,
     "metadata": {},
     "output_type": "execute_result"
    }
   ],
   "source": [
    "m = int(input(\"Enter 1st value: \"))\n",
    "n = int(input(\"Enter 2nd value: \"))\n",
    "\n",
    "while_fun(m, n)"
   ]
  },
  {
   "cell_type": "code",
   "execution_count": 56,
   "id": "c5447741",
   "metadata": {},
   "outputs": [],
   "source": [
    "# write a function that will extract all the integer and create a new list\n",
    "\n",
    "l = [4,5,6,67,7,8,9,9,9, [3,4,5,6,7,7], \"sudh\"]"
   ]
  },
  {
   "cell_type": "code",
   "execution_count": 59,
   "id": "cbf9a01c",
   "metadata": {},
   "outputs": [],
   "source": [
    "def int_fun(l):\n",
    "    l1 = []\n",
    "    for i in l:\n",
    "        if type(i) == int:\n",
    "            l1.append(i)\n",
    "    return l1"
   ]
  },
  {
   "cell_type": "code",
   "execution_count": 60,
   "id": "4a406eae",
   "metadata": {},
   "outputs": [
    {
     "data": {
      "text/plain": [
       "[4, 5, 6, 67, 7, 8, 9, 9, 9]"
      ]
     },
     "execution_count": 60,
     "metadata": {},
     "output_type": "execute_result"
    }
   ],
   "source": [
    "int_fun(l)"
   ]
  },
  {
   "cell_type": "code",
   "execution_count": 63,
   "id": "be111e9d",
   "metadata": {},
   "outputs": [],
   "source": [
    "l3 = [345,45,5,5,6,7, \"sudh\", \"arun\", (4,6,7)]"
   ]
  },
  {
   "cell_type": "code",
   "execution_count": 64,
   "id": "5e88b1dc",
   "metadata": {},
   "outputs": [
    {
     "data": {
      "text/plain": [
       "[345, 45, 5, 5, 6, 7]"
      ]
     },
     "execution_count": 64,
     "metadata": {},
     "output_type": "execute_result"
    }
   ],
   "source": [
    "int_fun(l3)"
   ]
  },
  {
   "cell_type": "markdown",
   "id": "583feb1f",
   "metadata": {},
   "source": [
    "### 1st challenge:"
   ]
  },
  {
   "cell_type": "raw",
   "id": "4a171b24",
   "metadata": {},
   "source": [
    "Challenge:\n",
    "\n",
    "Q1: Try to print this using a while loop:\n",
    "\n",
    "*\n",
    "* *\n",
    "* * *\n",
    "* * * *\n",
    "* * * * *\n",
    "* * * * * * \n",
    "* * * * * * *\n",
    "* * * * * * * * \n",
    "* * * * * * * * *\n",
    "\n",
    "Q2: Try to print using a while loop:\n",
    "\n",
    "A\n",
    "B H\n",
    "C I N\n",
    "D J O S\n",
    "E K P T W\n",
    "F L Q U X Z\n",
    "G M R V Y\n",
    "\n",
    "Q3: Try to print all the numbers divisible by 3 in between a range of 40 - 400.\n",
    "\n",
    "Q4: Try to filter out all the vowels from below text by using a while loop:\n",
    "\"\"\"\n",
    "Python is a high-level, interpreted, general-purpose programming language. Its design philosophy emphasizes code readability with the use of significant indentation.[32]\n",
    "\n",
    "Python is dynamically-typed and garbage-collected. It supports multiple programming paradigms, including structured (particularly procedural), object-oriented and functional programming. It is often described as a \"batteries included\" language due to its comprehensive standard library.[33][34]\n",
    "\n",
    "Guido van Rossum began working on Python in the late 1980s as a successor to the ABC programming language and first released it in 1991 as Python 0.9.0.[35] Python 2.0 was released in 2000 and introduced new features such as list comprehensions, cycle-detecting garbage collection, reference counting, and Unicode support. Python 3.0, released in 2008, was a major revision that is not completely backward-compatible with earlier versions. Python 2 was discontinued with version 2.7.18 in 2020.[36]\n",
    "\n",
    "Python consistently ranks as one of the most popular programming languages.\n",
    "\"\"\"\n",
    "\n",
    "Q5: Try to generate all the even numbers between 1 - 1000.\n",
    "\n",
    "Q6: Define a function for all the above problem statement.\n",
    "\n",
    "Q7: Write a code to get a time of your system.\n",
    "\n",
    "Q8: Write a code to fetch date from your system.\n",
    "\n",
    "Q9: Write a code to end a mail to your friend.\n",
    "\n",
    "Q10: Write a code to trigger an alarm for a scheduled time.\n",
    "\n",
    "Q11: Write a code to check ip address of your system.\n",
    "\n",
    "Q12: Write a code to check a particular installation in your ystem.\n",
    "\n",
    "Q13: Write a code to convert any text into voice.\n",
    "\n",
    "Q14: Write a function which will take tring and return the length of it without uing the len().\n",
    "\n",
    "Q15: Write a function which will be able to print an index of all premitive element which will be passed to it.\n",
    "\n",
    "Q16: Write a function which will take input as a dictionary and return a list of all the values even in case of 2 level nesting it should work.\n",
    "\n",
    "Q17: Write a function which will take multiple list as inputs and give me concatanation of all the elements as an output.\n",
    "\n",
    "Q18: Write a function which would return list of all the file name from a directory.\n",
    "\n",
    "Q19: Write a function which will be able to read an image file and show it to you.\n",
    "\n",
    "Q20: Write a function by which you will be able to append two PDF files.\n",
    "\n",
    "Q21: Write a function which can help you to filter only word file from a directory.\n",
    "\n",
    "Q22: Write a function which can read video file and play for you. \n",
    "\n",
    "Q23: Write a function which will be able to shutdonw your system.\n",
    "\n",
    "Q24: Write a function which will whould return list of all the file name from a directory.\n",
    "\n",
    "Q25: Write a function whihc will be able to access your mail."
   ]
  },
  {
   "cell_type": "code",
   "execution_count": null,
   "id": "3c16f498",
   "metadata": {},
   "outputs": [],
   "source": []
  }
 ],
 "metadata": {
  "kernelspec": {
   "display_name": "Python 3 (ipykernel)",
   "language": "python",
   "name": "python3"
  },
  "language_info": {
   "codemirror_mode": {
    "name": "ipython",
    "version": 3
   },
   "file_extension": ".py",
   "mimetype": "text/x-python",
   "name": "python",
   "nbconvert_exporter": "python",
   "pygments_lexer": "ipython3",
   "version": "3.9.7"
  }
 },
 "nbformat": 4,
 "nbformat_minor": 5
}
