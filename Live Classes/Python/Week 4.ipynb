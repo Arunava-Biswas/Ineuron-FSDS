{
 "cells": [
  {
   "cell_type": "markdown",
   "id": "a3114e0b",
   "metadata": {},
   "source": [
    "### Revision and Doubt clearing"
   ]
  },
  {
   "cell_type": "markdown",
   "id": "9236b01b",
   "metadata": {},
   "source": [
    "##### Week 3"
   ]
  },
  {
   "cell_type": "code",
   "execution_count": 3,
   "id": "faf0a8ee",
   "metadata": {},
   "outputs": [
    {
     "name": "stdout",
     "output_type": "stream",
     "text": [
      "Enter number of rows: 4\n",
      "ineuron \n",
      "ineuron ineuron \n",
      "ineuron ineuron ineuron \n",
      "ineuron ineuron ineuron ineuron \n",
      "\n"
     ]
    }
   ],
   "source": [
    "# It is a better way as no nested for loop is used\n",
    "\n",
    "\n",
    "row = int(input(\"Enter number of rows: \"))\n",
    "\n",
    "for i in range(row):\n",
    "    print(\"ineuron \" *(i+1))\n",
    "print()"
   ]
  },
  {
   "cell_type": "code",
   "execution_count": 10,
   "id": "d6e496e1",
   "metadata": {},
   "outputs": [
    {
     "name": "stdout",
     "output_type": "stream",
     "text": [
      "                                                  \n",
      "                   ineuron                        \n",
      "             ineuron     ineuron                  \n",
      "       ineuron     ineuron     ineuron            \n",
      "             ineuron     ineuron                  \n",
      "                   ineuron                        \n"
     ]
    }
   ],
   "source": [
    "for i in range(6):\n",
    "    if i <= 3:\n",
    "        n = i\n",
    "    else:\n",
    "        n = 6 - i\n",
    "    print((\"ineuron     \" * n).center(50, \" \"))"
   ]
  },
  {
   "cell_type": "code",
   "execution_count": 7,
   "id": "825d5974",
   "metadata": {},
   "outputs": [],
   "source": [
    "l = [[1,2,3,4] , (2,3,4,5,6) , (3,4,5,6,7) , set([23,4,5,45,4,4,5,45,45,4,5]) , \n",
    "     {'k1' : \"sudh\", 'k2' : \"ineuron\", 'k3' : \"kumar\", 3:6, 7:8} , ['ineuron', 'data science']]"
   ]
  },
  {
   "cell_type": "code",
   "execution_count": 11,
   "id": "034fc47c",
   "metadata": {},
   "outputs": [
    {
     "name": "stdout",
     "output_type": "stream",
     "text": [
      "Number of keys:  5\n"
     ]
    }
   ],
   "source": [
    "# Q11: Try to find out number of keys in dict element\n",
    "\n",
    "\n",
    "for i in l:\n",
    "    if type(i) == dict:\n",
    "        print(\"Number of keys: \",len(i))\n",
    "\n"
   ]
  },
  {
   "cell_type": "code",
   "execution_count": 24,
   "id": "6f8e29e3",
   "metadata": {},
   "outputs": [
    {
     "name": "stdout",
     "output_type": "stream",
     "text": [
      "<class 'list'> : 24\n",
      "<class 'tuple'> : 720\n",
      "<class 'tuple'> : 2520\n",
      "<class 'set'> : 20700\n",
      "<class 'dict'> : 1008\n",
      "<class 'list'> : 1\n"
     ]
    }
   ],
   "source": [
    "for i in l:\n",
    "    m = 1\n",
    "    if type(i) == list or type(i) == tuple or type(i) == set:\n",
    "        for j in i:\n",
    "            if type(j) == int:\n",
    "                m = m * j\n",
    "        print(type(i), \":\" ,m)\n",
    "        \n",
    "    if type(i) == dict:\n",
    "        for k in i.items():\n",
    "            for n in k:\n",
    "                if type(n) == int:\n",
    "                    m = m * n\n",
    "        print(type(i), \":\" ,m)"
   ]
  },
  {
   "cell_type": "markdown",
   "id": "742ec94f",
   "metadata": {},
   "source": [
    "#### Challenge 1"
   ]
  },
  {
   "cell_type": "code",
   "execution_count": 27,
   "id": "45142f77",
   "metadata": {},
   "outputs": [
    {
     "name": "stdout",
     "output_type": "stream",
     "text": [
      "Enter the number of rows: 9\n",
      "*  \n",
      "* *  \n",
      "* * *  \n",
      "* * * *  \n",
      "* * * * *  \n",
      "* * * * * *  \n",
      "* * * * * * *  \n",
      "* * * * * * * *  \n",
      "* * * * * * * * *  \n"
     ]
    }
   ],
   "source": [
    "# Q1: Try to print this using a while loop:\n",
    "\n",
    "# *\n",
    "# * *\n",
    "# * * *\n",
    "# * * * *\n",
    "# * * * * *\n",
    "# * * * * * * \n",
    "# * * * * * * *\n",
    "# * * * * * * * * \n",
    "# * * * * * * * * *\n",
    "\n",
    "m = int(input(\"Enter the number of rows: \" ))\n",
    "\n",
    "n = 1\n",
    "\n",
    "while n <= m:\n",
    "    print(\"* \" * n, end=\" \")\n",
    "    print()\n",
    "    n += 1"
   ]
  },
  {
   "cell_type": "code",
   "execution_count": 28,
   "id": "d5886b92",
   "metadata": {},
   "outputs": [
    {
     "name": "stdout",
     "output_type": "stream",
     "text": [
      "\n",
      " A\n",
      " B H\n",
      " C I N\n",
      " D J O S\n",
      " E K P T W\n",
      " F L Q U X Z\n",
      " G M R V Y\n"
     ]
    }
   ],
   "source": [
    "# Q2: Try to print using a while loop:\n",
    "\n",
    "# A\n",
    "# B H\n",
    "# C I N\n",
    "# D J O S\n",
    "# E K P T W\n",
    "# F L Q U X Z\n",
    "# G M R V Y\n",
    "\n",
    "\n",
    "\n",
    "x = 0\n",
    "\n",
    "while x < 8:\n",
    "    content = \"\"\n",
    "    y = 0\n",
    "    while y < x:\n",
    "        z = 0\n",
    "        sum = 0\n",
    "        while z < y:\n",
    "            sum += 6 - z\n",
    "            z += 1\n",
    "        if (x + 64 + sum) <= (64 + 26):\n",
    "            content += \" \" + chr(x + 64 + sum)\n",
    "        y += 1\n",
    "    print(content)\n",
    "    x += 1"
   ]
  },
  {
   "cell_type": "code",
   "execution_count": 29,
   "id": "c83eab4b",
   "metadata": {},
   "outputs": [
    {
     "name": "stdout",
     "output_type": "stream",
     "text": [
      "A \n",
      "B H \n",
      "C I N \n",
      "D J O S \n",
      "E K P T W \n",
      "F L Q U X Z \n",
      "G M R V Y \n"
     ]
    }
   ],
   "source": [
    "i = 0\n",
    "\n",
    "while i < 7:\n",
    "    c = 65 + i\n",
    "    j = 0\n",
    "    \n",
    "    while j < (i + 1):\n",
    "        if c == 91:\n",
    "            break\n",
    "        print(chr(c), end=\" \")\n",
    "        c = c + 6 - j\n",
    "        j += 1\n",
    "    i += 1\n",
    "    print()"
   ]
  },
  {
   "cell_type": "markdown",
   "id": "9d644609",
   "metadata": {},
   "source": [
    "### Functions"
   ]
  },
  {
   "cell_type": "code",
   "execution_count": 3,
   "id": "724c2dd5",
   "metadata": {},
   "outputs": [],
   "source": [
    "def test(a, b):\n",
    "#     This is for the docstring message of the function\n",
    "    '''This is my function for concatenation or addition'''\n",
    "    return a+b"
   ]
  },
  {
   "cell_type": "code",
   "execution_count": 4,
   "id": "9f565ab0",
   "metadata": {},
   "outputs": [
    {
     "data": {
      "text/plain": [
       "11"
      ]
     },
     "execution_count": 4,
     "metadata": {},
     "output_type": "execute_result"
    }
   ],
   "source": [
    "test(5,6)"
   ]
  },
  {
   "cell_type": "code",
   "execution_count": 5,
   "id": "308d8602",
   "metadata": {},
   "outputs": [],
   "source": [
    "def test1(a,b,c,d,e):\n",
    "    return a,b,c,d,e"
   ]
  },
  {
   "cell_type": "code",
   "execution_count": 6,
   "id": "4db95346",
   "metadata": {},
   "outputs": [
    {
     "ename": "TypeError",
     "evalue": "test1() takes 5 positional arguments but 6 were given",
     "output_type": "error",
     "traceback": [
      "\u001b[1;31m---------------------------------------------------------------------------\u001b[0m",
      "\u001b[1;31mTypeError\u001b[0m                                 Traceback (most recent call last)",
      "Input \u001b[1;32mIn [6]\u001b[0m, in \u001b[0;36m<module>\u001b[1;34m\u001b[0m\n\u001b[1;32m----> 1\u001b[0m \u001b[43mtest1\u001b[49m\u001b[43m(\u001b[49m\u001b[38;5;241;43m3\u001b[39;49m\u001b[43m,\u001b[49m\u001b[38;5;241;43m4\u001b[39;49m\u001b[43m,\u001b[49m\u001b[38;5;241;43m5\u001b[39;49m\u001b[43m,\u001b[49m\u001b[38;5;241;43m6\u001b[39;49m\u001b[43m,\u001b[49m\u001b[38;5;241;43m7\u001b[39;49m\u001b[43m,\u001b[49m\u001b[38;5;241;43m7\u001b[39;49m\u001b[43m)\u001b[49m\n",
      "\u001b[1;31mTypeError\u001b[0m: test1() takes 5 positional arguments but 6 were given"
     ]
    }
   ],
   "source": [
    "# it will throw error as the test1() will take 5 arguments\n",
    "\n",
    "test1(3,4,5,6,7,7)"
   ]
  },
  {
   "cell_type": "code",
   "execution_count": 7,
   "id": "b999b95d",
   "metadata": {},
   "outputs": [],
   "source": [
    "# The solution is '*args' so now we can provide any number of arguments in the function.\n",
    "# 'args' is not a keyword.\n",
    "# the '*' will return a tuple type.\n",
    "\n",
    "def test2(*a):\n",
    "    return a"
   ]
  },
  {
   "cell_type": "code",
   "execution_count": 8,
   "id": "d673a20c",
   "metadata": {},
   "outputs": [
    {
     "data": {
      "text/plain": [
       "(2, 3, 4, 5, 6, 7, 78, 8, 8)"
      ]
     },
     "execution_count": 8,
     "metadata": {},
     "output_type": "execute_result"
    }
   ],
   "source": [
    "test2(2,3,4,5,6,7,78,8,8)"
   ]
  },
  {
   "cell_type": "code",
   "execution_count": 9,
   "id": "d6d2ab1d",
   "metadata": {},
   "outputs": [],
   "source": [
    "# Create a function that will return a list of all the elements that are passed\n",
    "\n",
    "def test3(*a):\n",
    "    l = []\n",
    "    for i in a:\n",
    "        l.append(i)\n",
    "    return l"
   ]
  },
  {
   "cell_type": "code",
   "execution_count": 10,
   "id": "f503fba4",
   "metadata": {},
   "outputs": [
    {
     "data": {
      "text/plain": [
       "[2, 3, 4, 5, [345, 56, 5, 6]]"
      ]
     },
     "execution_count": 10,
     "metadata": {},
     "output_type": "execute_result"
    }
   ],
   "source": [
    "test3(2,3,4,5,[345,56,5,6])"
   ]
  },
  {
   "cell_type": "code",
   "execution_count": 12,
   "id": "e2c2cbfa",
   "metadata": {},
   "outputs": [],
   "source": [
    "# Now when we have '*' in the element\n",
    "\n",
    "def test4(a,b,c,d, *m):\n",
    "    return a,b,c,d,m"
   ]
  },
  {
   "cell_type": "code",
   "execution_count": 13,
   "id": "b1030625",
   "metadata": {},
   "outputs": [
    {
     "data": {
      "text/plain": [
       "(3, 4, 5, 6, (6, 7, 7, 8, 8))"
      ]
     },
     "execution_count": 13,
     "metadata": {},
     "output_type": "execute_result"
    }
   ],
   "source": [
    "test4(3,4,5,6,6,7,7,8,8)"
   ]
  },
  {
   "cell_type": "code",
   "execution_count": 14,
   "id": "597d62fc",
   "metadata": {},
   "outputs": [],
   "source": [
    "def test5(*m, a,b,c,d,e):\n",
    "    return m,a,b,c,d,e"
   ]
  },
  {
   "cell_type": "code",
   "execution_count": 15,
   "id": "2aa09ac5",
   "metadata": {},
   "outputs": [
    {
     "ename": "TypeError",
     "evalue": "test5() missing 5 required keyword-only arguments: 'a', 'b', 'c', 'd', and 'e'",
     "output_type": "error",
     "traceback": [
      "\u001b[1;31m---------------------------------------------------------------------------\u001b[0m",
      "\u001b[1;31mTypeError\u001b[0m                                 Traceback (most recent call last)",
      "Input \u001b[1;32mIn [15]\u001b[0m, in \u001b[0;36m<module>\u001b[1;34m\u001b[0m\n\u001b[1;32m----> 1\u001b[0m \u001b[43mtest5\u001b[49m\u001b[43m(\u001b[49m\u001b[38;5;241;43m4\u001b[39;49m\u001b[43m,\u001b[49m\u001b[38;5;241;43m5\u001b[39;49m\u001b[43m,\u001b[49m\u001b[38;5;241;43m6\u001b[39;49m\u001b[43m,\u001b[49m\u001b[38;5;241;43m7\u001b[39;49m\u001b[43m,\u001b[49m\u001b[38;5;241;43m6\u001b[39;49m\u001b[43m,\u001b[49m\u001b[38;5;241;43m4\u001b[39;49m\u001b[43m,\u001b[49m\u001b[38;5;241;43m56\u001b[39;49m\u001b[43m,\u001b[49m\u001b[38;5;241;43m7\u001b[39;49m\u001b[43m,\u001b[49m\u001b[38;5;241;43m8\u001b[39;49m\u001b[43m,\u001b[49m\u001b[38;5;241;43m6\u001b[39;49m\u001b[43m,\u001b[49m\u001b[38;5;241;43m44.778\u001b[39;49m\u001b[43m,\u001b[49m\u001b[38;5;241;43m89\u001b[39;49m\u001b[43m)\u001b[49m\n",
      "\u001b[1;31mTypeError\u001b[0m: test5() missing 5 required keyword-only arguments: 'a', 'b', 'c', 'd', and 'e'"
     ]
    }
   ],
   "source": [
    "test5(4,5,6,7,6,4,56,7,8,6,44.778,89)"
   ]
  },
  {
   "cell_type": "code",
   "execution_count": 18,
   "id": "49d60bfa",
   "metadata": {},
   "outputs": [
    {
     "data": {
      "text/plain": [
       "((4, 5, 6, 6, 4, 56), 7, 8, 6, 7, 44.778)"
      ]
     },
     "execution_count": 18,
     "metadata": {},
     "output_type": "execute_result"
    }
   ],
   "source": [
    "#  to solve it use named assignments\n",
    "\n",
    "test5(4,5,6,6,4,56,a = 7,b = 8,c = 6,d = 7,e = 44.778)"
   ]
  },
  {
   "cell_type": "code",
   "execution_count": 19,
   "id": "b122f0a4",
   "metadata": {},
   "outputs": [],
   "source": [
    "# Now to pass the dataset as dictionary we use '**kwargs'.\n",
    "# 'kwargs' is not a keyword.\n",
    "# It returns dict data type.\n",
    "# It will not take a dictionary as a variable.\n",
    "# Always pass key:value pair.\n",
    "\n",
    "def test6(**arun):\n",
    "    return arun"
   ]
  },
  {
   "cell_type": "code",
   "execution_count": 20,
   "id": "c558553a",
   "metadata": {},
   "outputs": [
    {
     "data": {
      "text/plain": [
       "{'b': 4, 'c': 6, 'd': 7, 'f': 8}"
      ]
     },
     "execution_count": 20,
     "metadata": {},
     "output_type": "execute_result"
    }
   ],
   "source": [
    "# always pass a key:value pair to get a result\n",
    "\n",
    "test6(b =4,c=6,d=7,f=8)"
   ]
  },
  {
   "cell_type": "code",
   "execution_count": 22,
   "id": "b96e4f4f",
   "metadata": {},
   "outputs": [],
   "source": [
    "# Now using both\n",
    "\n",
    "def test7(*m, **s):\n",
    "    return m, s"
   ]
  },
  {
   "cell_type": "code",
   "execution_count": 23,
   "id": "e7e40d7a",
   "metadata": {},
   "outputs": [
    {
     "data": {
      "text/plain": [
       "((34, 4, 6, 5, 6, 56), {'b': 4, 'c': 6, 'd': 7, 'f': 8})"
      ]
     },
     "execution_count": 23,
     "metadata": {},
     "output_type": "execute_result"
    }
   ],
   "source": [
    "test7(34,4,6,5,6,56,b =4,c=6,d=7,f=8)"
   ]
  },
  {
   "cell_type": "code",
   "execution_count": 24,
   "id": "77a791cf",
   "metadata": {},
   "outputs": [],
   "source": [
    "# Create a function that will take multiple inputs and return the sum of the inputs\n",
    "\n",
    "def test8(*a):\n",
    "    n = 0\n",
    "    for i in a:\n",
    "        if type(i) == int:\n",
    "            n += i\n",
    "    return n"
   ]
  },
  {
   "cell_type": "code",
   "execution_count": 25,
   "id": "85d27053",
   "metadata": {},
   "outputs": [
    {
     "data": {
      "text/plain": [
       "55"
      ]
     },
     "execution_count": 25,
     "metadata": {},
     "output_type": "execute_result"
    }
   ],
   "source": [
    "test8(1,2,3,4,5,6,7,8,9,10)"
   ]
  },
  {
   "cell_type": "code",
   "execution_count": 27,
   "id": "2f66441e",
   "metadata": {},
   "outputs": [],
   "source": [
    "# Create an anonymous function or lambda function or inline function\n",
    "\n",
    "n = lambda a,b: a + b"
   ]
  },
  {
   "cell_type": "code",
   "execution_count": 28,
   "id": "9e4936de",
   "metadata": {},
   "outputs": [
    {
     "data": {
      "text/plain": [
       "9"
      ]
     },
     "execution_count": 28,
     "metadata": {},
     "output_type": "execute_result"
    }
   ],
   "source": [
    "n(4,5)"
   ]
  },
  {
   "cell_type": "code",
   "execution_count": 29,
   "id": "c5a26adb",
   "metadata": {},
   "outputs": [],
   "source": [
    "# create a lambda function of the *\n",
    "\n",
    "m = lambda *a : a"
   ]
  },
  {
   "cell_type": "code",
   "execution_count": 30,
   "id": "64ff11e7",
   "metadata": {},
   "outputs": [
    {
     "data": {
      "text/plain": [
       "(3, 4, 5, 6, 7, 8)"
      ]
     },
     "execution_count": 30,
     "metadata": {},
     "output_type": "execute_result"
    }
   ],
   "source": [
    "m(3,4,5,6,7,8)"
   ]
  },
  {
   "cell_type": "code",
   "execution_count": 1,
   "id": "f55a3c4e",
   "metadata": {},
   "outputs": [
    {
     "ename": "SyntaxError",
     "evalue": "invalid syntax (767095859.py, line 2)",
     "output_type": "error",
     "traceback": [
      "\u001b[1;36m  Input \u001b[1;32mIn [1]\u001b[1;36m\u001b[0m\n\u001b[1;33m    square = lambda x : x*x if(x > 0)\u001b[0m\n\u001b[1;37m                                     ^\u001b[0m\n\u001b[1;31mSyntaxError\u001b[0m\u001b[1;31m:\u001b[0m invalid syntax\n"
     ]
    }
   ],
   "source": [
    "# Lambda function with if but without else.\n",
    "square = lambda x : x*x if(x > 0)\n",
    " \n",
    "print(square(6))"
   ]
  },
  {
   "cell_type": "markdown",
   "id": "06dcbe89",
   "metadata": {},
   "source": [
    "**The above code on execution shows SyntaxError, as we know that a lambda function must return a value and this function returns x*x if x > 0 and it does not specify what will be returned if the value of x is less than or equal to 0.**\n",
    "\n",
    "**To correct it, we need to specify what will be returned if the if-condition will be false i.e. we must have to specify its else part.**\n",
    "\n",
    "Let’s see the above code with its else part."
   ]
  },
  {
   "cell_type": "code",
   "execution_count": 2,
   "id": "d87c20f6",
   "metadata": {},
   "outputs": [
    {
     "name": "stdout",
     "output_type": "stream",
     "text": [
      "16\n"
     ]
    }
   ],
   "source": [
    "\n",
    "# Lambda function with if-else\n",
    "square = lambda x : x*x if(x > 0) else None\n",
    " \n",
    "print(square(4))"
   ]
  },
  {
   "cell_type": "markdown",
   "id": "207112ca",
   "metadata": {},
   "source": [
    "### Comprehension operations:"
   ]
  },
  {
   "cell_type": "code",
   "execution_count": 31,
   "id": "39ac75c6",
   "metadata": {},
   "outputs": [],
   "source": [
    "t = (3,4,4,5,5,6,67,7,7)"
   ]
  },
  {
   "cell_type": "code",
   "execution_count": 32,
   "id": "e26de5f0",
   "metadata": {},
   "outputs": [
    {
     "data": {
      "text/plain": [
       "[3, 4, 4, 5, 5, 6, 67, 7, 7]"
      ]
     },
     "execution_count": 32,
     "metadata": {},
     "output_type": "execute_result"
    }
   ],
   "source": [
    "# List comprehension\n",
    "\n",
    "l = [i for i in t]\n",
    "l"
   ]
  },
  {
   "cell_type": "code",
   "execution_count": 34,
   "id": "39ed1f66",
   "metadata": {},
   "outputs": [
    {
     "data": {
      "text/plain": [
       "[1, 4, 9, 16, 25, 36, 49, 64, 81, 100]"
      ]
     },
     "execution_count": 34,
     "metadata": {},
     "output_type": "execute_result"
    }
   ],
   "source": [
    "# square of each number till 10\n",
    "\n",
    "l = [i*i for i in range(1,11)]\n",
    "l"
   ]
  },
  {
   "cell_type": "code",
   "execution_count": 36,
   "id": "dc8daa05",
   "metadata": {},
   "outputs": [],
   "source": [
    "l = lambda *x : [i**2 for i in x]"
   ]
  },
  {
   "cell_type": "code",
   "execution_count": 37,
   "id": "f3b61ed1",
   "metadata": {},
   "outputs": [
    {
     "data": {
      "text/plain": [
       "[16, 2025, 25, 36, 36, 49, 64, 81]"
      ]
     },
     "execution_count": 37,
     "metadata": {},
     "output_type": "execute_result"
    }
   ],
   "source": [
    "# getting square of each input in the list\n",
    "\n",
    "l(4,45,5,6,6,7,8,9)"
   ]
  },
  {
   "cell_type": "code",
   "execution_count": 40,
   "id": "e85fb7ef",
   "metadata": {},
   "outputs": [],
   "source": [
    "# pass multiple key value pair to find number of strings passed\n",
    "\n",
    "def test(**kwargs):\n",
    "    count = 0\n",
    "    for v in kwargs.values():\n",
    "        if type(v) == str or type(v) == list:\n",
    "            count += 1\n",
    "    return count"
   ]
  },
  {
   "cell_type": "code",
   "execution_count": 41,
   "id": "12e94eed",
   "metadata": {},
   "outputs": [
    {
     "data": {
      "text/plain": [
       "3"
      ]
     },
     "execution_count": 41,
     "metadata": {},
     "output_type": "execute_result"
    }
   ],
   "source": [
    "test(a = 7, b = \"arun\", c =345, d = \"biswas\", l =[2,3,4,5, \"arun\"])"
   ]
  },
  {
   "cell_type": "code",
   "execution_count": 42,
   "id": "ec6fc8d5",
   "metadata": {},
   "outputs": [],
   "source": [
    "# return a list of all the data we passed\n",
    "\n",
    "def test(**kwargs):\n",
    "    return list(kwargs.values())"
   ]
  },
  {
   "cell_type": "code",
   "execution_count": 43,
   "id": "b42f654f",
   "metadata": {},
   "outputs": [
    {
     "data": {
      "text/plain": [
       "[7, 'arun', 345, 'biswas', [2, 3, 4, 5, 'arun']]"
      ]
     },
     "execution_count": 43,
     "metadata": {},
     "output_type": "execute_result"
    }
   ],
   "source": [
    "test(a = 7, b = \"arun\", c =345, d = \"biswas\", l =[2,3,4,5, \"arun\"])"
   ]
  },
  {
   "cell_type": "raw",
   "id": "fccdd44f",
   "metadata": {},
   "source": [
    "Today's task:\n",
    "\n",
    "Q1. Try to print a prime number between 1 to 1000.\n",
    "Q2. Try to write a function which is equivalent to print function in python.\n",
    "Q3. Try to write a function which is a replica of list append, extend and pop function.\n",
    "Q4. Try to write a lambda function which can return a concatenation of all the string that are passed to it.\n",
    "Q5. Try to write a lambda function which can return list of square of all the data between 1 to 100.\n",
    "Q6. Try to write a 10 different different examples of lambda function with a choice of your task.\n",
    "Q7. Try to write a function which can perform a read operation from .txt file.\n",
    "\n",
    "Before 11-06-2022:\n",
    "\n",
    "shivan@ineuron.ai\n",
    "sudhanshu@ineuron.ai"
   ]
  },
  {
   "cell_type": "markdown",
   "id": "e8b72f80",
   "metadata": {},
   "source": [
    "When using `sys.stdout.write()` in place of `print()` always use return so the number of characters will not shown as it is default in `sys.stdout.write()`."
   ]
  },
  {
   "cell_type": "code",
   "execution_count": 3,
   "id": "5617be55",
   "metadata": {},
   "outputs": [
    {
     "name": "stdout",
     "output_type": "stream",
     "text": [
      "Hello world"
     ]
    },
    {
     "data": {
      "text/plain": [
       "11"
      ]
     },
     "execution_count": 3,
     "metadata": {},
     "output_type": "execute_result"
    }
   ],
   "source": [
    "import sys\n",
    "\n",
    "sys.stdout.write(\"Hello world\")"
   ]
  },
  {
   "cell_type": "code",
   "execution_count": null,
   "id": "a1e5000b",
   "metadata": {},
   "outputs": [],
   "source": []
  }
 ],
 "metadata": {
  "kernelspec": {
   "display_name": "Python 3 (ipykernel)",
   "language": "python",
   "name": "python3"
  },
  "language_info": {
   "codemirror_mode": {
    "name": "ipython",
    "version": 3
   },
   "file_extension": ".py",
   "mimetype": "text/x-python",
   "name": "python",
   "nbconvert_exporter": "python",
   "pygments_lexer": "ipython3",
   "version": "3.9.7"
  }
 },
 "nbformat": 4,
 "nbformat_minor": 5
}
