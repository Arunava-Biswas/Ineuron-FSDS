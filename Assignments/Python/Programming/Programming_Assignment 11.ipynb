{
 "cells": [
  {
   "cell_type": "raw",
   "id": "651ebc4b",
   "metadata": {},
   "source": [
    "1.\tWrite a Python program to find words which are greater than given length k?\n",
    "2.\tWrite a Python program for removing i-th character from a string?\n",
    "3.\tWrite a Python program to split and join a string?\n",
    "4.\tWrite a Python to check if a given string is binary string or not?\n",
    "5.\tWrite a Python program to find uncommon words from two Strings?\n",
    "6.\tWrite a Python to find all duplicate characters in string?\n",
    "7.\tWrite a Python Program to check if a string contains any special character?\n"
   ]
  },
  {
   "cell_type": "markdown",
   "id": "a60258f3",
   "metadata": {},
   "source": [
    "#### 1.\tWrite a Python program to find words which are greater than given length k?"
   ]
  },
  {
   "cell_type": "code",
   "execution_count": 4,
   "id": "f45c8da2",
   "metadata": {},
   "outputs": [
    {
     "name": "stdout",
     "output_type": "stream",
     "text": [
      "Enter the string: This iNeuron Full Stack Data Science Course is Awesome\n",
      "Enter the length of the string: 4\n",
      "The words in the string which are greater than the word length of 4 are:\n",
      "iNeuron,Stack,Science,Course,Awesome\n"
     ]
    }
   ],
   "source": [
    "# Taking user inputs\n",
    "in_string = input(\"Enter the string: \")\n",
    "in_length = int(input('Enter the length of the string: '))\n",
    "\n",
    "# Defining the function\n",
    "def checkLengthOfString(in_string, in_length):\n",
    "    out_string = []\n",
    "    for string in in_string.split(\" \"):\n",
    "        if len(string) > in_length:\n",
    "            out_string.append(string)\n",
    "    return out_string\n",
    "    \n",
    "# Calling the function\n",
    "out_string = checkLengthOfString(in_string, in_length)\n",
    "print(f'The words in the string which are greater than the word length of {in_length} are:')\n",
    "print(','.join(out_string))"
   ]
  },
  {
   "cell_type": "markdown",
   "id": "b0442291",
   "metadata": {},
   "source": [
    "#### 2.\tWrite a Python program for removing i-th character from a string?"
   ]
  },
  {
   "cell_type": "code",
   "execution_count": 5,
   "id": "22cc5ad2",
   "metadata": {},
   "outputs": [
    {
     "name": "stdout",
     "output_type": "stream",
     "text": [
      "Enter the string: ineuron\n",
      "Enter the ith Character: 3\n",
      "The string after removing the ith character is: ineron\n"
     ]
    }
   ],
   "source": [
    "# Taking user inputs\n",
    "in_string = input(\"Enter the string: \")\n",
    "in_num = int(input('Enter the ith Character: '))\n",
    "\n",
    "# Defining the function\n",
    "def removeCharacter(in_string, in_num):\n",
    "    out_string = ''\n",
    "    for i in range(len(in_string)):\n",
    "        if i != in_num:\n",
    "            out_string += in_string[i]\n",
    "    return out_string\n",
    "    \n",
    "# Calling the function\n",
    "out_string = removeCharacter(in_string, in_num)\n",
    "print(f'The string after removing the ith character is: {out_string}')"
   ]
  },
  {
   "cell_type": "markdown",
   "id": "1f844cf0",
   "metadata": {},
   "source": [
    "#### 3.\tWrite a Python program to split and join a string?"
   ]
  },
  {
   "cell_type": "code",
   "execution_count": 8,
   "id": "2e5ae4a4",
   "metadata": {},
   "outputs": [
    {
     "name": "stdout",
     "output_type": "stream",
     "text": [
      "Enter the string: iNeuron Full Stack Data Science Course\n",
      "After spliting the string: ['iNeuron', 'Full', 'Stack', 'Data', 'Science', 'Course']\n",
      "After joining the string: iNeuron Full Stack Data Science Course\n"
     ]
    }
   ],
   "source": [
    "# Taking user inputs\n",
    "in_string = input(\"Enter the string: \")\n",
    "\n",
    "# Defining the function\n",
    "def split_join_string(in_string):\n",
    "    split_string = in_string.split(' ')       # spliting the string using ' ' as a seperator\n",
    "    join_string = (' '.join(split_string))  # joining the string using ' ' as a seperator\n",
    "    return split_string, join_string\n",
    "\n",
    "# Calling the function\n",
    "split_string, join_string = split_join_string(in_string)\n",
    "print(f'After spliting the string: {split_string}')\n",
    "print(f'After joining the string: {join_string}')"
   ]
  },
  {
   "cell_type": "markdown",
   "id": "261ffb8b",
   "metadata": {},
   "source": [
    "#### 4.\tWrite a Python to check if a given string is binary string or not?"
   ]
  },
  {
   "cell_type": "code",
   "execution_count": 11,
   "id": "d31f040f",
   "metadata": {},
   "outputs": [],
   "source": [
    "\n",
    "# Defining the function\n",
    "def check_binary(in_string):\n",
    "    bit = 0\n",
    "    for i in in_string:\n",
    "        if i in ['0', '1']:\n",
    "            bit = 1\n",
    "            continue\n",
    "        else:\n",
    "            bit = 0\n",
    "            break\n",
    "            \n",
    "    if bit == 1:\n",
    "        return \"is a binary string\"\n",
    "    else:\n",
    "        return \"is not a binary string\"\n",
    "    "
   ]
  },
  {
   "cell_type": "code",
   "execution_count": 12,
   "id": "41512cc6",
   "metadata": {},
   "outputs": [
    {
     "name": "stdout",
     "output_type": "stream",
     "text": [
      "Enter the string: 1234\n",
      "1234 is not a binary string\n"
     ]
    }
   ],
   "source": [
    "# Taking user inputs\n",
    "in_string = input(\"Enter the string: \")\n",
    "\n",
    "# Calling the function\n",
    "statement = check_binary(in_string)\n",
    "print(f'{in_string} {statement}')"
   ]
  },
  {
   "cell_type": "code",
   "execution_count": 13,
   "id": "1a15d6f4",
   "metadata": {},
   "outputs": [
    {
     "name": "stdout",
     "output_type": "stream",
     "text": [
      "Enter the string: 1100110\n",
      "1100110 is a binary string\n"
     ]
    }
   ],
   "source": [
    "# Taking user inputs\n",
    "in_string = input(\"Enter the string: \")\n",
    "\n",
    "# Calling the function\n",
    "statement = check_binary(in_string)\n",
    "print(f'{in_string} {statement}')"
   ]
  },
  {
   "cell_type": "markdown",
   "id": "92088cae",
   "metadata": {},
   "source": [
    "#### 5.\tWrite a Python program to find uncommon words from two Strings?"
   ]
  },
  {
   "cell_type": "code",
   "execution_count": 14,
   "id": "903b1af7",
   "metadata": {},
   "outputs": [
    {
     "name": "stdout",
     "output_type": "stream",
     "text": [
      "Enter the string1: Supervised Machine Learning\n",
      "Enter the string2: Unsupervised Machine Learning\n",
      "The uncommon words are: {'Supervised', 'Unsupervised'}\n"
     ]
    }
   ],
   "source": [
    "# Taking user inputs\n",
    "str1 = input(\"Enter the string1: \")\n",
    "str2 = input(\"Enter the string2: \")\n",
    "\n",
    "\n",
    "# Defining the function\n",
    "def unCommonWords(str1, str2):\n",
    "    in_string_1 = set(str1.split(' '))\n",
    "    in_string_2 = set(str2.split(' '))\n",
    "    out_string = (in_string_1.union(in_string_2)).difference(in_string_1.intersection(in_string_2))\n",
    "    return out_string\n",
    "\n",
    "\n",
    "# Calling the function\n",
    "result = unCommonWords(str1, str2)\n",
    "print(f'The uncommon words are: {result}')"
   ]
  },
  {
   "cell_type": "markdown",
   "id": "bab41bc1",
   "metadata": {},
   "source": [
    "#### 6.\tWrite a Python to find all duplicate characters in string?"
   ]
  },
  {
   "cell_type": "code",
   "execution_count": 15,
   "id": "e9e7047c",
   "metadata": {},
   "outputs": [
    {
     "name": "stdout",
     "output_type": "stream",
     "text": [
      "Enter the string: ineuron full stack data science course\n",
      "The duplicate characters in the string are: ['a', 'i', 'o', 'c', 's', 'n', ' ', 'l', 't', 'e', 'u', 'r']\n"
     ]
    }
   ],
   "source": [
    "# Taking user input\n",
    "in_str = input(\"Enter the string: \")\n",
    "\n",
    "# Defining the function\n",
    "def duplicateChars(in_str):\n",
    "    non_dupl_list = []\n",
    "    dupl_list = []\n",
    "    \n",
    "    for i in in_str:\n",
    "        if i not in non_dupl_list:\n",
    "            non_dupl_list.append(i)\n",
    "        else:\n",
    "            dupl_list.append(i)\n",
    "            \n",
    "    return dupl_list\n",
    "\n",
    "# Calling the function\n",
    "result = duplicateChars(in_str)\n",
    "print(f'The duplicate characters in the string are: {list(set(result))}')"
   ]
  },
  {
   "cell_type": "markdown",
   "id": "ceadbe66",
   "metadata": {},
   "source": [
    "#### 7.\tWrite a Python Program to check if a string contains any special character?"
   ]
  },
  {
   "cell_type": "code",
   "execution_count": 32,
   "id": "4327477b",
   "metadata": {},
   "outputs": [],
   "source": [
    "# in_string = 'DS @ Ineuron by Sudhanshu & krish'\n",
    "\n",
    "# Defining the function\n",
    "def checkSpecialChar(num):\n",
    "    spl_chars = '[@_!#$%^&*()<>?/\\|}{~:]'\n",
    "    count = 0\n",
    "    char_list = []\n",
    "    for i in num:\n",
    "        if i in spl_chars:\n",
    "            char_list.append(i)\n",
    "            count += 1\n",
    "    return count, char_list\n",
    "    \n",
    "# count, char_list = checkSpecialChar(in_string)\n",
    "# print(count, char_list)"
   ]
  },
  {
   "cell_type": "code",
   "execution_count": 37,
   "id": "9a1103a4",
   "metadata": {},
   "outputs": [
    {
     "name": "stdout",
     "output_type": "stream",
     "text": [
      "Enter the string: DS @ Ineuron by Sudhanshu & krish\n",
      "There are 2 number of Speical Characters in DS @ Ineuron by Sudhanshu & krish which are: ['@', '&']\n"
     ]
    }
   ],
   "source": [
    "# Taking user inputs\n",
    "in_str = input('Enter the string: ')\n",
    "\n",
    "# Calling the function\n",
    "count, char_list = checkSpecialChar(in_str)\n",
    "print(f'There are {count} number of Speical Characters in {in_str} which are: {char_list}')"
   ]
  },
  {
   "cell_type": "code",
   "execution_count": 38,
   "id": "7189cdbb",
   "metadata": {},
   "outputs": [
    {
     "name": "stdout",
     "output_type": "stream",
     "text": [
      "Enter the string: iNeuron course : FSDS\n",
      "There are 1 number of Speical Characters in iNeuron course : FSDS which are: [':']\n"
     ]
    }
   ],
   "source": [
    "# Taking user inputs\n",
    "in_str = input('Enter the string: ')\n",
    "\n",
    "# Calling the function\n",
    "count, char_list = checkSpecialChar(in_str)\n",
    "print(f'There are {count} number of Speical Characters in {in_str} which are: {char_list}')"
   ]
  },
  {
   "cell_type": "code",
   "execution_count": null,
   "id": "713bec37",
   "metadata": {},
   "outputs": [],
   "source": []
  }
 ],
 "metadata": {
  "kernelspec": {
   "display_name": "Python 3 (ipykernel)",
   "language": "python",
   "name": "python3"
  },
  "language_info": {
   "codemirror_mode": {
    "name": "ipython",
    "version": 3
   },
   "file_extension": ".py",
   "mimetype": "text/x-python",
   "name": "python",
   "nbconvert_exporter": "python",
   "pygments_lexer": "ipython3",
   "version": "3.9.7"
  }
 },
 "nbformat": 4,
 "nbformat_minor": 5
}
