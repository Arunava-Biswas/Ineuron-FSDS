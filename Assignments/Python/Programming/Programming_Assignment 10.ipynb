{
 "cells": [
  {
   "cell_type": "raw",
   "id": "f55a9eaa",
   "metadata": {},
   "source": [
    "1.\tWrite a Python program to find sum of elements in list?\n",
    "2.\tWrite a Python program to  Multiply all numbers in the list?\n",
    "3.\tWrite a Python program to find smallest number in a list?\n",
    "4.\tWrite a Python program to find largest number in a list?\n",
    "5.\tWrite a Python program to find second largest number in a list?\n",
    "6.\tWrite a Python program to find N largest elements from a list?\n",
    "7.\tWrite a Python program to print even numbers in a list?\n",
    "8.\tWrite a Python program to print odd numbers in a List?\n",
    "9.\tWrite a Python program to Remove empty List from List?\n",
    "10.\tWrite a Python program to Cloning or Copying a list?\n",
    "11.\tWrite a Python program to Count occurrences of an element in a list?\n"
   ]
  },
  {
   "cell_type": "markdown",
   "id": "1749a121",
   "metadata": {},
   "source": [
    "#### 1.\tWrite a Python program to find sum of elements in list?"
   ]
  },
  {
   "cell_type": "code",
   "execution_count": 3,
   "id": "3e48c255",
   "metadata": {},
   "outputs": [
    {
     "name": "stdout",
     "output_type": "stream",
     "text": [
      "The sum of elements in the list is:  45\n"
     ]
    }
   ],
   "source": [
    "# List\n",
    "lst = [1,2,3,4,5,6,7,8,9]\n",
    "\n",
    "# Defining the function\n",
    "def sum_list(l):\n",
    "    sum = 0\n",
    "    for i in l:\n",
    "        sum += i\n",
    "    return sum\n",
    "\n",
    "\n",
    "# Calling the function\n",
    "result = sum_list(lst)\n",
    "print(\"The sum of elements in the list is: \", result)"
   ]
  },
  {
   "cell_type": "markdown",
   "id": "8c069f14",
   "metadata": {},
   "source": [
    "#### 2.\tWrite a Python program to  Multiply all numbers in the list?"
   ]
  },
  {
   "cell_type": "code",
   "execution_count": 7,
   "id": "26349011",
   "metadata": {},
   "outputs": [
    {
     "name": "stdout",
     "output_type": "stream",
     "text": [
      "The multiplication of elements in the list is:  5040\n"
     ]
    }
   ],
   "source": [
    "# List\n",
    "lst = [1,2,3,4,5,6,7]\n",
    "\n",
    "# Defining the function\n",
    "def mult_list(l):\n",
    "    mult = 1\n",
    "    for i in l:\n",
    "        mult *= i\n",
    "    return mult\n",
    "\n",
    "\n",
    "# Calling the function\n",
    "result = mult_list(lst)\n",
    "print(\"The multiplication of elements in the list is: \", result)"
   ]
  },
  {
   "cell_type": "markdown",
   "id": "7c8b7bcb",
   "metadata": {},
   "source": [
    "#### 3.\tWrite a Python program to find smallest number in a list?"
   ]
  },
  {
   "cell_type": "code",
   "execution_count": 12,
   "id": "713ce816",
   "metadata": {},
   "outputs": [
    {
     "name": "stdout",
     "output_type": "stream",
     "text": [
      "The smallest number in the list [21, 32, 13, 478, 5, 66, 87] is 5\n"
     ]
    }
   ],
   "source": [
    "# List\n",
    "lst = [21,32,13,478,5,66,87]\n",
    "\n",
    "# Defining the function\n",
    "def sml_list(l):\n",
    "    r = len(l)\n",
    "    for i in range(r):\n",
    "        sml_l = sorted(l)[0]\n",
    "    return sml_l\n",
    "\n",
    "# Calling the function\n",
    "result = sml_list(lst)\n",
    "print(f\"The smallest number in the list {lst} is {result}\")"
   ]
  },
  {
   "cell_type": "markdown",
   "id": "d8641306",
   "metadata": {},
   "source": [
    "#### 4.\tWrite a Python program to find largest number in a list?"
   ]
  },
  {
   "cell_type": "code",
   "execution_count": 15,
   "id": "5a8c1859",
   "metadata": {},
   "outputs": [
    {
     "name": "stdout",
     "output_type": "stream",
     "text": [
      "The largest number in the list [21, 32, 13, 478, 5, 66, 87] is 478\n"
     ]
    }
   ],
   "source": [
    "# List\n",
    "lst = [21,32,13,478,5,66,87]\n",
    "\n",
    "# Defining the function\n",
    "def lar_list(l):\n",
    "    r = len(l)\n",
    "    for i in range(r):\n",
    "        lar_l = sorted(l)[-1]\n",
    "    return lar_l\n",
    "\n",
    "# Calling the function\n",
    "result = lar_list(lst)\n",
    "print(f\"The largest number in the list {lst} is {result}\")"
   ]
  },
  {
   "cell_type": "markdown",
   "id": "132d8700",
   "metadata": {},
   "source": [
    "#### 5.\tWrite a Python program to find second largest number in a list?"
   ]
  },
  {
   "cell_type": "code",
   "execution_count": 16,
   "id": "8ef2f44d",
   "metadata": {},
   "outputs": [
    {
     "name": "stdout",
     "output_type": "stream",
     "text": [
      "The second largest number in the list [21, 32, 13, 478, 5, 66, 87] is 87\n"
     ]
    }
   ],
   "source": [
    "# List\n",
    "lst = [21,32,13,478,5,66,87]\n",
    "\n",
    "# Defining the function\n",
    "def lar_list(l):\n",
    "    r = len(l)\n",
    "    for i in range(r):\n",
    "        lar_l = sorted(l)[-2]\n",
    "    return lar_l\n",
    "\n",
    "# Calling the function\n",
    "result = lar_list(lst)\n",
    "print(f\"The second largest number in the list {lst} is {result}\")"
   ]
  },
  {
   "cell_type": "markdown",
   "id": "8975406b",
   "metadata": {},
   "source": [
    "#### 6.\tWrite a Python program to find N largest elements from a list?"
   ]
  },
  {
   "cell_type": "code",
   "execution_count": 20,
   "id": "fbd1a826",
   "metadata": {},
   "outputs": [
    {
     "name": "stdout",
     "output_type": "stream",
     "text": [
      "The 4 largest elements in the list [21, 32, 13, 478, 5, 66, 87, 65, 23, 435, 7, 91] are [478, 435, 91, 87]\n"
     ]
    }
   ],
   "source": [
    "# List\n",
    "lst = [21,32,13,478,5,66,87,65,23,435,7,91]\n",
    "\n",
    "# Number of elements\n",
    "num_ele = 4\n",
    "\n",
    "# Defining the function\n",
    "def n_lar_list(l,n):\n",
    "    r = len(l)\n",
    "    for i in range(r):\n",
    "        lar_l = sorted(l, reverse=True)[0:n]\n",
    "    return lar_l\n",
    "\n",
    "# # Calling the function\n",
    "result = n_lar_list(lst,num_ele)\n",
    "print(f\"The {num_ele} largest elements in the list {lst} are {result}\")"
   ]
  },
  {
   "cell_type": "markdown",
   "id": "9e1256b5",
   "metadata": {},
   "source": [
    "#### 7.\tWrite a Python program to print even numbers in a list?"
   ]
  },
  {
   "cell_type": "code",
   "execution_count": 23,
   "id": "43b33844",
   "metadata": {},
   "outputs": [
    {
     "name": "stdout",
     "output_type": "stream",
     "text": [
      "The even numbers in the list [21, 32, 13, 478, 5, 66, 87, 65, 23, 435, 7, 91] are [32, 478, 66]\n"
     ]
    }
   ],
   "source": [
    "# List\n",
    "lst = [21,32,13,478,5,66,87,65,23,435,7,91]\n",
    "\n",
    "# Defining the function\n",
    "def lar_list(l):\n",
    "    lar_l = [i for i in l if i%2 == 0]          # Using list comprehension\n",
    "    return lar_l\n",
    "\n",
    "# Calling the function\n",
    "result = lar_list(lst)\n",
    "print(f\"The even numbers in the list {lst} are {result}\")"
   ]
  },
  {
   "cell_type": "markdown",
   "id": "65d91d5a",
   "metadata": {},
   "source": [
    "#### 8.\tWrite a Python program to print odd numbers in a List?"
   ]
  },
  {
   "cell_type": "code",
   "execution_count": 24,
   "id": "b00635b4",
   "metadata": {},
   "outputs": [
    {
     "name": "stdout",
     "output_type": "stream",
     "text": [
      "The odd numbers in the list [21, 32, 13, 478, 5, 66, 87, 65, 23, 435, 7, 91] are [21, 13, 5, 87, 65, 23, 435, 7, 91]\n"
     ]
    }
   ],
   "source": [
    "# List\n",
    "lst = [21,32,13,478,5,66,87,65,23,435,7,91]\n",
    "\n",
    "# Defining the function\n",
    "def lar_list(l):\n",
    "    lar_l = [i for i in l if i%2 != 0]          # Using list comprehension\n",
    "    return lar_l\n",
    "\n",
    "# Calling the function\n",
    "result = lar_list(lst)\n",
    "print(f\"The odd numbers in the list {lst} are {result}\")"
   ]
  },
  {
   "cell_type": "markdown",
   "id": "a987abca",
   "metadata": {},
   "source": [
    "#### 9.\tWrite a Python program to Remove empty List from List?"
   ]
  },
  {
   "cell_type": "code",
   "execution_count": 33,
   "id": "4faffced",
   "metadata": {},
   "outputs": [
    {
     "name": "stdout",
     "output_type": "stream",
     "text": [
      "Enter all elements of the list: [1,2,3,4,5,[],6,7,8,9]\n",
      "There is an Empty list in [1, 2, 3, 4, 5, [], 6, 7, 8, 9] at Position 5\n",
      "The List after removing [] is [1, 2, 3, 4, 5, 6, 7, 8, 9]\n"
     ]
    }
   ],
   "source": [
    "# Taking user input\n",
    "in_lst = eval(input('Enter all elements of the list: '))\n",
    "\n",
    "# Defining the function\n",
    "def checkEmptyList(in_lst):\n",
    "    if [] in in_lst:\n",
    "        print(f'There is an Empty list in {in_lst} at Position {in_lst.index([])}')\n",
    "        in_lst.remove([])\n",
    "        new_list = in_lst\n",
    "    else:\n",
    "        print(f'There is no [] List in the list {in_lst}')\n",
    "    \n",
    "    return new_list\n",
    "        \n",
    "            \n",
    "# Calling the function        \n",
    "new_list = checkEmptyList(in_lst)\n",
    "print(f'The List after removing [] is {new_list}')"
   ]
  },
  {
   "cell_type": "markdown",
   "id": "7b180f53",
   "metadata": {},
   "source": [
    "#### 10.\tWrite a Python program to Cloning or Copying a list?"
   ]
  },
  {
   "cell_type": "code",
   "execution_count": 30,
   "id": "603af940",
   "metadata": {},
   "outputs": [
    {
     "name": "stdout",
     "output_type": "stream",
     "text": [
      "Enter a list: [1,2,3,4,5,6,7,8,9,0]\n",
      "The entered list is: [1, 2, 3, 4, 5, 6, 7, 8, 9, 0] and the id for this list is: 1278811788352\n",
      "The cloned list is: [1, 2, 3, 4, 5, 6, 7, 8, 9, 0] and the id for this list is: 1278811898624\n"
     ]
    }
   ],
   "source": [
    "# Importing module\n",
    "import copy\n",
    "\n",
    "# Taking user input\n",
    "in_lst = eval(input('Enter a list: '))\n",
    "\n",
    "# Defining the function\n",
    "def cloneList(in_lst):    \n",
    "    print(f\"The entered list is: {in_lst} and the id for this list is: {id(in_lst)}\")\n",
    "    cloned_list = in_lst.copy()\n",
    "    print(f\"The cloned list is: {cloned_list} and the id for this list is: {id(cloned_list)}\")\n",
    "    \n",
    "    \n",
    "\n",
    "# Calling the function  \n",
    "cloneList(in_lst)"
   ]
  },
  {
   "cell_type": "markdown",
   "id": "fade3bff",
   "metadata": {},
   "source": [
    "#### 11.\tWrite a Python program to Count occurrences of an element in a list?"
   ]
  },
  {
   "cell_type": "code",
   "execution_count": 34,
   "id": "7b79ab6a",
   "metadata": {},
   "outputs": [
    {
     "name": "stdout",
     "output_type": "stream",
     "text": [
      "Enter a list: [1,2,3,1,2,3,1,2,3,4,5,6,4,5,6,3]\n",
      "Enter the element to find: 3\n",
      "There are 4 occurences of 3 in [1, 2, 3, 1, 2, 3, 1, 2, 3, 4, 5, 6, 4, 5, 6, 3]\n"
     ]
    }
   ],
   "source": [
    "# Taking user inputs\n",
    "in_lst = eval(input('Enter a list: '))\n",
    "in_num = eval(input('Enter the element to find: '))\n",
    "\n",
    "\n",
    "# Defining the function\n",
    "def checkOccurence(in_lst, in_num):\n",
    "    count = 0\n",
    "    if in_num in in_lst:\n",
    "        for i in in_lst:\n",
    "            if i == in_num:\n",
    "                count += 1\n",
    "    return count\n",
    "\n",
    "    \n",
    "\n",
    "# Calling the function     \n",
    "count = checkOccurence(in_lst, in_num)\n",
    "print(f'There are {count} occurences of {in_num} in {in_lst}')"
   ]
  },
  {
   "cell_type": "code",
   "execution_count": null,
   "id": "9474d551",
   "metadata": {},
   "outputs": [],
   "source": []
  }
 ],
 "metadata": {
  "kernelspec": {
   "display_name": "Python 3 (ipykernel)",
   "language": "python",
   "name": "python3"
  },
  "language_info": {
   "codemirror_mode": {
    "name": "ipython",
    "version": 3
   },
   "file_extension": ".py",
   "mimetype": "text/x-python",
   "name": "python",
   "nbconvert_exporter": "python",
   "pygments_lexer": "ipython3",
   "version": "3.9.7"
  }
 },
 "nbformat": 4,
 "nbformat_minor": 5
}
