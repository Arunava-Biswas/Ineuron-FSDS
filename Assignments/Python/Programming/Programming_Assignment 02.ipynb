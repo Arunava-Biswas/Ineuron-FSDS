{
 "cells": [
  {
   "cell_type": "raw",
   "id": "c053ffd5",
   "metadata": {},
   "source": [
    "1.\tWrite a Python program to convert kilometers to miles?\n",
    "2.\tWrite a Python program to convert Celsius to Fahrenheit?\n",
    "3.\tWrite a Python program to display calendar?\n",
    "4.\tWrite a Python program to solve quadratic equation?\n",
    "5.\tWrite a Python program to swap two variables without temp variable?\n",
    "\n"
   ]
  },
  {
   "cell_type": "markdown",
   "id": "f5e6755d",
   "metadata": {},
   "source": [
    "#### 1.\tWrite a Python program to convert kilometers to miles?"
   ]
  },
  {
   "cell_type": "code",
   "execution_count": 1,
   "id": "1fe62238",
   "metadata": {},
   "outputs": [
    {
     "name": "stdout",
     "output_type": "stream",
     "text": [
      "Enter distance in Kilometers: 100\n",
      "100 Km is equal to 62.1 Miles.\n"
     ]
    }
   ],
   "source": [
    "# 1 Km = 0.621 Miles\n",
    "\n",
    "# Taking user input in Kilometers\n",
    "km = int(input(\"Enter distance in Kilometers: \"))\n",
    "\n",
    "# Defining function to make the conversion from Km to Mile\n",
    "def km_to_mile(k):\n",
    "    m = k * 0.621\n",
    "    return m\n",
    "\n",
    "# Calling the function\n",
    "m = km_to_mile(km)\n",
    "\n",
    "print(f\"{km} Km is equal to {m} Miles.\")"
   ]
  },
  {
   "cell_type": "markdown",
   "id": "08a3c996",
   "metadata": {},
   "source": [
    "#### 2.\tWrite a Python program to convert Celsius to Fahrenheit?"
   ]
  },
  {
   "cell_type": "code",
   "execution_count": 3,
   "id": "243f72a1",
   "metadata": {},
   "outputs": [
    {
     "name": "stdout",
     "output_type": "stream",
     "text": [
      "Enter temperature in celsius : 100\n",
      "100° Celcius is equal to 212.0° Fahrenheit.\n"
     ]
    }
   ],
   "source": [
    "# The formula is: '(0°C × 9/5) + 32 = 32°F'\n",
    "\n",
    "# Taking user input in celcius\n",
    "cel = int(input(\"Enter temperature in celsius : \"))\n",
    "\n",
    "# Creating the degree sign\n",
    "degree_sign = u\"\\N{DEGREE SIGN}\"\n",
    "\n",
    "# Defining function to make the conversion from Celcius to Fahrenheit\n",
    "def cel_to_fh(c):\n",
    "    f = c * (9/5) + 32\n",
    "    return f\n",
    "\n",
    "# Calling the function\n",
    "f = cel_to_fh(cel)\n",
    "\n",
    "print(f\"{cel}{degree_sign} Celcius is equal to {f}{degree_sign} Fahrenheit.\")"
   ]
  },
  {
   "cell_type": "markdown",
   "id": "f21b73b5",
   "metadata": {},
   "source": [
    "#### 3.\tWrite a Python program to display calendar?"
   ]
  },
  {
   "cell_type": "code",
   "execution_count": 8,
   "id": "094f9139",
   "metadata": {},
   "outputs": [
    {
     "name": "stdout",
     "output_type": "stream",
     "text": [
      "Enter calender year: 2022\n",
      "                                  2022\n",
      "\n",
      "      January                   February                   March\n",
      "Mo Tu We Th Fr Sa Su      Mo Tu We Th Fr Sa Su      Mo Tu We Th Fr Sa Su\n",
      "                1  2          1  2  3  4  5  6          1  2  3  4  5  6\n",
      " 3  4  5  6  7  8  9       7  8  9 10 11 12 13       7  8  9 10 11 12 13\n",
      "10 11 12 13 14 15 16      14 15 16 17 18 19 20      14 15 16 17 18 19 20\n",
      "17 18 19 20 21 22 23      21 22 23 24 25 26 27      21 22 23 24 25 26 27\n",
      "24 25 26 27 28 29 30      28                        28 29 30 31\n",
      "31\n",
      "\n",
      "       April                      May                       June\n",
      "Mo Tu We Th Fr Sa Su      Mo Tu We Th Fr Sa Su      Mo Tu We Th Fr Sa Su\n",
      "             1  2  3                         1             1  2  3  4  5\n",
      " 4  5  6  7  8  9 10       2  3  4  5  6  7  8       6  7  8  9 10 11 12\n",
      "11 12 13 14 15 16 17       9 10 11 12 13 14 15      13 14 15 16 17 18 19\n",
      "18 19 20 21 22 23 24      16 17 18 19 20 21 22      20 21 22 23 24 25 26\n",
      "25 26 27 28 29 30         23 24 25 26 27 28 29      27 28 29 30\n",
      "                          30 31\n",
      "\n",
      "        July                     August                  September\n",
      "Mo Tu We Th Fr Sa Su      Mo Tu We Th Fr Sa Su      Mo Tu We Th Fr Sa Su\n",
      "             1  2  3       1  2  3  4  5  6  7                1  2  3  4\n",
      " 4  5  6  7  8  9 10       8  9 10 11 12 13 14       5  6  7  8  9 10 11\n",
      "11 12 13 14 15 16 17      15 16 17 18 19 20 21      12 13 14 15 16 17 18\n",
      "18 19 20 21 22 23 24      22 23 24 25 26 27 28      19 20 21 22 23 24 25\n",
      "25 26 27 28 29 30 31      29 30 31                  26 27 28 29 30\n",
      "\n",
      "      October                   November                  December\n",
      "Mo Tu We Th Fr Sa Su      Mo Tu We Th Fr Sa Su      Mo Tu We Th Fr Sa Su\n",
      "                1  2          1  2  3  4  5  6                1  2  3  4\n",
      " 3  4  5  6  7  8  9       7  8  9 10 11 12 13       5  6  7  8  9 10 11\n",
      "10 11 12 13 14 15 16      14 15 16 17 18 19 20      12 13 14 15 16 17 18\n",
      "17 18 19 20 21 22 23      21 22 23 24 25 26 27      19 20 21 22 23 24 25\n",
      "24 25 26 27 28 29 30      28 29 30                  26 27 28 29 30 31\n",
      "31\n",
      "\n"
     ]
    }
   ],
   "source": [
    "# Import the module\n",
    "import calendar\n",
    "\n",
    "# Taking user input for which year's calender to show\n",
    "year = int(input(\"Enter calender year: \"))\n",
    "\n",
    "# Defining the function \n",
    "def showCalender(y):    \n",
    "    cal = calendar.calendar(y)\n",
    "    return cal\n",
    "\n",
    "\n",
    "# Calling the function\n",
    "cal = showCalender(year)\n",
    "print(cal)"
   ]
  },
  {
   "cell_type": "markdown",
   "id": "15f5a9b1",
   "metadata": {},
   "source": [
    "#### 4.\tWrite a Python program to solve quadratic equation?"
   ]
  },
  {
   "cell_type": "code",
   "execution_count": 12,
   "id": "0ab66685",
   "metadata": {},
   "outputs": [
    {
     "name": "stdout",
     "output_type": "stream",
     "text": [
      "Enter value for a: 1\n",
      "Enter value for b: 3\n",
      "Enter value for c: 1\n",
      "Roots are Real and different -2.618033988749895 -0.3819660112501051\n"
     ]
    }
   ],
   "source": [
    "# a quadratic equation in standard form is 'ax^2 + bx + c = 0'\n",
    "# The discriminant is 'b^2 - 4ac'\n",
    "\n",
    "\n",
    "# Import the modules\n",
    "import cmath\n",
    "import math\n",
    "\n",
    "# Taking user inputs\n",
    "a = int(input('Enter value for a: '))\n",
    "b = int(input('Enter value for b: '))\n",
    "c = int(input('Enter value for c: '))\n",
    "\n",
    "# Defining the function\n",
    "def quadarticEquationRoots(a,b,c):\n",
    "    \n",
    "    discriminant = b*b-4*a*c\n",
    "    \n",
    "    if discriminant == 0:\n",
    "        r1 = -b/2*a\n",
    "        r2 = -b/2*a\n",
    "        print(\"Roots are Real\",r1,r2)\n",
    "    elif discriminant > 0:\n",
    "        r1 = (-b-math.sqrt(discriminant))/(2 * a)\n",
    "        r2 = (-b+math.sqrt(discriminant))/(2 * a)\n",
    "        print(\"Roots are Real and different\",r1,r2)\n",
    "    else:\n",
    "        r1 = (-b-cmath.sqrt(discriminant))/(2 * a)\n",
    "        r2 = (-b+cmath.sqrt(discriminant))/(2 * a)\n",
    "        print(\"Roots are Imaginary\",r1,r2)\n",
    "        \n",
    "\n",
    "# Calling the function\n",
    "quadarticEquationRoots(a,b,c)"
   ]
  },
  {
   "cell_type": "markdown",
   "id": "27034d58",
   "metadata": {},
   "source": [
    "#### 5.\tWrite a Python program to swap two variables without temp variable?"
   ]
  },
  {
   "cell_type": "code",
   "execution_count": 15,
   "id": "db604244",
   "metadata": {},
   "outputs": [
    {
     "name": "stdout",
     "output_type": "stream",
     "text": [
      "Enter first number: 25\n",
      "Enter second number: 35\n",
      "\n",
      "Before swapping the number_1 is 25 and number_2 is 35\n",
      "\n",
      "After swapping the number_1 is 35 and number_2 is 25\n"
     ]
    }
   ],
   "source": [
    "# Taking user's inputs\n",
    "num_1 = int(input('Enter first number: '))\n",
    "num_2 = int(input('Enter second number: '))\n",
    "\n",
    "# Defining function to swap the numbers\n",
    "def swapNumbers(num_1,num_2):\n",
    "        num1 = num_1 + num_2\n",
    "        num2 = num1 - num_2\n",
    "        num1 = num1 - num2\n",
    "        return num1, num2\n",
    "\n",
    "\n",
    "print(f'\\nBefore swapping the number_1 is {num_1} and number_2 is {num_2}')        \n",
    "\n",
    "# Calling the function\n",
    "num1, num2 = swapNumbers(num_1, num_2)\n",
    "\n",
    "print(f'\\nAfter swapping the number_1 is {num1} and number_2 is {num2}')"
   ]
  },
  {
   "cell_type": "code",
   "execution_count": null,
   "id": "7f673992",
   "metadata": {},
   "outputs": [],
   "source": []
  }
 ],
 "metadata": {
  "kernelspec": {
   "display_name": "Python 3 (ipykernel)",
   "language": "python",
   "name": "python3"
  },
  "language_info": {
   "codemirror_mode": {
    "name": "ipython",
    "version": 3
   },
   "file_extension": ".py",
   "mimetype": "text/x-python",
   "name": "python",
   "nbconvert_exporter": "python",
   "pygments_lexer": "ipython3",
   "version": "3.9.7"
  }
 },
 "nbformat": 4,
 "nbformat_minor": 5
}
