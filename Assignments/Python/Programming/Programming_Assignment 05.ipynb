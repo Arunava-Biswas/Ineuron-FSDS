{
 "cells": [
  {
   "cell_type": "raw",
   "id": "aee46d51",
   "metadata": {},
   "source": [
    "1.\tWrite a Python Program to Find LCM?\n",
    "2.\tWrite a Python Program to Find HCF?\n",
    "3.\tWrite a Python Program to Convert Decimal to Binary, Octal and Hexadecimal?\n",
    "4.\tWrite a Python Program To Find ASCII value of a character?\n",
    "5.\tWrite a Python Program to Make a Simple Calculator with 4 basic mathematical operations?\n"
   ]
  },
  {
   "cell_type": "markdown",
   "id": "5479acea",
   "metadata": {},
   "source": [
    "#### 1.\tWrite a Python Program to Find LCM?"
   ]
  },
  {
   "cell_type": "code",
   "execution_count": 1,
   "id": "8a201963",
   "metadata": {},
   "outputs": [
    {
     "name": "stdout",
     "output_type": "stream",
     "text": [
      "The LCM of 4,8 is 8\n",
      "The LCM of 19,3 is 57\n",
      "The LCM of 5,100 is 100\n"
     ]
    }
   ],
   "source": [
    "\n",
    "# Defining the function\n",
    "def findTheLcm(x_term,y_term):\n",
    "    if x_term > y_term:\n",
    "        greater = x_term\n",
    "    else:\n",
    "        greater = x_term\n",
    "    while True:\n",
    "        if((greater%x_term == 0) and (greater%y_term == 0)):\n",
    "            lcm = greater\n",
    "            break\n",
    "        else:\n",
    "            greater +=1\n",
    "    print(f'The LCM of {x_term},{y_term} is {lcm}')\n",
    "\n",
    "\n",
    "# Calling the function    \n",
    "findTheLcm(4,8)\n",
    "findTheLcm(19,3)\n",
    "findTheLcm(5,100)"
   ]
  },
  {
   "cell_type": "markdown",
   "id": "6a43be5f",
   "metadata": {},
   "source": [
    "#### 2.\tWrite a Python Program to Find HCF?"
   ]
  },
  {
   "cell_type": "code",
   "execution_count": 2,
   "id": "6d96b6dc",
   "metadata": {},
   "outputs": [
    {
     "name": "stdout",
     "output_type": "stream",
     "text": [
      "The HCF of 4,24 is 4\n",
      "The HCF of 5,7 is 1\n",
      "The HCF of 10,43 is 1\n"
     ]
    }
   ],
   "source": [
    "# Defining the function\n",
    "def findTheHcf(x_term,y_term):\n",
    "    if x_term>y_term:\n",
    "        smaller = y_term\n",
    "    else:\n",
    "        smaller = x_term\n",
    "    for ele in range(1,smaller+1):\n",
    "        if((x_term%ele == 0) and (y_term%ele == 0)):\n",
    "            hcf = ele\n",
    "    print(f'The HCF of {x_term},{y_term} is {hcf}')\n",
    "\n",
    "\n",
    "    \n",
    "# Calling the function    \n",
    "findTheHcf(4,24)\n",
    "findTheHcf(5,7)\n",
    "findTheHcf(10,43)"
   ]
  },
  {
   "cell_type": "markdown",
   "id": "b1239129",
   "metadata": {},
   "source": [
    "#### 3.\tWrite a Python Program to Convert Decimal to Binary, Octal and Hexadecimal?"
   ]
  },
  {
   "cell_type": "code",
   "execution_count": 4,
   "id": "5a0d708d",
   "metadata": {},
   "outputs": [
    {
     "name": "stdout",
     "output_type": "stream",
     "text": [
      "Enter a Number: 44252554\n",
      "Binary Number : 0b10101000110011110110001010\n",
      "Octal Number : 0o250636612\n",
      "Hexadecimal Number : 0x2a33d8a\n"
     ]
    }
   ],
   "source": [
    "# Taking user input\n",
    "num = int(input('Enter a Number: '))\n",
    "\n",
    "# Defining the function\n",
    "def DecimalTo_Other(num):\n",
    "    print(f'Binary Number : {bin(num)}')\n",
    "    print(f'Octal Number : {oct(num)}')    \n",
    "    print(f'Hexadecimal Number : {hex(num)}')    \n",
    "\n",
    "# Calling the function\n",
    "DecimalTo_Other(num)"
   ]
  },
  {
   "cell_type": "markdown",
   "id": "49582169",
   "metadata": {},
   "source": [
    "#### 4.\tWrite a Python Program To Find ASCII value of a character?"
   ]
  },
  {
   "cell_type": "code",
   "execution_count": 7,
   "id": "489ba50a",
   "metadata": {},
   "outputs": [
    {
     "name": "stdout",
     "output_type": "stream",
     "text": [
      "Enter a Character: $\n",
      "ASCII Character of $ is: 36\n"
     ]
    }
   ],
   "source": [
    "# Taking user input\n",
    "char = input('Enter a Character: ')\n",
    "\n",
    "# Defining the function\n",
    "def charToAscii(char):\n",
    "    if len(char) > 1:\n",
    "        print('Please Enter a Single Character')\n",
    "    else:\n",
    "        n = ord(char)\n",
    "    return n\n",
    "\n",
    "\n",
    "# Calling the function        \n",
    "n = charToAscii(char)\n",
    "print(f'ASCII Character of {char} is: {n}')"
   ]
  },
  {
   "cell_type": "markdown",
   "id": "d258ec19",
   "metadata": {},
   "source": [
    "#### 5.\tWrite a Python Program to Make a Simple Calculator with 4 basic mathematical operations?"
   ]
  },
  {
   "cell_type": "code",
   "execution_count": 8,
   "id": "75faf4ac",
   "metadata": {},
   "outputs": [
    {
     "name": "stdout",
     "output_type": "stream",
     "text": [
      "Select a Arithmetic Operation:         \n",
      "1.Addition(+)        \n",
      "2.Subtraction(-)        \n",
      "2.Multiplication(*)        \n",
      "4.Division(/)        \n",
      "3.Stop(0)\n",
      "\n",
      "\n",
      "Enter an arithmetic operation : +\n",
      "\n",
      "Enter the 1st number: 25\n",
      "Enter the 2nd number: 35\n",
      "25+35 = 60\n",
      "\n",
      "Enter an arithmetic operation : -\n",
      "\n",
      "Enter the 1st number: 45\n",
      "Enter the 2nd number: 30\n",
      "45-30 = 15\n",
      "\n",
      "Enter an arithmetic operation : *\n",
      "\n",
      "Enter the 1st number: 25\n",
      "Enter the 2nd number: 15\n",
      "25*15 = 375\n",
      "\n",
      "Enter an arithmetic operation : 45\n",
      "Please enter a valid operator.\n",
      "\n",
      "Enter an arithmetic operation : /\n",
      "\n",
      "Enter the 1st number: 45\n",
      "Enter the 2nd number: 9\n",
      "45/9 = 5.0\n",
      "\n",
      "Enter an arithmetic operation : 0\n",
      "\n",
      "Program Stopped successfully.\n"
     ]
    }
   ],
   "source": [
    "# Importing module\n",
    "import operator\n",
    "\n",
    "# Creating dictionary to assign the operations to the signs\n",
    "ops = { \"+\": operator.add, \"-\": operator.sub, \"*\":operator.mul, \"/\":operator.truediv } \n",
    "\n",
    "# Giving direction regarding different operations\n",
    "print('Select a Arithmetic Operation: \\\n",
    "        \\n1.Addition(+)\\\n",
    "        \\n2.Subtraction(-)\\\n",
    "        \\n2.Multiplication(*)\\\n",
    "        \\n4.Division(/)\\\n",
    "        \\n3.Stop(0)\\n')\n",
    "\n",
    "# Creating the logic to do the arithmetic operations\n",
    "while True:\n",
    "    operator = input('\\nEnter an arithmetic operation : ')\n",
    "    if operator == '0':\n",
    "        print(\"\\nProgram Stopped successfully.\")\n",
    "        break\n",
    "    elif operator not in ['+','-','*','/']:\n",
    "        print(\"Please enter a valid operator.\")\n",
    "    else:\n",
    "        num_1 = int(input('\\nEnter the 1st number: '))\n",
    "        num_2 = int(input('Enter the 2nd number: '))\n",
    "        print(f\"{num_1}{operator}{num_2} = {ops[operator](num_1, num_2)}\")"
   ]
  },
  {
   "cell_type": "code",
   "execution_count": null,
   "id": "ac8b9cca",
   "metadata": {},
   "outputs": [],
   "source": []
  }
 ],
 "metadata": {
  "kernelspec": {
   "display_name": "Python 3 (ipykernel)",
   "language": "python",
   "name": "python3"
  },
  "language_info": {
   "codemirror_mode": {
    "name": "ipython",
    "version": 3
   },
   "file_extension": ".py",
   "mimetype": "text/x-python",
   "name": "python",
   "nbconvert_exporter": "python",
   "pygments_lexer": "ipython3",
   "version": "3.9.7"
  }
 },
 "nbformat": 4,
 "nbformat_minor": 5
}
