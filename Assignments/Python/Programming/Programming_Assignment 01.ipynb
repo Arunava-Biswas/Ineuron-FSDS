{
 "cells": [
  {
   "cell_type": "raw",
   "id": "669d69c5",
   "metadata": {},
   "source": [
    "1.\tWrite a Python program to print \"Hello Python\"?\n",
    "2.\tWrite a Python program to do arithmetical operations addition and division.?\n",
    "3.\tWrite a Python program to find the area of a triangle?\n",
    "4.\tWrite a Python program to swap two variables?\n",
    "5.\tWrite a Python program to generate a random number?\n"
   ]
  },
  {
   "cell_type": "markdown",
   "id": "e30342d0",
   "metadata": {},
   "source": [
    "#### 1.\tWrite a Python program to print \"Hello Python\"?"
   ]
  },
  {
   "cell_type": "code",
   "execution_count": 1,
   "id": "b3bb37ff",
   "metadata": {},
   "outputs": [
    {
     "name": "stdout",
     "output_type": "stream",
     "text": [
      "Hello Python\n"
     ]
    }
   ],
   "source": [
    "print(\"Hello Python\")"
   ]
  },
  {
   "cell_type": "markdown",
   "id": "91c77db6",
   "metadata": {},
   "source": [
    "#### 2.\tWrite a Python program to do arithmetical operations addition and division.?"
   ]
  },
  {
   "cell_type": "code",
   "execution_count": 4,
   "id": "ada226f8",
   "metadata": {},
   "outputs": [
    {
     "name": "stdout",
     "output_type": "stream",
     "text": [
      "Select a Arithmetic Operation:         \n",
      "1.Addition(+)        \n",
      "4.Division(/)        \n",
      "3.Stop(0)\n",
      "\n",
      "\n",
      "Enter an arithmetic operation : +\n",
      "\n",
      "Enter the 1st number: 12\n",
      "Enter the 2nd number: 33\n",
      "12+33 = 45\n",
      "\n",
      "Enter an arithmetic operation : /\n",
      "\n",
      "Enter the 1st number: 45\n",
      "Enter the 2nd number: 9\n",
      "45/9 = 5.0\n",
      "\n",
      "Enter an arithmetic operation : -\n",
      "Please enter a valid operator.\n",
      "\n",
      "Enter an arithmetic operation : 0\n",
      "\n",
      "Program Stopped successfully.\n"
     ]
    }
   ],
   "source": [
    "# Importing module\n",
    "import operator\n",
    "\n",
    "# Creating dictionary to assign the operations to the signs\n",
    "ops = { \"+\": operator.add,  \"/\":operator.truediv } \n",
    "\n",
    "# Giving direction regarding different operations\n",
    "print('Select a Arithmetic Operation: \\\n",
    "        \\n1.Addition(+)\\\n",
    "        \\n4.Division(/)\\\n",
    "        \\n3.Stop(0)\\n')\n",
    "\n",
    "# Creating the logic to do the arithmetic operations\n",
    "while True:\n",
    "    operator = input('\\nEnter an arithmetic operation : ')\n",
    "    if operator == '0':\n",
    "        print(\"\\nProgram Stopped successfully.\")\n",
    "        break\n",
    "    elif operator not in ['+','/']:\n",
    "        print(\"Please enter a valid operator.\")\n",
    "    else:\n",
    "        num_1 = int(input('\\nEnter the 1st number: '))\n",
    "        num_2 = int(input('Enter the 2nd number: '))\n",
    "        print(f\"{num_1}{operator}{num_2} = {ops[operator](num_1, num_2)}\")"
   ]
  },
  {
   "cell_type": "markdown",
   "id": "551e3665",
   "metadata": {},
   "source": [
    "#### 3.\tWrite a Python program to find the area of a triangle?"
   ]
  },
  {
   "cell_type": "code",
   "execution_count": 5,
   "id": "094fe4e8",
   "metadata": {},
   "outputs": [
    {
     "name": "stdout",
     "output_type": "stream",
     "text": [
      "Enter height of triangle: 50\n",
      "Enter base of triangle: 30\n",
      "\n",
      "Area of the triangle for entered values is: 750.0\n"
     ]
    }
   ],
   "source": [
    "# The formula for area of triangle is: '1/2 * base * height'\n",
    "\n",
    "# Taking user's inputs\n",
    "height = int(input('Enter height of triangle: '))\n",
    "base = int(input('Enter base of triangle: '))\n",
    "\n",
    "# Defining function to calculate the Area\n",
    "def areaOfTriangle(height, base):\n",
    "    area = 0.5*height*base\n",
    "    return area\n",
    "\n",
    "# Calling the function\n",
    "area = areaOfTriangle(height,base)\n",
    "print(f'\\nArea of the triangle for entered values is: {area}')"
   ]
  },
  {
   "cell_type": "markdown",
   "id": "1d7166dd",
   "metadata": {},
   "source": [
    "#### 4.\tWrite a Python program to swap two variables?"
   ]
  },
  {
   "cell_type": "code",
   "execution_count": 6,
   "id": "024e3b67",
   "metadata": {},
   "outputs": [
    {
     "name": "stdout",
     "output_type": "stream",
     "text": [
      "Enter First Number: 10\n",
      "Enter Second Number: 20\n",
      "\n",
      "Before swapping the number_1 is 10 and number_2 is 20\n",
      "\n",
      "After swapping the number_1 is 20 and number_2 is 10\n"
     ]
    }
   ],
   "source": [
    "# Taking user's inputs\n",
    "num_1 = int(input(\"Enter First Number: \"))\n",
    "num_2 = int(input(\"Enter Second Number: \"))\n",
    "\n",
    "# Defining function to swap the numbers\n",
    "def swapNumbers(a,b):\n",
    "    temp = a\n",
    "    a = b\n",
    "    b = temp\n",
    "    return a,b\n",
    "\n",
    "print(f'\\nBefore swapping the number_1 is {num_1} and number_2 is {num_2}')\n",
    "\n",
    "# Calling the function\n",
    "num1, num2 = swapNumbers(num_1, num_2)\n",
    "\n",
    "print(f'\\nAfter swapping the number_1 is {num1} and number_2 is {num2}')\n"
   ]
  },
  {
   "cell_type": "markdown",
   "id": "78f900c7",
   "metadata": {},
   "source": [
    "#### 5.\tWrite a Python program to generate a random number?"
   ]
  },
  {
   "cell_type": "code",
   "execution_count": 9,
   "id": "c095bc8e",
   "metadata": {},
   "outputs": [
    {
     "name": "stdout",
     "output_type": "stream",
     "text": [
      "\n",
      "Random number without user input is: 46245\n",
      "\n",
      "Enter Start point: 0\n",
      "Enter End point: 100\n",
      "\n",
      "Random number with user's range of 0 and 100 is: 56\n"
     ]
    }
   ],
   "source": [
    "# Importing module to create random numbers\n",
    "from random import randint\n",
    "\n",
    "\n",
    "# Defining function to generate random number\n",
    "def generateRandomNumber(start=0, end=100000):\n",
    "    random_number = randint(start,end)\n",
    "    return random_number\n",
    "\n",
    "# Generating random numbers without arguments    \n",
    "rand_num = generateRandomNumber()\n",
    "print(f\"\\nRandom number without user input is: {rand_num}\")\n",
    "\n",
    "# Taking user's inputs to create lower and upper limits\n",
    "num_1 = int(input(\"\\nEnter Start point: \"))\n",
    "num_2 = int(input(\"Enter End point: \"))\n",
    "\n",
    "# Generating random numbers with arguments    \n",
    "rand_num = generateRandomNumber(num_1, num_2)\n",
    "print(f\"\\nRandom number with user's range of {num_1} and {num_2} is: {rand_num}\")"
   ]
  },
  {
   "cell_type": "code",
   "execution_count": null,
   "id": "53b34bd9",
   "metadata": {},
   "outputs": [],
   "source": []
  }
 ],
 "metadata": {
  "kernelspec": {
   "display_name": "Python 3 (ipykernel)",
   "language": "python",
   "name": "python3"
  },
  "language_info": {
   "codemirror_mode": {
    "name": "ipython",
    "version": 3
   },
   "file_extension": ".py",
   "mimetype": "text/x-python",
   "name": "python",
   "nbconvert_exporter": "python",
   "pygments_lexer": "ipython3",
   "version": "3.9.7"
  }
 },
 "nbformat": 4,
 "nbformat_minor": 5
}
