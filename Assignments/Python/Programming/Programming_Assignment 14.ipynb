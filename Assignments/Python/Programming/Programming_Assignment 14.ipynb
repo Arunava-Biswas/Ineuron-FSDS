{
 "cells": [
  {
   "cell_type": "raw",
   "id": "727f2ddd",
   "metadata": {},
   "source": [
    "Question 1:\n",
    "\n",
    "Define a class with a generator which can iterate the numbers, which are divisible by 7, between a given range 0 and n.\n",
    "\n",
    "\n",
    "\n",
    "\n",
    "Question 2:\n",
    "Write a program to compute the frequency of the words from the input. The output should output after sorting the key alphanumerically. \n",
    "\n",
    "Suppose the following input is supplied to the program:\n",
    "\n",
    "New to Python or choosing between Python 2 and Python 3? Read Python 2 or Python 3.\n",
    "\n",
    "Then, the output should be:\n",
    "\n",
    "2:2\n",
    "\n",
    "3.:1\n",
    "\n",
    "3?:1\n",
    "\n",
    "New:1\n",
    "\n",
    "Python:5\n",
    "\n",
    "Read:1\n",
    "\n",
    "and:1\n",
    "\n",
    "between:1\n",
    "\n",
    "choosing:1\n",
    "\n",
    "or:2\n",
    "\n",
    "to:1\n",
    "\n",
    "\n",
    "\n",
    "\n",
    "Question 3:\n",
    "Define a class Person and its two child classes: Male and Female. All classes have a method \"getGender\" which can print \"Male\" for Male class and \"Female\" for Female class.\n",
    "\n",
    "\n",
    "\n",
    "\n",
    "Question 4:\n",
    "Please write a program to generate all sentences where subject is in [\"I\", \"You\"] and verb is in [\"Play\", \"Love\"] and the object is in [\"Hockey\",\"Football\"].\n",
    "\n",
    "\n",
    "\n",
    "\n",
    "Question 5:\n",
    "Please write a program to compress and decompress the string \"hello world!hello world!hello world!hello world!\".\n",
    "\n",
    "\n",
    "\n",
    "\n",
    "Question 6:\n",
    "Please write a binary search function which searches an item in a sorted list. The function should return the index of element to be searched in the list.\n"
   ]
  },
  {
   "cell_type": "markdown",
   "id": "35148ba2",
   "metadata": {},
   "source": [
    "#### Question 1:\n",
    "\n",
    "##### Define a class with a generator which can iterate the numbers, which are divisible by 7, between a given range 0 and n."
   ]
  },
  {
   "cell_type": "code",
   "execution_count": 1,
   "id": "a4ece82c",
   "metadata": {},
   "outputs": [
    {
     "name": "stdout",
     "output_type": "stream",
     "text": [
      "Enter the outer range number: 350\n",
      "0 7 14 21 28 35 42 49 56 63 70 77 84 91 98 105 112 119 126 133 140 147 154 161 168 175 182 189 196 203 210 217 224 231 238 245 252 259 266 273 280 287 294 301 308 315 322 329 336 343 350 "
     ]
    }
   ],
   "source": [
    "# Taking user input\n",
    "n = int(input(\"Enter the outer range number: \"))\n",
    "\n",
    "# Creating the class\n",
    "class div_generator:\n",
    "    def __init__(self,in_num):\n",
    "        self.in_num = in_num\n",
    "    def get_numbers(self):\n",
    "        for ele in range(0,self.in_num+1):\n",
    "            if ele%7 == 0:\n",
    "                yield ele\n",
    "                \n",
    "# Creating object of the class\n",
    "output = div_generator(n)\n",
    "for ele in output.get_numbers():\n",
    "    print(ele,end=' ')"
   ]
  },
  {
   "cell_type": "markdown",
   "id": "61733e52",
   "metadata": {},
   "source": [
    "#### Question 2:\n",
    "\n",
    "##### Write a program to compute the frequency of the words from the input. The output should output after sorting the key alphanumerically. \n",
    "\n",
    "- Suppose the following input is supplied to the program:\n",
    "\n",
    "- New to Python or choosing between Python 2 and Python 3? Read Python 2 or Python 3.\n",
    "\n",
    "- Then, the output should be:\n",
    "\n",
    "`2:2`\n",
    "\n",
    "`3.:1`\n",
    "\n",
    "`3?:1`\n",
    "\n",
    "`New:1`\n",
    "\n",
    "`Python:5`\n",
    "\n",
    "`Read:1`\n",
    "\n",
    "`and:1`\n",
    "\n",
    "`between:1`\n",
    "\n",
    "`choosing:1`\n",
    "\n",
    "`or:2`\n",
    "\n",
    "`to:1`\n"
   ]
  },
  {
   "cell_type": "code",
   "execution_count": 5,
   "id": "4499ece7",
   "metadata": {},
   "outputs": [
    {
     "name": "stdout",
     "output_type": "stream",
     "text": [
      "Enter the Input String: New to Python or choosing between Python 2 and Python 3? Read Python 2 or Python 3.\n",
      "2:2 3.:1 3?:1 New:1 Python:5 Read:1 and:1 between:1 choosing:1 or:2 to:1 "
     ]
    }
   ],
   "source": [
    "# Taking user input\n",
    "in_string = input(\"Enter the Input String: \")\n",
    "\n",
    "# Defining the function\n",
    "def checkFrequency(in_string):\n",
    "    frequency = {}\n",
    "    for i in in_string.split(\" \"):\n",
    "        if(frequency.get(i) == None):\n",
    "            frequency[i] = 1\n",
    "        else:\n",
    "            frequency[i] += 1 \n",
    "    for i in sorted(frequency):\n",
    "        print(f'{i}:{frequency[i]}',end=\" \")\n",
    "\n",
    "        \n",
    "# Calling the function        \n",
    "checkFrequency(in_string)"
   ]
  },
  {
   "cell_type": "markdown",
   "id": "3bb4567c",
   "metadata": {},
   "source": [
    "#### Question 3:\n",
    "\n",
    "##### Define a class Person and its two child classes: Male and Female. All classes have a method \"getGender\" which can print \"Male\" for Male class and \"Female\" for Female class."
   ]
  },
  {
   "cell_type": "code",
   "execution_count": 6,
   "id": "38abd7f6",
   "metadata": {},
   "outputs": [
    {
     "name": "stdout",
     "output_type": "stream",
     "text": [
      "Male\n",
      "Female\n"
     ]
    }
   ],
   "source": [
    "class Person():\n",
    "    def getGender():\n",
    "        pass\n",
    "    \n",
    "class Male(Person):\n",
    "    def getGender():\n",
    "        print(\"Male\")\n",
    "        \n",
    "class Female(Person):\n",
    "    def getGender():\n",
    "        print(\"Female\")\n",
    "\n",
    "Male.getGender()\n",
    "Female.getGender()"
   ]
  },
  {
   "cell_type": "markdown",
   "id": "2fa3ffb9",
   "metadata": {},
   "source": [
    "#### Question 4:\n",
    "\n",
    "##### Please write a program to generate all sentences where subject is in [\"I\", \"You\"] and verb is in [\"Play\", \"Love\"] and the object is in [\"Hockey\",\"Football\"].\n"
   ]
  },
  {
   "cell_type": "code",
   "execution_count": 7,
   "id": "bb63ed4e",
   "metadata": {},
   "outputs": [
    {
     "name": "stdout",
     "output_type": "stream",
     "text": [
      "I Play Hockey\n",
      "I Play Football\n",
      "I Love Hockey\n",
      "I Love Football\n",
      "You Play Hockey\n",
      "You Play Football\n",
      "You Love Hockey\n",
      "You Love Football\n"
     ]
    }
   ],
   "source": [
    "def generateSentences():\n",
    "    subject = ['I','You']\n",
    "    verb = ['Play','Love']\n",
    "    object = ['Hockey','Football']\n",
    "    for s in subject:\n",
    "        for v in verb:\n",
    "            for o in object:\n",
    "                print(f'{s} {v} {o}')\n",
    "                \n",
    "generateSentences()"
   ]
  },
  {
   "cell_type": "markdown",
   "id": "80da18a1",
   "metadata": {},
   "source": [
    "#### 5.Please write a program to compress and decompress the string \"hello world!hello world!hello world!hello world!\" ?"
   ]
  },
  {
   "cell_type": "code",
   "execution_count": 8,
   "id": "5f58e0c9",
   "metadata": {},
   "outputs": [
    {
     "name": "stdout",
     "output_type": "stream",
     "text": [
      "hel2o world!hel2o world!hel2o world!hel2o world!\n",
      "hello world!hello world!hello world!hello world!\n",
      "ineuron ful2 stack datascience\n",
      "ineuron full stack datascience\n"
     ]
    }
   ],
   "source": [
    "# Defining function for compress\n",
    "def compress(in_string):\n",
    "    output = in_string[0]\n",
    "    count = 1\n",
    "    for i in range(len(in_string)-1):\n",
    "        if in_string[i] == in_string[i+1]:\n",
    "            count +=1\n",
    "        else:\n",
    "            if count > 1:\n",
    "                output += str(count)\n",
    "            output += in_string[i+1]\n",
    "            count = 1\n",
    "    if count > 1:\n",
    "        output += str(count)            \n",
    "    print(output)\n",
    "\n",
    "\n",
    "# Defining function for decompress    \n",
    "def decompress(in_string):\n",
    "    output = ''\n",
    "    for j in range(len(in_string)):\n",
    "        if in_string[j].isdigit():\n",
    "            output += output[-1]*(int(in_string[j])-1)\n",
    "        else:\n",
    "            output += in_string[j]\n",
    "    print(output)\n",
    "    \n",
    "        \n",
    "compress(\"hello world!hello world!hello world!hello world!\")\n",
    "decompress(\"hel2o world!hel2o world!hel2o world!hel2o world!\")\n",
    "\n",
    "compress('ineuron full stack datascience')\n",
    "decompress('ineuron ful2 stack datascience')"
   ]
  },
  {
   "cell_type": "markdown",
   "id": "faf478c5",
   "metadata": {},
   "source": [
    "#### Question 6:\n",
    "\n",
    "##### Please write a binary search function which searches an item in a sorted list. The function should return the index of element to be searched in the list."
   ]
  },
  {
   "cell_type": "code",
   "execution_count": 9,
   "id": "1c734f12",
   "metadata": {},
   "outputs": [
    {
     "name": "stdout",
     "output_type": "stream",
     "text": [
      "7\n",
      "Input Element not in the list\n"
     ]
    }
   ],
   "source": [
    "sorted_list = [1,2,3,4,5,6,7,8,9,10]\n",
    "\n",
    "# Defining the function\n",
    "def binary_search(in_list,in_num):\n",
    "    low = 0\n",
    "    high = len(in_list)-1\n",
    "    while low <= high:\n",
    "        mid = high+low//2\n",
    "        if in_list[mid] < in_num:\n",
    "            low = mid+1\n",
    "        elif in_list[mid] > in_num:\n",
    "            high = mid-1\n",
    "        else:\n",
    "            return mid\n",
    "    else:\n",
    "        return 'Input Element not in the list'\n",
    "    \n",
    "# Calling the function\n",
    "print(binary_search(sorted_list,8))\n",
    "print(binary_search(sorted_list,100))"
   ]
  },
  {
   "cell_type": "code",
   "execution_count": null,
   "id": "b9348b3e",
   "metadata": {},
   "outputs": [],
   "source": []
  }
 ],
 "metadata": {
  "kernelspec": {
   "display_name": "Python 3 (ipykernel)",
   "language": "python",
   "name": "python3"
  },
  "language_info": {
   "codemirror_mode": {
    "name": "ipython",
    "version": 3
   },
   "file_extension": ".py",
   "mimetype": "text/x-python",
   "name": "python",
   "nbconvert_exporter": "python",
   "pygments_lexer": "ipython3",
   "version": "3.9.7"
  }
 },
 "nbformat": 4,
 "nbformat_minor": 5
}
