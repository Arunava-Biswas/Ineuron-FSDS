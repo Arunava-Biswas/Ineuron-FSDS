{
 "cells": [
  {
   "cell_type": "raw",
   "id": "f551b613",
   "metadata": {},
   "source": [
    "1.\tWrite a Python program to check if the given number is a Disarium Number?\n",
    "2.\tWrite a Python program to print all disarium numbers between 1 to 100?\n",
    "3.\tWrite a Python program to check if the given number is Happy Number?\n",
    "4.\tWrite a Python program to print all happy numbers between 1 and 100?\n",
    "5.\tWrite a Python program to determine whether the given number is a Harshad Number?\n",
    "6.\tWrite a Python program to print all pronic numbers between 1 and 100?\n"
   ]
  },
  {
   "cell_type": "markdown",
   "id": "788abb4a",
   "metadata": {},
   "source": [
    "#### 1.\tWrite a Python program to check if the given number is a Disarium Number?"
   ]
  },
  {
   "cell_type": "code",
   "execution_count": 3,
   "id": "60c4d31e",
   "metadata": {},
   "outputs": [
    {
     "name": "stdout",
     "output_type": "stream",
     "text": [
      "Enter a Number: 135\n",
      "135 is a Disarium Number\n"
     ]
    }
   ],
   "source": [
    "# A number whose sum of its digits powered with its respective position equals to the number itself is called a disarium number. \n",
    "\n",
    "\n",
    "# Taking user input\n",
    "num = input('Enter a Number: ')\n",
    "\n",
    "\n",
    "# Creating the function\n",
    "def DisariumNumber(num):\n",
    "    sum = 0\n",
    "    for item in range(len(num)):\n",
    "        sum = sum + int(num[item])**(item+1)\n",
    "    return sum\n",
    " \n",
    "\n",
    "# Calling the function\n",
    "result = DisariumNumber(num)\n",
    "\n",
    "# If else condition to check the result\n",
    "if result == int(num):\n",
    "    print(f'{num} is a Disarium Number')\n",
    "else:\n",
    "    print(f'{num} is a Not Disarium Number')"
   ]
  },
  {
   "cell_type": "markdown",
   "id": "2402e61d",
   "metadata": {},
   "source": [
    "#### 2.\tWrite a Python program to print all disarium numbers between 1 to 100?"
   ]
  },
  {
   "cell_type": "code",
   "execution_count": 9,
   "id": "c3093a2e",
   "metadata": {},
   "outputs": [
    {
     "name": "stdout",
     "output_type": "stream",
     "text": [
      "All disarium numbers between 1 to 100 are:  [1, 2, 3, 4, 5, 6, 7, 8, 9, 89]\n"
     ]
    }
   ],
   "source": [
    "# Creating function\n",
    "def DisariumNumbers(start=0,end=100):\n",
    "    output_num = []\n",
    "    for number in range(start,end+1):\n",
    "        sum = 0\n",
    "        for item in range(len(str(number))):\n",
    "            sum = sum + int(str(number)[item])**(item+1)\n",
    "        if sum == number:\n",
    "            output_num.append(number)\n",
    "    return output_num\n",
    "            \n",
    "      \n",
    "output = DisariumNumbers(1,100)\n",
    "\n",
    "print(\"All disarium numbers between 1 to 100 are: \", output)  "
   ]
  },
  {
   "cell_type": "markdown",
   "id": "39d20d44",
   "metadata": {},
   "source": [
    "#### 3.\tWrite a Python program to check if the given number is Happy Number?"
   ]
  },
  {
   "cell_type": "code",
   "execution_count": 12,
   "id": "6f4174be",
   "metadata": {},
   "outputs": [
    {
     "name": "stdout",
     "output_type": "stream",
     "text": [
      "Enter a Number: 10\n",
      "10 is a Happy Number\n",
      "Enter a Number: 14\n",
      "14 is not a Happy Number\n"
     ]
    }
   ],
   "source": [
    "# In number theory, a happy number is a number which eventually reaches 1 when replaced by the sum of the square of each digit.\n",
    "\n",
    "# Defining function\n",
    "def HappyNumber():\n",
    "    num = input('Enter a Number: ')\n",
    "    num_duplicate = num\n",
    "    track_num = set()   \n",
    "    while True:\n",
    "        if num != '1' and str(num) not in track_num:\n",
    "            track_num.add(num)\n",
    "            sum = 0\n",
    "            for i in range(len((num))):\n",
    "                sum = sum + int(num[i])**2\n",
    "            num = str(sum)\n",
    "        elif str(num) in track_num:\n",
    "            print(f'{num_duplicate} is not a Happy Number')\n",
    "            break\n",
    "        else:\n",
    "            print(f'{num_duplicate} is a Happy Number')\n",
    "            break\n",
    "\n",
    "# Calling the function\n",
    "HappyNumber()\n",
    "HappyNumber()"
   ]
  },
  {
   "cell_type": "markdown",
   "id": "3868e31c",
   "metadata": {},
   "source": [
    "#### 4.\tWrite a Python program to print all happy numbers between 1 and 100?"
   ]
  },
  {
   "cell_type": "code",
   "execution_count": 15,
   "id": "2071a669",
   "metadata": {},
   "outputs": [
    {
     "name": "stdout",
     "output_type": "stream",
     "text": [
      "The Happy Numbers between 1 and 100 are [1, 7, 10, 13, 19, 23, 28, 31, 32, 44, 49, 68, 70, 79, 82, 86, 91, 94, 97, 100]\n"
     ]
    }
   ],
   "source": [
    "def HappyNumbers(start=0,end=100):\n",
    "    happyNumbersList = []\n",
    "    for num in range(start,end+1):\n",
    "        num = str(num)\n",
    "        inum_holder = num\n",
    "        track_num = set()   \n",
    "        while True:\n",
    "            if num != '1' and str(num) not in track_num:\n",
    "                track_num.add(num)\n",
    "                sum = 0\n",
    "                for k in range(len((num))):\n",
    "                    sum = sum + int(num[k])**2\n",
    "                num = str(sum)\n",
    "            elif str(num) in track_num:\n",
    "                break\n",
    "            else:\n",
    "                happyNumbersList.append(int(inum_holder))\n",
    "                break\n",
    "    print(f'The Happy Numbers between {start} and {end} are {happyNumbersList}')\n",
    "    \n",
    "HappyNumbers(1,100)"
   ]
  },
  {
   "cell_type": "markdown",
   "id": "421ff545",
   "metadata": {},
   "source": [
    "#### 5.\tWrite a Python program to determine whether the given number is a Harshad Number?"
   ]
  },
  {
   "cell_type": "code",
   "execution_count": 17,
   "id": "fa92a65f",
   "metadata": {},
   "outputs": [
    {
     "name": "stdout",
     "output_type": "stream",
     "text": [
      "Enter a Number: 20\n",
      "20 is a Harshad Number\n",
      "Enter a Number: 3245\n",
      "3245 is a Not Harshad Number\n"
     ]
    }
   ],
   "source": [
    "# a harshad number in a given number base is an integer that is divisible by the sum of its digits when written in that base.\n",
    "\n",
    "def HarshadNumber():\n",
    "    num = input('Enter a Number: ')\n",
    "    sum = 0\n",
    "    for item in range(len(num)):\n",
    "        sum = sum + int(num[item])\n",
    "    if int(num)%sum == 0:\n",
    "        print(f'{num} is a Harshad Number')\n",
    "    else:\n",
    "        print(f'{num} is a Not Harshad Number')\n",
    "        \n",
    "HarshadNumber()\n",
    "HarshadNumber()"
   ]
  },
  {
   "cell_type": "markdown",
   "id": "369af0bc",
   "metadata": {},
   "source": [
    "#### 6.\tWrite a Python program to print all pronic numbers between 1 and 100?"
   ]
  },
  {
   "cell_type": "code",
   "execution_count": 19,
   "id": "7a230ebc",
   "metadata": {},
   "outputs": [
    {
     "name": "stdout",
     "output_type": "stream",
     "text": [
      "[2, 6, 12, 20, 30, 42, 56, 72, 90, 110, 132, 156, 182, 210, 240, 272, 306, 342, 380, 420, 462, 506, 552, 600, 650, 702, 756, 812, 870, 930, 992, 1056, 1122, 1190, 1260, 1332, 1406, 1482, 1560, 1640, 1722, 1806, 1892, 1980, 2070, 2162, 2256, 2352, 2450, 2550, 2652, 2756, 2862, 2970, 3080, 3192, 3306, 3422, 3540, 3660, 3782, 3906, 4032, 4160, 4290, 4422, 4556, 4692, 4830, 4970, 5112, 5256, 5402, 5550, 5700, 5852, 6006, 6162, 6320, 6480, 6642, 6806, 6972, 7140, 7310, 7482, 7656, 7832, 8010, 8190, 8372, 8556, 8742, 8930, 9120, 9312, 9506, 9702, 9900, 10100]\n"
     ]
    }
   ],
   "source": [
    "# A pronic number is a number that is the product of two consecutive integers, that is, a number in the form n(n+1).\n",
    "\n",
    "def PronicNumbers(start=1,end=100):\n",
    "    output = []\n",
    "    for i in range(start,end+1):\n",
    "        output.append((i)*(i+1))\n",
    "    print(output)\n",
    "                   \n",
    "PronicNumbers()"
   ]
  },
  {
   "cell_type": "code",
   "execution_count": null,
   "id": "c9b602d2",
   "metadata": {},
   "outputs": [],
   "source": []
  }
 ],
 "metadata": {
  "kernelspec": {
   "display_name": "Python 3 (ipykernel)",
   "language": "python",
   "name": "python3"
  },
  "language_info": {
   "codemirror_mode": {
    "name": "ipython",
    "version": 3
   },
   "file_extension": ".py",
   "mimetype": "text/x-python",
   "name": "python",
   "nbconvert_exporter": "python",
   "pygments_lexer": "ipython3",
   "version": "3.9.7"
  }
 },
 "nbformat": 4,
 "nbformat_minor": 5
}
