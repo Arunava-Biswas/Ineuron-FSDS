{
 "cells": [
  {
   "cell_type": "raw",
   "id": "81e3859c",
   "metadata": {},
   "source": [
    "1.\tWrite a Python Program to Display Fibonacci Sequence Using Recursion?\n",
    "2.\tWrite a Python Program to Find Factorial of Number Using Recursion?\n",
    "3.\tWrite a Python Program to calculate your Body Mass Index?\n",
    "4.\tWrite a Python Program to calculate the natural logarithm of any number?\n",
    "5.\tWrite a Python Program for cube sum of first n natural numbers?\n"
   ]
  },
  {
   "cell_type": "markdown",
   "id": "9d4757ff",
   "metadata": {},
   "source": [
    "#### 1.\tWrite a Python Program to Display Fibonacci Sequence Using Recursion?"
   ]
  },
  {
   "cell_type": "code",
   "execution_count": 3,
   "id": "7c367609",
   "metadata": {},
   "outputs": [
    {
     "name": "stdout",
     "output_type": "stream",
     "text": [
      "Enter the length of the series: 20\n",
      "0, 1, 1, 2, 3, 5, 8, 13, 21, 34, 55, 89, 144, 233, 377, 610, 987, 1597, 2584, 4181, "
     ]
    }
   ],
   "source": [
    "# Taking user input\n",
    "nterms = int(input(\"Enter the length of the series: \"))\n",
    "\n",
    "# Defining the function\n",
    "def recur_fibo(n):\n",
    "    if n <= 1:\n",
    "        return n\n",
    "    else:\n",
    "        return(recur_fibo(n-1) + recur_fibo(n-2))\n",
    "    \n",
    "# calling the function\n",
    "for i in range(nterms):\n",
    "    print(recur_fibo(i),end=\", \")"
   ]
  },
  {
   "cell_type": "markdown",
   "id": "9122bc13",
   "metadata": {},
   "source": [
    "#### 2.\tWrite a Python Program to Find Factorial of Number Using Recursion?"
   ]
  },
  {
   "cell_type": "code",
   "execution_count": 4,
   "id": "15ca4c49",
   "metadata": {},
   "outputs": [
    {
     "name": "stdout",
     "output_type": "stream",
     "text": [
      "Enter a number: 5\n",
      "The Factorial of 5 is 120\n"
     ]
    }
   ],
   "source": [
    "# Taking user input\n",
    "num = int(input('Enter a number: '))\n",
    "\n",
    "# Defining the function using recursive technique\n",
    "def fact(num):\n",
    "    if (num < 1):\n",
    "        return 1\n",
    "    else:\n",
    "        return num*fact(num-1)\n",
    "    \n",
    "\n",
    "# Calling the function\n",
    "value = fact(num)\n",
    "\n",
    "print(f'The Factorial of {num} is {value}')"
   ]
  },
  {
   "cell_type": "markdown",
   "id": "f2233390",
   "metadata": {},
   "source": [
    "#### 3.\tWrite a Python Program to calculate your Body Mass Index?"
   ]
  },
  {
   "cell_type": "code",
   "execution_count": 8,
   "id": "ebf0319a",
   "metadata": {},
   "outputs": [
    {
     "name": "stdout",
     "output_type": "stream",
     "text": [
      "Enter your Weight(kgs): 75\n",
      "Enter your Height(mts): 1.75\n",
      "\n",
      "Your BMI is 24.489795918367346 and the status is Healthy \n"
     ]
    }
   ],
   "source": [
    "# Taking user input\n",
    "in_weight = eval(input('Enter your Weight(kgs): '))\n",
    "in_height = eval(input('Enter your Height(mts): '))\n",
    "\n",
    "# Defining the function\n",
    "def calculate_BMI(weight,height):\n",
    "    bmi = weight/pow(height,2)\n",
    "    \n",
    "    if (bmi < 18.5):\n",
    "        status = 'Underweight'\n",
    "    elif (bmi >= 18.5 and bmi < 24.9):\n",
    "        status = 'Healthy'\n",
    "    elif (bmi >= 24.9 and bmi < 30):\n",
    "        status = 'Overweight'\n",
    "    elif (bmi >=30):\n",
    "        status = 'Suffering from Obesity'\n",
    "        \n",
    "    return bmi, status\n",
    "    \n",
    "    \n",
    "# Calling the function\n",
    "calc_bmi,status = calculate_BMI(in_weight,in_height)\n",
    "\n",
    "# Printing the result\n",
    "print(f'\\nYour BMI is {calc_bmi} and the status is {status} ')"
   ]
  },
  {
   "cell_type": "markdown",
   "id": "c9734ed6",
   "metadata": {},
   "source": [
    "#### 4.\tWrite a Python Program to calculate the natural logarithm of any number?"
   ]
  },
  {
   "cell_type": "code",
   "execution_count": 12,
   "id": "f5484311",
   "metadata": {},
   "outputs": [
    {
     "name": "stdout",
     "output_type": "stream",
     "text": [
      "Enter a Number:26\n",
      "\n",
      "The Natural logarithm of number 26 is: 3.258096538021482\n"
     ]
    }
   ],
   "source": [
    "# Importing the module\n",
    "import math\n",
    "\n",
    "# Taking user input\n",
    "num = eval(input(\"Enter a Number:\"))\n",
    "\n",
    "# Defining the function\n",
    "def gen_Log(num):\n",
    "    return math.log(num)\n",
    "\n",
    "# Calling the function\n",
    "log_num = gen_Log(num)\n",
    "print(f'\\nThe Natural logarithm of number {num} is: {log_num}')"
   ]
  },
  {
   "cell_type": "markdown",
   "id": "bc89332f",
   "metadata": {},
   "source": [
    "#### 5.\tWrite a Python Program for cube sum of first n natural numbers?"
   ]
  },
  {
   "cell_type": "code",
   "execution_count": 17,
   "id": "cee7a217",
   "metadata": {},
   "outputs": [
    {
     "name": "stdout",
     "output_type": "stream",
     "text": [
      "Enter the no of Natural Numbers: 5\n",
      "\n",
      "The Cube Sum of First 5 Natural Numbers is 225.0\n"
     ]
    }
   ],
   "source": [
    "# Taking user input\n",
    "num = int(input(\"Enter the no of Natural Numbers: \"))\n",
    "\n",
    "# Defining the function\n",
    "def cubeOfNaturalNumbers(num):\n",
    "    result = pow(((num * (num +1))/2),2)\n",
    "    return result\n",
    "    \n",
    "# Calling the function\n",
    "result = cubeOfNaturalNumbers(num)\n",
    "print(f'\\nThe Cube Sum of First {num} Natural Numbers is {result}')"
   ]
  },
  {
   "cell_type": "code",
   "execution_count": null,
   "id": "2739d2ec",
   "metadata": {},
   "outputs": [],
   "source": []
  }
 ],
 "metadata": {
  "kernelspec": {
   "display_name": "Python 3 (ipykernel)",
   "language": "python",
   "name": "python3"
  },
  "language_info": {
   "codemirror_mode": {
    "name": "ipython",
    "version": 3
   },
   "file_extension": ".py",
   "mimetype": "text/x-python",
   "name": "python",
   "nbconvert_exporter": "python",
   "pygments_lexer": "ipython3",
   "version": "3.9.7"
  }
 },
 "nbformat": 4,
 "nbformat_minor": 5
}
