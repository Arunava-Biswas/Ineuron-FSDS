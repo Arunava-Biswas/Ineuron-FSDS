{
 "cells": [
  {
   "cell_type": "raw",
   "id": "f5dc4627",
   "metadata": {},
   "source": [
    "Question 1:\n",
    "Please write a program using generator to print the numbers which can be divisible by 5 and 7 between 0 and n in comma separated form while n is input by console.\n",
    "Example:\n",
    "If the following n is given as input to the program:\n",
    "100\n",
    "Then, the output of the program should be:\n",
    "0,35,70\n",
    "\n",
    "\n",
    "\n",
    "\n",
    "Question 2:\n",
    "Please write a program using generator to print the even numbers between 0 and n in comma separated form while n is input by console.\n",
    "Example:\n",
    "If the following n is given as input to the program:\n",
    "10\n",
    "Then, the output of the program should be:\n",
    "0,2,4,6,8,10\n",
    "\n",
    "\n",
    "\n",
    "\n",
    "Question 3:\n",
    "The Fibonacci Sequence is computed based on the following formula:\n",
    "f(n)=0 if n=0\n",
    "f(n)=1 if n=1\n",
    "f(n)=f(n-1)+f(n-2) if n>1\n",
    "Please write a program using list comprehension to print the Fibonacci Sequence in comma separated form with a given n input by console.\n",
    "Example:\n",
    "If the following n is given as input to the program:\n",
    "7\n",
    "\n",
    "Then, the output of the program should be:\n",
    "0,1,1,2,3,5,8,13\n",
    "\n",
    "\n",
    "\n",
    "\n",
    "Question 4:\n",
    "Assuming that we have some email addresses in the \"username@companyname.com\" format, please write program to print the user name of a given email address. Both user names and company names are composed of letters only.\n",
    "Example:\n",
    "If the following email address is given as input to the program:\n",
    "john@google.com\n",
    "Then, the output of the program should be:\n",
    "john\n",
    "\n",
    "\n",
    "\n",
    "\n",
    "Question 5:\n",
    "Define a class named Shape and its subclass Square. The Square class has an init function which takes a length as argument. Both classes have a area function which can print the area of the shape where Shape's area is 0 by default.\n",
    "\n"
   ]
  },
  {
   "cell_type": "markdown",
   "id": "ffeb6429",
   "metadata": {},
   "source": [
    "#### Question 1:\n",
    "\n",
    "##### Please write a program using generator to print the numbers which can be divisible by 5 and 7 between 0 and n in comma separated form while n is input by console.\n",
    "\n",
    "**Example:**\n",
    "\n",
    "If the following n is given as input to the program:\n",
    "`100`\n",
    "\n",
    "Then, the output of the program should be:\n",
    "`0,35,70`\n"
   ]
  },
  {
   "cell_type": "code",
   "execution_count": 2,
   "id": "d7458892",
   "metadata": {},
   "outputs": [
    {
     "name": "stdout",
     "output_type": "stream",
     "text": [
      "Enter the number: 100\n",
      "0,35,70,"
     ]
    }
   ],
   "source": [
    "# taking the input 'n'\n",
    "n = int(input(\"Enter the number: \"))\n",
    "\n",
    "# defining the function using generator\n",
    "def divisible(in_num):\n",
    "    for ele in range(0,in_num):\n",
    "        if (ele%5 == 0) and (ele%7 == 0):\n",
    "            yield ele\n",
    "\n",
    "# calling the function\n",
    "for ele in divisible(n):\n",
    "    print(ele, end=',')"
   ]
  },
  {
   "cell_type": "markdown",
   "id": "beb65bf9",
   "metadata": {},
   "source": [
    "#### Question 2:\n",
    "\n",
    "##### Please write a program using generator to print the even numbers between 0 and n in comma separated form while n is input by console.\n",
    "\n",
    "**Example:**\n",
    "\n",
    "If the following n is given as input to the program:\n",
    "`10`\n",
    "\n",
    "Then, the output of the program should be:\n",
    "`0,2,4,6,8,10`"
   ]
  },
  {
   "cell_type": "code",
   "execution_count": 4,
   "id": "d28cf5ef",
   "metadata": {},
   "outputs": [
    {
     "name": "stdout",
     "output_type": "stream",
     "text": [
      "Enter the number: 10\n",
      "0,2,4,6,8,10,"
     ]
    }
   ],
   "source": [
    "# taking the input 'n'\n",
    "n = int(input(\"Enter the number: \"))\n",
    "\n",
    "# defining the function using generator\n",
    "def even_Numbers(in_num):\n",
    "    for ele in range(0,in_num+1):\n",
    "        if (ele == 0) or (ele%2 == 0):\n",
    "            yield ele\n",
    "\n",
    "# calling the function\n",
    "for ele in even_Numbers(n):\n",
    "    print(ele, end=',')"
   ]
  },
  {
   "cell_type": "markdown",
   "id": "2989162f",
   "metadata": {},
   "source": [
    "#### Question 3:\n",
    "\n",
    "##### The Fibonacci Sequence is computed based on the following formula:\n",
    "\n",
    "`f(n)=0 if n=0`\n",
    "\n",
    "`f(n)=1 if n=1`\n",
    "\n",
    "`f(n)=f(n-1)+f(n-2) if n>1`\n",
    "\n",
    "##### Please write a program using list comprehension to print the Fibonacci Sequence in comma separated form with a given n input by console.\n",
    "\n",
    "**Example:**\n",
    "\n",
    "If the following n is given as input to the program:\n",
    "`7`\n",
    "\n",
    "Then, the output of the program should be:\n",
    "`0,1,1,2,3,5,8,13`"
   ]
  },
  {
   "cell_type": "code",
   "execution_count": 7,
   "id": "0092dbd7",
   "metadata": {},
   "outputs": [
    {
     "name": "stdout",
     "output_type": "stream",
     "text": [
      "Enter the number: 7\n",
      "[0, 1, 1, 2, 3, 5, 8, 13]\n"
     ]
    }
   ],
   "source": [
    "# taking the input 'n'\n",
    "n = int(input(\"Enter the number: \"))\n",
    "\n",
    "\n",
    "# defining the function\n",
    "def Fibo_num(in_num):\n",
    "    if in_num == 0:\n",
    "        return 0\n",
    "    elif in_num == 1:\n",
    "        return 1\n",
    "    else:\n",
    "        return Fibo_num(in_num - 1) + Fibo_num(in_num - 2)\n",
    "    \n",
    "    \n",
    "# calling the function using list comprehension\n",
    "out = [Fibo_num(x) for x in range(n+1)]\n",
    "print(out)"
   ]
  },
  {
   "cell_type": "markdown",
   "id": "66db87aa",
   "metadata": {},
   "source": [
    "#### Question 4:\n",
    "\n",
    "##### Assuming that we have some email addresses in the `\"username@companyname.com\"` format, please write program to print the user name of a given email address. Both user names and company names are composed of letters only.\n",
    "\n",
    "**Example:**\n",
    "\n",
    "If the following email address is given as input to the program:\n",
    "`john@google.com`\n",
    "\n",
    "Then, the output of the program should be:\n",
    "`john`"
   ]
  },
  {
   "cell_type": "code",
   "execution_count": 9,
   "id": "064f3f69",
   "metadata": {},
   "outputs": [
    {
     "name": "stdout",
     "output_type": "stream",
     "text": [
      "Enter email address(es): john@google.com\n",
      "The Username of john@google.com is john\n"
     ]
    }
   ],
   "source": [
    "# Taking user input\n",
    "email_id = input(\"Enter email address(es): \")\n",
    "\n",
    "# defining the function\n",
    "def getUsernames(email):\n",
    "    output = email.split('@')\n",
    "    return output[0]\n",
    "\n",
    "# Calling the function\n",
    "name = getUsernames(email_id)\n",
    "print(f\"The Username of {email_id} is {name}\")"
   ]
  },
  {
   "cell_type": "markdown",
   "id": "21f19944",
   "metadata": {},
   "source": [
    "#### Question 5:\n",
    "\n",
    "##### Define a class named Shape and its subclass Square. The Square class has an init function which takes a length as argument. Both classes have a area function which can print the area of the shape where Shape's area is 0 by default.\n"
   ]
  },
  {
   "cell_type": "code",
   "execution_count": 17,
   "id": "4b540be3",
   "metadata": {},
   "outputs": [
    {
     "name": "stdout",
     "output_type": "stream",
     "text": [
      "0\n",
      "625\n"
     ]
    }
   ],
   "source": [
    "class Shape:\n",
    "    def area(self):\n",
    "        return 0\n",
    "\n",
    "class Square(Shape):\n",
    "    def __init__(self, length):\n",
    "        self.length = length\n",
    "    def area(self):\n",
    "        return self.length * self.length\n",
    "    \n",
    "\n",
    "print(Shape.area(25))  # printing Shape's area    \n",
    "square = Square(25)    # creating object for Square class\n",
    "print(square.area())   # printing Square's area\n"
   ]
  },
  {
   "cell_type": "code",
   "execution_count": null,
   "id": "29722e7c",
   "metadata": {},
   "outputs": [],
   "source": []
  }
 ],
 "metadata": {
  "kernelspec": {
   "display_name": "Python 3 (ipykernel)",
   "language": "python",
   "name": "python3"
  },
  "language_info": {
   "codemirror_mode": {
    "name": "ipython",
    "version": 3
   },
   "file_extension": ".py",
   "mimetype": "text/x-python",
   "name": "python",
   "nbconvert_exporter": "python",
   "pygments_lexer": "ipython3",
   "version": "3.9.7"
  }
 },
 "nbformat": 4,
 "nbformat_minor": 5
}
