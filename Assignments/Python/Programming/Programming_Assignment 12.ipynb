{
 "cells": [
  {
   "cell_type": "raw",
   "id": "aa08448e",
   "metadata": {},
   "source": [
    "1.\tWrite a Python program to Extract Unique values dictionary values?\n",
    "2.\tWrite a Python program to find the sum of all items in a dictionary?\n",
    "3.\tWrite a Python program to Merging two Dictionaries?\n",
    "4.\tWrite a Python program to convert key-values list to flat dictionary?\n",
    "5.\tWrite a Python program to insertion at the beginning in OrderedDict?\n",
    "6.\tWrite a Python program to check order of character in string using OrderedDict()?\n",
    "7.\tWrite a Python program to sort Python Dictionaries by Key or Value?\n"
   ]
  },
  {
   "cell_type": "markdown",
   "id": "908664e1",
   "metadata": {},
   "source": [
    "#### 1.\tWrite a Python program to Extract Unique values dictionary values?"
   ]
  },
  {
   "cell_type": "code",
   "execution_count": 2,
   "id": "a5547469",
   "metadata": {},
   "outputs": [
    {
     "name": "stdout",
     "output_type": "stream",
     "text": [
      "dict_values(['Kolkata', 'Mumbai', 'Delhi', 'Chennai', 'Bangalore', 'Kolkata', 'Ahmedabad', 'Delhi'])\n",
      "Unique Values: ['Bangalore', 'Ahmedabad', 'Mumbai', 'Chennai', 'Delhi', 'Kolkata']\n"
     ]
    }
   ],
   "source": [
    "in_dict = {1:'Kolkata',2:'Mumbai',3:'Delhi',4:'Chennai',5:'Bangalore',6:'Kolkata',7:'Ahmedabad', 8:'Delhi'}\n",
    "\n",
    "print(in_dict.values())  # This will print all the values\n",
    "\n",
    "print(f'Unique Values: {list(set(in_dict.values()))}')   # This will print the unique values"
   ]
  },
  {
   "cell_type": "markdown",
   "id": "6609de10",
   "metadata": {},
   "source": [
    "#### 2.\tWrite a Python program to find the sum of all items in a dictionary?"
   ]
  },
  {
   "cell_type": "code",
   "execution_count": 3,
   "id": "3361aad8",
   "metadata": {},
   "outputs": [
    {
     "name": "stdout",
     "output_type": "stream",
     "text": [
      "Sum of All items:  300\n"
     ]
    }
   ],
   "source": [
    "in_dict = {'Apple':10,'Mango':20,'Banana':30,'Guava':40,'PineApple':200}\n",
    "print('Sum of All items: ',sum(in_dict.values()))"
   ]
  },
  {
   "cell_type": "markdown",
   "id": "e81cd667",
   "metadata": {},
   "source": [
    "#### 3.\tWrite a Python program to Merging two Dictionaries?"
   ]
  },
  {
   "cell_type": "code",
   "execution_count": 4,
   "id": "0b79315a",
   "metadata": {},
   "outputs": [
    {
     "name": "stdout",
     "output_type": "stream",
     "text": [
      "{'course_name1': 'FSDS', 'course_name2': 'FSDA', 'course_instructors': ['Sudhanshu Kumar', 'Krish Naik']}\n"
     ]
    }
   ],
   "source": [
    "# Creating two dictionaries\n",
    "\n",
    "course = {\n",
    "    'course_name1' : 'FSDS',\n",
    "    'course_name2' : 'FSDA'\n",
    "}\n",
    "\n",
    "instructors = {\n",
    "    'course_instructors' : [\"Sudhanshu Kumar\", \"Krish Naik\"]\n",
    "}\n",
    "\n",
    "\n",
    "# Merging the two dictionaries\n",
    "course.update(instructors)\n",
    "print(course)"
   ]
  },
  {
   "cell_type": "markdown",
   "id": "c34389e4",
   "metadata": {},
   "source": [
    "#### 4.\tWrite a Python program to convert key-values list to flat dictionary?"
   ]
  },
  {
   "cell_type": "code",
   "execution_count": 5,
   "id": "f0811e66",
   "metadata": {},
   "outputs": [],
   "source": [
    "# Key-values list\n",
    "in_list = [('A',10),('B',20),('C',30),('D',40),('E',50),('F',60),('G',70),('H',80),('I',90),('J',100)]\n"
   ]
  },
  {
   "cell_type": "code",
   "execution_count": 6,
   "id": "2071ed97",
   "metadata": {},
   "outputs": [
    {
     "name": "stdout",
     "output_type": "stream",
     "text": [
      "{'A': 10, 'B': 20, 'C': 30, 'D': 40, 'E': 50, 'F': 60, 'G': 70, 'H': 80, 'I': 90, 'J': 100}\n"
     ]
    }
   ],
   "source": [
    "# method 1\n",
    "\n",
    "d = dict(in_list)\n",
    "print(d)"
   ]
  },
  {
   "cell_type": "code",
   "execution_count": 7,
   "id": "d6a3ed2b",
   "metadata": {},
   "outputs": [
    {
     "name": "stdout",
     "output_type": "stream",
     "text": [
      "{'A': 10, 'B': 20, 'C': 30, 'D': 40, 'E': 50, 'F': 60, 'G': 70, 'H': 80, 'I': 90, 'J': 100}\n"
     ]
    }
   ],
   "source": [
    "# method 2\n",
    "\n",
    "output = {}\n",
    "for i in in_list:\n",
    "    output[i[0]] = i[1]\n",
    "print(output)"
   ]
  },
  {
   "cell_type": "markdown",
   "id": "ac6935cb",
   "metadata": {},
   "source": [
    "#### 5.\tWrite a Python program to insertion at the beginning in OrderedDict?"
   ]
  },
  {
   "cell_type": "code",
   "execution_count": 8,
   "id": "19719714",
   "metadata": {},
   "outputs": [
    {
     "name": "stdout",
     "output_type": "stream",
     "text": [
      "dict_one OrderedDict([('Apple', 'Iphone'), ('Microsoft', 'Windows'), ('Google', 'chrome')])\n",
      "dict_one OrderedDict([('Apple', 'Iphone'), ('Microsoft', 'Windows'), ('Google', 'chrome'), ('Tesla', 'SpaceX')])\n",
      "dict_one OrderedDict([('Tesla', 'SpaceX'), ('Apple', 'Iphone'), ('Microsoft', 'Windows'), ('Google', 'chrome')])\n"
     ]
    }
   ],
   "source": [
    "# Importing module\n",
    "from collections import OrderedDict\n",
    "\n",
    "dict_one = OrderedDict({'Apple':'Iphone','Microsoft':'Windows','Google':'chrome'})\n",
    "print('dict_one',dict_one)\n",
    "\n",
    "dict_two = {'Tesla':'SpaceX'}\n",
    "dict_one.update(dict_two)     # inserting elements\n",
    "print('dict_one',dict_one)\n",
    "\n",
    "dict_one.move_to_end('Tesla',last=False)   # moving inserted element at the begining\n",
    "print('dict_one',dict_one)"
   ]
  },
  {
   "cell_type": "markdown",
   "id": "4abd100d",
   "metadata": {},
   "source": [
    "#### 6.\tWrite a Python program to check order of character in string using OrderedDict()?"
   ]
  },
  {
   "cell_type": "code",
   "execution_count": 10,
   "id": "790f892c",
   "metadata": {},
   "outputs": [
    {
     "name": "stdout",
     "output_type": "stream",
     "text": [
      "Initial_dict:  {'a': 1000, 'f': 200, 'd': 300, 'c': 400, 'b': 500, 'e': 600}\n",
      "Final_dict:  OrderedDict([('a', 1000), ('b', 500), ('c', 400), ('d', 300), ('e', 600), ('f', 200)])\n"
     ]
    }
   ],
   "source": [
    "# Importing module\n",
    "from collections import OrderedDict\n",
    "\n",
    "initial_dict = {'a': 1000, 'f': 200, 'd': 300, 'c': 400, 'b': 500, 'e': 600}\n",
    "print(\"Initial_dict: \",initial_dict)\n",
    "\n",
    "Final_dict = OrderedDict(dict(sorted(initial_dict.items())))\n",
    "print(\"Final_dict: \", Final_dict)"
   ]
  },
  {
   "cell_type": "markdown",
   "id": "94a4d2df",
   "metadata": {},
   "source": [
    "#### 7.\tWrite a Python program to sort Python Dictionaries by Key or Value?"
   ]
  },
  {
   "cell_type": "code",
   "execution_count": 11,
   "id": "2cb43d60",
   "metadata": {},
   "outputs": [
    {
     "name": "stdout",
     "output_type": "stream",
     "text": [
      "Sorted by key:  {'Banana': 60, 'Grape': 13, 'Mango': 100, 'PineApple': 22}\n",
      "Sorted by value:  {'Grape': 13, 'PineApple': 22, 'Banana': 60, 'Mango': 100}\n"
     ]
    }
   ],
   "source": [
    "# Creating dictionary of items\n",
    "d_items = {'Mango':100,'PineApple':22,'Banana':60,'Grape':13}\n",
    "\n",
    "# defining function \n",
    "def sort_dict(in_dict,sort_type):\n",
    "    if sort_type == 'key':\n",
    "        m = dict(sorted(in_dict.items(), key=lambda x:x[0], reverse=False))\n",
    "        return m\n",
    "    else:\n",
    "        n = dict(sorted(in_dict.items(), key=lambda x:x[1], reverse=False))\n",
    "        return n\n",
    "        \n",
    "# Calling the function\n",
    "i = sort_dict(d_items,'key')   # sorting on the basis of key     \n",
    "j = sort_dict(d_items,'value') # sorting on the basis of value\n",
    "print(\"Sorted by key: \", i)\n",
    "print(\"Sorted by value: \", j)"
   ]
  },
  {
   "cell_type": "code",
   "execution_count": null,
   "id": "ea156030",
   "metadata": {},
   "outputs": [],
   "source": []
  }
 ],
 "metadata": {
  "kernelspec": {
   "display_name": "Python 3 (ipykernel)",
   "language": "python",
   "name": "python3"
  },
  "language_info": {
   "codemirror_mode": {
    "name": "ipython",
    "version": 3
   },
   "file_extension": ".py",
   "mimetype": "text/x-python",
   "name": "python",
   "nbconvert_exporter": "python",
   "pygments_lexer": "ipython3",
   "version": "3.9.7"
  }
 },
 "nbformat": 4,
 "nbformat_minor": 5
}
