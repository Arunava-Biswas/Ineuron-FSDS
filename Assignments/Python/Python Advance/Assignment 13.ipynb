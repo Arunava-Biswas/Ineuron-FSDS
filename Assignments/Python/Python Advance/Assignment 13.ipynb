{
 "cells": [
  {
   "cell_type": "raw",
   "id": "4d8cb489",
   "metadata": {},
   "source": [
    "Q1. Can you create a programme or function that employs both positive and negative indexing? Is there any repercussion if you do so?\n",
    "Q2. What is the most effective way of starting with 1,000 elements in a Python list? Assume that all elements should be set to the same value.\n",
    "Q3. How do you slice a list to get any other part while missing the rest? (For example, suppose you want to make a new list with the elements first, third, fifth, seventh, and so on.)\n",
    "Q4. Explain the distinctions between indexing and slicing.\n",
    "Q5. What happens if one of the slicing expression's indexes is out of range?\n",
    "Q6. If you pass a list to a function, and if you want the function to be able to change the values of the list—so that the list is different after the function returns—what action should you avoid?\n",
    "Q7. What is the concept of an unbalanced matrix?\n",
    "Q8. Why is it necessary to use either list comprehension or a loop to create arbitrarily large matrices?\n"
   ]
  },
  {
   "cell_type": "markdown",
   "id": "ffcd38ec",
   "metadata": {},
   "source": [
    "#### Q1. Can you create a programme or function that employs both positive and negative indexing? Is there any repercussion if you do so?"
   ]
  },
  {
   "cell_type": "code",
   "execution_count": 1,
   "id": "dcd60d08",
   "metadata": {},
   "outputs": [
    {
     "name": "stdout",
     "output_type": "stream",
     "text": [
      "Positive Indexing:  5\n",
      "Negative Indexing:  9\n"
     ]
    }
   ],
   "source": [
    "in_list = [1,2,3,4,5,6,7,8,9,10]\n",
    "\n",
    "# defining function\n",
    "def biDirectionalIndexing(in_list, pos):\n",
    "    return in_list[pos]\n",
    "\n",
    "# calling the function\n",
    "print(\"Positive Indexing: \", biDirectionalIndexing(in_list, 4))\n",
    "print(\"Negative Indexing: \", biDirectionalIndexing(in_list, -2))"
   ]
  },
  {
   "cell_type": "markdown",
   "id": "96eab15f",
   "metadata": {},
   "source": [
    "#### Q2. What is the most effective way of starting with 1,000 elements in a Python list? Assume that all elements should be set to the same value."
   ]
  },
  {
   "cell_type": "markdown",
   "id": "816d4c95",
   "metadata": {},
   "source": [
    "**Ans**\n",
    "\n",
    "The quickest and most effective way to do the above task is by using **List Comprehension**."
   ]
  },
  {
   "cell_type": "code",
   "execution_count": 2,
   "id": "cd2d6626",
   "metadata": {},
   "outputs": [
    {
     "name": "stdout",
     "output_type": "stream",
     "text": [
      "[1, 1, 1, 1, 1, 1, 1, 1, 1, 1, 1, 1, 1, 1, 1, 1, 1, 1, 1, 1, 1, 1, 1, 1, 1, 1, 1, 1, 1, 1, 1, 1, 1, 1, 1, 1, 1, 1, 1, 1, 1, 1, 1, 1, 1, 1, 1, 1, 1, 1, 1, 1, 1, 1, 1, 1, 1, 1, 1, 1, 1, 1, 1, 1, 1, 1, 1, 1, 1, 1, 1, 1, 1, 1, 1, 1, 1, 1, 1, 1, 1, 1, 1, 1, 1, 1, 1, 1, 1, 1, 1, 1, 1, 1, 1, 1, 1, 1, 1, 1, 1, 1, 1, 1, 1, 1, 1, 1, 1, 1, 1, 1, 1, 1, 1, 1, 1, 1, 1, 1, 1, 1, 1, 1, 1, 1, 1, 1, 1, 1, 1, 1, 1, 1, 1, 1, 1, 1, 1, 1, 1, 1, 1, 1, 1, 1, 1, 1, 1, 1, 1, 1, 1, 1, 1, 1, 1, 1, 1, 1, 1, 1, 1, 1, 1, 1, 1, 1, 1, 1, 1, 1, 1, 1, 1, 1, 1, 1, 1, 1, 1, 1, 1, 1, 1, 1, 1, 1, 1, 1, 1, 1, 1, 1, 1, 1, 1, 1, 1, 1, 1, 1, 1, 1, 1, 1, 1, 1, 1, 1, 1, 1, 1, 1, 1, 1, 1, 1, 1, 1, 1, 1, 1, 1, 1, 1, 1, 1, 1, 1, 1, 1, 1, 1, 1, 1, 1, 1, 1, 1, 1, 1, 1, 1, 1, 1, 1, 1, 1, 1, 1, 1, 1, 1, 1, 1, 1, 1, 1, 1, 1, 1, 1, 1, 1, 1, 1, 1, 1, 1, 1, 1, 1, 1, 1, 1, 1, 1, 1, 1, 1, 1, 1, 1, 1, 1, 1, 1, 1, 1, 1, 1, 1, 1, 1, 1, 1, 1, 1, 1, 1, 1, 1, 1, 1, 1, 1, 1, 1, 1, 1, 1, 1, 1, 1, 1, 1, 1, 1, 1, 1, 1, 1, 1, 1, 1, 1, 1, 1, 1, 1, 1, 1, 1, 1, 1, 1, 1, 1, 1, 1, 1, 1, 1, 1, 1, 1, 1, 1, 1, 1, 1, 1, 1, 1, 1, 1, 1, 1, 1, 1, 1, 1, 1, 1, 1, 1, 1, 1, 1, 1, 1, 1, 1, 1, 1, 1, 1, 1, 1, 1, 1, 1, 1, 1, 1, 1, 1, 1, 1, 1, 1, 1, 1, 1, 1, 1, 1, 1, 1, 1, 1, 1, 1, 1, 1, 1, 1, 1, 1, 1, 1, 1, 1, 1, 1, 1, 1, 1, 1, 1, 1, 1, 1, 1, 1, 1, 1, 1, 1, 1, 1, 1, 1, 1, 1, 1, 1, 1, 1, 1, 1, 1, 1, 1, 1, 1, 1, 1, 1, 1, 1, 1, 1, 1, 1, 1, 1, 1, 1, 1, 1, 1, 1, 1, 1, 1, 1, 1, 1, 1, 1, 1, 1, 1, 1, 1, 1, 1, 1, 1, 1, 1, 1, 1, 1, 1, 1, 1, 1, 1, 1, 1, 1, 1, 1, 1, 1, 1, 1, 1, 1, 1, 1, 1, 1, 1, 1, 1, 1, 1, 1, 1, 1, 1, 1, 1, 1, 1, 1, 1, 1, 1, 1, 1, 1, 1, 1, 1, 1, 1, 1, 1, 1, 1, 1, 1, 1, 1, 1, 1, 1, 1, 1, 1, 1, 1, 1, 1, 1, 1, 1, 1, 1, 1, 1, 1, 1, 1, 1, 1, 1, 1, 1, 1, 1, 1, 1, 1, 1, 1, 1, 1, 1, 1, 1, 1, 1, 1, 1, 1, 1, 1, 1, 1, 1, 1, 1, 1, 1, 1, 1, 1, 1, 1, 1, 1, 1, 1, 1, 1, 1, 1, 1, 1, 1, 1, 1, 1, 1, 1, 1, 1, 1, 1, 1, 1, 1, 1, 1, 1, 1, 1, 1, 1, 1, 1, 1, 1, 1, 1, 1, 1, 1, 1, 1, 1, 1, 1, 1, 1, 1, 1, 1, 1, 1, 1, 1, 1, 1, 1, 1, 1, 1, 1, 1, 1, 1, 1, 1, 1, 1, 1, 1, 1, 1, 1, 1, 1, 1, 1, 1, 1, 1, 1, 1, 1, 1, 1, 1, 1, 1, 1, 1, 1, 1, 1, 1, 1, 1, 1, 1, 1, 1, 1, 1, 1, 1, 1, 1, 1, 1, 1, 1, 1, 1, 1, 1, 1, 1, 1, 1, 1, 1, 1, 1, 1, 1, 1, 1, 1, 1, 1, 1, 1, 1, 1, 1, 1, 1, 1, 1, 1, 1, 1, 1, 1, 1, 1, 1, 1, 1, 1, 1, 1, 1, 1, 1, 1, 1, 1, 1, 1, 1, 1, 1, 1, 1, 1, 1, 1, 1, 1, 1, 1, 1, 1, 1, 1, 1, 1, 1, 1, 1, 1, 1, 1, 1, 1, 1, 1, 1, 1, 1, 1, 1, 1, 1, 1, 1, 1, 1, 1, 1, 1, 1, 1, 1, 1, 1, 1, 1, 1, 1, 1, 1, 1, 1, 1, 1, 1, 1, 1, 1, 1, 1, 1, 1, 1, 1, 1, 1, 1, 1, 1, 1, 1, 1, 1, 1, 1, 1, 1, 1, 1, 1, 1, 1, 1, 1, 1, 1, 1, 1, 1, 1, 1, 1, 1, 1, 1, 1, 1, 1, 1, 1, 1, 1, 1, 1, 1, 1, 1, 1, 1, 1, 1, 1, 1, 1, 1, 1, 1, 1, 1, 1, 1, 1, 1, 1, 1, 1, 1, 1, 1, 1, 1, 1, 1, 1, 1, 1, 1, 1, 1, 1, 1, 1, 1, 1, 1, 1, 1, 1, 1, 1, 1, 1, 1, 1, 1, 1, 1, 1, 1, 1, 1, 1, 1, 1, 1, 1, 1, 1, 1, 1, 1, 1, 1, 1, 1, 1, 1, 1, 1, 1, 1, 1, 1, 1, 1, 1, 1, 1, 1, 1, 1, 1, 1, 1, 1, 1, 1, 1, 1, 1, 1, 1, 1, 1, 1, 1, 1, 1, 1, 1, 1, 1, 1, 1, 1, 1, 1, 1, 1, 1, 1, 1, 1, 1, 1, 1, 1, 1, 1, 1, 1, 1, 1, 1, 1, 1, 1, 1, 1, 1, 1, 1, 1, 1, 1]\n"
     ]
    }
   ],
   "source": [
    "# code\n",
    "\n",
    "# here the value for all the 1000 elements is '1'\n",
    "st_list = [1 for x in range(1001)]\n",
    "print(st_list)"
   ]
  },
  {
   "cell_type": "markdown",
   "id": "2121b355",
   "metadata": {},
   "source": [
    "#### Q3. How do you slice a list to get any other part while missing the rest? (For example, suppose you want to make a new list with the elements first, third, fifth, seventh, and so on.)"
   ]
  },
  {
   "cell_type": "code",
   "execution_count": 3,
   "id": "ae713164",
   "metadata": {},
   "outputs": [
    {
     "name": "stdout",
     "output_type": "stream",
     "text": [
      "in_list: [1, 2, 3, 4, 5, 6, 7, 8, 9, 10, 11, 12, 13, 14]\n",
      "sliced_list: [1, 3, 5, 7, 9, 11, 13]\n"
     ]
    }
   ],
   "source": [
    "# Creating a list using list comprehension\n",
    "in_list = [x for x in range(1,15)]\n",
    "print(f'in_list: {in_list}')\n",
    "\n",
    "# slicing the list to get 1st, 3rd, 5th elements and so on \n",
    "sliced_list = in_list[::2]\n",
    "print(f'sliced_list: {sliced_list}')"
   ]
  },
  {
   "cell_type": "markdown",
   "id": "613973c9",
   "metadata": {},
   "source": [
    "#### Q4. Explain the distinctions between indexing and slicing."
   ]
  },
  {
   "cell_type": "markdown",
   "id": "b4668f78",
   "metadata": {},
   "source": [
    "**Ans:** \n",
    "\n",
    "Indexing is used when we have to work on index level. While slicing are used over a range of items."
   ]
  },
  {
   "cell_type": "code",
   "execution_count": 4,
   "id": "de9e7e59",
   "metadata": {},
   "outputs": [
    {
     "name": "stdout",
     "output_type": "stream",
     "text": [
      "in_list: [1, 2, 3, 4, 5, 6, 7, 8, 9, 10, 11, 12, 13, 14]\n",
      "Example of indexing: (2, 6)\n",
      "Example of slicing: [2, 3, 4, 5]\n"
     ]
    }
   ],
   "source": [
    "# Creating a list using list comprehension\n",
    "in_list = [x for x in range(1,15)]\n",
    "print(f'in_list: {in_list}')\n",
    "\n",
    "print(f'Example of indexing: {in_list[1], in_list[5]}')\n",
    "print(f'Example of slicing: {in_list[1:5]}')"
   ]
  },
  {
   "cell_type": "markdown",
   "id": "aafcfd4a",
   "metadata": {},
   "source": [
    "#### Q5. What happens if one of the slicing expression's indexes is out of range?"
   ]
  },
  {
   "cell_type": "markdown",
   "id": "adcec59a",
   "metadata": {},
   "source": [
    "**Ans:** \n",
    "\n",
    "If start index is out of range then it will return empty entity."
   ]
  },
  {
   "cell_type": "code",
   "execution_count": 7,
   "id": "612295da",
   "metadata": {},
   "outputs": [
    {
     "name": "stdout",
     "output_type": "stream",
     "text": [
      "in_list: [1, 2, 3, 4, 5, 6, 7, 8, 9, 10, 11, 12, 13, 14]\n",
      "Case #1: []\n",
      "Case #2: [11, 12, 13, 14]\n"
     ]
    }
   ],
   "source": [
    "# Creating a list using list comprehension\n",
    "in_list = [x for x in range(1,15)]\n",
    "print(f'in_list: {in_list}')\n",
    "\n",
    "print(f'Case #1: {in_list[20:]}')     # here it will return an empty list\n",
    "print(f'Case #2: {in_list[10:100]}')"
   ]
  },
  {
   "cell_type": "markdown",
   "id": "044ce96d",
   "metadata": {},
   "source": [
    "#### Q6. If you pass a list to a function, and if you want the function to be able to change the values of the list—so that the list is different after the function returns—what action should you avoid?"
   ]
  },
  {
   "cell_type": "markdown",
   "id": "4723617a",
   "metadata": {},
   "source": [
    "**Ans:**\n",
    "\n",
    "We should make sure that the new values that we add to the list should not be same as the values of the list also the list must not be empty one when passing to the function."
   ]
  },
  {
   "cell_type": "code",
   "execution_count": 8,
   "id": "b4fd1ff5",
   "metadata": {},
   "outputs": [
    {
     "name": "stdout",
     "output_type": "stream",
     "text": [
      "List before modification: [1, 2, 3, 4, 5, 6]\n",
      "List after modification: [1, 2, 3, 4, 5, 6, 100]\n"
     ]
    }
   ],
   "source": [
    "in_list = [1,2,3,4,5,6]\n",
    "\n",
    "# defining function\n",
    "def modify_list(in_list):\n",
    "    in_list.append(100)     # appending 100 to the original list\n",
    "    return in_list\n",
    "\n",
    "\n",
    "print(f\"List before modification: {in_list}\")\n",
    "# calling function\n",
    "print(f\"List after modification: {modify_list(in_list)}\")"
   ]
  },
  {
   "cell_type": "markdown",
   "id": "05127665",
   "metadata": {},
   "source": [
    "#### Q7. What is the concept of an unbalanced matrix?"
   ]
  },
  {
   "cell_type": "markdown",
   "id": "b7da04f6",
   "metadata": {},
   "source": [
    "**Ans:** \n",
    "\n",
    "In Unbalanced Matrix number of rows is not same as number of columns."
   ]
  },
  {
   "cell_type": "markdown",
   "id": "6d214a54",
   "metadata": {},
   "source": [
    "#### Q8. Why is it necessary to use either list comprehension or a loop to create arbitrarily large matrices?"
   ]
  },
  {
   "cell_type": "markdown",
   "id": "310a258b",
   "metadata": {},
   "source": [
    "**Ans:** \n",
    "\n",
    "List comprehension or a Loop helps creation of large matrices easy. It also helps to implemeent and avoid manual errors. It also makes reading code easy. Also lot of time for manual feeding is reduced."
   ]
  },
  {
   "cell_type": "code",
   "execution_count": null,
   "id": "d6b4805c",
   "metadata": {},
   "outputs": [],
   "source": []
  }
 ],
 "metadata": {
  "kernelspec": {
   "display_name": "Python 3 (ipykernel)",
   "language": "python",
   "name": "python3"
  },
  "language_info": {
   "codemirror_mode": {
    "name": "ipython",
    "version": 3
   },
   "file_extension": ".py",
   "mimetype": "text/x-python",
   "name": "python",
   "nbconvert_exporter": "python",
   "pygments_lexer": "ipython3",
   "version": "3.9.7"
  }
 },
 "nbformat": 4,
 "nbformat_minor": 5
}
