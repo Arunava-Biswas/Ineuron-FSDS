{
 "cells": [
  {
   "cell_type": "raw",
   "id": "cb46c650",
   "metadata": {},
   "source": [
    "1.\tWhat are the new features added in Python 3.8 version?\n",
    "2.\tWhat is monkey patching in Python?\n",
    "3.\tWhat is the difference between a shallow copy and deep copy?\n",
    "4.\tWhat is the maximum possible length of an identifier?\n",
    "5.\tWhat is generator comprehension?\n"
   ]
  },
  {
   "cell_type": "markdown",
   "id": "c26fa37c",
   "metadata": {},
   "source": [
    "#### 1.\tWhat are the new features added in Python 3.8 version?"
   ]
  },
  {
   "cell_type": "markdown",
   "id": "baa6fb97",
   "metadata": {},
   "source": [
    "**Ans:** \n",
    "\n",
    "Some New Features Added in Python 3.8 Version are:\n",
    "\n",
    "**Walrus Operator:** This operator is used to assign and return a value in the same expression. This removes the need for initializing the variable upfront. The major benefit of this is it saves some lines of code. It is also known as **`The Walrus Operator`** due to its similarity to the eyes and tusks of a walrus.\n",
    "\n",
    "**`yield`** and **`return`** statements do not require parentheses to return multiple values. \n",
    "\n",
    "Reversed works with a dictionary. The built-in method **`reversed()`** can be used for accessing the elements in the reverse order of insertion\n",
    "\n",
    "**Dict comprehensions** have been modified so that the key is computed first and the value second. \n",
    "\n",
    "\n",
    "**`importlib_metadata`** is a new library added in the Python’s standard utility modules, that provides an API for accessing an installed package’s metadata, such as its entry points or its top-level name.\n",
    "\n",
    "f-strings now support **`=`** , to make string interpolation easy. Python 3.8 allows the use of the above-discussed assignment operator and equal sign **`(=)`** inside the f-strings. \n",
    "\n",
    "In the three-argument form of **`pow()`**, when the exponent is -1, it calculates the modular multiplicative inverse of the given value\n",
    "\n",
    "The **`csv.DictReader`** now returns instances of dictionary instead of a **`collections.OrderedDict`**. \n",
    "\n",
    "If someone misses a comma in their code such as a = **`[(1, 2) (3, 4)]`**, instead of throwing **`TypeError`**, it displays an informative Syntax warning. "
   ]
  },
  {
   "cell_type": "code",
   "execution_count": 1,
   "id": "caaa1c46",
   "metadata": {},
   "outputs": [
    {
     "name": "stdout",
     "output_type": "stream",
     "text": [
      "15\n"
     ]
    }
   ],
   "source": [
    "# Example of Walrus Operator\n",
    "if (sum := 10 + 5) > 10: # its always recommended to use paranthesis with walrus operator\n",
    "    print(sum) #return 15 "
   ]
  },
  {
   "cell_type": "code",
   "execution_count": 2,
   "id": "8deb9aa6",
   "metadata": {},
   "outputs": [
    {
     "name": "stdout",
     "output_type": "stream",
     "text": [
      "('Hello', 'Good Morning')\n",
      "(0, 0) (1, 1) (2, 4) (3, 9) (4, 16) \n"
     ]
    }
   ],
   "source": [
    "# Example of yield and return\n",
    "def hello():\n",
    "    return 'Hello','Good Morning'\n",
    "print(hello())\n",
    "def count():\n",
    "    for i in range(5):\n",
    "        yield i,i**2\n",
    "for ele in count():\n",
    "    print(ele, end=\" \")\n",
    "print()"
   ]
  },
  {
   "cell_type": "code",
   "execution_count": 4,
   "id": "f8499c8e",
   "metadata": {},
   "outputs": [
    {
     "name": "stdout",
     "output_type": "stream",
     "text": [
      "Role:\"Data Scientist\"\n",
      "Name:\"Arunava Biswas\"\n"
     ]
    }
   ],
   "source": [
    "# Example of Reversed Support for dict\n",
    "t_dict = {\"Name\":\"Arunava Biswas\",\"Role\":\"Data Scientist\"}\n",
    "for ele in reversed(t_dict):\n",
    "    print(f'{ele}:\"{t_dict[ele]}\"')\n",
    "    "
   ]
  },
  {
   "cell_type": "code",
   "execution_count": 5,
   "id": "87dcbcc6",
   "metadata": {},
   "outputs": [
    {
     "name": "stdout",
     "output_type": "stream",
     "text": [
      "The length of string is len_string = 31\n"
     ]
    }
   ],
   "source": [
    "# Example of using = in F-strings\n",
    "len_string = len(\"Ineuron Full Stack Data Science\")\n",
    "print(f'The length of string is {len_string = }')"
   ]
  },
  {
   "cell_type": "code",
   "execution_count": 7,
   "id": "6307639f",
   "metadata": {},
   "outputs": [
    {
     "ename": "SyntaxError",
     "evalue": "invalid syntax (1580314194.py, line 2)",
     "output_type": "error",
     "traceback": [
      "\u001b[1;36m  Input \u001b[1;32mIn [7]\u001b[1;36m\u001b[0m\n\u001b[1;33m    r_list = [1,2 3,4]\u001b[0m\n\u001b[1;37m                  ^\u001b[0m\n\u001b[1;31mSyntaxError\u001b[0m\u001b[1;31m:\u001b[0m invalid syntax\n"
     ]
    }
   ],
   "source": [
    "# Example of Infomrative syntax instead of type error while missing comma.\n",
    "r_list = [1,2 3,4]"
   ]
  },
  {
   "cell_type": "markdown",
   "id": "ebe39cf4",
   "metadata": {},
   "source": [
    "#### 2.\tWhat is monkey patching in Python?"
   ]
  },
  {
   "cell_type": "markdown",
   "id": "9cec8ee2",
   "metadata": {},
   "source": [
    "**Ans:** \n",
    "\n",
    "In Python, the term monkey patch refers to making dynamic (or run-time) modifications to a class or module. In Python, we can actually change the behavior of code at run-time."
   ]
  },
  {
   "cell_type": "code",
   "execution_count": 8,
   "id": "b34aab86",
   "metadata": {},
   "outputs": [
    {
     "name": "stdout",
     "output_type": "stream",
     "text": [
      "monkey_f() is being called\n"
     ]
    }
   ],
   "source": [
    "class A:\n",
    "    def func(self):\n",
    "        print(\"func() is being called\")\n",
    "\n",
    "def monkey_f(self):\n",
    "    print(\"monkey_f() is being called\")\n",
    "\n",
    "A.func = monkey_f\n",
    "some_object = A()\n",
    "some_object.func()  # it will print the statement of 'monkey_f()' code even though we called the 'func()'"
   ]
  },
  {
   "cell_type": "markdown",
   "id": "ccedd92e",
   "metadata": {},
   "source": [
    "#### 3.\tWhat is the difference between a shallow copy and deep copy?"
   ]
  },
  {
   "cell_type": "markdown",
   "id": "bb5a8b39",
   "metadata": {},
   "source": [
    "**Ans:** \n",
    "\n",
    "The Differences between a Shallow Copy and deep copy are as follows: \n",
    "\n",
    "When an object is copied using **`copy()`**, it is called **shallow copy** as changes made in copied object will also make corresponding changes in original object, because both the objects will be referencing same address location. \n",
    "\n",
    "When an object is copied using **`deepcopy()`**, it is called **deep copy** as changes made in copied object will not make corresponding changes in original object, because both the objects will not be referencing same address location. "
   ]
  },
  {
   "cell_type": "markdown",
   "id": "15ed6c9e",
   "metadata": {},
   "source": [
    "#### 4.\tWhat is the maximum possible length of an identifier?"
   ]
  },
  {
   "cell_type": "markdown",
   "id": "47b2e2fa",
   "metadata": {},
   "source": [
    "**Ans:** \n",
    "\n",
    "In Python, the highest possible length of an identifier is 79 characters. Python is a high level programming language. It’s also a complex form and a collector of waste.\n",
    "\n",
    "- Python, particularly when combined with identifiers, is case-sensitive.\n",
    "- When writing or using identifiers in Python, it has a maximum of 79 characters.\n",
    "- Unlikely, Python gives the identifiers unlimited length.\n",
    "- However, the layout of PEP-8 prevents the user from breaking the rules and includes a 79-character limit."
   ]
  },
  {
   "cell_type": "markdown",
   "id": "2dfbe3a9",
   "metadata": {},
   "source": [
    "#### 5.\tWhat is generator comprehension?"
   ]
  },
  {
   "cell_type": "markdown",
   "id": "26593f19",
   "metadata": {},
   "source": [
    "**Ans:**\n",
    "\n",
    "A generator comprehension is a single-line specification for defining a generator in Python.\n",
    "\n",
    "- It is absolutely essential to learn this syntax in order to write simple and readable code.\n",
    "\n",
    "- Generator comprehension uses round bracket unlike square bracket in list comprehension.\n",
    "\n",
    "- The generator yields one item at a time and generates item only when in demand. Whereas, in a list comprehension, Python reserves memory for the whole list. Thus we can say that the generator expressions are memory efficient than the lists."
   ]
  },
  {
   "cell_type": "code",
   "execution_count": 10,
   "id": "0a859ffe",
   "metadata": {},
   "outputs": [
    {
     "name": "stdout",
     "output_type": "stream",
     "text": [
      "[0, 1, 2, 3, 4, 5, 6, 7, 8, 9]\n",
      "<generator object <genexpr> at 0x0000022705BDFF20>\n",
      "0 2 4 6 8 "
     ]
    }
   ],
   "source": [
    "in_list = [x for x in range(10)] # List Comprehension\n",
    "print(in_list)\n",
    "out_gen = (x for x in in_list if x%2 == 0) # Generator Comprehension\n",
    "print(out_gen) # Returns a Generator Object\n",
    "for ele in out_gen:\n",
    "    print(ele, end=\" \")"
   ]
  },
  {
   "cell_type": "code",
   "execution_count": null,
   "id": "220db550",
   "metadata": {},
   "outputs": [],
   "source": []
  }
 ],
 "metadata": {
  "kernelspec": {
   "display_name": "Python 3 (ipykernel)",
   "language": "python",
   "name": "python3"
  },
  "language_info": {
   "codemirror_mode": {
    "name": "ipython",
    "version": 3
   },
   "file_extension": ".py",
   "mimetype": "text/x-python",
   "name": "python",
   "nbconvert_exporter": "python",
   "pygments_lexer": "ipython3",
   "version": "3.9.7"
  }
 },
 "nbformat": 4,
 "nbformat_minor": 5
}
