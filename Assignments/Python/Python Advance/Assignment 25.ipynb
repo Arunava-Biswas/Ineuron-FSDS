{
 "cells": [
  {
   "cell_type": "raw",
   "id": "dd7babac",
   "metadata": {},
   "source": [
    "Q1. What is the distinction between a numpy array and a pandas data frame? Is there a way to convert between the two if there is?\n",
    "Q2. What can go wrong when an user enters in a stock-ticker symbol, and how do you handle it?\n",
    "Q3. Identify some of the plotting techniques that are used to produce a stock-market chart.\n",
    "Q4. Why is it essential to print a legend on a stock market chart?\n",
    "Q5. What is the best way to limit the length of a pandas data frame to less than a year?\n",
    "Q6. What is the definition of a 180-day moving average?\n",
    "Q7. Did the chapter's final example use \"indirect\" importing? If so, how exactly do you do it?\n"
   ]
  },
  {
   "cell_type": "markdown",
   "id": "17f07776",
   "metadata": {},
   "source": [
    "#### Q1. What is the distinction between a numpy array and a pandas data frame? Is there a way to convert between the two if there is?"
   ]
  },
  {
   "cell_type": "markdown",
   "id": "fbeba440",
   "metadata": {},
   "source": [
    "**Ans:** \n",
    "\n",
    "`Numpy Ndarray` provides a lot of convenient and optimized methods for performing several mathematical operations on vectors.\n",
    "\n",
    "`Pandas Dataframe` is an in-memory 2-dimensional tabular representation of data. In simpler words, it can be seen as a spreadsheet having rows and columns.\n",
    "\n",
    "Conversion : `Dataframe=pandas.DataFrame(array)`"
   ]
  },
  {
   "cell_type": "markdown",
   "id": "31168593",
   "metadata": {},
   "source": [
    "#### Q2. What can go wrong when an user enters in a stock-ticker symbol, and how do you handle it?"
   ]
  },
  {
   "cell_type": "markdown",
   "id": "af2e819c",
   "metadata": {},
   "source": [
    "**Ans:**\n",
    "\n",
    "A ticker symbol is the grouping of a specific set of characters, usually letters, that represent and identify any type of public security that trades on an exchange. Ticker symbols help investors identify companies when they're doing research or making trades. The change doesn't do anything to markets or to the way we execute trades."
   ]
  },
  {
   "cell_type": "markdown",
   "id": "b2a51304",
   "metadata": {},
   "source": [
    "#### Q3. Identify some of the plotting techniques that are used to produce a stock-market chart."
   ]
  },
  {
   "cell_type": "markdown",
   "id": "9024d746",
   "metadata": {},
   "source": [
    "**Ans:** \n",
    "\n",
    "Bar chart, Line Chart are used for plotting."
   ]
  },
  {
   "cell_type": "markdown",
   "id": "9b871b7a",
   "metadata": {},
   "source": [
    "#### Q4. Why is it essential to print a legend on a stock market chart?"
   ]
  },
  {
   "cell_type": "markdown",
   "id": "74096a32",
   "metadata": {},
   "source": [
    "**Ans:** \n",
    "\n",
    "`Legend` helps in comparison between different stocks, so it is essential on a stock market chart."
   ]
  },
  {
   "cell_type": "markdown",
   "id": "59b61f2f",
   "metadata": {},
   "source": [
    "#### Q5. What is the best way to limit the length of a pandas data frame to less than a year?"
   ]
  },
  {
   "cell_type": "markdown",
   "id": "aa9b1fce",
   "metadata": {},
   "source": [
    "**Ans:**  \n",
    "\n",
    "We can use `start` and `end` parameters for that. In `start` we write the date from where we are starting and at the `end` we write the end date. SO within this span we can restrict the duration. Also we can use the parameters like `periods` for how much time we need the duration to be and we can also use the `frequency` parameter."
   ]
  },
  {
   "cell_type": "markdown",
   "id": "0d098eb1",
   "metadata": {},
   "source": [
    "#### Q6. What is the definition of a 180-day moving average?"
   ]
  },
  {
   "cell_type": "markdown",
   "id": "bfeea0b4",
   "metadata": {},
   "source": [
    "**Ans:** \n",
    "\n",
    "The 180-day moving average is represented as a line on charts and represents the average price over the past 180 days. The moving average can give traders a sense regarding whether the trend is up or down, while also identifying potential support or resistance areas."
   ]
  },
  {
   "cell_type": "markdown",
   "id": "c366d60d",
   "metadata": {},
   "source": [
    "#### Q7. Did the chapter's final example use \"indirect\" importing? If so, how exactly do you do it?"
   ]
  },
  {
   "cell_type": "markdown",
   "id": "b9b9ccdf",
   "metadata": {},
   "source": [
    "**Ans:**\n",
    "\n",
    "Indirect imports in python only works when they are actually used. I donot know what is the final example that we are talking about here, so cannot say whether indirect import take place in that or not."
   ]
  },
  {
   "cell_type": "code",
   "execution_count": null,
   "id": "203523e2",
   "metadata": {},
   "outputs": [],
   "source": []
  }
 ],
 "metadata": {
  "kernelspec": {
   "display_name": "Python 3 (ipykernel)",
   "language": "python",
   "name": "python3"
  },
  "language_info": {
   "codemirror_mode": {
    "name": "ipython",
    "version": 3
   },
   "file_extension": ".py",
   "mimetype": "text/x-python",
   "name": "python",
   "nbconvert_exporter": "python",
   "pygments_lexer": "ipython3",
   "version": "3.9.7"
  }
 },
 "nbformat": 4,
 "nbformat_minor": 5
}
