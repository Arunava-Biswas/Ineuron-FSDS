{
 "cells": [
  {
   "cell_type": "raw",
   "id": "29f50637",
   "metadata": {},
   "source": [
    "Q1. Define the relationship between a class and its instances. Is it a one-to-one or a one-to-many partnership, for example?\n",
    "\n",
    "Q2. What kind of data is held only in an instance?\n",
    "\n",
    "Q3. What kind of knowledge is stored in a class?\n",
    "\n",
    "Q4. What exactly is a method, and how is it different from a regular function?\n",
    "\n",
    "Q5. Is inheritance supported in Python, and if so, what is the syntax?\n",
    "\n",
    "Q6. How much encapsulation (making instance or class variables private) does Python support?\n",
    "\n",
    "Q7. How do you distinguish between a class variable and an instance variable?\n",
    "\n",
    "Q8. When, if ever, can self be included in a class's method definitions?\n",
    "\n",
    "Q9. What is the difference between the _ _add_ _ and the _ _radd_ _ methods?\n",
    "\n",
    "Q10. When is it necessary to use a reflection method? When do you not need it, even though you support the operation in question?\n",
    "\n",
    "Q11. What is the _ _iadd_ _ method called?\n",
    "\n",
    "Q12. Is the _ _init_ _ method inherited by subclasses? What do you do if you need to customize its behavior within a subclass?\n"
   ]
  },
  {
   "cell_type": "markdown",
   "id": "1489d916",
   "metadata": {},
   "source": [
    "#### Q1. Define the relationship between a class and its instances. Is it a one-to-one or a one-to-many partnership, for example?"
   ]
  },
  {
   "cell_type": "markdown",
   "id": "6b57c2e9",
   "metadata": {},
   "source": [
    "**Ans:** \n",
    "\n",
    "Relationship between a class and it's instances is an `one to many partnership`."
   ]
  },
  {
   "cell_type": "markdown",
   "id": "c488c8fe",
   "metadata": {},
   "source": [
    "#### Q2. What kind of data is held only in an instance?"
   ]
  },
  {
   "cell_type": "markdown",
   "id": "4e768018",
   "metadata": {},
   "source": [
    "**Ans:** \n",
    "\n",
    "Instance objects contains the Instance variables which are specific to that specific Instance object."
   ]
  },
  {
   "cell_type": "markdown",
   "id": "0cbb188f",
   "metadata": {},
   "source": [
    "#### Q3. What kind of knowledge is stored in a class?"
   ]
  },
  {
   "cell_type": "markdown",
   "id": "7da2a770",
   "metadata": {},
   "source": [
    "**Ans:** \n",
    "\n",
    "Class creates an user-defined data structure, which holds it's own data members and member functions, which can be accessed and used by creating an instance of that class. A class is like a blueprint for an object."
   ]
  },
  {
   "cell_type": "markdown",
   "id": "f40abf82",
   "metadata": {},
   "source": [
    "#### Q4. What exactly is a method, and how is it different from a regular function?"
   ]
  },
  {
   "cell_type": "markdown",
   "id": "a4639d1a",
   "metadata": {},
   "source": [
    "**Ans:**\n",
    "\n",
    "The methods with a class can be used to access the insatnce variables of its instance. So,the object's state can be modified by its method. Function can't access the attributes of an instance of a class or can't modify the state of the object."
   ]
  },
  {
   "cell_type": "markdown",
   "id": "843fefdb",
   "metadata": {},
   "source": [
    "#### Q5. Is inheritance supported in Python, and if so, what is the syntax?"
   ]
  },
  {
   "cell_type": "markdown",
   "id": "519f4ec2",
   "metadata": {},
   "source": [
    "**Ans:** \n",
    "\n",
    "Yes,Python supports inheritance. The Types of Inheritence Supported by Python are:\n",
    "\n",
    "1. Simple Inheritence\n",
    "2. Multiple Inheritence\n",
    "3. Multilevel lInheritence\n",
    "4. Hybrid Inheritence\n",
    "5. Hierracial Inheritence"
   ]
  },
  {
   "cell_type": "markdown",
   "id": "1e737097",
   "metadata": {},
   "source": [
    "#### Q6. How much encapsulation (making instance or class variables private) does Python support?"
   ]
  },
  {
   "cell_type": "markdown",
   "id": "da834b45",
   "metadata": {},
   "source": [
    "**Ans:** \n",
    "\n",
    "Encapsulation describes the idea of wrapping data and the methods that work on data within one unit. This puts restrictions on accessing variables and methods directly and can prevent the accidental modification of data. To prevent accidental change, an objects variable can only be changed by an objects method."
   ]
  },
  {
   "cell_type": "markdown",
   "id": "217ea57d",
   "metadata": {},
   "source": [
    "#### Q7. How do you distinguish between a class variable and an instance variable?"
   ]
  },
  {
   "cell_type": "markdown",
   "id": "e0bf1d1b",
   "metadata": {},
   "source": [
    "**Ans:** \n",
    "\n",
    "The **`Class Attribute`** is available to all the instance objects of that class. whereas **`Instance Attributes`** are accessible only to the object or Instance of that class. \n",
    "\n",
    "A single copy of Class attributes is maintained by pvm at the class level. Whereas difference copies of instance attributes are maintained by pvm at objects/instance level."
   ]
  },
  {
   "cell_type": "markdown",
   "id": "99fd14e9",
   "metadata": {},
   "source": [
    "#### Q8. When, if ever, can self be included in a class's method definitions?"
   ]
  },
  {
   "cell_type": "markdown",
   "id": "5807ee59",
   "metadata": {},
   "source": [
    "**Ans:** \n",
    "\n",
    "Yes, self can included in class method definations to access the instance variables inside class methods."
   ]
  },
  {
   "cell_type": "markdown",
   "id": "40b1eaf4",
   "metadata": {},
   "source": [
    "#### Q9. What is the difference between the **`__add__`** and the **`__radd__`** methods ?"
   ]
  },
  {
   "cell_type": "markdown",
   "id": "42469232",
   "metadata": {},
   "source": [
    "**Ans:** \n",
    "\n",
    "Entering **`__radd__`** Python will first try **`__add__()`**, and if that returns Not Implemented Python will check if the right-hand operand implements **`__radd__`**, and if it does, it will call **`__radd__()`** rather than raising a **`TypeError`**"
   ]
  },
  {
   "cell_type": "markdown",
   "id": "a6d9f20d",
   "metadata": {},
   "source": [
    "#### Q10. When is it necessary to use a reflection method? When do you not need it, even though you support the operation in question?"
   ]
  },
  {
   "cell_type": "markdown",
   "id": "5ef267e3",
   "metadata": {},
   "source": [
    "**Ans:** \n",
    "\n",
    "Reflection method we often encounter the requirement that a method in the executing object, or a variable in the calling object, or a field of the object should be assigned, while the method name or field name can not be determined when encoding the code, and need to be input in the form of passing strings through parameters."
   ]
  },
  {
   "cell_type": "markdown",
   "id": "23b7ab85",
   "metadata": {},
   "source": [
    "#### Q11. What is the `__iadd__` method called?"
   ]
  },
  {
   "cell_type": "markdown",
   "id": "70049a32",
   "metadata": {},
   "source": [
    "**Ans:** \n",
    "\n",
    "**`__iadd__`** method is called when we use implementation like a+=b which is **`a.__iadd__(b)`**"
   ]
  },
  {
   "cell_type": "markdown",
   "id": "90460645",
   "metadata": {},
   "source": [
    "#### Q12. Is the `__init__` method inherited by subclasses? What do you do if you need to customize its behavior within a subclass ?"
   ]
  },
  {
   "cell_type": "markdown",
   "id": "90955856",
   "metadata": {},
   "source": [
    "**Ans:** \n",
    "\n",
    "Yes, **`__init__`** method will be inherited by subclasses. if we want to customize its behaviour within a subclass we can use **`super()`** method."
   ]
  },
  {
   "cell_type": "code",
   "execution_count": null,
   "id": "2120953c",
   "metadata": {},
   "outputs": [],
   "source": []
  }
 ],
 "metadata": {
  "kernelspec": {
   "display_name": "Python 3 (ipykernel)",
   "language": "python",
   "name": "python3"
  },
  "language_info": {
   "codemirror_mode": {
    "name": "ipython",
    "version": 3
   },
   "file_extension": ".py",
   "mimetype": "text/x-python",
   "name": "python",
   "nbconvert_exporter": "python",
   "pygments_lexer": "ipython3",
   "version": "3.9.7"
  }
 },
 "nbformat": 4,
 "nbformat_minor": 5
}
