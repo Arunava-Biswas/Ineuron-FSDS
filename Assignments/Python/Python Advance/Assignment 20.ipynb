{
 "cells": [
  {
   "cell_type": "raw",
   "id": "eb782cef",
   "metadata": {},
   "source": [
    "Q1. Compare and contrast the float and Decimal classes' benefits and drawbacks.\n",
    "Q2. Decimal('1.200') and Decimal('1.2') are two objects to consider. In what sense are these the same object? Are these just two ways of representing the exact same value, or do they correspond to different internal states?\n",
    "Q3. What happens if the equality of Decimal('1.200') and Decimal('1.2') is checked?\n",
    "Q4. Why is it preferable to start a Decimal object with a string rather than a floating-point value?\n",
    "Q5. In an arithmetic phrase, how simple is it to combine Decimal objects with integers?\n",
    "Q6. Can Decimal objects and floating-point values be combined easily?\n",
    "Q7. Using the Fraction class but not the Decimal class, give an example of a quantity that can be expressed with absolute precision.\n",
    "Q8. Describe a quantity that can be accurately expressed by the Decimal or Fraction classes but not by a floating-point value.\n",
    "Q9.Consider the following two fraction objects: Fraction(1, 2) and Fraction(1, 2). (5, 10). Is the internal state of these two objects the same? Why do you think that is?\n",
    "Q10. How do the Fraction class and the integer type (int) relate to each other? Containment or inheritance?\n"
   ]
  },
  {
   "cell_type": "markdown",
   "id": "43159b7c",
   "metadata": {},
   "source": [
    "#### Q1. Compare and contrast the float and Decimal classes' benefits and drawbacks."
   ]
  },
  {
   "cell_type": "markdown",
   "id": "b60e51b0",
   "metadata": {},
   "source": [
    "**Ans:** \n",
    "\n",
    "Both the `float` and `decimal` types store numerical values in Python.\n",
    "\n",
    "Use `floats` when convenience and speed matter. A float gives you an approximation of the number you declare.\n",
    "\n",
    "Use `decimals` when precision matters. `Decimals` can suffer from their own precision issues, but generally, `decimals` are more precise than `floats`. The performance difference between `float` and `decimal`, with Python 3, is not outlandish, and in my experience, the precision benefits of a `decimal` outweigh the performance benefits of a `float`."
   ]
  },
  {
   "cell_type": "markdown",
   "id": "a94400d1",
   "metadata": {},
   "source": [
    "#### Q2. Decimal('1.200') and Decimal('1.2') are two objects to consider. In what sense are these the same object? Are these just two ways of representing the exact same value, or do they correspond to different internal states?"
   ]
  },
  {
   "cell_type": "markdown",
   "id": "ad6f1516",
   "metadata": {},
   "source": [
    "**Ans:** \n",
    "\n",
    "Both values are same but internal representation at storage Is different. Precsion  differs, `Decimal('1.200')` gives internally  `1.200` and  `Decimal('1.2')` gives `1.2`."
   ]
  },
  {
   "cell_type": "markdown",
   "id": "d32865c1",
   "metadata": {},
   "source": [
    "#### Q3. What happens if the equality of Decimal('1.200') and Decimal('1.2') is checked?"
   ]
  },
  {
   "cell_type": "markdown",
   "id": "fadf6aba",
   "metadata": {},
   "source": [
    "**Ans:** \n",
    "\n",
    "Both values are checked to be equal , they only differ in precision."
   ]
  },
  {
   "cell_type": "markdown",
   "id": "ae5543fd",
   "metadata": {},
   "source": [
    "#### Q4. Why is it preferable to start a Decimal object with a string rather than a floating-point value?"
   ]
  },
  {
   "cell_type": "markdown",
   "id": "d02aff25",
   "metadata": {},
   "source": [
    "**Ans:** \n",
    "\n",
    "Floating-point value is converted to Decimal format. Decimal can store float value with absolute precision. But when float value is given as Decimal object,it first has to be converted from floating point value which might already have rounding error.\n",
    "\n",
    "Hence it is preferable to start a Decimal object with a string."
   ]
  },
  {
   "cell_type": "markdown",
   "id": "bcd11578",
   "metadata": {},
   "source": [
    "#### Q5. In an arithmetic phrase, how simple is it to combine Decimal objects with integers?"
   ]
  },
  {
   "cell_type": "markdown",
   "id": "5db6da0c",
   "metadata": {},
   "source": [
    "**Ans:** \n",
    "\n",
    "We can do it with use of `Decimal()`."
   ]
  },
  {
   "cell_type": "markdown",
   "id": "66c63bde",
   "metadata": {},
   "source": [
    "#### Q6. Can Decimal objects and floating-point values be combined easily?"
   ]
  },
  {
   "cell_type": "markdown",
   "id": "7ae1affc",
   "metadata": {},
   "source": [
    "**Ans:** \n",
    "\n",
    "Arithmetic operations like `adding`,`subtracting` or `multiplying` a Decimal object by a floating-point value is generates an error.\n",
    "\n",
    "To do these operations, the floating point has to be converted to a `Decimal`."
   ]
  },
  {
   "cell_type": "markdown",
   "id": "b4c52039",
   "metadata": {},
   "source": [
    "#### Q7. Using the Fraction class but not the Decimal class, give an example of a quantity that can be expressed with absolute precision."
   ]
  },
  {
   "cell_type": "markdown",
   "id": "c0305e7b",
   "metadata": {},
   "source": [
    "**Ans:** \n",
    "\n",
    "Value of `0.5` will be represented as `½`."
   ]
  },
  {
   "cell_type": "markdown",
   "id": "7e4f4fee",
   "metadata": {},
   "source": [
    "#### Q8. Describe a quantity that can be accurately expressed by the Decimal or Fraction classes but not by a floating-point value."
   ]
  },
  {
   "cell_type": "markdown",
   "id": "3fd65a03",
   "metadata": {},
   "source": [
    "**Ans:**\n",
    "\n",
    "The value of `0.3` can be expressed by Decimal but not by floating point value."
   ]
  },
  {
   "cell_type": "markdown",
   "id": "99131dbf",
   "metadata": {},
   "source": [
    "#### Q9.Consider the following two fraction objects: Fraction(1, 2) and Fraction(1, 2). (5, 10). Is the internal state of these two objects the same? Why do you think that is?"
   ]
  },
  {
   "cell_type": "markdown",
   "id": "50ff0bde",
   "metadata": {},
   "source": [
    "**Ans:** \n",
    "\n",
    "Both will be reduced to `1/2`."
   ]
  },
  {
   "cell_type": "markdown",
   "id": "3e851bcf",
   "metadata": {},
   "source": [
    "#### Q10. How do the Fraction class and the integer type (int) relate to each other? Containment or inheritance?"
   ]
  },
  {
   "cell_type": "markdown",
   "id": "18e6a693",
   "metadata": {},
   "source": [
    "**Ans:** \n",
    "\n",
    "Fraction class and integer type(int) are related in form of a container.It contains two ints, one the numerator and the other the denominator."
   ]
  },
  {
   "cell_type": "code",
   "execution_count": null,
   "id": "0b4b79d2",
   "metadata": {},
   "outputs": [],
   "source": []
  }
 ],
 "metadata": {
  "kernelspec": {
   "display_name": "Python 3 (ipykernel)",
   "language": "python",
   "name": "python3"
  },
  "language_info": {
   "codemirror_mode": {
    "name": "ipython",
    "version": 3
   },
   "file_extension": ".py",
   "mimetype": "text/x-python",
   "name": "python",
   "nbconvert_exporter": "python",
   "pygments_lexer": "ipython3",
   "version": "3.9.7"
  }
 },
 "nbformat": 4,
 "nbformat_minor": 5
}
