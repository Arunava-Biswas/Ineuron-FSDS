{
 "cells": [
  {
   "cell_type": "raw",
   "id": "21083b99",
   "metadata": {},
   "source": [
    "Q1. Does assigning a value to a string's indexed character violate Python's string immutability?\n",
    "Q2. Does using the += operator to concatenate strings violate Python's string immutability? Why or why not?\n",
    "Q3. In Python, how many different ways are there to index a character?\n",
    "Q4. What is the relationship between indexing and slicing?\n",
    "Q5. What is an indexed character's exact data type? What is the data form of a slicing-generated substring?\n",
    "Q6. What is the relationship between string and character \"types\" in Python?\n",
    "Q7. Identify at least two operators and one method that allow you to combine one or more smaller strings to create a larger string.\n",
    "Q8. What is the benefit of first checking the target string with in or not in before using the index method to find a substring?\n",
    "Q9. Which operators and built-in string methods produce simple Boolean (true/false) results?\n"
   ]
  },
  {
   "cell_type": "markdown",
   "id": "98e1d5be",
   "metadata": {},
   "source": [
    "#### Q1. Does assigning a value to a string's indexed character violate Python's string immutability?"
   ]
  },
  {
   "cell_type": "markdown",
   "id": "8d68dc35",
   "metadata": {},
   "source": [
    "**Ans:** \n",
    "\n",
    "String’s indexed character cannot to be assigned a New value, as Strings are immutable.\n",
    "\n",
    "**Example:**\n",
    "\n",
    "`name = \"Reinforcement\"`\n",
    "\n",
    "`print(id(name)) #73472`\n",
    "\n",
    "`name[0] = \"V\" # Raises TypeError`"
   ]
  },
  {
   "cell_type": "markdown",
   "id": "bae39b5a",
   "metadata": {},
   "source": [
    "#### Q2. Does using the += operator to concatenate strings violate Python's string immutability? Why or why not?"
   ]
  },
  {
   "cell_type": "markdown",
   "id": "cb9d5e39",
   "metadata": {},
   "source": [
    "**Ans:** \n",
    "\n",
    "**`+=`** operator is used to concatenate strings, it does not violate Python’s string immutability Property. Because doing so new creates a new association with data and variable. E.g. `str_1=\"a\"` and `str_1+=\"b`. Effect of this statement is to create string ab and reassign it to variable `str_1`, here although the value of the string is modified but string data's memory location is not modified means the string remains at the same location."
   ]
  },
  {
   "cell_type": "code",
   "execution_count": 1,
   "id": "0506db0e",
   "metadata": {},
   "outputs": [
    {
     "name": "stdout",
     "output_type": "stream",
     "text": [
      "a 2583201899952\n",
      "ab 2583281854896\n"
     ]
    }
   ],
   "source": [
    "str_1 = 'a'\n",
    "print(str_1, id(str_1))   # showing the value and memory location of str_1\n",
    "str_1 += 'b'\n",
    "print(str_1, id(str_1))   # showing the modified value and same memory location of str_1"
   ]
  },
  {
   "cell_type": "markdown",
   "id": "87315db8",
   "metadata": {},
   "source": [
    "#### Q3. In Python, how many different ways are there to index a character?"
   ]
  },
  {
   "cell_type": "markdown",
   "id": "1f519535",
   "metadata": {},
   "source": [
    "**Ans:** \n",
    "\n",
    "A Character in string can be indexed using string name followed by index number of character in square bracket. **Positive Indexing** i.e. first index is 0 an so on, or **Negative Indexing** i.e. last letter is -1 and so on can be used to index a character."
   ]
  },
  {
   "cell_type": "code",
   "execution_count": 2,
   "id": "51f1dc43",
   "metadata": {},
   "outputs": [
    {
     "name": "stdout",
     "output_type": "stream",
     "text": [
      "u l e\n",
      "e i c\n"
     ]
    }
   ],
   "source": [
    "in_string = \"iNeuron Full Stack Data Science\"\n",
    "print(in_string[9],in_string[10],in_string[2]) # Positive Indexing\n",
    "print(in_string[-1],in_string[-5],in_string[-2]) # Negative Indexing"
   ]
  },
  {
   "cell_type": "markdown",
   "id": "f7250ea7",
   "metadata": {},
   "source": [
    "#### Q4. What is the relationship between indexing and slicing?"
   ]
  },
  {
   "cell_type": "markdown",
   "id": "9675007b",
   "metadata": {},
   "source": [
    "**Ans:** \n",
    "\n",
    "We can access elements of sequence datatypes by using slicing and indexing. Indexing is used to obtaining individual element while slicing for sequence of elements."
   ]
  },
  {
   "cell_type": "code",
   "execution_count": 3,
   "id": "3a89c0ca",
   "metadata": {},
   "outputs": [
    {
     "name": "stdout",
     "output_type": "stream",
     "text": [
      "N u o\n",
      "Neuron Full St\n"
     ]
    }
   ],
   "source": [
    "in_string = \"iNeuron Full Stack Data Science\"\n",
    "print(in_string[1],in_string[3],in_string[5]) # Indexing\n",
    "print(in_string[1:15]) # Slicing"
   ]
  },
  {
   "cell_type": "markdown",
   "id": "ffc19883",
   "metadata": {},
   "source": [
    "#### Q5. What is an indexed character's exact data type? What is the data form of a slicing-generated substring?"
   ]
  },
  {
   "cell_type": "markdown",
   "id": "c47cfb0d",
   "metadata": {},
   "source": [
    "**Ans:** \n",
    "\n",
    "Indexed characters and sliced substrings have same datatype i.e. **String**."
   ]
  },
  {
   "cell_type": "code",
   "execution_count": 4,
   "id": "907f6712",
   "metadata": {},
   "outputs": [
    {
     "name": "stdout",
     "output_type": "stream",
     "text": [
      "<class 'str'>\n",
      "<class 'str'>\n"
     ]
    }
   ],
   "source": [
    "in_string = \"iNeuron Full Stack Data Science\"\n",
    "print(type(in_string[3])) # Indexing -> str\n",
    "print(type(in_string[1:10])) # Slicing -> str"
   ]
  },
  {
   "cell_type": "markdown",
   "id": "eb7fabb1",
   "metadata": {},
   "source": [
    "#### Q6. What is the relationship between string and character \"types\" in Python?"
   ]
  },
  {
   "cell_type": "markdown",
   "id": "4a6529ee",
   "metadata": {},
   "source": [
    "**Ans:** \n",
    "\n",
    "Object that contains sequence of character datatypes are called String."
   ]
  },
  {
   "cell_type": "markdown",
   "id": "8ab5a7bc",
   "metadata": {},
   "source": [
    "#### Q7. Identify at least two operators and one method that allow you to combine one or more smaller strings to create a larger string."
   ]
  },
  {
   "cell_type": "markdown",
   "id": "0f58637f",
   "metadata": {},
   "source": [
    "**Ans:** \n",
    "\n",
    "**`+`**, **`+=`** and **`*`** allow to combine one or more smaller strings to create a larger string. \n",
    "\n",
    "**`<string>.join(<sep>)`** method joins element of iterable type like list and tuple to get a combined string."
   ]
  },
  {
   "cell_type": "code",
   "execution_count": 5,
   "id": "65c76a33",
   "metadata": {},
   "outputs": [
    {
     "name": "stdout",
     "output_type": "stream",
     "text": [
      "iNeuron Full Stack Data Science\n",
      "iNeuron Full Stack Data Science (FSDS)\n",
      "FSDS FSDS FSDS \n",
      "I N E U R O N\n",
      "i n e u r o n\n"
     ]
    }
   ],
   "source": [
    "in_string = 'iNeuron '\n",
    "\n",
    "in_string += 'Full Stack Data Science'  # using '+=' operator\n",
    "print(in_string)\n",
    "print(in_string + ' (FSDS)')   # using '+' operator\n",
    "print('FSDS '*3)               # using '*' operator\n",
    "print(\" \".join(['I','N','E','U','R','O','N'])) # List Iterable\n",
    "print(\" \".join(('I','N','E','U','R','O','N')).lower()) # Tuple Iterable"
   ]
  },
  {
   "cell_type": "markdown",
   "id": "089f1e53",
   "metadata": {},
   "source": [
    "#### Q8. What is the benefit of first checking the target string with in or not in before using the index method to find a substring?"
   ]
  },
  {
   "cell_type": "markdown",
   "id": "5bd7a820",
   "metadata": {},
   "source": [
    "**Ans:** \n",
    "\n",
    "Checking the target string with **in** or **not in** Operators before using the index method to find a substring just helps confirming availability of substring and thus avoid raising of **`ValueError`**.\n"
   ]
  },
  {
   "cell_type": "markdown",
   "id": "89834ba0",
   "metadata": {},
   "source": [
    "#### Q9. Which operators and built-in string methods produce simple Boolean (true/false) results?"
   ]
  },
  {
   "cell_type": "markdown",
   "id": "47d26323",
   "metadata": {},
   "source": [
    "**Ans:** \n",
    "\n",
    "The String Operators and built-in methods to Produce Simple Boolean (True/False) Results are:\n",
    "- **`in`**\n",
    "- **`not`**\n",
    "- **`<string>.isalpha()`**\n",
    "- **`<string>.isalnum()`**\n",
    "- **`<string>.isdecimal()`**\n",
    "- **`<string>.isdigit()`**\n",
    "- **`<string>.islower()`**\n",
    "- **`<string>.isnumeric()`**\n",
    "- **`<string>.isprintable()`**\n",
    "- **`<string>.isspace()`**\n",
    "- **`<string>.istitle()`**"
   ]
  },
  {
   "cell_type": "code",
   "execution_count": null,
   "id": "4e673227",
   "metadata": {},
   "outputs": [],
   "source": []
  }
 ],
 "metadata": {
  "kernelspec": {
   "display_name": "Python 3 (ipykernel)",
   "language": "python",
   "name": "python3"
  },
  "language_info": {
   "codemirror_mode": {
    "name": "ipython",
    "version": 3
   },
   "file_extension": ".py",
   "mimetype": "text/x-python",
   "name": "python",
   "nbconvert_exporter": "python",
   "pygments_lexer": "ipython3",
   "version": "3.9.7"
  }
 },
 "nbformat": 4,
 "nbformat_minor": 5
}
