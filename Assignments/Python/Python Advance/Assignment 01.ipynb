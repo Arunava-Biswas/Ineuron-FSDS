{
 "cells": [
  {
   "cell_type": "raw",
   "id": "5dcfbe4f",
   "metadata": {},
   "source": [
    "Q1. What is the purpose of Python's OOP?\n",
    "Q2. Where does an inheritance search look for an attribute?\n",
    "Q3. How do you distinguish between a class object and an instance object?\n",
    "Q4. What makes the first argument in a class’s method function special?\n",
    "Q5. What is the purpose of the __init__ method?\n",
    "Q6. What is the process for creating a class instance?\n",
    "Q7. What is the process for creating a class?\n",
    "Q8. How would you define the superclasses of a class?\n"
   ]
  },
  {
   "cell_type": "markdown",
   "id": "dd11f4db",
   "metadata": {},
   "source": [
    "#### Q1. What is the purpose of Python's OOP?"
   ]
  },
  {
   "cell_type": "markdown",
   "id": "5957d600",
   "metadata": {},
   "source": [
    "**Ans:** \n",
    "\n",
    "Object-oriented programming (OOP) is a method of structuring a program by bundling related properties and behaviors into individual objects. OOP models real-world entities as software objects that have some data associated with them and can perform certain functions.\n",
    "\n",
    "- In Python, object-oriented Programming (OOP) uses objects and classes.\n",
    "\n",
    "- It aims to implement real-world entities with the help of methods like inheritance, polymorphisms, encapsulation, etc. \n",
    "\n",
    "- The main concept of OOP is to bind the data and the functions that work on that data, together as a single unit. \n",
    "\n",
    "**It comes up with the following advantages:**\n",
    "\n",
    "1. It helps to divide our overall program into different small segments and thus making it easy to solve the main problem with the help of objects.\n",
    "\n",
    "2. Helps in easy maintenance and modification of existing program.\n",
    "\n",
    "3. Multiple instances of an object can be made."
   ]
  },
  {
   "cell_type": "markdown",
   "id": "930f04a4",
   "metadata": {},
   "source": [
    "#### Q2. Where does an inheritance search look for an attribute?"
   ]
  },
  {
   "cell_type": "markdown",
   "id": "1d431b50",
   "metadata": {},
   "source": [
    "**Ans:** \n",
    "\n",
    "Python searches for an attribute in an upward tree of attributes. It first searches for the attribute in it's instance and then looks in the class it is generated from, to all super classes listed in its class header."
   ]
  },
  {
   "cell_type": "markdown",
   "id": "408ba8c8",
   "metadata": {},
   "source": [
    "#### Q3. How do you distinguish between a class object and an instance object?"
   ]
  },
  {
   "cell_type": "markdown",
   "id": "4ad36052",
   "metadata": {},
   "source": [
    "**Ans:** \n",
    "\n",
    "The differences between a class object and an instance object are:\n",
    "\n",
    "- Class is a template for creating objects whereas object is an instance of the class.\n",
    "\n",
    "- Seperate memory is allocated for each object whenever an object is created, whereas for a class it is not the case.\n",
    "\n",
    "- A Class is created once, but we can create many objects using the same class.\n",
    "\n",
    "- As Classes have no allocated memory they can't be manipulated, but objects can be manipulated."
   ]
  },
  {
   "cell_type": "markdown",
   "id": "554d857b",
   "metadata": {},
   "source": [
    "#### Q4. What makes the first argument in a class’s method function special?"
   ]
  },
  {
   "cell_type": "markdown",
   "id": "a816e2f8",
   "metadata": {},
   "source": [
    "**Ans:** \n",
    "\n",
    "Python Classes usually have three types of methods which are:\n",
    "\n",
    "- Instance Methods (object level methods)\n",
    "\n",
    "- Class Methods (class level methods)\n",
    "\n",
    "- Static Methods (general utility methods)\n",
    "\n",
    "\n",
    "**`self`** is the first argument for instance methods, which refers to the object itself.\n",
    "\n",
    "**`cls`** is the first argument for class methods which refers to the class itself."
   ]
  },
  {
   "cell_type": "markdown",
   "id": "50316f7b",
   "metadata": {},
   "source": [
    "#### Q5. What is the purpose of the `__init__` method?"
   ]
  },
  {
   "cell_type": "markdown",
   "id": "58d8a9dd",
   "metadata": {},
   "source": [
    "**Ans:** \n",
    "\n",
    "**`__init__`** is a inbuilt method in python classes. It serves the role of a **constructor** in object oriented terminology. This method is called when an object is created from a class and it allows the class to initialize the attributes of the class."
   ]
  },
  {
   "cell_type": "markdown",
   "id": "a500d5ec",
   "metadata": {},
   "source": [
    "#### Q6. What is the process for creating a class instance?"
   ]
  },
  {
   "cell_type": "markdown",
   "id": "5800d265",
   "metadata": {},
   "source": [
    "**Ans:**\n",
    "\n",
    "To create a class instance, we need to call the class by its name and pass the arguments to the class, which it's `__init__` method accepts.\n",
    "\n",
    "**Example:** **`my_name = my_class(\"Arunava\",\"Biswas\")`** \n",
    "\n",
    "Here `my_name` is an instance of class `my_class` with attributes `\"Arunava\"` and `\"Biswas\"`."
   ]
  },
  {
   "cell_type": "markdown",
   "id": "1a5834e4",
   "metadata": {},
   "source": [
    "#### Q7. What is the process for creating a class?"
   ]
  },
  {
   "cell_type": "markdown",
   "id": "1128b891",
   "metadata": {},
   "source": [
    "**Ans:** \n",
    "\n",
    "**`class`** keyword is used to create a class in python. The syntax to create a class in python is **`class <classname>:`**\n",
    "\n",
    "**Example:** **`class Fruits:`**  this creates a class called Fruits."
   ]
  },
  {
   "cell_type": "markdown",
   "id": "1baa3914",
   "metadata": {},
   "source": [
    "#### Q8. How would you define the superclasses of a class?"
   ]
  },
  {
   "cell_type": "markdown",
   "id": "ba7168a0",
   "metadata": {},
   "source": [
    "**Ans:** \n",
    "\n",
    "Superclass/Parent class is given as a argument to the child class so the child class can inherit all the attributes and methods from the parent class.\n",
    "\n",
    "**Example:** **`class Employee(Person):`** Here child class `Employee` inherits attributes and methods from Superclass/Parent class `Person`."
   ]
  },
  {
   "cell_type": "code",
   "execution_count": null,
   "id": "f15f41d9",
   "metadata": {},
   "outputs": [],
   "source": []
  }
 ],
 "metadata": {
  "kernelspec": {
   "display_name": "Python 3 (ipykernel)",
   "language": "python",
   "name": "python3"
  },
  "language_info": {
   "codemirror_mode": {
    "name": "ipython",
    "version": 3
   },
   "file_extension": ".py",
   "mimetype": "text/x-python",
   "name": "python",
   "nbconvert_exporter": "python",
   "pygments_lexer": "ipython3",
   "version": "3.9.7"
  }
 },
 "nbformat": 4,
 "nbformat_minor": 5
}
