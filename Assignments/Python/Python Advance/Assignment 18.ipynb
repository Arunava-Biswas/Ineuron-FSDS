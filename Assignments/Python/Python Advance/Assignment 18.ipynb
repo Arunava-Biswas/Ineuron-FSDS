{
 "cells": [
  {
   "cell_type": "raw",
   "id": "a0fcb64a",
   "metadata": {},
   "source": [
    "Q1. Describe the differences between text and binary files in a single paragraph.\n",
    "Q2. What are some scenarios where using text files will be the better option? When would you like to use binary files instead of text files?\n",
    "Q3. What are some of the issues with using binary operations to read and write a Python integer directly to disc?\n",
    "Q4. Describe a benefit of using the with keyword instead of explicitly opening a file.\n",
    "Q5. Does Python have the trailing newline while reading a line of text? Does Python append a newline when you write a line of text?\n",
    "Q6. What file operations enable for random-access operation?\n",
    "Q7. When do you think you'll use the struct package the most?\n",
    "Q8. When is pickling the best option?\n",
    "Q9. When will it be best to use the shelve package?\n",
    "Q10. What is a special restriction when using the shelve package, as opposed to using other data dictionaries?\n"
   ]
  },
  {
   "cell_type": "markdown",
   "id": "4292044d",
   "metadata": {},
   "source": [
    "#### Q1. Describe the differences between text and binary files in a single paragraph."
   ]
  },
  {
   "cell_type": "markdown",
   "id": "d12ae0d1",
   "metadata": {},
   "source": [
    "**Ans:** \n",
    "\n",
    "The differences between Text Files and Binary Files are:\n",
    "\n",
    "**Text files** are special subset of binary files that are used to store human readable characters as a rich text document or plain text document. Text files also store data in sequential bytes but bits in text file represents characters.\n",
    "\n",
    "**Binary files** are those typical files that store data in the form of sequence of bytes grouped into eight bits or sometimes sixteen bits. These bits represent custom data and such files can store multiple types of data (images, audio, text, etc) under a single file."
   ]
  },
  {
   "cell_type": "markdown",
   "id": "fd71fc08",
   "metadata": {},
   "source": [
    "#### Q2. What are some scenarios where using text files will be the better option? When would you like to use binary files instead of text files?"
   ]
  },
  {
   "cell_type": "markdown",
   "id": "3324c6b8",
   "metadata": {},
   "source": [
    "**Ans:**\n",
    "\n",
    "Text files are less prone to get corrupted as any undesired change may just show up once the file is opened and then can easily be removed. Whereas Use binary files instead of text files for image data."
   ]
  },
  {
   "cell_type": "markdown",
   "id": "ecb4f73c",
   "metadata": {},
   "source": [
    "#### Q3. What are some of the issues with using binary operations to read and write a Python integer directly to disc?"
   ]
  },
  {
   "cell_type": "markdown",
   "id": "083bc861",
   "metadata": {},
   "source": [
    "**Ans:** \n",
    "\n",
    "When we read or write a python integer using binary operations\n",
    "\n",
    "1. Binary operations deal with raw data\n",
    "2. One needs to identify how many bytes one would read or write."
   ]
  },
  {
   "cell_type": "markdown",
   "id": "c1a9175b",
   "metadata": {},
   "source": [
    "#### Q4. Describe a benefit of using the with keyword instead of explicitly opening a file."
   ]
  },
  {
   "cell_type": "markdown",
   "id": "6d56812a",
   "metadata": {},
   "source": [
    "**Ans:** \n",
    "\n",
    "When a file is opened using the `with` keyword, if some exceptions occur after opening a file, or at the end of the file it automatically does the closing of the file. There by not leaving an file in open mode and there would no need to explicitly close a file."
   ]
  },
  {
   "cell_type": "markdown",
   "id": "dc7d6113",
   "metadata": {},
   "source": [
    "#### Q5. Does Python have the trailing newline while reading a line of text? Does Python append a newline when you write a line of text?"
   ]
  },
  {
   "cell_type": "markdown",
   "id": "c266747d",
   "metadata": {},
   "source": [
    "**Ans:** \n",
    "\n",
    "Yes, Python have the trailing newline while reading a line of text. When we write a newline has to be provided in python excpicitly."
   ]
  },
  {
   "cell_type": "markdown",
   "id": "41a3f772",
   "metadata": {},
   "source": [
    "#### Q6. What file operations enable for random-access operation?"
   ]
  },
  {
   "cell_type": "markdown",
   "id": "432a5ed2",
   "metadata": {},
   "source": [
    "**Ans:** \n",
    "\n",
    "The file operations enable for random-access operation are **`seek()`** and **`tell()`**."
   ]
  },
  {
   "cell_type": "markdown",
   "id": "78ca0048",
   "metadata": {},
   "source": [
    "#### Q7. When do you think you'll use the struct package the most?"
   ]
  },
  {
   "cell_type": "markdown",
   "id": "2de0e8ee",
   "metadata": {},
   "source": [
    "**Ans:** \n",
    "\n",
    "The **`struct`** package is mostly used while converting a common python types into **`C`** language types."
   ]
  },
  {
   "cell_type": "markdown",
   "id": "29bbc707",
   "metadata": {},
   "source": [
    "#### Q8. When is pickling the best option?"
   ]
  },
  {
   "cell_type": "markdown",
   "id": "0e28de0d",
   "metadata": {},
   "source": [
    "**Ans:** \n",
    "\n",
    "Pickling is best option for creating a new binary file using python."
   ]
  },
  {
   "cell_type": "markdown",
   "id": "6116e5a5",
   "metadata": {},
   "source": [
    "#### Q9. When will it be best to use the shelve package?"
   ]
  },
  {
   "cell_type": "markdown",
   "id": "b1e3ff6a",
   "metadata": {},
   "source": [
    "**Ans:** \n",
    "\n",
    "**`Shelve`** package is used to pickle data but treats the entire file as dictionary."
   ]
  },
  {
   "cell_type": "markdown",
   "id": "c86a9902",
   "metadata": {},
   "source": [
    "#### Q10. What is a special restriction when using the shelve package, as opposed to using other data dictionaries?"
   ]
  },
  {
   "cell_type": "markdown",
   "id": "d2e60efc",
   "metadata": {},
   "source": [
    "**Ans:** \n",
    "\n",
    "Only string data type can be used as key in this special dictionary object, whereas any picklable Python object can be used as value."
   ]
  },
  {
   "cell_type": "code",
   "execution_count": null,
   "id": "0cca02f6",
   "metadata": {},
   "outputs": [],
   "source": []
  }
 ],
 "metadata": {
  "kernelspec": {
   "display_name": "Python 3 (ipykernel)",
   "language": "python",
   "name": "python3"
  },
  "language_info": {
   "codemirror_mode": {
    "name": "ipython",
    "version": 3
   },
   "file_extension": ".py",
   "mimetype": "text/x-python",
   "name": "python",
   "nbconvert_exporter": "python",
   "pygments_lexer": "ipython3",
   "version": "3.9.7"
  }
 },
 "nbformat": 4,
 "nbformat_minor": 5
}
