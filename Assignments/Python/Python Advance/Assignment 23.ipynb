{
 "cells": [
  {
   "cell_type": "raw",
   "id": "8f2eaee7",
   "metadata": {},
   "source": [
    "Q1. If you have any, what are your choices for increasing the comparison between different figures on the same graph?\n",
    "Q2. Can you explain the benefit of compound interest over a higher rate of interest that does not compound after reading this chapter?\n",
    "Q3. What is a histogram, exactly? Name a numpy method for creating such a graph.\n",
    "Q4. If necessary, how do you change the aspect ratios between the X and Y axes?\n",
    "Q5. Compare and contrast the three types of array multiplication between two numpy arrays: dot product, outer product, and regular multiplication of two numpy arrays.\n",
    "Q6. Before you buy a home, which numpy function will you use to measure your monthly mortgage payment?\n",
    "Q7. Can string data be stored in numpy arrays? If so, list at least one restriction that applies to this data.\n"
   ]
  },
  {
   "cell_type": "markdown",
   "id": "f5033d48",
   "metadata": {},
   "source": [
    "#### Q1. If you have any, what are your choices for increasing the comparison between different figures on the same graph?"
   ]
  },
  {
   "cell_type": "markdown",
   "id": "859ca27c",
   "metadata": {},
   "source": [
    "**Ans:** \n",
    "\n",
    "Matplotlib provides a convenient method called **subplots** for increasing the comparison between different figures on the same graph. Subplots mean a group of smaller axes (where each axis is a plot) that can exist together within a single figure."
   ]
  },
  {
   "cell_type": "markdown",
   "id": "78f76ed0",
   "metadata": {},
   "source": [
    "#### Q2. Can you explain the benefit of compound interest over a higher rate of interest that does not compound after reading this chapter?"
   ]
  },
  {
   "cell_type": "markdown",
   "id": "76fa9f3f",
   "metadata": {},
   "source": [
    "**Ans:** \n",
    "\n",
    "Compound interest makes a sum of money grow at a faster rate than simple interest,because in addition to earning returns on the money we invest, we also earn returns on those returns at the end of every compounding period, which could be daily, monthly, quarterly or annually."
   ]
  },
  {
   "cell_type": "markdown",
   "id": "c995a1f0",
   "metadata": {},
   "source": [
    "#### Q3. What is a histogram, exactly? Name a numpy method for creating such a graph."
   ]
  },
  {
   "cell_type": "markdown",
   "id": "857c7313",
   "metadata": {},
   "source": [
    "**Ans:** \n",
    "\n",
    "Histogram shows total values of X with respect to Y. Which means at any particular position of X, Y value shows the total number of counts or data below that value of X. `numpy.histogram()` is the built in function used. "
   ]
  },
  {
   "cell_type": "markdown",
   "id": "c3dec036",
   "metadata": {},
   "source": [
    "#### Q4. If necessary, how do you change the aspect ratios between the X and Y axes?"
   ]
  },
  {
   "cell_type": "markdown",
   "id": "f40ae1d7",
   "metadata": {},
   "source": [
    "**Ans:** \n",
    "\n",
    "We can use `figure(figsize=(10,8))` function inside the `matplot.pyplot` library by which we can scale down or up the graph."
   ]
  },
  {
   "cell_type": "markdown",
   "id": "abf1aaa2",
   "metadata": {},
   "source": [
    "#### Q5. Compare and contrast the three types of array multiplication between two numpy arrays: dot product, outer product, and regular multiplication of two numpy arrays."
   ]
  },
  {
   "cell_type": "markdown",
   "id": "9b31ec4c",
   "metadata": {},
   "source": [
    "**Ans:** : \n",
    "\n",
    "- In regular multiplication values of same index get multiplied.\n",
    "- In dot product there is row wise multiplication, row of one array with column of second array and so on.\n",
    "- In outer multiplication every element of first array `a1` will be multiply by every element of other array `a2` such that the number of columns will be equal to the number of element in another array a2."
   ]
  },
  {
   "cell_type": "markdown",
   "id": "480d29c0",
   "metadata": {},
   "source": [
    "#### Q6. Before you buy a home, which numpy function will you use to measure your monthly mortgage payment?"
   ]
  },
  {
   "cell_type": "markdown",
   "id": "47ab9cd9",
   "metadata": {},
   "source": [
    "**Ans:** \n",
    "\n",
    "`np.pmt(rate, nper, pv)` function we will be using in order to calculate monthly mortgage payment before purchasing a house.\n",
    "\n",
    "Where,\n",
    "- `rate` = The periodic interest rate\n",
    "- `nper` = The number of payment periods\n",
    "- `pv` = The total value of the mortgage loan"
   ]
  },
  {
   "cell_type": "markdown",
   "id": "66c90b2d",
   "metadata": {},
   "source": [
    "#### Q7. Can string data be stored in numpy arrays? If so, list at least one restriction that applies to this data."
   ]
  },
  {
   "cell_type": "markdown",
   "id": "ff97a438",
   "metadata": {},
   "source": [
    "**Ans:** \n",
    "\n",
    "Yes, an array can store the string. The limitation which imposed on the string data is, whenever we store the data of string datatype then it should should keep in mind that the string which is having the maximum length is the limit."
   ]
  },
  {
   "cell_type": "code",
   "execution_count": null,
   "id": "de45ca22",
   "metadata": {},
   "outputs": [],
   "source": []
  }
 ],
 "metadata": {
  "kernelspec": {
   "display_name": "Python 3 (ipykernel)",
   "language": "python",
   "name": "python3"
  },
  "language_info": {
   "codemirror_mode": {
    "name": "ipython",
    "version": 3
   },
   "file_extension": ".py",
   "mimetype": "text/x-python",
   "name": "python",
   "nbconvert_exporter": "python",
   "pygments_lexer": "ipython3",
   "version": "3.9.7"
  }
 },
 "nbformat": 4,
 "nbformat_minor": 5
}
