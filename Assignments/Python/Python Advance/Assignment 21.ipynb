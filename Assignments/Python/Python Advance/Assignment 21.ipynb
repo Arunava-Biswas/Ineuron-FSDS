{
 "cells": [
  {
   "cell_type": "raw",
   "id": "b76c2be8",
   "metadata": {},
   "source": [
    "Q1. What is a probability distribution, exactly? If the values are meant to be random, how can you predict them at all?\n",
    "Q2. Is there a distinction between true random numbers and pseudo-random numbers, if there is one? Why are the latter considered “good enough”?\n",
    "Q3. What are the two main factors that influence the behaviour of a \"normal\" probability distribution?\n",
    "Q4. Provide a real-life example of a normal distribution.\n",
    "Q5. In the short term, how can you expect a probability distribution to behave? What do you think will happen as the number of trials grows?\n",
    "Q6. What kind of object can be shuffled by using random.shuffle?\n",
    "Q7. Describe the math package's general categories of functions.\n",
    "Q8. What is the relationship between exponentiation and logarithms?\n",
    "Q9. What are the three logarithmic functions that Python supports?\n"
   ]
  },
  {
   "cell_type": "markdown",
   "id": "20ec1dee",
   "metadata": {},
   "source": [
    "#### Q1. What is a probability distribution, exactly? If the values are meant to be random, how can you predict them at all?"
   ]
  },
  {
   "cell_type": "markdown",
   "id": "f9727359",
   "metadata": {},
   "source": [
    "**Ans:** \n",
    "\n",
    "A probability distribution describes how a random variable is distributed.\n",
    "\n",
    "It tells us which values a random variable is most likely to take on and which values are less likely. Based on the previous data and the occurences of the random event, we can predict the outcome in terms of probabilities. "
   ]
  },
  {
   "cell_type": "markdown",
   "id": "bfe498a1",
   "metadata": {},
   "source": [
    "#### Q2. Is there a distinction between true random numbers and pseudo-random numbers, if there is one? Why are the latter considered “good enough”?"
   ]
  },
  {
   "cell_type": "markdown",
   "id": "96e414cb",
   "metadata": {},
   "source": [
    "**Ans:**\n",
    "\n",
    "True Random Numbers are true physical values while pseudo-random numbers are generated internally by a program . Latter is considered good enough as they have sort of uniform distribution."
   ]
  },
  {
   "cell_type": "markdown",
   "id": "538ae381",
   "metadata": {},
   "source": [
    "#### Q3. What are the two main factors that influence the behaviour of a \"normal\" probability distribution?"
   ]
  },
  {
   "cell_type": "markdown",
   "id": "7ec2edd2",
   "metadata": {},
   "source": [
    "**Ans:** \n",
    "    \n",
    "Normal Probability Distribution are influenced by two factors mean and the variance."
   ]
  },
  {
   "cell_type": "markdown",
   "id": "7774b656",
   "metadata": {},
   "source": [
    "#### Q4. Provide a real-life example of a normal distribution."
   ]
  },
  {
   "cell_type": "markdown",
   "id": "5805b80f",
   "metadata": {},
   "source": [
    "**Ans:** \n",
    "\n",
    "A Real-life example of a normal distribution are heights or blood pressure measurements"
   ]
  },
  {
   "cell_type": "markdown",
   "id": "cd68ff20",
   "metadata": {},
   "source": [
    "#### Q5. In the short term, how can you expect a probability distribution to behave? What do you think will happen as the number of trials grows?"
   ]
  },
  {
   "cell_type": "markdown",
   "id": "06b0bba6",
   "metadata": {},
   "source": [
    "**Ans:** \n",
    "\n",
    "Variance will decrease with number of trials"
   ]
  },
  {
   "cell_type": "markdown",
   "id": "09397a0f",
   "metadata": {},
   "source": [
    "#### Q6. What kind of object can be shuffled by using random.shuffle?"
   ]
  },
  {
   "cell_type": "markdown",
   "id": "50acfc56",
   "metadata": {},
   "source": [
    "**Ans:** \n",
    "\n",
    "lists (`list`), strings (`str`) and tuples (`tuple`) objects can be shuffled by using `random.shuffle`."
   ]
  },
  {
   "cell_type": "markdown",
   "id": "776805c8",
   "metadata": {},
   "source": [
    "#### Q7. Describe the math package's general categories of functions."
   ]
  },
  {
   "cell_type": "markdown",
   "id": "668acbc5",
   "metadata": {},
   "source": [
    "**Ans:** \n",
    "\n",
    "The Math package's general categories of functions are:\n",
    "\n",
    "1. Trigonometric functions\n",
    "2. Quadratic functions\n",
    "3. Exponential functions\n",
    "4. Hyperbolic functions\n",
    "5. Periodic functions\n",
    "6. Arithmetic functions\n",
    "7. Logarithimic functions\n",
    "8. Conversions to Integer"
   ]
  },
  {
   "cell_type": "markdown",
   "id": "dd17cf23",
   "metadata": {},
   "source": [
    "#### Q8. What is the relationship between exponentiation and logarithms?"
   ]
  },
  {
   "cell_type": "markdown",
   "id": "c0d3516c",
   "metadata": {},
   "source": [
    "**Ans:** \n",
    "\n",
    "Exponentiation and logarithms are inverse of each other."
   ]
  },
  {
   "cell_type": "markdown",
   "id": "eac888ba",
   "metadata": {},
   "source": [
    "#### Q9. What are the three logarithmic functions that Python supports?"
   ]
  },
  {
   "cell_type": "markdown",
   "id": "c9481dd4",
   "metadata": {},
   "source": [
    "**Ans:** \n",
    "\n",
    "The Three Logarithmic Functions that Python supports are:\n",
    "\n",
    "1. `log2(x)` - logarithmic value of x to base 2\n",
    "2. `log10(x)` - logarithmic value of x to base 10 \n",
    "3. `log1p(a)` - This function is used to compute logarithm(1+a) . "
   ]
  },
  {
   "cell_type": "code",
   "execution_count": null,
   "id": "88e69882",
   "metadata": {},
   "outputs": [],
   "source": []
  }
 ],
 "metadata": {
  "kernelspec": {
   "display_name": "Python 3 (ipykernel)",
   "language": "python",
   "name": "python3"
  },
  "language_info": {
   "codemirror_mode": {
    "name": "ipython",
    "version": 3
   },
   "file_extension": ".py",
   "mimetype": "text/x-python",
   "name": "python",
   "nbconvert_exporter": "python",
   "pygments_lexer": "ipython3",
   "version": "3.9.7"
  }
 },
 "nbformat": 4,
 "nbformat_minor": 5
}
