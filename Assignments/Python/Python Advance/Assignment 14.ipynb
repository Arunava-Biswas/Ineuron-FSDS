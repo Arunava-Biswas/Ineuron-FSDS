{
 "cells": [
  {
   "cell_type": "raw",
   "id": "219bd7f7",
   "metadata": {},
   "source": [
    "Q1. Is an assignment operator like += only for show? Is it possible that it would lead to faster results at the runtime?\n",
    "Q2. What is the smallest number of statements you'd have to write in most programming languages to replace the Python expression a, b = a + b, a?\n",
    "Q3. In Python, what is the most effective way to set a list of 100 integers to 0?\n",
    "Q4. What is the most effective way to initialise a list of 99 integers that repeats the sequence 1, 2, 3? S If necessary, show step-by-step instructions on how to accomplish this.\n",
    "Q5. If you're using IDLE to run a Python application, explain how to print a multidimensional list as efficiently?\n",
    "Q6. Is it possible to use list comprehension with a string? If so, how can you go about doing it?\n",
    "Q7. From the command line, how do you get support with a user-written Python programme? Is this possible from inside IDLE?\n",
    "Q8. Functions are said to be “first-class objects” in Python but not in most other languages, such as C++ or Java. What can you do in Python with a function (callable object) that you can't do in C or C++?\n",
    "Q9. How do you distinguish between a wrapper, a wrapped feature, and a decorator?\n",
    "Q10. If a function is a generator function, what does it return?\n",
    "Q11. What is the one improvement that must be made to a function in order for it to become a generator function in the Python language?\n",
    "Q12. Identify at least one benefit of generators.\n"
   ]
  },
  {
   "cell_type": "markdown",
   "id": "c5042fe8",
   "metadata": {},
   "source": [
    "#### Q1. Is an assignment operator like += only for show? Is it possible that it would lead to faster results at the runtime?"
   ]
  },
  {
   "cell_type": "markdown",
   "id": "0ff42d36",
   "metadata": {},
   "source": [
    "**Ans:**\n",
    "\n",
    "**`A=A+1`** evaluates to finding `A`, adding 1 to it. Then storing the value again in variable `A`. This expression makes Python to look for memory holder of `A` twice. But `A+=1` simply means value of `A` is to be incremented by 1. As memory address has to be identified once, `+=` leads to faster operation."
   ]
  },
  {
   "cell_type": "markdown",
   "id": "733aeb14",
   "metadata": {},
   "source": [
    "#### Q2. What is the smallest number of statements you'd have to write in most programming languages to replace the Python expression `a, b = a + b, a`?"
   ]
  },
  {
   "cell_type": "markdown",
   "id": "4b26ec99",
   "metadata": {},
   "source": [
    "**Ans:** \n",
    "\n",
    "Minimum number of lines required to write above code in languages other Python will be 3, one for assigning initial values for variables `a` and `b`, and two for reassignment i.e. `a=a+b` and `b=a`."
   ]
  },
  {
   "cell_type": "code",
   "execution_count": 1,
   "id": "c3849df6",
   "metadata": {},
   "outputs": [
    {
     "name": "stdout",
     "output_type": "stream",
     "text": [
      "Initial values are:  5 3\n",
      "New values are:  8 8\n"
     ]
    }
   ],
   "source": [
    "# code\n",
    "a, b = 5, 3     # 1st line\n",
    "print(\"Initial values are: \", a, b)\n",
    "a = a+b        # 2nd line\n",
    "b = a          # 3rd line\n",
    "print(\"New values are: \", a, b)"
   ]
  },
  {
   "cell_type": "markdown",
   "id": "13d564be",
   "metadata": {},
   "source": [
    "#### Q3. In Python, what is the most effective way to set a list of 100 integers to 0?"
   ]
  },
  {
   "cell_type": "markdown",
   "id": "99461b25",
   "metadata": {},
   "source": [
    "**Ans:** \n",
    "\n",
    "The Most effective way to set a list of 100 integers to 0 in python is by using repition operator(`*`) or by using list comprehension."
   ]
  },
  {
   "cell_type": "code",
   "execution_count": 2,
   "id": "c5e1442b",
   "metadata": {},
   "outputs": [
    {
     "name": "stdout",
     "output_type": "stream",
     "text": [
      "[0, 0, 0, 0, 0, 0, 0, 0, 0, 0, 0, 0, 0, 0, 0, 0, 0, 0, 0, 0, 0, 0, 0, 0, 0, 0, 0, 0, 0, 0, 0, 0, 0, 0, 0, 0, 0, 0, 0, 0, 0, 0, 0, 0, 0, 0, 0, 0, 0, 0, 0, 0, 0, 0, 0, 0, 0, 0, 0, 0, 0, 0, 0, 0, 0, 0, 0, 0, 0, 0, 0, 0, 0, 0, 0, 0, 0, 0, 0, 0, 0, 0, 0, 0, 0, 0, 0, 0, 0, 0, 0, 0, 0, 0, 0, 0, 0, 0, 0, 0]\n",
      "[0, 0, 0, 0, 0, 0, 0, 0, 0, 0, 0, 0, 0, 0, 0, 0, 0, 0, 0, 0, 0, 0, 0, 0, 0, 0, 0, 0, 0, 0, 0, 0, 0, 0, 0, 0, 0, 0, 0, 0, 0, 0, 0, 0, 0, 0, 0, 0, 0, 0, 0, 0, 0, 0, 0, 0, 0, 0, 0, 0, 0, 0, 0, 0, 0, 0, 0, 0, 0, 0, 0, 0, 0, 0, 0, 0, 0, 0, 0, 0, 0, 0, 0, 0, 0, 0, 0, 0, 0, 0, 0, 0, 0, 0, 0, 0, 0, 0, 0, 0]\n"
     ]
    }
   ],
   "source": [
    "# method 1\n",
    "list_zero1 = [0] * 100\n",
    "print(list_zero1)\n",
    "\n",
    "# method 2\n",
    "list_zero2 = [0 for x in range(100)]\n",
    "print(list_zero2)"
   ]
  },
  {
   "cell_type": "markdown",
   "id": "57f21c24",
   "metadata": {},
   "source": [
    "#### Q4. What is the most effective way to initialise a list of 99 integers that repeats the sequence 1, 2, 3? S If necessary, show step-by-step instructions on how to accomplish this."
   ]
  },
  {
   "cell_type": "code",
   "execution_count": 3,
   "id": "399763a7",
   "metadata": {},
   "outputs": [
    {
     "name": "stdout",
     "output_type": "stream",
     "text": [
      "[1, 2, 3, 1, 2, 3, 1, 2, 3, 1, 2, 3, 1, 2, 3, 1, 2, 3, 1, 2, 3, 1, 2, 3, 1, 2, 3, 1, 2, 3, 1, 2, 3, 1, 2, 3, 1, 2, 3, 1, 2, 3, 1, 2, 3, 1, 2, 3, 1, 2, 3, 1, 2, 3, 1, 2, 3, 1, 2, 3, 1, 2, 3, 1, 2, 3, 1, 2, 3, 1, 2, 3, 1, 2, 3, 1, 2, 3, 1, 2, 3, 1, 2, 3, 1, 2, 3, 1, 2, 3, 1, 2, 3, 1, 2, 3, 1, 2, 3]\n"
     ]
    }
   ],
   "source": [
    "new_list = [1,2,3] * 33\n",
    "print(new_list)"
   ]
  },
  {
   "cell_type": "markdown",
   "id": "996923a5",
   "metadata": {},
   "source": [
    "#### Q5. If you're using IDLE to run a Python application, explain how to print a multidimensional list as efficiently?"
   ]
  },
  {
   "cell_type": "code",
   "execution_count": 4,
   "id": "d76db923",
   "metadata": {},
   "outputs": [
    {
     "name": "stdout",
     "output_type": "stream",
     "text": [
      "1 1 2 2 3 3 4 4 5 5 "
     ]
    }
   ],
   "source": [
    "in_list = [[1,1],[2,2],[3,3],[4,4],[5,5]] # 2 dimensional List\n",
    "\n",
    "for x in range(len(in_list)):\n",
    "    for y in range(len(in_list[x])):\n",
    "        print(in_list[x][y],end=\" \")"
   ]
  },
  {
   "cell_type": "markdown",
   "id": "51416f71",
   "metadata": {},
   "source": [
    "#### Q6. Is it possible to use list comprehension with a string? If so, how can you go about doing it?"
   ]
  },
  {
   "cell_type": "markdown",
   "id": "fd256994",
   "metadata": {},
   "source": [
    "**Ans:** \n",
    "\n",
    "List comprehension with string is possible."
   ]
  },
  {
   "cell_type": "code",
   "execution_count": 5,
   "id": "69293c68",
   "metadata": {},
   "outputs": [
    {
     "name": "stdout",
     "output_type": "stream",
     "text": [
      "['A', 'r', 'u', 'n', 'a', 'v', 'a']\n"
     ]
    }
   ],
   "source": [
    "in_list = [x for x in 'Arunava']\n",
    "print(in_list)"
   ]
  },
  {
   "cell_type": "markdown",
   "id": "70fa4267",
   "metadata": {},
   "source": [
    "#### Q7. From the command line, how do you get support with a user-written Python programme? Is this possible from inside IDLE?"
   ]
  },
  {
   "cell_type": "markdown",
   "id": "17b0af7c",
   "metadata": {},
   "source": [
    "**Ans:** \n",
    "\n",
    "**Get support with a user-written Python Programme:** Start a command prompt (Windows) or terminal window (Linux/Mac). If the current working directory is the same as the location in which the file is saved , then one can simply specify the filename as a command-line argument to the Python interpreter.\n",
    "\n",
    "**Get support with a User-written Python Program from IDLE:** We can also create script files and run them in IDLE. From the Shell window menu, select **`File → New File`**. That should open an additional editing window. Type in the code to be executed. From the menu in that window, **`select File → Save or File → Save As…`** and save the file to disk. Then **`select Run → Run Module`**. The output should appear back in the interpreter."
   ]
  },
  {
   "cell_type": "markdown",
   "id": "df860d40",
   "metadata": {},
   "source": [
    "#### Q8. Functions are said to be “first-class objects” in Python but not in most other languages, such as C++ or Java. What can you do in Python with a function (callable object) that you can't do in C or C++?"
   ]
  },
  {
   "cell_type": "markdown",
   "id": "fc900049",
   "metadata": {},
   "source": [
    "**Ans:** \n",
    "\n",
    "The tasks which can be performed with the functions in python are:\n",
    "\n",
    "- A function is an instance of the Object type.\n",
    "\n",
    "- We can store the function in a variable.\n",
    "\n",
    "- We can pass the function as a parameter to another function.\n",
    "\n",
    "- We can return the function from a function.\n",
    "\n",
    "- We can store them in data structures such as hash tables, lists."
   ]
  },
  {
   "cell_type": "markdown",
   "id": "b4fc512f",
   "metadata": {},
   "source": [
    "#### Q9. How do you distinguish between a wrapper, a wrapped feature, and a decorator?"
   ]
  },
  {
   "cell_type": "markdown",
   "id": "ae03db86",
   "metadata": {},
   "source": [
    "**Ans:** \n",
    "\n",
    "Wrappers Around the functions are known as Decorators."
   ]
  },
  {
   "cell_type": "markdown",
   "id": "7a5f026c",
   "metadata": {},
   "source": [
    "#### Q10. If a function is a generator function, what does it return?"
   ]
  },
  {
   "cell_type": "markdown",
   "id": "8b6df7fb",
   "metadata": {},
   "source": [
    "**Ans:** \n",
    "\n",
    "Generator functions are a special kind of function that return a lazy iterator. These are objects that we can loop over like a list. However, unlike lists, lazy iterators do not store their contents in memory."
   ]
  },
  {
   "cell_type": "markdown",
   "id": "113f987b",
   "metadata": {},
   "source": [
    "#### Q11. What is the one improvement that must be made to a function in order for it to become a generator function in the Python language?"
   ]
  },
  {
   "cell_type": "markdown",
   "id": "20837897",
   "metadata": {},
   "source": [
    "**Ans:** \n",
    "\n",
    "Generator is a written as normal function but uses **`yield`** keyword to return values instead of **`return`** keyword."
   ]
  },
  {
   "cell_type": "markdown",
   "id": "d393f72e",
   "metadata": {},
   "source": [
    "#### Q12. Identify at least one benefit of generators."
   ]
  },
  {
   "cell_type": "markdown",
   "id": "f969922c",
   "metadata": {},
   "source": [
    "**Ans:** \n",
    "\n",
    "**`return`** statement sends a specified value back to it's caller whereas **`yield`** statment can produce a sequence of values. We should use generator when we want to iterate over a sequence, but don’t want to store the entire sequence in memory."
   ]
  },
  {
   "cell_type": "code",
   "execution_count": null,
   "id": "2a83e1c7",
   "metadata": {},
   "outputs": [],
   "source": []
  }
 ],
 "metadata": {
  "kernelspec": {
   "display_name": "Python 3 (ipykernel)",
   "language": "python",
   "name": "python3"
  },
  "language_info": {
   "codemirror_mode": {
    "name": "ipython",
    "version": 3
   },
   "file_extension": ".py",
   "mimetype": "text/x-python",
   "name": "python",
   "nbconvert_exporter": "python",
   "pygments_lexer": "ipython3",
   "version": "3.9.7"
  }
 },
 "nbformat": 4,
 "nbformat_minor": 5
}
