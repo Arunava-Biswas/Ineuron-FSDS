{
 "cells": [
  {
   "cell_type": "raw",
   "id": "3632aa4a",
   "metadata": {},
   "source": [
    "Q1. Is it permissible to use several import statements to import the same module? What would the goal be? Can you think of a situation where it would be beneficial?\n",
    "Q2. What are some of a module's characteristics? (Name at least one.)\n",
    "Q3. Circular importing, such as when two modules import each other, can lead to dependencies and bugs that aren't visible. How can you go about creating a program that avoids mutual importing?\n",
    "Q4. Why is  _ _all_ _ in Python?\n",
    "Q5. In what situation is it useful to refer to the _ _name_ _ attribute or the string '_ _main_ _'?\n",
    "Q6. What are some of the benefits of attaching a program counter to the RPN interpreter application, which interprets an RPN script line by line?\n",
    "Q7. What are the minimum expressions or statements (or both) that you'd need to render a basic programming language like RPN primitive but complete— that is, capable of carrying out any computerised task theoretically possible?\n",
    "\n"
   ]
  },
  {
   "cell_type": "markdown",
   "id": "57717a79",
   "metadata": {},
   "source": [
    "#### Q1. Is it permissible to use several import statements to import the same module? What would the goal be? Can you think of a situation where it would be beneficial?"
   ]
  },
  {
   "cell_type": "markdown",
   "id": "a841534d",
   "metadata": {},
   "source": [
    "**Ans:** \n",
    "\n",
    "Yes, it is permissible to use several import statements to import the same module. It is used in case when we have to import multiple functions from same module."
   ]
  },
  {
   "cell_type": "markdown",
   "id": "72273470",
   "metadata": {},
   "source": [
    "#### Q2. What are some of a module's characteristics? (Name at least one.)"
   ]
  },
  {
   "cell_type": "markdown",
   "id": "706179d2",
   "metadata": {},
   "source": [
    "**Ans:** \n",
    "\n",
    "The following are some of a module's characteristics:\n",
    "\n",
    "- **`__name__`** : It returns the name of the module\n",
    "- **`__doc__`** : It denotes the documentation string line written in a module code.\n",
    "- **`__file__`** : It holds the name and path of the module file from which it is loaded\n",
    "- **`__dict__`** : It return a dictionary object of module attributes, functions and other definitions and their respective values"
   ]
  },
  {
   "cell_type": "markdown",
   "id": "d01a8e48",
   "metadata": {},
   "source": [
    "#### Q3. Circular importing, such as when two modules import each other, can lead to dependencies and bugs that aren't visible. How can you go about creating a program that avoids mutual importing?"
   ]
  },
  {
   "cell_type": "markdown",
   "id": "a94d0a2e",
   "metadata": {},
   "source": [
    "**Ans:** \n",
    "\n",
    "Circular importing means importing the two modules in each other. If suppose we are wokring in `MOD1.py` file and it is importing some function say `F2()` from some other module say `MOD2.PY` file or we can do vice-versa. What will happen is: \n",
    "\n",
    "This will give an `import error`.\n",
    "\n",
    "This is because when we import `F2()` function from module `MOD2.py`, then this will execute `MOD2.py` file. And in `MOD2.py` file there is an another statement of importing `MOD1.py` module.\n",
    "\n",
    "This will result in endless loop. To avoid this error just do one thingWe can use if `__name__ == '__main__'`\n",
    "\n",
    "In the function, we can't directly refer to the function in the program. The addition of this sentence avoids the endless loop of the program ."
   ]
  },
  {
   "cell_type": "markdown",
   "id": "b8e49884",
   "metadata": {},
   "source": [
    "#### Q4. Why is  `_ _all_ _`  in Python?"
   ]
  },
  {
   "cell_type": "markdown",
   "id": "04fac80a",
   "metadata": {},
   "source": [
    "**Ans:** \n",
    "\n",
    "It provides list of all modules present in a library."
   ]
  },
  {
   "cell_type": "markdown",
   "id": "6d8fa645",
   "metadata": {},
   "source": [
    "#### Q5. In what situation is it useful to refer to the ` _ _name_ _`  attribute or the string  `'_ _main_ _'`?"
   ]
  },
  {
   "cell_type": "markdown",
   "id": "4c3f2a3a",
   "metadata": {},
   "source": [
    "**Ans:** \n",
    "\n",
    "During the time of execution of the code if we want to refer the module in which we are working on then we use the `__name__` attribute. In that case it will return the module in which we are working on. Suppose if that moudle is being imported from some other module then `__name__` will have the name of that moudle from where the current module has been imported. The current module in which we are working is refer to the string `__main __`."
   ]
  },
  {
   "cell_type": "markdown",
   "id": "c8bb0d25",
   "metadata": {},
   "source": [
    "#### Q6. What are some of the benefits of attaching a program counter to the RPN interpreter application, which interprets an RPN script line by line?"
   ]
  },
  {
   "cell_type": "markdown",
   "id": "48494e2b",
   "metadata": {},
   "source": [
    "**Ans:**\n",
    "\n",
    "1. It’s less key strokes in many cases. 3*(2+2):\n",
    "- RPN: 2, enter, 2, +, 3, X (6 stokes).\n",
    "- FPN: 2, +, 2, =, X, 3, = (7 strokes)\n",
    "\n",
    "\n",
    "2. Matches how work is done. If I calculate a result then need to multiply by the sum of two other numbers (3+4):\n",
    "- RPN: (result in the calculator), 3, enter, 4, +, X\n",
    "- FPN: (result in calculator), save value, 3, +, 4, =, X, recall value, =\n",
    "\n",
    "\n",
    "3. More flexible. Being able to swap values in the stack allows for complex partial results to be calculated first. 7^(5*pi):\n",
    "- RPN: 5, enter, pi, X, 7, swap, y^x\n",
    "- FPN: 5, X, pi, =, save, 7, ^, recall, =\n",
    "- Now imagine that the equation is a real engineering or science formula. On an FPN calc you will be saving a lot of values and needing to remember where you put all those numbers\n",
    "\n",
    "\n",
    "4. It’s matches how we really think when doing math (at least for me). We might say 12 times 13 but take in two numbers and perform an operation on them. This is all the RPN is - give me value #1, then value #2, then what to do with them.\n",
    "\n",
    "\n",
    "5. Allows the user to focus on the math and not on how to get the calculator to do when they want"
   ]
  },
  {
   "cell_type": "markdown",
   "id": "af6f5247",
   "metadata": {},
   "source": [
    "#### Q7. What are the minimum expressions or statements (or both) that you'd need to render a basic programming language like RPN primitive but complete— that is, capable of carrying out any computerised task theoretically possible?"
   ]
  },
  {
   "cell_type": "markdown",
   "id": "dc275635",
   "metadata": {},
   "source": [
    "**Ans:**\n",
    "\n",
    "The minimum expressions are like `*` or `+` or `=`."
   ]
  },
  {
   "cell_type": "code",
   "execution_count": null,
   "id": "f0990bfb",
   "metadata": {},
   "outputs": [],
   "source": []
  }
 ],
 "metadata": {
  "kernelspec": {
   "display_name": "Python 3 (ipykernel)",
   "language": "python",
   "name": "python3"
  },
  "language_info": {
   "codemirror_mode": {
    "name": "ipython",
    "version": 3
   },
   "file_extension": ".py",
   "mimetype": "text/x-python",
   "name": "python",
   "nbconvert_exporter": "python",
   "pygments_lexer": "ipython3",
   "version": "3.9.7"
  }
 },
 "nbformat": 4,
 "nbformat_minor": 5
}
