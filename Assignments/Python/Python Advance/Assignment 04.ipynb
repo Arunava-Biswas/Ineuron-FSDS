{
 "cells": [
  {
   "cell_type": "raw",
   "id": "cbb75cf8",
   "metadata": {},
   "source": [
    "Q1. Which two operator overloading methods can you use in your classes to support iteration?\n",
    "Q2. In what contexts do the two operator overloading methods manage printing?\n",
    "Q3. In a class, how do you intercept slice operations?\n",
    "Q4. In a class, how do you capture in-place addition?\n",
    "Q5. When is it appropriate to use operator overloading?\n"
   ]
  },
  {
   "cell_type": "markdown",
   "id": "418419ec",
   "metadata": {},
   "source": [
    "#### Q1. Which two operator overloading methods can you use in your classes to support iteration?"
   ]
  },
  {
   "cell_type": "markdown",
   "id": "08d7a2eb",
   "metadata": {},
   "source": [
    "**Ans:** \n",
    "\n",
    "`__iter__` and `__next__` are the operator overloading methods in python that support iteration and are collectively called iterator protocol.\n",
    "\n",
    "- `__iter__` returns the iterator object and is called at the start of loop in our respective class.\n",
    "\n",
    "- `__next__` is called at each loop increment, it returns the incremented value. Also Stopiteration is raised when there is no value to return."
   ]
  },
  {
   "cell_type": "code",
   "execution_count": 1,
   "id": "a7536dbb",
   "metadata": {},
   "outputs": [
    {
     "name": "stdout",
     "output_type": "stream",
     "text": [
      "1 2 3 4 5 6 7 8 9 10 11 12 13 14 15 16 17 18 19 20 "
     ]
    }
   ],
   "source": [
    "# creating class\n",
    "class Counter:\n",
    "    def __init__(self,low,high):\n",
    "        self.current = low\n",
    "        self.high = high\n",
    "        \n",
    "    def __iter__(self):    # operator overloading method __iter__\n",
    "        return self\n",
    "    \n",
    "    def __next__(self):   # operator overloading method __next__\n",
    "        if self.current > self.high:\n",
    "            raise StopIteration      # using exception StopIteration\n",
    "        else:\n",
    "            self.current += 1\n",
    "            return self.current - 1\n",
    "        \n",
    "# running a loop        \n",
    "for ele in Counter(1,20):\n",
    "    print(ele, end=\" \")"
   ]
  },
  {
   "cell_type": "markdown",
   "id": "3e3edf1d",
   "metadata": {},
   "source": [
    "#### Q2. In what contexts do the two operator overloading methods manage printing?"
   ]
  },
  {
   "cell_type": "markdown",
   "id": "7db0160d",
   "metadata": {},
   "source": [
    "**Ans:** \n",
    "\n",
    "`__str__` and `__repr__` are two operator overloading methods that manage printing.\n",
    "\n",
    "- In Short, the difference between both these operators is the goal of `__repr__` is to be unambiguous and `__str__` is to be readable.\n",
    "\n",
    "- Whenever we are printing any object reference internally `__str__` method will be called by default.\n",
    "\n",
    "- The main purpose of `__str__` is for readability, it prints the informal string representation of an object, one that is useful for printing the object. It may not be possible to convert result string to original object.\n",
    "\n",
    "- `__repr__` is used to print official string representation of an object, so it includes all information and development."
   ]
  },
  {
   "cell_type": "code",
   "execution_count": 3,
   "id": "09303424",
   "metadata": {},
   "outputs": [
    {
     "name": "stdout",
     "output_type": "stream",
     "text": [
      "<__main__.Student object at 0x000002F7590C7910>\n",
      "Student Name: Arunava and Roll No: 101\n",
      "\n",
      "\n",
      "2022-06-20 11:18:02.081074\n",
      "Unable to convert back to original object\n",
      "datetime.datetime(2022, 6, 20, 11, 18, 2, 81074)\n",
      "2022-06-20 11:18:02.081074\n"
     ]
    }
   ],
   "source": [
    "# __str__ method\n",
    "\n",
    "class Student:\n",
    "    def __init__(self,name,roll_no):\n",
    "        self.name = name\n",
    "        self.roll_no = roll_no\n",
    "        \n",
    "s1 = Student(\"Arunava\", 101)\n",
    "print(str(s1))\n",
    "\n",
    "class Student:\n",
    "    def __init__(self,name,roll_no):\n",
    "        self.name = name\n",
    "        self.roll_no = roll_no\n",
    "    def __str__(self):\n",
    "        return f'Student Name: {self.name} and Roll No: {self.roll_no}'\n",
    "    \n",
    "s1 = Student(\"Arunava\", 101)\n",
    "print(str(s1))\n",
    "\n",
    "\n",
    "print(\"\\n\")\n",
    "\n",
    "# __repr__ method\n",
    "\n",
    "import datetime\n",
    "today = datetime.datetime.now()\n",
    "\n",
    "s = str(today) # converting datetime object to presentable str\n",
    "print(s)\n",
    "\n",
    "try: \n",
    "    d = eval(s) # converting str back to datetime object\n",
    "except: \n",
    "    print(\"Unable to convert back to original object\")\n",
    "    \n",
    "u = repr(today) # converting datetime object to str using repr()\n",
    "print(u)\n",
    "e = eval(u) # converting str back to datetime object\n",
    "print(e)"
   ]
  },
  {
   "cell_type": "markdown",
   "id": "ecadcb8b",
   "metadata": {},
   "source": [
    "#### Q3. In a class, how do you intercept slice operations?"
   ]
  },
  {
   "cell_type": "markdown",
   "id": "4c8961ea",
   "metadata": {},
   "source": [
    "**Ans:** \n",
    "\n",
    "In a class use of `slice() in __getitem__` method is used for intercept slice operation. This slice method is provided with start integer number, stop integer number and step integer number.\n",
    "\n",
    "**Syntax is:** `__getitem__(slice(start,stop,step))`"
   ]
  },
  {
   "cell_type": "markdown",
   "id": "ad6a5679",
   "metadata": {},
   "source": [
    "#### Q4. In a class, how do you capture in-place addition?"
   ]
  },
  {
   "cell_type": "markdown",
   "id": "3ddc2682",
   "metadata": {},
   "source": [
    "**Ans:**\n",
    "\n",
    "**a + b** is normal addition. Whereas **a += b** is **in-place addition** operation. In this in-place addition `a` itself will store the value of addition. In a class **`__iadd__`** method is used for this in-place operation."
   ]
  },
  {
   "cell_type": "code",
   "execution_count": 5,
   "id": "b141387b",
   "metadata": {},
   "outputs": [
    {
     "name": "stdout",
     "output_type": "stream",
     "text": [
      "300\n"
     ]
    }
   ],
   "source": [
    "class Book:\n",
    "    def __init__(self,pages):\n",
    "        self.pages = pages\n",
    "        \n",
    "    def __iadd__(self,other):       # using the __iadd__ method\n",
    "        self.pages += other.pages\n",
    "        return self.pages\n",
    "        \n",
    "# Creating objects\n",
    "b1 = Book(100)\n",
    "b2 = Book(200)\n",
    "b1+=b2    # doing in-place addition \n",
    "print(b1)"
   ]
  },
  {
   "cell_type": "markdown",
   "id": "805d1e48",
   "metadata": {},
   "source": [
    "#### Q5. When is it appropriate to use operator overloading?"
   ]
  },
  {
   "cell_type": "markdown",
   "id": "1bac13a8",
   "metadata": {},
   "source": [
    "**Ans:** \n",
    "\n",
    "Operator overloading is used when we want to use an operator other than its normal operation to have different meaning according to the context required in user defined function."
   ]
  },
  {
   "cell_type": "code",
   "execution_count": 6,
   "id": "bc1fe529",
   "metadata": {},
   "outputs": [
    {
     "name": "stdout",
     "output_type": "stream",
     "text": [
      "Total Number of Pages:  300\n"
     ]
    }
   ],
   "source": [
    "class Book:\n",
    "    def __init__(self,pages):\n",
    "        self.pages = pages\n",
    "        \n",
    "    def __add__(self,other):\n",
    "        return self.pages+other.pages\n",
    "    \n",
    "    \n",
    "b1 = Book(100)\n",
    "b2 = Book(200)\n",
    "print(f'Total Number of Pages:  {b1+b2}')"
   ]
  },
  {
   "cell_type": "code",
   "execution_count": null,
   "id": "92a4ca71",
   "metadata": {},
   "outputs": [],
   "source": []
  }
 ],
 "metadata": {
  "kernelspec": {
   "display_name": "Python 3 (ipykernel)",
   "language": "python",
   "name": "python3"
  },
  "language_info": {
   "codemirror_mode": {
    "name": "ipython",
    "version": 3
   },
   "file_extension": ".py",
   "mimetype": "text/x-python",
   "name": "python",
   "nbconvert_exporter": "python",
   "pygments_lexer": "ipython3",
   "version": "3.9.7"
  }
 },
 "nbformat": 4,
 "nbformat_minor": 5
}
