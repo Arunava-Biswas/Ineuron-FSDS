{
 "cells": [
  {
   "cell_type": "raw",
   "id": "50e6214b",
   "metadata": {},
   "source": [
    "Q1. What is the relationship between classes and modules?\n",
    "Q2. How do you make instances and classes?\n",
    "Q3. Where and how should be class attributes created?\n",
    "Q4. Where and how are instance attributes created?\n",
    "Q5. What does the term \"self\" in a Python class mean?\n",
    "Q6. How does a Python class handle operator overloading?\n",
    "Q7. When do you consider allowing operator overloading of your classes?\n",
    "Q8. What is the most popular form of operator overloading?\n",
    "Q9. What are the two most important concepts to grasp in order to comprehend Python OOP code?\n"
   ]
  },
  {
   "cell_type": "markdown",
   "id": "2c0acca1",
   "metadata": {},
   "source": [
    "#### Q1. What is the relationship between classes and modules?"
   ]
  },
  {
   "cell_type": "markdown",
   "id": "b5125ffe",
   "metadata": {},
   "source": [
    "**Ans:** \n",
    "\n",
    "A Python class is like an outline/blueprint/mold for creating a new object. An object is anything that we wish to manipulate or change while working through the code. Every time a class object is instantiated, which is when we declare a variable, a new object is initiated from scratch.\n",
    "\n",
    "Whereas in Python, Modules are simply files with the **`. py`** extension containing Python code that can be imported inside another Python Program. In simple terms, we can consider a module to be the same as a code library or a file that contains a set of functions/Classes that you want to include in your application."
   ]
  },
  {
   "cell_type": "markdown",
   "id": "6a9d3927",
   "metadata": {},
   "source": [
    "#### Q2. How do you make instances and classes?"
   ]
  },
  {
   "cell_type": "markdown",
   "id": "c262402d",
   "metadata": {},
   "source": [
    "**Ans:** \n",
    "\n",
    "For creating a class instance. we call a class by its name and pass the arguments which its **`__init__`** method accepts.\n",
    "\n",
    "**Example:** **`Arunava = Employee('Male',20000)`**, Here `Arunava` is an instance of class employee with attriubutes `'Male'` and `20000`.\n",
    "\n",
    "Whereas for creating a class, we use the **class** keyword. Class keyword is followed by classname and colon.\n",
    "\n",
    "**Example:** Here `Employee` is a class created with **class** keyword with arguments `gender` and `salary`.\n",
    "\n"
   ]
  },
  {
   "cell_type": "code",
   "execution_count": 1,
   "id": "4360e904",
   "metadata": {},
   "outputs": [],
   "source": [
    "# The code\n",
    "\n",
    "# Creating class\n",
    "class Employee:\n",
    "    def __init__(self, gender, salary):\n",
    "        self.gender = gender\n",
    "        self.salary = salary\n",
    "        \n",
    "\n",
    "        \n",
    "# Creating class instance\n",
    "Arunava = Employee('Male', 20000)"
   ]
  },
  {
   "cell_type": "markdown",
   "id": "6cb5f5a2",
   "metadata": {},
   "source": [
    "#### Q3. Where and how should be class attributes created?"
   ]
  },
  {
   "cell_type": "markdown",
   "id": "3e46a58b",
   "metadata": {},
   "source": [
    "**Ans:** \n",
    "\n",
    "Class attributes or Class level Attributes belong to the class itself. These attributes will be shared by all the instances of the class. Hence these attributes are usually created/defined in the top of class definiation outside all methods.\n",
    "\n",
    "**Example:** In the below code we are defining a class attribute called `no_of_wheels` which will be shared by all the instances of the class `Car`."
   ]
  },
  {
   "cell_type": "code",
   "execution_count": 2,
   "id": "5dfd989b",
   "metadata": {},
   "outputs": [],
   "source": [
    "# The code\n",
    "\n",
    "class Car:\n",
    "    no_of_wheels = 4;               # this is a class attribute\n",
    "    def __init__(self,color,price,engine):\n",
    "        self.color = color          # all this are instance attributes\n",
    "        self.price = price\n",
    "        self.engine = engine"
   ]
  },
  {
   "cell_type": "markdown",
   "id": "c1738dcf",
   "metadata": {},
   "source": [
    "#### Q4. Where and how are instance attributes created?"
   ]
  },
  {
   "cell_type": "markdown",
   "id": "f1a52560",
   "metadata": {},
   "source": [
    "**Ans:** \n",
    "\n",
    "Instances attributes are passed to the class when an object of the class is created. Unlike class attributes, instance attributes are not shared by all objects of the classs. instead each object maintains its own copy of instance attributes at object level. Whereas incase of class attributes all instances of class refer to a single copy. Usually instance attributes are defined within the `__init__` method of class.\n",
    "\n",
    "**Example:** In the below sample code we are creating a class `Car` with instance varaibles `color`, `price`, `engine` which will be provided when an instance of class `Car` is created."
   ]
  },
  {
   "cell_type": "code",
   "execution_count": 3,
   "id": "e8675178",
   "metadata": {},
   "outputs": [],
   "source": [
    "# The code\n",
    "\n",
    "# Creating the class\n",
    "class Car:\n",
    "    def __init__(self,color,price,engine):\n",
    "        self.color = color          # all this are instance attributes\n",
    "        self.price = price\n",
    "        self.engine = engine\n",
    "        \n",
    "        \n",
    "# Creating  instances of the class with different instance variables\n",
    "Kia_seltos = Car('Crimson Red', 1200000, 'Petrol')\n",
    "Nexon_ev = Car('Black', 1400000, 'electric')"
   ]
  },
  {
   "cell_type": "markdown",
   "id": "fbc7f99d",
   "metadata": {},
   "source": [
    "#### Q5. What does the term \"self\" in a Python class mean?"
   ]
  },
  {
   "cell_type": "markdown",
   "id": "c8aa2abd",
   "metadata": {},
   "source": [
    "**Ans:**\n",
    "\n",
    "In object-oriented programming, whenever we define methods for a class, we use `self` as the first parameter in each case. The `self` keyword is used to represent an instance (object) of the given class. \n",
    "\n",
    "However, since the class is just a blueprint, `self` allows access to the attributes and methods of each object in python. This allows each object to have its own attributes and methods. Thus, even long before creating these objects, we reference the objects as self while defining the class.\n",
    "\n",
    "Generally, when we call a method with some arguments, the corresponding class function is called by placing the method's object before the first argument. So, anything like `obj.meth(args)` becomes `Class.meth(obj, args)`. The calling process is automatic while the receiving process is not (its explicit).\n",
    "\n",
    "This is the reason the first parameter of a function in class must be the object itself. Writing this parameter as `self` is merely a convention. It is not a keyword and has no special meaning in Python."
   ]
  },
  {
   "cell_type": "code",
   "execution_count": 4,
   "id": "def00984",
   "metadata": {},
   "outputs": [
    {
     "name": "stdout",
     "output_type": "stream",
     "text": [
      "Nexon EV:  {'color': 'Indigo Blue', 'price': 1400000, 'engine': 'electric'}\n",
      "Safari:  {'color': 'Pearl White', 'price': 2100000, 'engine': 'petrol'}\n"
     ]
    }
   ],
   "source": [
    "# Creating a class\n",
    "class Car:\n",
    "    def __init__(self,color,price,engine):\n",
    "        self.color = color # All this are instance attributes\n",
    "        self.price = price\n",
    "        self.engine = engine\n",
    "\n",
    "# Creating  instances of the class with different instance variables\n",
    "nexon_ev = Car('Indigo Blue', 1400000, 'electric')\n",
    "safari = Car('Pearl White',2100000, 'petrol')\n",
    "\n",
    "# printing each object with their attributes\n",
    "print(\"Nexon EV: \", nexon_ev.__dict__)\n",
    "print(\"Safari: \", safari.__dict__)"
   ]
  },
  {
   "cell_type": "markdown",
   "id": "29a8b535",
   "metadata": {},
   "source": [
    "#### Q6. How does a Python class handle operator overloading?"
   ]
  },
  {
   "cell_type": "markdown",
   "id": "c49b2ddd",
   "metadata": {},
   "source": [
    "**Ans:** \n",
    "\n",
    "Python Classes handle operator overloading by using special methods called **Magic methods**. These special methods usually begin and end with `__` (double underscore).\n",
    "\n",
    "**Example:** Magic methods for basic arithmetic operators are:\n",
    "\n",
    "- `+ : __add__()`\n",
    "\n",
    "- `- : __sub__()`\n",
    "\n",
    "- `* : __mul__()`\n",
    "\n",
    "- `/ : __div__()`"
   ]
  },
  {
   "cell_type": "code",
   "execution_count": 5,
   "id": "b9f1fb1a",
   "metadata": {},
   "outputs": [
    {
     "name": "stdout",
     "output_type": "stream",
     "text": [
      "The total number of pages in 2 books is 300\n"
     ]
    }
   ],
   "source": [
    "# Code\n",
    "\n",
    "# Creating Books class\n",
    "class Books:\n",
    "    def __init__(self,pages):\n",
    "        self.pages = pages\n",
    "# Using the __add__ magic method to add\n",
    "    def __add__(self,other):\n",
    "        return self.pages + other.pages\n",
    "    \n",
    "# Creating objects using the class\n",
    "b1 = Books(100)\n",
    "b2 = Books(200)\n",
    "print(f'The total number of pages in 2 books is {b1+b2}')"
   ]
  },
  {
   "cell_type": "markdown",
   "id": "51375040",
   "metadata": {},
   "source": [
    "#### Q7. When do you consider allowing operator overloading of your classes?"
   ]
  },
  {
   "cell_type": "markdown",
   "id": "de02674b",
   "metadata": {},
   "source": [
    "**Ans:** \n",
    "\n",
    "When we want to have different meaning for the same operator accroding to the context we use operator overloading."
   ]
  },
  {
   "cell_type": "markdown",
   "id": "f6c6ec0c",
   "metadata": {},
   "source": [
    "#### Q8. What is the most popular form of operator overloading?"
   ]
  },
  {
   "cell_type": "markdown",
   "id": "2a3fba15",
   "metadata": {},
   "source": [
    "**Ans:**\n",
    "\n",
    "The most popular form of operator overloading in python is by using special methods called **Magic methods**. These methods begin and end with double underscores.\n",
    "\n",
    "**Syntax is:** `__<method_name>__`"
   ]
  },
  {
   "cell_type": "code",
   "execution_count": 9,
   "id": "d16fce9d",
   "metadata": {},
   "outputs": [
    {
     "name": "stdout",
     "output_type": "stream",
     "text": [
      "Sum of numbers  is: 3\n",
      "The full name after concatenation is: Arunava Biswas\n"
     ]
    }
   ],
   "source": [
    "# Code\n",
    "\n",
    "# Creating a class\n",
    "class Adding:\n",
    "    def __init__(self, x):\n",
    "        self.x = x\n",
    "        \n",
    "# using the magic method for operator overloading \n",
    "    def __add__(self, o):\n",
    "        return self.x + o.x\n",
    "    \n",
    "# Creating objects\n",
    "obj1 = Adding(1)\n",
    "obj2 = Adding(2)\n",
    "obj3 = Adding(\"Arunava\")\n",
    "obj4 = Adding(\" Biswas\")\n",
    "        \n",
    "# printing normal addition of two numbers\n",
    "print(f\"Sum of numbers  is: {obj1 + obj2}\")\n",
    "\n",
    "# printing concatenation of two strings using the same function\n",
    "print(f\"The full name after concatenation is: {obj3 + obj4}\")\n"
   ]
  },
  {
   "cell_type": "markdown",
   "id": "45a088c1",
   "metadata": {},
   "source": [
    "#### Q9. What are the two most important concepts to grasp in order to comprehend Python OOP code?"
   ]
  },
  {
   "cell_type": "markdown",
   "id": "519f5a74",
   "metadata": {},
   "source": [
    "**Ans:** \n",
    "\n",
    "`Class` and `object` are the two concepts to comprehend python OOP code as more formally objects are entities that represent instances of general abstract concept called class.\n",
    "\n",
    "Along with these two the other important concepts are:\n",
    "\n",
    "- Abstraction\n",
    "\n",
    "- Inheritence\n",
    "\n",
    "- Encapsulation\n",
    "\n",
    "- Polymorphism"
   ]
  },
  {
   "cell_type": "code",
   "execution_count": null,
   "id": "5710b47e",
   "metadata": {},
   "outputs": [],
   "source": []
  }
 ],
 "metadata": {
  "kernelspec": {
   "display_name": "Python 3 (ipykernel)",
   "language": "python",
   "name": "python3"
  },
  "language_info": {
   "codemirror_mode": {
    "name": "ipython",
    "version": 3
   },
   "file_extension": ".py",
   "mimetype": "text/x-python",
   "name": "python",
   "nbconvert_exporter": "python",
   "pygments_lexer": "ipython3",
   "version": "3.9.7"
  }
 },
 "nbformat": 4,
 "nbformat_minor": 5
}
