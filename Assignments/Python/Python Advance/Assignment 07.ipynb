{
 "cells": [
  {
   "cell_type": "raw",
   "id": "f8bdd0ec",
   "metadata": {},
   "source": [
    "Q1. What is the purpose of the try statement?\n",
    "Q2. What are the two most popular try statement variations?\n",
    "Q3. What is the purpose of the raise statement?\n",
    "Q4. What does the assert statement do, and what other statement is it like?\n",
    "Q5. What is the purpose of the with/as argument, and what other statement is it like?\n"
   ]
  },
  {
   "cell_type": "markdown",
   "id": "1693a74d",
   "metadata": {},
   "source": [
    "#### Q1. What is the purpose of the try statement?"
   ]
  },
  {
   "cell_type": "markdown",
   "id": "43fa06a1",
   "metadata": {},
   "source": [
    "Ans: \n",
    "\n",
    "**`try`** statement is used for exception handling in python. It consists of a block of doubtful statements which might cause an exception during runtime. If code within try block raises exception, then the exception will be reverted to the corresponding except block if multiple except blocks are present, else it will be reverted to the default except block. In short try and except in union avoid programs from crashing during runtime due to exceptions."
   ]
  },
  {
   "cell_type": "code",
   "execution_count": 2,
   "id": "c768e331",
   "metadata": {},
   "outputs": [
    {
     "name": "stdout",
     "output_type": "stream",
     "text": [
      "Division by Zero is Not Possible\n"
     ]
    }
   ],
   "source": [
    "# The code\n",
    "\n",
    "try:\n",
    "    print(5/0)\n",
    "except ZeroDivisionError:\n",
    "    print('Division by Zero is Not Possible')"
   ]
  },
  {
   "cell_type": "markdown",
   "id": "2711064f",
   "metadata": {},
   "source": [
    "#### Q2. What are the two most popular try statement variations?"
   ]
  },
  {
   "cell_type": "markdown",
   "id": "0938652c",
   "metadata": {},
   "source": [
    "**Ans:**\n",
    "\n",
    "The two most popular tray statement variations are:\n",
    "\n",
    "- **`try`**, **`except`**\n",
    "\n",
    "- **`try`**, **`except`**, **`finally`**"
   ]
  },
  {
   "cell_type": "code",
   "execution_count": 3,
   "id": "862df18d",
   "metadata": {},
   "outputs": [],
   "source": [
    "# codes are:\n",
    "\n",
    "\n",
    "try:\n",
    "    pass\n",
    "except:\n",
    "    pass\n",
    "\n",
    "\n",
    "try:\n",
    "    pass\n",
    "except:\n",
    "    pass\n",
    "finally:\n",
    "    pass"
   ]
  },
  {
   "cell_type": "markdown",
   "id": "51f2696a",
   "metadata": {},
   "source": [
    "#### Q3. What is the purpose of the raise statement?"
   ]
  },
  {
   "cell_type": "markdown",
   "id": "c0ad6027",
   "metadata": {},
   "source": [
    "**Ans:** \n",
    "\n",
    "**`raise`** statement is used to trigger an exception explicitly, if a certain condition is not as per requirement of programmer. **`raise`** statement helps in triggering exception as per programming logic."
   ]
  },
  {
   "cell_type": "markdown",
   "id": "6d941947",
   "metadata": {},
   "source": [
    "#### Q4. What does the assert statement do, and what other statement is it like?"
   ]
  },
  {
   "cell_type": "markdown",
   "id": "74efd8a6",
   "metadata": {},
   "source": [
    "**Ans:**\n",
    "\n",
    "There are few assertions that programmers always want to be true to avoid code failure. This type of requirement is fulfilled by **`assert`** statement. This statement takes a boolean condition whose output if True, further program executes. If output of **`assert`** statement is False, it raises an Assertion Error."
   ]
  },
  {
   "cell_type": "code",
   "execution_count": 2,
   "id": "4b7e4e33",
   "metadata": {},
   "outputs": [
    {
     "ename": "AssertionError",
     "evalue": "This is not a valid statement",
     "output_type": "error",
     "traceback": [
      "\u001b[1;31m---------------------------------------------------------------------------\u001b[0m",
      "\u001b[1;31mAssertionError\u001b[0m                            Traceback (most recent call last)",
      "Input \u001b[1;32mIn [2]\u001b[0m, in \u001b[0;36m<module>\u001b[1;34m\u001b[0m\n\u001b[0;32m      1\u001b[0m \u001b[38;5;66;03m# code\u001b[39;00m\n\u001b[1;32m----> 3\u001b[0m \u001b[38;5;28;01massert\u001b[39;00m(\u001b[38;5;241m2\u001b[39m \u001b[38;5;241m==\u001b[39m \u001b[38;5;241m4\u001b[39m), \u001b[38;5;124mf\u001b[39m\u001b[38;5;124m'\u001b[39m\u001b[38;5;124mThis is not a valid statement\u001b[39m\u001b[38;5;124m'\u001b[39m\n",
      "\u001b[1;31mAssertionError\u001b[0m: This is not a valid statement"
     ]
    }
   ],
   "source": [
    "# code\n",
    "\n",
    "assert(2 == 4), f'This is not a valid statement'"
   ]
  },
  {
   "cell_type": "markdown",
   "id": "36e8fc33",
   "metadata": {},
   "source": [
    "#### Q5. What is the purpose of the with/as argument, and what other statement is it like?"
   ]
  },
  {
   "cell_type": "markdown",
   "id": "04048c42",
   "metadata": {},
   "source": [
    "Ans: \n",
    "\n",
    "**with/as** statement simplifies use of file handling in python. When we use a **`with`** statement for file reading, there is no need for programmer to explicitly take care of activities like resource deallocation and file closing by using `file.close()` method. The **`with`** statement itself ensures proper acquisition and release of resources. This avoids triggering of exceptions if file closing is unknowingly forgotten in the code execution.\n",
    "\n",
    "\n",
    "- Syntax is:\n",
    "\n",
    "`with open('fileName_with_extension', 'mode') as file:`\n",
    "\n",
    "`file.mode()`"
   ]
  },
  {
   "cell_type": "code",
   "execution_count": null,
   "id": "c0cbaf7c",
   "metadata": {},
   "outputs": [],
   "source": []
  }
 ],
 "metadata": {
  "kernelspec": {
   "display_name": "Python 3 (ipykernel)",
   "language": "python",
   "name": "python3"
  },
  "language_info": {
   "codemirror_mode": {
    "name": "ipython",
    "version": 3
   },
   "file_extension": ".py",
   "mimetype": "text/x-python",
   "name": "python",
   "nbconvert_exporter": "python",
   "pygments_lexer": "ipython3",
   "version": "3.9.7"
  }
 },
 "nbformat": 4,
 "nbformat_minor": 5
}
