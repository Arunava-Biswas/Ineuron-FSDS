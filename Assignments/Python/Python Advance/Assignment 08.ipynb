{
 "cells": [
  {
   "cell_type": "raw",
   "id": "31f6328b",
   "metadata": {},
   "source": [
    "Q1. What are the two latest user-defined exception constraints in Python 3.X?\n",
    "Q2. How are class-based exceptions that have been raised matched to handlers?\n",
    "Q3. Describe two methods for attaching context information to exception artefacts.\n",
    "Q4. Describe two methods for specifying the text of an exception object's error message.\n",
    "Q5. Why do you no longer use string-based exceptions?\n"
   ]
  },
  {
   "cell_type": "markdown",
   "id": "5d42612e",
   "metadata": {},
   "source": [
    "#### Q1. What are the two latest user-defined exception constraints in Python 3.X?"
   ]
  },
  {
   "cell_type": "markdown",
   "id": "8b3d1909",
   "metadata": {},
   "source": [
    "**Ans:** \n",
    "\n",
    "**`raise`** and **`assert`** are the two latest user-defined exception constraints in Python 3.X"
   ]
  },
  {
   "cell_type": "markdown",
   "id": "8e318b6d",
   "metadata": {},
   "source": [
    "#### Q2. How are class-based exceptions that have been raised matched to handlers?"
   ]
  },
  {
   "cell_type": "markdown",
   "id": "5d519055",
   "metadata": {},
   "source": [
    "**Ans:** \n",
    "\n",
    "In python, Users can define custom exceptions by creating a new class. This exception class has to be derived, either directly or indirectly from built-in **`Exception`** class. This new exception class like other exceptions can be raised using the **`raise`** statement with an optional error message."
   ]
  },
  {
   "cell_type": "code",
   "execution_count": 4,
   "id": "6a2181e1",
   "metadata": {},
   "outputs": [
    {
     "ename": "ToYoungException",
     "evalue": "Too young to cast vote",
     "output_type": "error",
     "traceback": [
      "\u001b[1;31m---------------------------------------------------------------------------\u001b[0m",
      "\u001b[1;31mToYoungException\u001b[0m                          Traceback (most recent call last)",
      "Input \u001b[1;32mIn [4]\u001b[0m, in \u001b[0;36m<module>\u001b[1;34m\u001b[0m\n\u001b[0;32m      9\u001b[0m age \u001b[38;5;241m=\u001b[39m \u001b[38;5;241m12\u001b[39m\n\u001b[0;32m     11\u001b[0m \u001b[38;5;66;03m# Using custom exception class using the 'raise' keyword\u001b[39;00m\n\u001b[1;32m---> 12\u001b[0m \u001b[38;5;28;01mif\u001b[39;00m age \u001b[38;5;241m<\u001b[39m\u001b[38;5;241m=\u001b[39m \u001b[38;5;241m18\u001b[39m: \u001b[38;5;28;01mraise\u001b[39;00m ToYoungException(\u001b[38;5;124m'\u001b[39m\u001b[38;5;124mToo young to cast vote\u001b[39m\u001b[38;5;124m'\u001b[39m)\n",
      "\u001b[1;31mToYoungException\u001b[0m: Too young to cast vote"
     ]
    }
   ],
   "source": [
    "# The code\n",
    "\n",
    "# Creating custom exception class\n",
    "class ToYoungException(Exception):\n",
    "    def __init__(self,msg):\n",
    "        self.msg = msg\n",
    "        \n",
    "        \n",
    "age = 12\n",
    "\n",
    "# Using custom exception class using the 'raise' keyword\n",
    "if age <= 18: raise ToYoungException('Too young to cast vote')"
   ]
  },
  {
   "cell_type": "markdown",
   "id": "96f5e246",
   "metadata": {},
   "source": [
    "#### Q3. Describe two methods for attaching context information to exception artefacts."
   ]
  },
  {
   "cell_type": "markdown",
   "id": "fa11a508",
   "metadata": {},
   "source": [
    "**Ans:** \n",
    "\n",
    "The **`process()`** method of LoggerAdapter is where the contextual information is added to the logging output. It passes the message and keyword arguments of the logging call, and it passes back modified versions of these to use in the call to the underlying logger.\n",
    "\n",
    "Other method that can be used is **`exception()`**, it logs a message with level **`ERROR`** on this logger. The arguments are interpreted as for **`debug()`**. Exception info is added to the logging message."
   ]
  },
  {
   "cell_type": "markdown",
   "id": "ed326abd",
   "metadata": {},
   "source": [
    "#### Q4. Describe two methods for specifying the text of an exception object's error message."
   ]
  },
  {
   "cell_type": "markdown",
   "id": "350bd486",
   "metadata": {},
   "source": [
    "Ans: \n",
    "\n",
    "**`raise`** and **`assert`** are two methods for specifying the text of an exception object's error message.The **`raise`** statement is used to trigger explicit exception, if certain condition is not as per requirement of the programmer, it helps in triggering exception as per need of programmer and logic.\n",
    "\n",
    "There are few assertions that programmer always want to be True to avoid code failure. This type of requirment is fullfilled by **`assert`** statement. This statement takes a Boolean Condition output of which if True, further program executes. if output of assert statement is False it raises an **`Assertion Error`**."
   ]
  },
  {
   "cell_type": "markdown",
   "id": "37f2495f",
   "metadata": {},
   "source": [
    "#### Q5. Why do you no longer use string-based exceptions?\n"
   ]
  },
  {
   "cell_type": "markdown",
   "id": "428c819b",
   "metadata": {},
   "source": [
    "**Ans:** \n",
    "\n",
    "String-based Exceptions doesn't inherit from Exceptions. So plain exceptions catch all exceptions and not only system."
   ]
  },
  {
   "cell_type": "code",
   "execution_count": null,
   "id": "6b0f0621",
   "metadata": {},
   "outputs": [],
   "source": []
  }
 ],
 "metadata": {
  "kernelspec": {
   "display_name": "Python 3 (ipykernel)",
   "language": "python",
   "name": "python3"
  },
  "language_info": {
   "codemirror_mode": {
    "name": "ipython",
    "version": 3
   },
   "file_extension": ".py",
   "mimetype": "text/x-python",
   "name": "python",
   "nbconvert_exporter": "python",
   "pygments_lexer": "ipython3",
   "version": "3.9.7"
  }
 },
 "nbformat": 4,
 "nbformat_minor": 5
}
