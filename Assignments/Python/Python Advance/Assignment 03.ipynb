{
 "cells": [
  {
   "cell_type": "raw",
   "id": "bde83c5a",
   "metadata": {},
   "source": [
    "1. What is the concept of an abstract superclass?\n",
    "2. What happens when a class statement's top level contains a basic assignment statement?\n",
    "3. Why does a class need to manually call a superclass's __init__ method?\n",
    "4. How can you augment, instead of completely replacing, an inherited method?\n",
    "5. How is the local scope of a class different from that of a function?\n"
   ]
  },
  {
   "cell_type": "markdown",
   "id": "eace01a7",
   "metadata": {},
   "source": [
    "#### 1. What is the concept of an abstract superclass?"
   ]
  },
  {
   "cell_type": "markdown",
   "id": "de0f05bd",
   "metadata": {},
   "source": [
    "**Ans:**\n",
    "\n",
    "A class is called an Abstract class if it contains one or more abstract methods. An abstract method is a method that is declared, but contains no implementation. An abstract class/superclass can be considered as a blueprint for other classes. It allows us to create a set of methods that must be created within any child classes built from the abstract class. Whereas an abstract method is a method that has a declaration but does not have an implementation."
   ]
  },
  {
   "cell_type": "code",
   "execution_count": 1,
   "id": "7351f563",
   "metadata": {},
   "outputs": [],
   "source": [
    "from abc import ABC, abstractmethod\n",
    "\n",
    "class Polygon(ABC): # Abstract Class\n",
    "    @abstractmethod\n",
    "    def no_ofsides(self): # Abstract Method\n",
    "        pass\n",
    "class Triangle(Polygon):\n",
    "    def no_ofsides(self):  # overriding abstract method in child class Triangle\n",
    "        print(\"I have 3 sides\")\n",
    "class Pentagon(Polygon):\n",
    "    def no_ofsides(self): # overriding abstract method in child class Pentagon\n",
    "        print(\"I have 5 sides\")"
   ]
  },
  {
   "cell_type": "markdown",
   "id": "c3756467",
   "metadata": {},
   "source": [
    "#### 2. What happens when a class statement's top level contains a basic assignment statement?"
   ]
  },
  {
   "cell_type": "markdown",
   "id": "2aa948a4",
   "metadata": {},
   "source": [
    "**Ans:** \n",
    "\n",
    "When a Class statement's top level contains a basic assignment statement, it usually treated as a class attribute or class level variable, whereas assignment statements inside methods are treated as instance attributes or local attributes.\n",
    "\n",
    "When an instance of a class is created a single copy of class attributes is maintained and shared to all instances of class. where as each instance object maintains its own copy of instance variables.\n"
   ]
  },
  {
   "cell_type": "code",
   "execution_count": 2,
   "id": "3ff869b0",
   "metadata": {},
   "outputs": [],
   "source": [
    "class Human:\n",
    "    species = 'Homesapiens' # class attribute\n",
    "    def __init__(self,name,gender):\n",
    "        self.name = name # instance attributes\n",
    "        self.gender = gender"
   ]
  },
  {
   "cell_type": "markdown",
   "id": "4987a115",
   "metadata": {},
   "source": [
    "#### 3. Why does a class need to manually call a superclass's __init__ method?"
   ]
  },
  {
   "cell_type": "markdown",
   "id": "5821e9c7",
   "metadata": {},
   "source": [
    "**Ans:** \n",
    "\n",
    "If a child class has **`__init__`** method, then it will not inherit the **`__init__`** method of the parent class. In other words the **`__init__`** method of the child class overrides the **`__init__`** method of the parent class, so we have to manually call a parent superclass's **`__init__`** using **super()** method in the child class."
   ]
  },
  {
   "cell_type": "code",
   "execution_count": 3,
   "id": "eef827f8",
   "metadata": {},
   "outputs": [
    {
     "name": "stdout",
     "output_type": "stream",
     "text": [
      "{'name': 'Kalyan', 'age': 28, 'salary': 20000}\n"
     ]
    }
   ],
   "source": [
    "# parent class\n",
    "class Person:\n",
    "    def __init__(self,name,age):\n",
    "        self.name = name\n",
    "        self.age = age       \n",
    "\n",
    "# child class\n",
    "class Employee(Person):\n",
    "    def __init__(self,name,age,salary):\n",
    "        super().__init__(name,age)    # using the super()\n",
    "        self.salary = salary\n",
    "        \n",
    "# creating object of child class\n",
    "emp_1 = Employee('Kalyan', 28, 20000)\n",
    "print(emp_1.__dict__)"
   ]
  },
  {
   "cell_type": "markdown",
   "id": "6c2a9923",
   "metadata": {},
   "source": [
    "#### 4. How can you augment, instead of completely replacing, an inherited method?"
   ]
  },
  {
   "cell_type": "markdown",
   "id": "415495b3",
   "metadata": {},
   "source": [
    "**Ans:** \n",
    "\n",
    "The **super()** method can be used to augment, instead of completely replacing, an inherited method."
   ]
  },
  {
   "cell_type": "code",
   "execution_count": 4,
   "id": "8266faf6",
   "metadata": {},
   "outputs": [
    {
     "name": "stdout",
     "output_type": "stream",
     "text": [
      "{'name': 'Kalyan', 'gender': 'Male', 'salary': 10000}\n"
     ]
    }
   ],
   "source": [
    "# parent class\n",
    "class Person:\n",
    "    def __init__(self,name,gender):\n",
    "        self.name = name\n",
    "        self.gender = gender\n",
    "        \n",
    "# child class        \n",
    "class Employee(Person):\n",
    "    def __init__(self,name,gender,salary):\n",
    "        super().__init__(name,gender)   # using the super()\n",
    "        self.salary = salary\n",
    "        \n",
    "# creating object of child class        \n",
    "emp_1 = Employee('Kalyan','Male',10000)\n",
    "print(emp_1.__dict__) "
   ]
  },
  {
   "cell_type": "markdown",
   "id": "1cfed17a",
   "metadata": {},
   "source": [
    "#### 5. How is the local scope of a class different from that of a function?"
   ]
  },
  {
   "cell_type": "markdown",
   "id": "d54e9eb2",
   "metadata": {},
   "source": [
    "**Ans:** \n",
    "\n",
    "A Variable which is defined inside a function is local to that function, it is accesible from the point at which it is defined until the end of that particular function, and exists for as long as the function is existing. This is called **local scope** of the variable.\n",
    "\n",
    "Similary a variable inside of a class also has a local variable scope. Variables which are defined in the class body (but outside all methods) are called as **class level variables** or **class attributes**. They can be referenced by there bare names within the same scope, but they can also be accessed from outside this scope if we use the attribute access operator `(.)` on a class or an instance of the class."
   ]
  },
  {
   "cell_type": "code",
   "execution_count": 5,
   "id": "275d6174",
   "metadata": {},
   "outputs": [
    {
     "name": "stdout",
     "output_type": "stream",
     "text": [
      "Your name is Arunava Biswas\n",
      "Name varible is not available outside hello function scope\n",
      "HomeSapines\n",
      "HomeSapines\n"
     ]
    }
   ],
   "source": [
    "# local variable scope of a function\n",
    "def hello(name):\n",
    "    name = name\n",
    "    print(f'Your name is {name}')\n",
    "hello('Arunava Biswas')\n",
    "try:\n",
    "    name\n",
    "except NameError:\n",
    "    print('Name varible is not available outside hello function scope')\n",
    "\n",
    "\n",
    "# local variable scope of a class\n",
    "class Person:\n",
    "    species = \"HomeSapines\"\n",
    "    def __init__(self):\n",
    "        pass\n",
    "    \n",
    "print(Person.species) # Accessing species using class name\n",
    "# creating an object of the class\n",
    "Male = Person()\n",
    "print(Male.species) # Accessing species using instance of class"
   ]
  },
  {
   "cell_type": "code",
   "execution_count": null,
   "id": "d697b951",
   "metadata": {},
   "outputs": [],
   "source": []
  }
 ],
 "metadata": {
  "kernelspec": {
   "display_name": "Python 3 (ipykernel)",
   "language": "python",
   "name": "python3"
  },
  "language_info": {
   "codemirror_mode": {
    "name": "ipython",
    "version": 3
   },
   "file_extension": ".py",
   "mimetype": "text/x-python",
   "name": "python",
   "nbconvert_exporter": "python",
   "pygments_lexer": "ipython3",
   "version": "3.9.7"
  }
 },
 "nbformat": 4,
 "nbformat_minor": 5
}
