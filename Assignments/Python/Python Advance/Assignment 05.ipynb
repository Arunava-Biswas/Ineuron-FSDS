{
 "cells": [
  {
   "cell_type": "raw",
   "id": "f6df01e1",
   "metadata": {},
   "source": [
    "Q1. What is the meaning of multiple inheritance?\n",
    "Q2. What is the concept of delegation?\n",
    "Q3. What is the concept of composition?\n",
    "Q4. What are bound methods and how do we use them?\n",
    "Q5. What is the purpose of pseudoprivate attributes?\n"
   ]
  },
  {
   "cell_type": "markdown",
   "id": "16c1ee6c",
   "metadata": {},
   "source": [
    "#### Q1. What is the meaning of multiple inheritance?"
   ]
  },
  {
   "cell_type": "markdown",
   "id": "3503a11b",
   "metadata": {},
   "source": [
    "**Ans:** \n",
    "\n",
    "Inheritence is reusing of the code from the `Parent class` by the `child class`. Similary when a child class inherits it's properties from multiple Parent classes, then that scenario is called **Multiple Inheritence**."
   ]
  },
  {
   "cell_type": "code",
   "execution_count": 1,
   "id": "4b275f0d",
   "metadata": {},
   "outputs": [],
   "source": [
    "# Code\n",
    "\n",
    "# first parent class\n",
    "class Parent_one:\n",
    "    pass\n",
    "\n",
    "# second parent class\n",
    "class Parent_two:\n",
    "    pass\n",
    "\n",
    "\n",
    "# child class inheritting from both the parent classes\n",
    "class child(Parent_one, Parent_two):\n",
    "    pass"
   ]
  },
  {
   "cell_type": "markdown",
   "id": "01a420a3",
   "metadata": {},
   "source": [
    "#### Q2. What is the concept of delegation?"
   ]
  },
  {
   "cell_type": "markdown",
   "id": "8b3a2195",
   "metadata": {},
   "source": [
    "**Ans:** \n",
    "\n",
    "Delegation provides a proxy object for any class that we want on top of the main class. It is like a wrapper to our class so that we can access limited resources of the main class. It Wraps the object of main class into a smaller object with limited access.\n",
    "\n",
    "Simply Delegation means that we can include an instance of another class as an instance variable, and forward messages to the instance."
   ]
  },
  {
   "cell_type": "code",
   "execution_count": 2,
   "id": "41cb7c7e",
   "metadata": {},
   "outputs": [
    {
     "name": "stdout",
     "output_type": "stream",
     "text": [
      "Hey iam back\n",
      "Hey iam back\n",
      "Hey iam back\n",
      "Iam the main class\n"
     ]
    }
   ],
   "source": [
    "# Creating main class\n",
    "class Myclass:\n",
    "    def sayHi(self):\n",
    "        print('Hey iam back')\n",
    "    def whoAmI(self):\n",
    "        print('Iam the main class')\n",
    "        \n",
    "# Creating another class        \n",
    "class NewClass:\n",
    "    def __init__(self,obj):\n",
    "        self.main = obj\n",
    "    def welcome(self):\n",
    "        self.main.sayHi()\n",
    "        \n",
    "        \n",
    "# Creating objects\n",
    "m = Myclass()        \n",
    "n = NewClass(m)\n",
    "m.sayHi()              # calling the function of main class using it's instance\n",
    "n.main.sayHi()         # calling the function of main class using instance of the new class\n",
    "n.welcome()            # calling the function of the new class using it's instance\n",
    "n.main.whoAmI()        # calling the function of main class using instance of the new class"
   ]
  },
  {
   "cell_type": "markdown",
   "id": "2efe89f2",
   "metadata": {},
   "source": [
    "#### Q3. What is the concept of composition?"
   ]
  },
  {
   "cell_type": "markdown",
   "id": "3a043d61",
   "metadata": {},
   "source": [
    "**Ans:** \n",
    "\n",
    "In the concept of Composition, a class refers to one or more other classes by using instances of those classes as a instance variable. Irrespective of inheritence in this approach all the parent class members are not inherited into child class, but only required methods from a class are used by using class instances."
   ]
  },
  {
   "cell_type": "code",
   "execution_count": 3,
   "id": "7e1c0a72",
   "metadata": {},
   "outputs": [
    {
     "name": "stdout",
     "output_type": "stream",
     "text": [
      "Total Salary : 9600\n"
     ]
    }
   ],
   "source": [
    "class Salary:\n",
    "    def __init__(self,pay):\n",
    "        self.pay = pay\n",
    "    def get_total(self):\n",
    "        return self.pay*12\n",
    "    \n",
    "class Employee:\n",
    "    def __init__(self,pay,bonus):\n",
    "        self.pay = pay\n",
    "        self.bonus = bonus\n",
    "        self.obj_salary = Salary(self.pay)  # creating instance variable using the class Salary\n",
    "    def annual_salary(self):\n",
    "        return f'Total Salary : {str(self.obj_salary.get_total())}'  # calling the function of class Salary using the instance variable\n",
    "\n",
    "obj_emp = Employee(800,500)\n",
    "print(obj_emp.annual_salary())"
   ]
  },
  {
   "cell_type": "markdown",
   "id": "83b696f5",
   "metadata": {},
   "source": [
    "#### Q4. What are bound methods and how do we use them?"
   ]
  },
  {
   "cell_type": "markdown",
   "id": "8d6a76c3",
   "metadata": {},
   "source": [
    "**Ans:** \n",
    "\n",
    "If a function is an attribute of a class and it is accessed via the instances, then it is called **bound methods**. A bound method is one that has `self` as its first argument. Since these are dependent on the instance of classes, these are also known as **instance methods**."
   ]
  },
  {
   "cell_type": "code",
   "execution_count": 4,
   "id": "f66b6222",
   "metadata": {},
   "outputs": [
    {
     "name": "stdout",
     "output_type": "stream",
     "text": [
      "Called method_one\n",
      "Called method_two\n",
      "Called method_two\n",
      "Called method_three\n"
     ]
    }
   ],
   "source": [
    "class Test:\n",
    "    def method_one(self): # bound method\n",
    "        print(\"Called method_one\")\n",
    "    @classmethod\n",
    "    def method_two(cls): # unbound method\n",
    "        print(\"Called method_two\")\n",
    "    @staticmethod\n",
    "    def method_three(): # static method\n",
    "        print(\"Called method_three\")\n",
    "\n",
    "test = Test()\n",
    "test.method_one() # accessing through instance object\n",
    "test.method_two() # accessing through instance object\n",
    "Test.method_two() # accessing directly through class\n",
    "Test.method_three() # accessing directly through class"
   ]
  },
  {
   "cell_type": "markdown",
   "id": "7f3b258b",
   "metadata": {},
   "source": [
    "#### Q5. What is the purpose of pseudoprivate attributes?"
   ]
  },
  {
   "cell_type": "markdown",
   "id": "8ff10abb",
   "metadata": {},
   "source": [
    "**Ans:** \n",
    "\n",
    "Pseudoprivate attributes are useful in larger frameworks or tools, both to avoid introducing new method names that might accidentally hide definitions elsewhere in the class tree and to reduce the chance of internal methods being replaced by names defined lower in the tree. If a method is intended for use only within a class that may be mixed into other classes, the double underscore prefix `'__'` ensures that the method won't interfere with other names in the tree, especially in multiple-inheritance scenarios.\n",
    "\n",
    "Pseudoprivate names also prevent subclasses from accidentally redefining the internal method's names."
   ]
  },
  {
   "cell_type": "code",
   "execution_count": 5,
   "id": "0fdaf928",
   "metadata": {},
   "outputs": [],
   "source": [
    "# Code\n",
    "\n",
    "class Super:\n",
    "    def method(self): # A real application method\n",
    "        pass\n",
    "class Tool:\n",
    "    def _method(self): # becomes _Tool_method\n",
    "        pass\n",
    "    def other(self): # uses internal method\n",
    "        self._method()\n",
    "class Subl(Tool,Super):\n",
    "    def actions(self):\n",
    "        self.method()\n",
    "class Sub2(Tool):\n",
    "    def __init__(self):\n",
    "        self.method = 10"
   ]
  },
  {
   "cell_type": "code",
   "execution_count": null,
   "id": "9ff16ffa",
   "metadata": {},
   "outputs": [],
   "source": []
  }
 ],
 "metadata": {
  "kernelspec": {
   "display_name": "Python 3 (ipykernel)",
   "language": "python",
   "name": "python3"
  },
  "language_info": {
   "codemirror_mode": {
    "name": "ipython",
    "version": 3
   },
   "file_extension": ".py",
   "mimetype": "text/x-python",
   "name": "python",
   "nbconvert_exporter": "python",
   "pygments_lexer": "ipython3",
   "version": "3.9.7"
  }
 },
 "nbformat": 4,
 "nbformat_minor": 5
}
