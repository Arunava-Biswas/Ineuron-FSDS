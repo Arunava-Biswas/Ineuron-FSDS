{
 "cells": [
  {
   "cell_type": "raw",
   "id": "c64ee09b",
   "metadata": {},
   "source": [
    "1. In the below elements which of them are values or an expression? eg:- values can be integer or string and expressions will be mathematical operators.\n",
    "* \n",
    "'hello'\n",
    "-87.8\n",
    "- \n",
    "/ \n",
    "+\t\n",
    "6 \n",
    "\n",
    "2. What is the difference between string and variable?\n",
    "\n",
    "3. Describe three different data types.\n",
    "\n",
    "4. What is an expression made up of? What do all expressions do?\n",
    "5. This assignment statements, like spam = 10. What is the difference between an expression and a statement?\n",
    "6. After running the following code, what does the variable bacon contain?\n",
    "bacon = 22\n",
    "bacon + 1\n",
    "\n",
    "7. What should the values of the following two terms be?\n",
    "'spam' + 'spamspam'\n",
    "'spam' * 3\n",
    "\n",
    "8. Why is eggs a valid variable name while 100 is invalid?\n",
    "9. What three functions can be used to get the integer, floating-point number, or string version of a value?\n",
    "10. Why does this expression cause an error? How can you fix it?\n",
    "'I have eaten ' + 99 + ' burritos.'"
   ]
  },
  {
   "cell_type": "markdown",
   "id": "d94a6de8",
   "metadata": {},
   "source": [
    "#### 1. In the below elements which of them are values or an expression? eg:- values can be integer or string and expressions will be mathematical operators.\n",
    "\n",
    "`* 'hello' -87.8 - / + 6`"
   ]
  },
  {
   "cell_type": "markdown",
   "id": "721aa1ea",
   "metadata": {},
   "source": [
    "**Ans:**\n",
    "\n",
    "There are 3 values and 4 expressions.\n",
    "\n",
    "**Values :** `'hello'`, `-87.8`, `6`\n",
    "\n",
    "**Expressions :**  `*` , `-` , `/`, `+`"
   ]
  },
  {
   "cell_type": "markdown",
   "id": "0d8bf12b",
   "metadata": {},
   "source": [
    "#### 2. What is the difference between string and variable?"
   ]
  },
  {
   "cell_type": "markdown",
   "id": "08b9c0c9",
   "metadata": {},
   "source": [
    "**Ans:**\n",
    "\n",
    "Variable is a kind of storage where information can be stored, and we can recall this variable at any time to use the information inside it. \n",
    "\n",
    "String is a single character or group of characters that are enclosed inside a `\" \"` or `' '`. String is a type of information that can be stored inside a variable."
   ]
  },
  {
   "cell_type": "markdown",
   "id": "270b8032",
   "metadata": {},
   "source": [
    "#### 3. Describe three different data types."
   ]
  },
  {
   "cell_type": "markdown",
   "id": "d86b125e",
   "metadata": {},
   "source": [
    "**Ans:**\n",
    "\n",
    "The three different data types are `int`, `float` and `bool`.\n",
    "\n",
    "**Int :** It is use to store information where values are represented by whole numbers.\n",
    "\n",
    "**Float :** It is use to store information where values are represented by decimal numbers.\n",
    "\n",
    "**Bool :** It is use to store information where values are represented by `True` or `False`."
   ]
  },
  {
   "cell_type": "code",
   "execution_count": 1,
   "id": "53031c30",
   "metadata": {},
   "outputs": [
    {
     "name": "stdout",
     "output_type": "stream",
     "text": [
      "1011 <class 'int'>\n",
      "4.67 <class 'float'>\n",
      "True <class 'bool'>\n"
     ]
    }
   ],
   "source": [
    "# Example for int data type\n",
    "int_num = 1011\n",
    "print(int_num, type(int_num))\n",
    "\n",
    "# Example for float data type\n",
    "flo_num = 4.67\n",
    "print(flo_num, type(flo_num))\n",
    "\n",
    "# Example for boolean data type\n",
    "b_data = True\n",
    "print(b_data, type(b_data))"
   ]
  },
  {
   "cell_type": "markdown",
   "id": "d4101879",
   "metadata": {},
   "source": [
    "#### 4. What is an expression made up of? What do all expressions do?"
   ]
  },
  {
   "cell_type": "markdown",
   "id": "9ea25953",
   "metadata": {},
   "source": [
    "**Ans:**\n",
    "\n",
    "An expression is a combination of operands(values, variables) and operators. Expressions need to be evaluated. If we ask Python to print an expression, the interpreter evaluates the expression and displays the result."
   ]
  },
  {
   "cell_type": "code",
   "execution_count": 3,
   "id": "b3b6cebb",
   "metadata": {},
   "outputs": [
    {
     "data": {
      "text/plain": [
       "0"
      ]
     },
     "execution_count": 3,
     "metadata": {},
     "output_type": "execute_result"
    }
   ],
   "source": [
    "10*1+20-30 # It is an Expression, The Python Interpreter Evaluates it to 0"
   ]
  },
  {
   "cell_type": "markdown",
   "id": "a12bd93a",
   "metadata": {},
   "source": [
    "#### 5. This assignment statements, like spam = 10. What is the difference between an expression and a statement?"
   ]
  },
  {
   "cell_type": "markdown",
   "id": "52f5725c",
   "metadata": {},
   "source": [
    "**Ans:**\n",
    "\n",
    "An expression is a combination of values, variables, and operators.When we type an expression at the prompt, the interpreter evaluates it, which means that it finds the value of the expression.\n",
    "\n",
    "eg: 10*1+20-30 is an example of a statement.\n",
    "\n",
    "A statement is a unit of code that has an effect, like creating a variable or displaying a value.When we type a statement, the interpreter executes it, which means that it does whatever the statement says. In general, statements don’t have values.\n",
    "\n",
    "eg: variable declaration and assignment are statements because they do not return a value."
   ]
  },
  {
   "cell_type": "code",
   "execution_count": 4,
   "id": "afff1faa",
   "metadata": {},
   "outputs": [
    {
     "name": "stdout",
     "output_type": "stream",
     "text": [
      "Hello World !\n"
     ]
    }
   ],
   "source": [
    "#Example:\n",
    "10*1+20-30 # Is a Expression\n",
    "myName = 'My name is Arunava Biswas.' # Is a Statement\n",
    "print(\"Hello World !\") # Is a Expression Statement"
   ]
  },
  {
   "cell_type": "markdown",
   "id": "7a402a29",
   "metadata": {},
   "source": [
    "#### 6. After running the following code, what does the variable bacon contain?\n",
    "\n",
    "`bacon = 22`\n",
    "\n",
    "`bacon + 1`"
   ]
  },
  {
   "cell_type": "markdown",
   "id": "6abb87c7",
   "metadata": {},
   "source": [
    "**Ans:**\n",
    "\n",
    "Here the variable `bacon` will remain as `22` after running the code, as in the begining the variable is assigned with value 22. But at the 2nd line the value will not get increased y 1 as it didnot get reassign to the variale `bacon`. To get the value increased by 1 the code should have been `bacon = bacon + 1`. But as in here it is not the case so at the end of the code the value of `bacon` will remain `22`."
   ]
  },
  {
   "cell_type": "markdown",
   "id": "01f389e1",
   "metadata": {},
   "source": [
    "#### 7. What should the values of the following two terms be?\n",
    "\n",
    "`'spam' + 'spamspam'`\n",
    "\n",
    "`'spam' * 3`"
   ]
  },
  {
   "cell_type": "markdown",
   "id": "48ddfd31",
   "metadata": {},
   "source": [
    "**Ans:**\n",
    "\n",
    "For the 1st case i.e. `'spam' + 'spamspam'` the value will be `'spamspamspam'`.\n",
    "\n",
    "For the 2nd case i.e. `'spam' * 3` the value will be `'spamspamspam'`.\n",
    "\n",
    "Both expressions evaluate to the string **`'spamspamspam'`** Where as the first expression follows **String Concatentation** and the second expression follows **String Multiplication**."
   ]
  },
  {
   "cell_type": "markdown",
   "id": "559cc816",
   "metadata": {},
   "source": [
    "#### 8. Why is eggs a valid variable name while 100 is invalid?"
   ]
  },
  {
   "cell_type": "markdown",
   "id": "00037dc3",
   "metadata": {},
   "source": [
    "**Ans:**\n",
    "\n",
    "As per python,Variable names cannot begin with a number. The python rules for naming a variable are :-\n",
    "\n",
    "Variable name must start with a letter or the underscore character.\n",
    "\n",
    "Variable name cannot start with a number.\n",
    "\n",
    "Variable name can only contain alpha-numeric characters and underscores (A-z, 0-9, & _ ).\n",
    "\n",
    "Variable names are case-sensitive so ARUNAVA and arunava are different variable names.\n",
    "\n",
    "The reserved words(keywords) cannot be used in naming the variable."
   ]
  },
  {
   "cell_type": "markdown",
   "id": "da6d9484",
   "metadata": {},
   "source": [
    "#### 9. What three functions can be used to get the integer, floating-point number, or string version of a value?"
   ]
  },
  {
   "cell_type": "markdown",
   "id": "e1b97010",
   "metadata": {},
   "source": [
    "**Ans:**\n",
    "\n",
    "The 3 functions are: `int()`, `float()` and `str()`."
   ]
  },
  {
   "cell_type": "code",
   "execution_count": 18,
   "id": "cc0f0598",
   "metadata": {},
   "outputs": [
    {
     "name": "stdout",
     "output_type": "stream",
     "text": [
      "int(10.0) ->  10 :  <class 'int'>\n",
      "float(10) ->  10.0 :  <class 'float'>\n",
      "str(10) ->  10 :  <class 'str'>\n"
     ]
    }
   ],
   "source": [
    "# Examples:\n",
    "\n",
    "# int() function converts given input to int\n",
    "print('int(10.0) -> ',int(10.0), ': ', type(int(10.0))) \n",
    "\n",
    "# float() function converts given input to float\n",
    "print('float(10) -> ',float(10), ': ', type(float(10))) \n",
    "\n",
    "# str() function converts given input to string\n",
    "print('str(10) -> ',str(10), ': ', type(str(10))) "
   ]
  },
  {
   "cell_type": "markdown",
   "id": "90903da2",
   "metadata": {},
   "source": [
    "#### 10. Why does this expression cause an error? How can you fix it?\n",
    "\n",
    "`'I have eaten ' + 99 + ' burritos.'`"
   ]
  },
  {
   "cell_type": "markdown",
   "id": "d5cbc26a",
   "metadata": {},
   "source": [
    "**Ans:**\n",
    "\n",
    "The code is throwing error because `99` is not a string. To fix the error we need to typecast the `99` to a string type."
   ]
  },
  {
   "cell_type": "code",
   "execution_count": 20,
   "id": "9dda2243",
   "metadata": {},
   "outputs": [
    {
     "data": {
      "text/plain": [
       "'I have eaten 99 burritos.'"
      ]
     },
     "execution_count": 20,
     "metadata": {},
     "output_type": "execute_result"
    }
   ],
   "source": [
    "# Fix is:\n",
    "\n",
    "'I have eaten ' + str(99) + ' burritos.'"
   ]
  }
 ],
 "metadata": {
  "kernelspec": {
   "display_name": "Python 3 (ipykernel)",
   "language": "python",
   "name": "python3"
  },
  "language_info": {
   "codemirror_mode": {
    "name": "ipython",
    "version": 3
   },
   "file_extension": ".py",
   "mimetype": "text/x-python",
   "name": "python",
   "nbconvert_exporter": "python",
   "pygments_lexer": "ipython3",
   "version": "3.9.7"
  }
 },
 "nbformat": 4,
 "nbformat_minor": 5
}
