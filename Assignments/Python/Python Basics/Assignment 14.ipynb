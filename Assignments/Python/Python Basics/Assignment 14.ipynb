{
 "cells": [
  {
   "cell_type": "raw",
   "id": "ca243344",
   "metadata": {},
   "source": [
    "1. What does RGBA stand for?\n",
    "2. From the Pillow module, how do you get the RGBA value of any images?\n",
    "3. What is a box tuple, and how does it work?\n",
    "4. Use your image and load in notebook then, How can you find out the width and height of an Image object?\n",
    "5. What method would you call to get Image object for a 100×100 image, excluding the lower-left quarter of it?\n",
    "6. After making changes to an Image object, how could you save it as an image file?\n",
    "7. What module contains Pillow’s shape-drawing code?\n",
    "8. Image objects do not have drawing methods. What kind of object does? How do you get this kind of object?\n",
    "\n"
   ]
  },
  {
   "cell_type": "markdown",
   "id": "3854694f",
   "metadata": {},
   "source": [
    "#### 1. What does RGBA stand for?"
   ]
  },
  {
   "cell_type": "markdown",
   "id": "7d93b423",
   "metadata": {},
   "source": [
    "**Ans:** \n",
    "\n",
    "**RGBA** is a four-channel format containing data for colors `Red`, `Green`, `Blue`, and an `Alpha` value. Where `Alpha` Represents the Opacity."
   ]
  },
  {
   "cell_type": "markdown",
   "id": "03043d3d",
   "metadata": {},
   "source": [
    "#### 2. From the Pillow module, how do you get the RGBA value of any images?"
   ]
  },
  {
   "cell_type": "markdown",
   "id": "4b22de0c",
   "metadata": {},
   "source": [
    "**Ans:** \n",
    "\n",
    "`ImageColor.getcolor()` gives rgba value of any image."
   ]
  },
  {
   "cell_type": "markdown",
   "id": "0e168e9c",
   "metadata": {},
   "source": [
    "#### 3. What is a box tuple, and how does it work?"
   ]
  },
  {
   "cell_type": "markdown",
   "id": "6ca13652",
   "metadata": {},
   "source": [
    "**Ans:** \n",
    "\n",
    "A box tuple is a tuple value of four integers: the left-edge x-coordinate, the top-edge y-coordinate,the width, and the height, respectively."
   ]
  },
  {
   "cell_type": "markdown",
   "id": "35797c32",
   "metadata": {},
   "source": [
    "#### 4. Use your image and load in notebook then, How can you find out the width and height of an Image object?"
   ]
  },
  {
   "cell_type": "code",
   "execution_count": 7,
   "id": "e194de4b",
   "metadata": {},
   "outputs": [
    {
     "name": "stdout",
     "output_type": "stream",
     "text": [
      "Width, Height -> (1000, 667)\n",
      "Width, Height -> 1000,667\n",
      "Width, Height -> 1000,667\n"
     ]
    }
   ],
   "source": [
    "# Importing the module\n",
    "from PIL import Image\n",
    "\n",
    "# Opening image object\n",
    "pic = Image.open('apple.jpg')\n",
    "\n",
    "# Approach 1: printing the width and height \n",
    "print(f'Width, Height -> {pic.size}') \n",
    "\n",
    "# Approach 2: printing the width and height\n",
    "print(f'Width, Height -> {pic.width},{pic.height}')\n",
    "\n",
    "\n",
    "width,height = pic.size\n",
    "# Approach 3: printing the width and height\n",
    "print(f'Width, Height -> {width},{height}') "
   ]
  },
  {
   "cell_type": "markdown",
   "id": "5e55883e",
   "metadata": {},
   "source": [
    "#### 5. What method would you call to get Image object for a 100×100 image, excluding the lower-left quarter of it?"
   ]
  },
  {
   "cell_type": "markdown",
   "id": "f00424e8",
   "metadata": {},
   "source": [
    "**Ans:**\n",
    "\n",
    "we will use `crop()` method to get Image object for a 100×100 image, excluding the lower-left quarter of it."
   ]
  },
  {
   "cell_type": "code",
   "execution_count": 8,
   "id": "83489e85",
   "metadata": {},
   "outputs": [],
   "source": [
    "from PIL import Image\n",
    "img = Image.open('apple.jpg')\n",
    "new_img = img.crop((0,50,50,50))"
   ]
  },
  {
   "cell_type": "markdown",
   "id": "00d0b594",
   "metadata": {},
   "source": [
    "#### 6. After making changes to an Image object, how could you save it as an image file?"
   ]
  },
  {
   "cell_type": "code",
   "execution_count": 13,
   "id": "2b0a19ff",
   "metadata": {},
   "outputs": [],
   "source": [
    "from PIL import Image\n",
    "pic = Image.open('pic.jpg')\n",
    "pic.save('pic2.jpg')"
   ]
  },
  {
   "cell_type": "markdown",
   "id": "36bf5a0e",
   "metadata": {},
   "source": [
    "#### 7. What module contains Pillow’s shape-drawing code?"
   ]
  },
  {
   "cell_type": "markdown",
   "id": "74150c9a",
   "metadata": {},
   "source": [
    "**Ans:** \n",
    "\n",
    "Pillow's `ImageDraw` module contains Shape drawing methods."
   ]
  },
  {
   "cell_type": "markdown",
   "id": "9e8d3790",
   "metadata": {},
   "source": [
    "#### 8. Image objects do not have drawing methods. What kind of object does? How do you get this kind of object?"
   ]
  },
  {
   "cell_type": "markdown",
   "id": "519b6519",
   "metadata": {},
   "source": [
    "**Ans:** \n",
    "\n",
    "ImageDraw objects have shape-drawing methods such as `point()`, `line()`, or `rectangle()`.They are returned by passing the Image object to the `ImageDraw.Draw()` function."
   ]
  },
  {
   "cell_type": "code",
   "execution_count": null,
   "id": "eb04f601",
   "metadata": {},
   "outputs": [],
   "source": []
  }
 ],
 "metadata": {
  "kernelspec": {
   "display_name": "Python 3 (ipykernel)",
   "language": "python",
   "name": "python3"
  },
  "language_info": {
   "codemirror_mode": {
    "name": "ipython",
    "version": 3
   },
   "file_extension": ".py",
   "mimetype": "text/x-python",
   "name": "python",
   "nbconvert_exporter": "python",
   "pygments_lexer": "ipython3",
   "version": "3.9.7"
  }
 },
 "nbformat": 4,
 "nbformat_minor": 5
}
