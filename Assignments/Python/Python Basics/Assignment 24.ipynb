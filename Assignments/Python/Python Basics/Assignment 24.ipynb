{
 "cells": [
  {
   "cell_type": "raw",
   "id": "ff990684",
   "metadata": {},
   "source": [
    "1. What is the relationship between def statements and lambda expressions ?\n",
    "2. What is the benefit of lambda?\n",
    "3. Compare and contrast map, filter, and reduce.\n",
    "4. What are function annotations, and how are they used?\n",
    "5. What are recursive functions, and how are they used?\n",
    "6. What are some general design guidelines for coding functions?\n",
    "7. Name three or more ways that functions can communicate results to a caller.\n",
    "\n"
   ]
  },
  {
   "cell_type": "markdown",
   "id": "c55b66f8",
   "metadata": {},
   "source": [
    "#### 1. What is the relationship between def statements and lambda expressions ?"
   ]
  },
  {
   "cell_type": "markdown",
   "id": "396c4bbb",
   "metadata": {},
   "source": [
    "**Ans:** \n",
    "\n",
    "`def` statement is use to create a normal function, whereas `lambda` expressions are used to create anonymous functions, which can be assigned to a variable and can be called using the variable later in the code.\n",
    "\n",
    "Lambda's body is a single expression and not a block of statements like def statement. The lambda expression's body is similar to what we would put in a def body's return statement. We simply type the result as an expression instead of explicitly returning it. Because it is limited to an expression, a `lambda` is less general than a `def` statement."
   ]
  },
  {
   "cell_type": "code",
   "execution_count": 2,
   "id": "20190583",
   "metadata": {},
   "outputs": [
    {
     "name": "stdout",
     "output_type": "stream",
     "text": [
      "The addition of 5 and 10 using def is 15.\n",
      "The addition of 5 and 10 using lambda is 15.\n"
     ]
    }
   ],
   "source": [
    "# Creating addition of 2 varibales using both def and lambda\n",
    "\n",
    "a = 5\n",
    "b = 10\n",
    "\n",
    "# Creating function using def\n",
    "def addition(x,y):\n",
    "    return x+y\n",
    "\n",
    "# Calling the function and printing the result\n",
    "result1 = addition(a,b)\n",
    "print(f\"The addition of {a} and {b} using def is {result1}.\")\n",
    "\n",
    "\n",
    "# Creating function using lambda\n",
    "c = lambda i,j : i+j\n",
    "\n",
    "# Calling the function and printing the result\n",
    "result2 = c(a,b)\n",
    "print(f\"The addition of {a} and {b} using lambda is {result2}.\")"
   ]
  },
  {
   "cell_type": "markdown",
   "id": "17f63527",
   "metadata": {},
   "source": [
    "#### 2. What is the benefit of lambda?"
   ]
  },
  {
   "cell_type": "markdown",
   "id": "a9032137",
   "metadata": {},
   "source": [
    "**Ans:** \n",
    "\n",
    "The following are some of the benefits of lambda expressions:\n",
    "\n",
    "1. It can be used to create Nameless/Anonymous functions inside some complex functions if someone is planning to use it only once.\n",
    "2. Only moderate to small functions can be created in a single line by using lambda.\n",
    "3. The functions created using lambda expressions can be assigned to a variable and can be used by simply calling the variable name anywhere in the code."
   ]
  },
  {
   "cell_type": "markdown",
   "id": "e8a97aca",
   "metadata": {},
   "source": [
    "#### 3. Compare and contrast map, filter, and reduce."
   ]
  },
  {
   "cell_type": "markdown",
   "id": "fdee64c4",
   "metadata": {},
   "source": [
    "**Ans:** \n",
    "\n",
    "The differences between map, filter and reduce are:\n",
    "\n",
    "1. `map()`: The map() function is a type of higher-order. This function takes another function as a parameter along with a sequence of iterables and returns an output after applying the function to each iterable present in the sequence.\n",
    "2. `filter()`: The filter() function is used to create an output list consisting of values for which the function returns true.\n",
    "3. `reduce()`: The reduce() function, as the name describes, applies a given function to the iterables and returns a single value."
   ]
  },
  {
   "cell_type": "code",
   "execution_count": 4,
   "id": "01ca13e5",
   "metadata": {},
   "outputs": [
    {
     "name": "stdout",
     "output_type": "stream",
     "text": [
      "Map : [2, 4, 6, 8]\n",
      "Filter : [1, 3]\n",
      "Reduce : 21\n"
     ]
    }
   ],
   "source": [
    "# Code\n",
    "\n",
    "# Importing module\n",
    "from functools import reduce\n",
    "\n",
    "\n",
    "# map function\n",
    "print('Map :',list(map(lambda x:x+x, [1,2,3,4])))\n",
    "\n",
    "# fitler function\n",
    "print('Filter :',list(filter(lambda x:x%2 !=0, [1,2,3,4])))\n",
    "\n",
    "# reduce function\n",
    "print('Reduce :',reduce(lambda x,y:x+y, [1,2,3,4,5,6]))"
   ]
  },
  {
   "cell_type": "markdown",
   "id": "4e9da836",
   "metadata": {},
   "source": [
    "#### 4. What are function annotations, and how are they used?"
   ]
  },
  {
   "cell_type": "markdown",
   "id": "503a6826",
   "metadata": {},
   "source": [
    "**Ans:** \n",
    "\n",
    "Function annotations provide a way of associating various parts of a function with arbitrary python expressions at the compilation time.\n",
    "\n",
    "Annotations of simple parameters - `def func(x: expression, y: expression = 20):`\n",
    "\n",
    "Whereas the annotations for excess parameters are as − `def func (**args: expression, **kwargs: expression):`"
   ]
  },
  {
   "cell_type": "markdown",
   "id": "564456c2",
   "metadata": {},
   "source": [
    "#### 5. What are recursive functions, and how are they used?"
   ]
  },
  {
   "cell_type": "markdown",
   "id": "94eca183",
   "metadata": {},
   "source": [
    "**Ans:** \n",
    "\n",
    "A recursive function is a function that calls itself during its execution. The process may repeat several times, outputting the result at the end of each iteration."
   ]
  },
  {
   "cell_type": "code",
   "execution_count": 5,
   "id": "a7eeb1d6",
   "metadata": {},
   "outputs": [
    {
     "name": "stdout",
     "output_type": "stream",
     "text": [
      "\n",
      "\n",
      "Recursion Example Results\n",
      "1\n",
      "3\n",
      "6\n",
      "10\n",
      "15\n",
      "21\n"
     ]
    },
    {
     "data": {
      "text/plain": [
       "21"
      ]
     },
     "execution_count": 5,
     "metadata": {},
     "output_type": "execute_result"
    }
   ],
   "source": [
    "# Code\n",
    "\n",
    "def tri_recursion(k):\n",
    "    if(k>0):\n",
    "        result = k+tri_recursion(k-1)\n",
    "        print(result)                 # printing result after each iteration\n",
    "    else:\n",
    "        result = 0\n",
    "    return result                    # returning the final result\n",
    "\n",
    "print(\"\\n\\nRecursion Example Results\")\n",
    "tri_recursion(6)"
   ]
  },
  {
   "cell_type": "markdown",
   "id": "0a0a8a45",
   "metadata": {},
   "source": [
    "#### 6. What are some general design guidelines for coding functions?"
   ]
  },
  {
   "cell_type": "markdown",
   "id": "c06c4136",
   "metadata": {},
   "source": [
    "**Ans:** \n",
    "\n",
    "Some of the general design guidelines for coding functions are:\n",
    "\n",
    "1. Always use a docstring to explain the functionality of the function.\n",
    "2. Avoid using or limited use of global variables.\n",
    "3. Proper Identation to increase the code readability.\n",
    "4. Try to follow a naming convention for function names (pascalCase or camelCase) and stick with the same convention throughout the application.\n",
    "5. Avoid using digits while choosing a variable name.\n",
    "6. Try to use a name for the function which conveys the purpose of the function.\n",
    "7. Local variables should be named using camelCase format `(ex: localVariable)` whereas Global variables names should be using PascalCase `(ex:GlobalVariable)`.\n",
    "8. Constant should be represented in allcaps `(ex:CONSTANT)`."
   ]
  },
  {
   "cell_type": "markdown",
   "id": "2527498d",
   "metadata": {},
   "source": [
    "#### 7. Name three or more ways that functions can communicate results to a caller."
   ]
  },
  {
   "cell_type": "markdown",
   "id": "c763613a",
   "metadata": {},
   "source": [
    "**Ans:** \n",
    "\n",
    "Some of the ways in which a function can communicate with the calling function is:\n",
    "\n",
    "- print\n",
    "- return\n",
    "- yield"
   ]
  },
  {
   "cell_type": "code",
   "execution_count": null,
   "id": "85e649ae",
   "metadata": {},
   "outputs": [],
   "source": []
  }
 ],
 "metadata": {
  "kernelspec": {
   "display_name": "Python 3 (ipykernel)",
   "language": "python",
   "name": "python3"
  },
  "language_info": {
   "codemirror_mode": {
    "name": "ipython",
    "version": 3
   },
   "file_extension": ".py",
   "mimetype": "text/x-python",
   "name": "python",
   "nbconvert_exporter": "python",
   "pygments_lexer": "ipython3",
   "version": "3.9.7"
  }
 },
 "nbformat": 4,
 "nbformat_minor": 5
}
