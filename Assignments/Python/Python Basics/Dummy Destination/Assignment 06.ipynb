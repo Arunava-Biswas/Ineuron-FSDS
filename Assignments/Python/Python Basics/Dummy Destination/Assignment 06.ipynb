{
 "cells": [
  {
   "cell_type": "raw",
   "id": "71efb259",
   "metadata": {},
   "source": [
    "1. What are escape characters, and how do you use them?\n",
    "2. What do the escape characters n and t stand for?\n",
    "3. What is the way to include backslash characters in a string?\n",
    "4. The string \"Howl's Moving Castle\" is a correct value. Why isn't the single quote character in the word Howl's not escaped a problem?\n",
    "5. How do you write a string of newlines if you don't want to use the n character?\n",
    "6. What are the values of the given expressions?\n",
    "'Hello, world!'[1]\n",
    "'Hello, world!'[0:5]\n",
    "'Hello, world!'[:5]\n",
    "'Hello, world!'[3:]\n",
    "\n",
    "7. What are the values of the following expressions?\n",
    "'Hello'.upper()\n",
    "'Hello'.upper().isupper()\n",
    "'Hello'.upper().lower()\n",
    "8. What are the values of the following expressions?\n",
    "'Remember, remember, the fifth of July.'.split()\n",
    "'-'.join('There can only one.'.split())\n",
    "9. What are the methods for right-justifying, left-justifying, and centering a string?\n",
    "10. What is the best way to remove whitespace characters from the start or end?\n",
    "\n"
   ]
  },
  {
   "cell_type": "markdown",
   "id": "fd9cf542",
   "metadata": {},
   "source": [
    "#### 1. What are escape characters, and how do you use them?\n"
   ]
  },
  {
   "cell_type": "markdown",
   "id": "37709407",
   "metadata": {},
   "source": [
    "**Ans:** \n",
    "\n",
    "Escape characters represent characters in string values that would otherwise be difficult or impossible to type into code. We can use the backslash character `\\` to escape a single character or symbol.\n",
    "\n",
    "example: `\\t`, `\\n`"
   ]
  },
  {
   "cell_type": "markdown",
   "id": "e01c413c",
   "metadata": {},
   "source": [
    "\n",
    "#### 2. What do the escape characters n and t stand for?\n"
   ]
  },
  {
   "cell_type": "markdown",
   "id": "fdba1777",
   "metadata": {},
   "source": [
    "**Ans:** \n",
    "\n",
    "`\\n` is for newline, `\\t` is for a tab"
   ]
  },
  {
   "cell_type": "markdown",
   "id": "7bb136ca",
   "metadata": {},
   "source": [
    "\n",
    "#### 3. What is the way to include backslash characters in a string?\n"
   ]
  },
  {
   "cell_type": "markdown",
   "id": "70cb23f3",
   "metadata": {},
   "source": [
    "**Ans:**\n",
    "\n",
    "Putting another backslash before the backslash will represent the backslash character in a string.\n",
    "\n",
    "example: `\\\\`"
   ]
  },
  {
   "cell_type": "markdown",
   "id": "49155c5d",
   "metadata": {},
   "source": [
    "\n",
    "#### 4. The string \"Howl's Moving Castle\" is a correct value. Why isn't the single quote character in the word Howl's not escaped a problem?\n"
   ]
  },
  {
   "cell_type": "markdown",
   "id": "cda1e58f",
   "metadata": {},
   "source": [
    "**Ans:** \n",
    "\n",
    "The string `\"Howl's Moving Castle\"` escaped the problem because it is wrapped inside double quotes. if it was wrapped inside single quotes then we have to use escape character `\\'` to show single quote in the final output.\n",
    "\n",
    "Then we had to write it like this:\n",
    "\n",
    "`'Howl\\'s Moving Castle'` returns `'Howl's Moving Castle'`"
   ]
  },
  {
   "cell_type": "markdown",
   "id": "9cef0f91",
   "metadata": {},
   "source": [
    "\n",
    "#### 5. How do you write a string of newlines if you don't want to use the n character?\n"
   ]
  },
  {
   "cell_type": "markdown",
   "id": "75c3e07d",
   "metadata": {},
   "source": [
    "**Ans:** \n",
    "\n",
    "Multiline string in Python allows one to use newlines in string without using the `\\n` escape character."
   ]
  },
  {
   "cell_type": "code",
   "execution_count": 1,
   "id": "a6cce36d",
   "metadata": {},
   "outputs": [
    {
     "name": "stdout",
     "output_type": "stream",
     "text": [
      "In\n",
      "iNeuron \n",
      "Full Stack Data Science Course\n",
      "currently I am doing \n",
      "python assignments.\n",
      "\n"
     ]
    }
   ],
   "source": [
    "x = '''In\n",
    "iNeuron \n",
    "Full Stack Data Science Course\n",
    "currently I am doing \n",
    "python assignments.\n",
    "'''\n",
    "\n",
    "print(x)"
   ]
  },
  {
   "cell_type": "markdown",
   "id": "80c0be11",
   "metadata": {},
   "source": [
    "#### 6. What are the values of the given expressions?\n",
    "\n",
    "`'Hello, world!'[1]`\n",
    "\n",
    "`'Hello, world!'[0:5]`\n",
    "\n",
    "`'Hello, world!'[:5]`\n",
    "\n",
    "`'Hello, world!'[3:]`\n",
    "\n"
   ]
  },
  {
   "cell_type": "markdown",
   "id": "ad63ac52",
   "metadata": {},
   "source": [
    "**Ans:** \n",
    "\n",
    "The values for the given expressions are:\n",
    "\n",
    "`'Hello, world!'[1]` will return `'e'`\n",
    "\n",
    "`'Hello, world!'[0:5]` will return `'Hello'`\n",
    "\n",
    "`'Hello, world!'[:5]` will return `'Hello'`\n",
    "\n",
    "`'Hello, world!'[3:]` will return `'lo, world!'`"
   ]
  },
  {
   "cell_type": "markdown",
   "id": "5e5f2189",
   "metadata": {},
   "source": [
    "\n",
    "\n",
    "#### 7. What are the values of the following expressions?\n",
    "\n",
    "`'Hello'.upper()`\n",
    "\n",
    "`'Hello'.upper().isupper()`\n",
    "\n",
    "`'Hello'.upper().lower()`\n"
   ]
  },
  {
   "cell_type": "markdown",
   "id": "a0e762cc",
   "metadata": {},
   "source": [
    "**Ans:** \n",
    "\n",
    "The values for the given expressions are:\n",
    "\n",
    "`'Hello'.upper()` will return as `'HELLO'`\n",
    "\n",
    "`'Hello'.upper().isupper()` will return the value `True`\n",
    "\n",
    "`'Hello'.upper().lower()` will return as `'hello'`"
   ]
  },
  {
   "cell_type": "markdown",
   "id": "78ea1fbc",
   "metadata": {},
   "source": [
    "\n",
    "#### 8. What are the values of the following expressions?\n",
    "\n",
    "'Remember, remember, the fifth of July.'.split()\n",
    "\n",
    "'-'.join('There can only one.'.split())\n"
   ]
  },
  {
   "cell_type": "markdown",
   "id": "6fc53dc0",
   "metadata": {},
   "source": [
    "**Ans:** \n",
    "\n",
    "The values for the given expressions are:\n",
    "\n",
    "`'Remember, remember, the fifith of July.'.split()` will be `['Remember,', 'remember,', 'the', 'fifith', 'of', 'July.']`\n",
    "\n",
    "`'-'.join('There can only one'.split())` will be `'There-can-only-one'`"
   ]
  },
  {
   "cell_type": "markdown",
   "id": "2f0b81af",
   "metadata": {},
   "source": [
    "\n",
    "#### 9. What are the methods for right-justifying, left-justifying, and centering a string?\n"
   ]
  },
  {
   "cell_type": "markdown",
   "id": "9971e429",
   "metadata": {},
   "source": [
    "**Ans:** \n",
    "\n",
    "The `rjust()`,`ljust()`and `center()` string methods, respectively."
   ]
  },
  {
   "cell_type": "markdown",
   "id": "146c7f0a",
   "metadata": {},
   "source": [
    "#### 10. What is the best way to remove whitespace characters from the start or end?"
   ]
  },
  {
   "cell_type": "markdown",
   "id": "f5fec310",
   "metadata": {},
   "source": [
    "**Ans:** \n",
    "\n",
    "The `strip()`, `lstrip()` and `rstrip()` methods remove whitesapce characters from the left and right ends of a string respectively."
   ]
  },
  {
   "cell_type": "code",
   "execution_count": null,
   "id": "111cc90c",
   "metadata": {},
   "outputs": [],
   "source": []
  }
 ],
 "metadata": {
  "kernelspec": {
   "display_name": "Python 3 (ipykernel)",
   "language": "python",
   "name": "python3"
  },
  "language_info": {
   "codemirror_mode": {
    "name": "ipython",
    "version": 3
   },
   "file_extension": ".py",
   "mimetype": "text/x-python",
   "name": "python",
   "nbconvert_exporter": "python",
   "pygments_lexer": "ipython3",
   "version": "3.9.7"
  }
 },
 "nbformat": 4,
 "nbformat_minor": 5
}
