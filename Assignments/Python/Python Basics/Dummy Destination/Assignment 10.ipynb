{
 "cells": [
  {
   "cell_type": "raw",
   "id": "8babea61",
   "metadata": {},
   "source": [
    "1. How do you distinguish between shutil.copy() and shutil.copytree()?\n",
    "2. What function is used to rename files??\n",
    "3. What is the difference between the delete functions in the send2trash and shutil modules?\n",
    "4.ZipFile objects have a close() method just like File objects’ close() method. What ZipFile method is equivalent to File objects’ open() method?\n",
    "5. Create a programme that searches a folder tree for files with a certain file extension (such as .pdf or .jpg). Copy these files from whatever location they are in to a new folder.\n",
    "\n"
   ]
  },
  {
   "cell_type": "markdown",
   "id": "f34de845",
   "metadata": {},
   "source": [
    "#### 1. How do you distinguish between shutil.copy() and shutil.copytree()?"
   ]
  },
  {
   "cell_type": "markdown",
   "id": "5c04531a",
   "metadata": {},
   "source": [
    "**Ans:** \n",
    "\n",
    "`shutil.copy()` method is used to copy the contents of a file from one file to another file/folder, it primarily takes two arguments `src`,`dest`. `src` represents the file to be copied i.e. the source, whereas `dest` refers to the file/folder to where the src data should be copied to i.e. the destination. If `dest` is a folder name same as `src` with exact name will be copied to the `dest` folder, if its a file then the contents of `src` will be copied to `dest` where `dest` retains it's name.\n",
    "\n",
    "`shutil.copytree()` function is used to copy the entire contents of a folder to other folder. it also takes two arguments `src` & `dest`. It copies all the content recursively and stores it in `dest`. The important catch here is `dest` must not exist prior to this operation and it will be created during the copy operation. Permissions and times of directories are copied with `shutil.copystat()` and individual files are copied using `shutil.copy2()` by default which can be modified using `copy_function` attribute."
   ]
  },
  {
   "cell_type": "markdown",
   "id": "3a226b58",
   "metadata": {},
   "source": [
    "#### 2. What function is used to rename files??"
   ]
  },
  {
   "cell_type": "markdown",
   "id": "3588f07b",
   "metadata": {},
   "source": [
    "**Ans:** \n",
    "\n",
    "`os.rename()` function is used to rename files or directories using a python program, this function takes two arguments `src` and `dest`, `src` represents the name file/directory which we want to rename, whereas `dest` represents the new name of the file/directory."
   ]
  },
  {
   "cell_type": "markdown",
   "id": "25ccf8cf",
   "metadata": {},
   "source": [
    "#### 3. What is the difference between the delete functions in the send2trash and shutil modules?"
   ]
  },
  {
   "cell_type": "markdown",
   "id": "f1328cc8",
   "metadata": {},
   "source": [
    "**Ans:** \n",
    "\n",
    "**Shutil** module provides a funciton called as `shutil.rmtree()` which deletes a directory and all its contents. The other functions with similar functionality are `os.remove()` that removes a file, `os.rmdir()` removes an empty directory. The problem with these functions are once a file is deleted, it will be lost permanently, if a file is deleted accidentally using these methods there is no way we can recover the deleted file.\n",
    "\n",
    "Whereas **send2trash** module provides a function called `send2trash.send2trash()` to delete a file/directory. These methods moves the files/directories to trash folder instead of permanently deleting them, hence if a file/folder is deleted accidentally it can be still recovered from trash folder, if the file is deleted using the `send2trash.send2trash()` function. send2trash is not included with python standard libary like os & shutil modules, it needs to be installed explicitly using the command `!pip install send2trash`."
   ]
  },
  {
   "cell_type": "markdown",
   "id": "4e5da91a",
   "metadata": {},
   "source": [
    "#### 4. ZipFile objects have a close() method just like File objects’ close() method. What ZipFile method is equivalent to File objects’ open() method?"
   ]
  },
  {
   "cell_type": "markdown",
   "id": "cdbd03a4",
   "metadata": {},
   "source": [
    "**Ans:** \n",
    "\n",
    "ZipFile Module provides a method called as `zipfile.ZipFile()` to read and write to zipFiles. It takes arugments lile filename and mode etc.\n",
    "\n",
    "Syntax is:\n",
    "\n",
    "`zipfile.ZipFile('filename', mode = 'r')`"
   ]
  },
  {
   "cell_type": "markdown",
   "id": "d35d9b22",
   "metadata": {},
   "source": [
    "#### 5. Create a programme that searches a folder tree for files with a certain file extension (such as .pdf or .jpg). Copy these files from whatever location they are in to a new folder."
   ]
  },
  {
   "cell_type": "code",
   "execution_count": 6,
   "id": "8f0bc8ef",
   "metadata": {},
   "outputs": [
    {
     "name": "stdout",
     "output_type": "stream",
     "text": [
      "Folder Name : F:\\Machine Learning\\INeuron_FSDS\\Assignments\\Python\\Python Basic\n",
      "\n",
      "Sub Folders : ['.ipynb_checkpoints']\n",
      "\n",
      "Files : ['Assignment 01.ipynb', 'Assignment 02.ipynb', 'Assignment 03.ipynb', 'Assignment 04.ipynb', 'Assignment 05.ipynb', 'Assignment 06.ipynb', 'Assignment 07.ipynb', 'Assignment 08.ipynb', 'Assignment 09.ipynb', 'Assignment 10.ipynb']\n",
      "\n",
      "Files copied successfully from F:\\Machine Learning\\INeuron_FSDS\\Assignments\\Python\\Python Basic to F:\\Machine Learning\\INeuron_FSDS\\Assignments\\Python\\Python Basic\\Dummy Destination\n"
     ]
    }
   ],
   "source": [
    "import os\n",
    "import shutil\n",
    "\n",
    "\n",
    "\n",
    "def search_and_copy(source,destination,extensions):\n",
    "    source = os.path.abspath(source)\n",
    "    destination = os.path.abspath(destination)\n",
    "    for foldername, subfolder, filenames in os.walk(source):\n",
    "        print(f'Folder Name : {foldername}',end='\\n\\n')\n",
    "        print(f'Sub Folders : {subfolder}',end='\\n\\n')\n",
    "        print(f'Files : {filenames}',end='\\n\\n')\n",
    "        for filename in filenames:\n",
    "            fileName,extension = os.path.splitext(filename)\n",
    "            if extension in extensions:\n",
    "                targetFile = foldername+os.path.sep+fileName+extension\n",
    "                shutil.copy(targetFile, destination)\n",
    "        print(f'Files copied successfully from {source} to {destination}')\n",
    "        break\n",
    "\n",
    "# extensions         \n",
    "extensions = ['.pdf','.jpg','.ipynb']\n",
    "\n",
    "# Source folder\n",
    "source = os.getcwd()\n",
    "\n",
    "# Destination folder\n",
    "dirName = 'Dummy Destination'\n",
    "\n",
    "if not os.path.exists(dirName):\n",
    "    os.mkdir(dirName)\n",
    "else:    \n",
    "    print(\"Directory \" , dirName ,  \" already exists\") \n",
    "\n",
    "\n",
    "search_and_copy(source, destination, extensions)"
   ]
  },
  {
   "cell_type": "code",
   "execution_count": null,
   "id": "4c8f32f9",
   "metadata": {},
   "outputs": [],
   "source": []
  }
 ],
 "metadata": {
  "kernelspec": {
   "display_name": "Python 3 (ipykernel)",
   "language": "python",
   "name": "python3"
  },
  "language_info": {
   "codemirror_mode": {
    "name": "ipython",
    "version": 3
   },
   "file_extension": ".py",
   "mimetype": "text/x-python",
   "name": "python",
   "nbconvert_exporter": "python",
   "pygments_lexer": "ipython3",
   "version": "3.9.7"
  }
 },
 "nbformat": 4,
 "nbformat_minor": 5
}
