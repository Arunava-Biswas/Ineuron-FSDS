{
 "cells": [
  {
   "cell_type": "raw",
   "id": "380e62ea",
   "metadata": {},
   "source": [
    "1.What are the two values of the Boolean data type? How do you write them?\n",
    "2. What are the three different types of Boolean operators?\n",
    "3. Make a list of each Boolean operator's truth tables (i.e. every possible combination of Boolean values for the operator and what it evaluate ).\n",
    "4. What are the values of the following expressions?\n",
    "(5 > 4) and (3 == 5)\n",
    "not (5 > 4)\n",
    "(5 > 4) or (3 == 5)\n",
    "not ((5 > 4) or (3 == 5))\n",
    "(True and True) and (True == False)\n",
    "(not False) or (not True)\n",
    "5. What are the six comparison operators?\n",
    "6. How do you tell the difference between the equal to and assignment operators?Describe a condition and when you would use one.\n",
    "7. Identify the three blocks in this code:\n",
    "spam = 0\n",
    "if spam == 10:\n",
    "print('eggs')\n",
    "if spam > 5:\n",
    "print('bacon')\n",
    "else:\n",
    "print('ham')\n",
    "print('spam')\n",
    "print('spam')\n",
    "8. Write code that prints Hello if 1 is stored in spam, prints Howdy if 2 is stored in spam, and prints Greetings! if anything else is stored in spam.\n",
    "\n",
    "\n",
    "9.If your programme is stuck in an endless loop, what keys you’ll press?\n",
    "10. How can you tell the difference between break and continue?\n",
    "11. In a for loop, what is the difference between range(10), range(0, 10), and range(0, 10, 1)?\n",
    "12. Write a short program that prints the numbers 1 to 10 using a for loop. Then write an equivalent program that prints the numbers 1 to 10 using a while loop.\n",
    "13. If you had a function named bacon() inside a module named spam, how would you call it after importing spam?\n",
    "\n"
   ]
  },
  {
   "cell_type": "markdown",
   "id": "774b94d8",
   "metadata": {},
   "source": [
    "#### 1.What are the two values of the Boolean data type? How do you write them?"
   ]
  },
  {
   "cell_type": "markdown",
   "id": "a86ef840",
   "metadata": {},
   "source": [
    "**Ans:** \n",
    "\n",
    "`True` and `False` are two values of the boolen data types. We have to use capital 'T' and 'F' and with the rest of the word in lowercase."
   ]
  },
  {
   "cell_type": "code",
   "execution_count": 1,
   "id": "1e160b3d",
   "metadata": {},
   "outputs": [
    {
     "name": "stdout",
     "output_type": "stream",
     "text": [
      "True <class 'bool'>\n",
      "False <class 'bool'>\n"
     ]
    }
   ],
   "source": [
    "x = True\n",
    "y = False\n",
    "print(x,type(x))\n",
    "print(y,type(y))"
   ]
  },
  {
   "cell_type": "markdown",
   "id": "54bbf5ff",
   "metadata": {},
   "source": [
    "#### 2. What are the three different types of Boolean operators?"
   ]
  },
  {
   "cell_type": "markdown",
   "id": "c52eb13d",
   "metadata": {},
   "source": [
    "**Ans:**\n",
    "\n",
    "The three different types of Boolean operators are: `and`, `or` , `not`."
   ]
  },
  {
   "cell_type": "code",
   "execution_count": 2,
   "id": "ce2dc1be",
   "metadata": {},
   "outputs": [
    {
     "name": "stdout",
     "output_type": "stream",
     "text": [
      "True\n",
      "True\n",
      "False\n"
     ]
    }
   ],
   "source": [
    "x = 100\n",
    "y = 200\n",
    "print(x>50 and y>100)                         # Example of boolean and\n",
    "print(x>200 or y>100)                         # Example of boolean or\n",
    "print(not(y>10))                              # Example of boolean not"
   ]
  },
  {
   "cell_type": "markdown",
   "id": "8eb4c9d0",
   "metadata": {},
   "source": [
    "#### 3. Make a list of each Boolean operator's truth tables (i.e. every possible combination of Boolean values for the operator and what it evaluate )."
   ]
  },
  {
   "cell_type": "markdown",
   "id": "cfae7a5b",
   "metadata": {},
   "source": [
    "**Ans:** \n",
    "\n",
    "The Truth tables for the boolean tables are as follows:\n",
    "\n",
    "- **Truth Table for `and` operaotor**\n",
    "\n",
    " True and True is True\n",
    " True and False is False\n",
    " False and True is False\n",
    " False and False is False\n",
    "\n",
    "\n",
    "- **Truth Table for `or` operaotor**\n",
    "\n",
    " True and True is True\n",
    " True and False is True\n",
    " False and True is True\n",
    " False and False is False\n",
    "\n",
    "\n",
    "- **Truth Table for `not` operaotor** \n",
    "\n",
    " not True is False, not False is True"
   ]
  },
  {
   "cell_type": "markdown",
   "id": "b1bcbfc9",
   "metadata": {},
   "source": [
    "#### 4. What are the values of the following expressions?\n",
    "\n",
    "- (5 > 4) and (3 == 5)\n",
    "- not (5 > 4)\n",
    "- (5 > 4) or (3 == 5)\n",
    "- not ((5 > 4) or (3 == 5))\n",
    "- (True and True) and (True == False)\n",
    "- (not False) or (not True)"
   ]
  },
  {
   "cell_type": "markdown",
   "id": "b5dff522",
   "metadata": {},
   "source": [
    "**Ans:**\n",
    "\n",
    "`(5 > 4) and (3 == 5)` returns **False**\n",
    "\n",
    "`not (5 > 4)` returns **False**\n",
    "\n",
    "`(5 > 4) or (3 == 5)` returns **True**\n",
    "\n",
    "`not(5 > 4) or (3 == 5)` returns **False**\n",
    "\n",
    "`(True and True) and (True == False)` returns **False**\n",
    "\n",
    "`(not False) or (not True)` returns **True**"
   ]
  },
  {
   "cell_type": "code",
   "execution_count": 3,
   "id": "89995d40",
   "metadata": {},
   "outputs": [
    {
     "name": "stdout",
     "output_type": "stream",
     "text": [
      "False\n",
      "False\n",
      "True\n",
      "False\n",
      "False\n",
      "True\n"
     ]
    }
   ],
   "source": [
    "print((5 > 4) and (3 == 5))\n",
    "print(not (5 > 4))\n",
    "print((5 > 4) or (3 == 5))\n",
    "print(not(5 > 4) or (3 == 5))\n",
    "print((True and True) and (True == False))\n",
    "print((not False) or (not True))"
   ]
  },
  {
   "cell_type": "markdown",
   "id": "672a91bb",
   "metadata": {},
   "source": [
    "#### 5. What are the six comparison operators?"
   ]
  },
  {
   "cell_type": "markdown",
   "id": "f0f793f3",
   "metadata": {},
   "source": [
    "**Ans:** \n",
    "\n",
    "The Six comparision operators available in python are:\n",
    "\n",
    "`==` stands for equals to \n",
    "\n",
    "`!=` stands for not equals to  \n",
    "\n",
    "`<` stands for less than \n",
    "\n",
    "`>` stands for greater than \n",
    "\n",
    "`<=` stands for less than or equal to \n",
    "\n",
    "`=>` stands for greater than or equal to"
   ]
  },
  {
   "cell_type": "markdown",
   "id": "fe2f6c55",
   "metadata": {},
   "source": [
    "#### 6. How do you tell the difference between the equal to and assignment operators?Describe a condition and when you would use one."
   ]
  },
  {
   "cell_type": "markdown",
   "id": "f364753c",
   "metadata": {},
   "source": [
    "**Ans:**\n",
    "\n",
    "`==` is the equal to operator that compares two values and evaluates the result as a Boolean, while `=` is the assignment operator that stores a value in a variable."
   ]
  },
  {
   "cell_type": "code",
   "execution_count": 5,
   "id": "d7f86680",
   "metadata": {},
   "outputs": [
    {
     "name": "stdout",
     "output_type": "stream",
     "text": [
      "True\n"
     ]
    }
   ],
   "source": [
    "x = 5                                       # Assigning operator that stores 3 value in a variable 'x'\n",
    "\n",
    "\n",
    "if x == 5:                                  # Comparing values of the varible value of 'x' and 5\n",
    "    print(x==5)                             # Printing the result in Boolean value"
   ]
  },
  {
   "cell_type": "markdown",
   "id": "419ea291",
   "metadata": {},
   "source": [
    "#### 7. Identify the three blocks in this code:\n",
    "\n",
    "\n",
    "spam = 0\n",
    "\n",
    "if spam == 10:\n",
    "\n",
    "print('eggs')\n",
    "\n",
    "if spam > 5:\n",
    "\n",
    "print('bacon')\n",
    "\n",
    "else:\n",
    "\n",
    "print('ham')\n",
    "\n",
    "print('spam')\n",
    "\n",
    "print('spam')"
   ]
  },
  {
   "cell_type": "markdown",
   "id": "65522948",
   "metadata": {},
   "source": [
    "**Ans:** \n",
    "\n",
    "In Python, code block refers to the collection of code that is in the same block or have same indentation.\n",
    "\n",
    "Here, \n",
    "\n",
    "The 1st block starts from `if spam == 10` and ends where it print **'eggs'**.\n",
    "\n",
    "The 2nd block starts from `if spam > 5` and ends where it print **'ham'**.\n",
    "\n",
    "The 3rd block is for the rest 2 print function."
   ]
  },
  {
   "cell_type": "markdown",
   "id": "6b1708a7",
   "metadata": {},
   "source": [
    "#### 8. Write code that prints Hello if 1 is stored in spam, prints Howdy if 2 is stored in spam, and prints Greetings! if anything else is stored in spam."
   ]
  },
  {
   "cell_type": "code",
   "execution_count": 7,
   "id": "b448eaf6",
   "metadata": {},
   "outputs": [
    {
     "name": "stdout",
     "output_type": "stream",
     "text": [
      "Hello\n",
      "Howdy\n",
      "Greetings\n"
     ]
    }
   ],
   "source": [
    "def spam_Code(spam):\n",
    "    if spam == 1:\n",
    "        print('Hello')\n",
    "    elif spam == 2:\n",
    "        print('Howdy')\n",
    "    else:\n",
    "        print('Greetings')\n",
    "        \n",
    "spam_Code(1) \n",
    "spam_Code(2)\n",
    "spam_Code(3)"
   ]
  },
  {
   "cell_type": "markdown",
   "id": "d31ac022",
   "metadata": {},
   "source": [
    "#### 9.If your programme is stuck in an endless loop, what keys you’ll press?"
   ]
  },
  {
   "cell_type": "markdown",
   "id": "7f49bc5f",
   "metadata": {},
   "source": [
    "**Ans:**\n",
    "\n",
    "Press `Ctrl + C` to stop a program stuck in an infinite loop."
   ]
  },
  {
   "cell_type": "markdown",
   "id": "056a7b63",
   "metadata": {},
   "source": [
    "#### 10. How can you tell the difference between break and continue?"
   ]
  },
  {
   "cell_type": "markdown",
   "id": "c950fb34",
   "metadata": {},
   "source": [
    "**Ans:** \n",
    "\n",
    "The `break` statement will move the pointer outside the loop if `break` condtion is satisfied. Whereas the `continue` statement will move the pointer to the start of the loop."
   ]
  },
  {
   "cell_type": "markdown",
   "id": "704cdbd8",
   "metadata": {},
   "source": [
    "#### 11. In a for loop, what is the difference between range(10), range(0, 10), and range(0, 10, 1)?"
   ]
  },
  {
   "cell_type": "markdown",
   "id": "ca580a4d",
   "metadata": {},
   "source": [
    "**Ans:** \n",
    "\n",
    "The Differences are as follows:\n",
    "\n",
    "The **range(10)** calls range from 0 to 9 but it will not include 10.\n",
    "\n",
    "The **range (0,10)** explicitly tells the loop to start at 0 and ends at 10 excluding 10.\n",
    "\n",
    "The **range(0,10,1)** explicitly tells the loop to increase the variable by 1 on each iteration starting from 0 upto 9."
   ]
  },
  {
   "cell_type": "markdown",
   "id": "448e06c7",
   "metadata": {},
   "source": [
    "#### 12. Write a short program that prints the numbers 1 to 10 using a for loop. Then write an equivalent program that prints the numbers 1 to 10 using a while loop."
   ]
  },
  {
   "cell_type": "code",
   "execution_count": 11,
   "id": "b5bdaee5",
   "metadata": {},
   "outputs": [
    {
     "name": "stdout",
     "output_type": "stream",
     "text": [
      "Using For Loop\n",
      "0\n",
      "1\n",
      "2\n",
      "3\n",
      "4\n",
      "5\n",
      "6\n",
      "7\n",
      "8\n",
      "9\n",
      "10\n",
      "\n",
      "\n",
      "Using While Loop\n",
      "1\n",
      "2\n",
      "3\n",
      "4\n",
      "5\n",
      "6\n",
      "7\n",
      "8\n",
      "9\n",
      "10\n"
     ]
    }
   ],
   "source": [
    "print('Using For Loop')\n",
    "for i in range(11):\n",
    "    print(i)\n",
    "    \n",
    "print('\\n')\n",
    "\n",
    "\n",
    "print('Using While Loop') \n",
    "i=1\n",
    "while i<=10:\n",
    "    print(i)\n",
    "    i+=1"
   ]
  },
  {
   "cell_type": "markdown",
   "id": "761e115f",
   "metadata": {},
   "source": [
    "#### 13. If you had a function named bacon() inside a module named spam, how would you call it after importing spam?"
   ]
  },
  {
   "cell_type": "markdown",
   "id": "872e1605",
   "metadata": {},
   "source": [
    "**Ans:**\n",
    "\n",
    "The function can be called as :  `spam.bacon()`."
   ]
  },
  {
   "cell_type": "code",
   "execution_count": null,
   "id": "c0adb240",
   "metadata": {},
   "outputs": [],
   "source": []
  }
 ],
 "metadata": {
  "kernelspec": {
   "display_name": "Python 3 (ipykernel)",
   "language": "python",
   "name": "python3"
  },
  "language_info": {
   "codemirror_mode": {
    "name": "ipython",
    "version": 3
   },
   "file_extension": ".py",
   "mimetype": "text/x-python",
   "name": "python",
   "nbconvert_exporter": "python",
   "pygments_lexer": "ipython3",
   "version": "3.9.7"
  }
 },
 "nbformat": 4,
 "nbformat_minor": 5
}
