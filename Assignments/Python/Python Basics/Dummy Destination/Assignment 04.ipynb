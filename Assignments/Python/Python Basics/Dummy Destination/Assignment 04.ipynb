{
 "cells": [
  {
   "cell_type": "raw",
   "id": "d4a463e5",
   "metadata": {},
   "source": [
    "1. What exactly is []?\n",
    "2. In a list of values stored in a variable called spam, how would you assign the value 'hello' as the third value? (Assume [2, 4, 6, 8, 10] are in spam.)\n",
    "Let's pretend the spam includes the list ['a', 'b', 'c', 'd'] for the next three queries.\n",
    "3. What is the value of spam[int(int('3' * 2) / 11)]?\n",
    "4. What is the value of spam[-1]?\n",
    "5. What is the value of spam[:2]?\n",
    "Let's pretend bacon has the list [3.14, 'cat,' 11, 'cat,' True] for the next three questions.\n",
    "6. What is the value of bacon.index('cat')?\n",
    "7. How does bacon.append(99) change the look of the list value in bacon?\n",
    "8. How does bacon.remove('cat') change the look of the list in bacon?\n",
    "9. What are the list concatenation and list replication operators?\n",
    "10. What is difference between the list methods append() and insert()?\n",
    "11. What are the two methods for removing items from a list?\n",
    "12. Describe how list values and string values are identical.\n",
    "13. What's the difference between tuples and lists?\n",
    "14. How do you type a tuple value that only contains the integer 42?\n",
    "15. How do you get a list value's tuple form? How do you get a tuple value's list form?\n",
    "16. Variables that \"contain\" list values are not necessarily lists themselves. Instead, what do they contain?\n",
    "17. How do you distinguish between copy.copy() and copy.deepcopy()?\n",
    "\n"
   ]
  },
  {
   "cell_type": "markdown",
   "id": "cc3d6e1f",
   "metadata": {},
   "source": [
    "#### 1. What exactly is [ ]?"
   ]
  },
  {
   "cell_type": "markdown",
   "id": "a2bfa4c2",
   "metadata": {},
   "source": [
    "**Ans:**\n",
    "\n",
    "The `[]` represents an empty list that contains no values, it is similar to `''` which represents an empty string."
   ]
  },
  {
   "cell_type": "markdown",
   "id": "ea11754e",
   "metadata": {},
   "source": [
    "#### 2. In a list of values stored in a variable called spam, how would you assign the value 'hello' as the third value? (Assume [2, 4, 6, 8, 10] are in spam.)"
   ]
  },
  {
   "cell_type": "markdown",
   "id": "a3ed1bdb",
   "metadata": {},
   "source": [
    "**Ans:**\n",
    "\n",
    "We can assign the value `'hello'` as the third value in the list spam either by using assignment operator i.e. `=` or by using the `.insert()` method. But in `.insert()` method the number of elements in the list will increase by number of elements inserted in the list."
   ]
  },
  {
   "cell_type": "code",
   "execution_count": 1,
   "id": "770d1f14",
   "metadata": {},
   "outputs": [
    {
     "name": "stdout",
     "output_type": "stream",
     "text": [
      "[2, 4, 6, 8, 10]\n",
      "[2, 4, 'hello', 8, 10]\n"
     ]
    }
   ],
   "source": [
    "# Using Assignment operator:\n",
    "\n",
    "spam=[2,4,6,8,10]\n",
    "print(spam)\n",
    "spam[2]='hello' \n",
    "print(spam)"
   ]
  },
  {
   "cell_type": "code",
   "execution_count": 2,
   "id": "d7b9e4a1",
   "metadata": {},
   "outputs": [
    {
     "name": "stdout",
     "output_type": "stream",
     "text": [
      "[2, 4, 6, 8, 10]\n",
      "[2, 4, 'hello', 6, 8, 10]\n"
     ]
    }
   ],
   "source": [
    "# Using .insert() method\n",
    "\n",
    "spam=[2,4,6,8,10]\n",
    "print(spam)\n",
    "spam.insert(2, 'hello') \n",
    "print(spam)       # Here the totsl number of elements in spam will increase by 1."
   ]
  },
  {
   "cell_type": "markdown",
   "id": "818887bb",
   "metadata": {},
   "source": [
    "### Let's pretend the spam includes the list ['a', 'b', 'c', 'd'] for the next three queries."
   ]
  },
  {
   "cell_type": "markdown",
   "id": "0fa85fc7",
   "metadata": {},
   "source": [
    "#### 3. What is the value of spam[int(int('3' * 2) / 11)]?"
   ]
  },
  {
   "cell_type": "markdown",
   "id": "5d3c108c",
   "metadata": {},
   "source": [
    "**Ans:**\n",
    "\n",
    "It will be `'d'`. \n",
    "\n",
    "(Note: that '3' * 2 is the string '33', which is passed to int() before being divided by 11. This eventually evaluates to 3, and in spam index 3 is equal to d.)"
   ]
  },
  {
   "cell_type": "code",
   "execution_count": 3,
   "id": "dfc3ad7e",
   "metadata": {},
   "outputs": [
    {
     "name": "stdout",
     "output_type": "stream",
     "text": [
      "Result is ->  d\n"
     ]
    }
   ],
   "source": [
    "spam=['a','b','c','d']\n",
    "\n",
    "ans = spam[int(int('3'*2)//11)]\n",
    "\n",
    "print(\"Result is -> \",ans)"
   ]
  },
  {
   "cell_type": "markdown",
   "id": "320d5eec",
   "metadata": {},
   "source": [
    "#### 4. What is the value of spam[-1]?"
   ]
  },
  {
   "cell_type": "markdown",
   "id": "df0834fd",
   "metadata": {},
   "source": [
    "**Ans:**\n",
    "\n",
    "It is again `'d'`. As it is the last element in the list, list supports Negative indexing i.e. in case of reverse order as in this case it is the 1st element i.e. `-1th` element."
   ]
  },
  {
   "cell_type": "code",
   "execution_count": 4,
   "id": "631498e9",
   "metadata": {},
   "outputs": [
    {
     "name": "stdout",
     "output_type": "stream",
     "text": [
      "d\n"
     ]
    }
   ],
   "source": [
    "spam=['a','b','c','d']\n",
    "\n",
    "print(spam[-1])"
   ]
  },
  {
   "cell_type": "markdown",
   "id": "d8c65330",
   "metadata": {},
   "source": [
    "#### 5. What is the value of spam[:2]?"
   ]
  },
  {
   "cell_type": "markdown",
   "id": "211ebaf0",
   "metadata": {},
   "source": [
    "**Ans:**\n",
    "\n",
    "Here it will be `['a','b']`. Because in list indexing starts from 0 so the 1st element is at the `0th` index and here we are slicing the list upto `2nd` index so it will return a list containing the `0th` and `1st` index elements as in slicing the upper limit is excluded."
   ]
  },
  {
   "cell_type": "code",
   "execution_count": 5,
   "id": "d0551f1f",
   "metadata": {},
   "outputs": [
    {
     "name": "stdout",
     "output_type": "stream",
     "text": [
      "['a', 'b']\n"
     ]
    }
   ],
   "source": [
    "spam=['a','b','c','d']\n",
    "\n",
    "print(spam[:2])"
   ]
  },
  {
   "cell_type": "markdown",
   "id": "4deb711a",
   "metadata": {},
   "source": [
    "### Let's pretend bacon has the list [3.14, 'cat,' 11, 'cat,' True] for the next three questions."
   ]
  },
  {
   "cell_type": "markdown",
   "id": "1b9ad4ce",
   "metadata": {},
   "source": [
    "#### 6. What is the value of bacon.index('cat')?"
   ]
  },
  {
   "cell_type": "markdown",
   "id": "e1e77a41",
   "metadata": {},
   "source": [
    "**Ans:**\n",
    "\n",
    "The value of `bacon.index('cat')` is 1. (Note: index method returns the index of first occuerence of 'cat')"
   ]
  },
  {
   "cell_type": "code",
   "execution_count": 6,
   "id": "b780ccd9",
   "metadata": {},
   "outputs": [
    {
     "name": "stdout",
     "output_type": "stream",
     "text": [
      "Result is -> 1\n"
     ]
    }
   ],
   "source": [
    "bacon=[3.14,'cat',11,'cat',True]\n",
    "print(\"Result is ->\",bacon.index('cat'))"
   ]
  },
  {
   "cell_type": "markdown",
   "id": "4ca0400e",
   "metadata": {},
   "source": [
    "#### 7. How does bacon.append(99) change the look of the list value in bacon?"
   ]
  },
  {
   "cell_type": "markdown",
   "id": "8e9f362f",
   "metadata": {},
   "source": [
    "**Ans:**\n",
    "\n",
    "The `.append()` method adds new element at the end of the list, so the number of elements in the list get increased by the number of elements appended to the list."
   ]
  },
  {
   "cell_type": "code",
   "execution_count": 7,
   "id": "89f8f2fd",
   "metadata": {},
   "outputs": [
    {
     "name": "stdout",
     "output_type": "stream",
     "text": [
      "[3.14, 'cat', 11, 'cat', True]\n",
      "[3.14, 'cat', 11, 'cat', True, 99]\n"
     ]
    }
   ],
   "source": [
    "print(bacon)     # Original list\n",
    "bacon.append(99) \n",
    "print(bacon)     # appends 99 at the end of the list"
   ]
  },
  {
   "cell_type": "markdown",
   "id": "c9619d2d",
   "metadata": {},
   "source": [
    "#### 8. How does bacon.remove('cat') change the look of the list in bacon?"
   ]
  },
  {
   "cell_type": "markdown",
   "id": "16f999f8",
   "metadata": {},
   "source": [
    "**Ans:**\n",
    "\n",
    "The `.remove()` method removes the first occurence of the element in the list."
   ]
  },
  {
   "cell_type": "code",
   "execution_count": 8,
   "id": "e3d1f9dd",
   "metadata": {},
   "outputs": [
    {
     "name": "stdout",
     "output_type": "stream",
     "text": [
      "[3.14, 'cat', 11, 'cat', True, 99]\n",
      "[3.14, 11, 'cat', True, 99]\n"
     ]
    }
   ],
   "source": [
    "print(bacon)\n",
    "bacon.remove('cat')\n",
    "print(bacon)"
   ]
  },
  {
   "cell_type": "markdown",
   "id": "1483417b",
   "metadata": {},
   "source": [
    "#### 9. What are the list concatenation and list replication operators?"
   ]
  },
  {
   "cell_type": "markdown",
   "id": "154909a9",
   "metadata": {},
   "source": [
    "**Ans:**\n",
    "\n",
    "The operator for list concatenation is `+`, while the operator for list replication is `*`. "
   ]
  },
  {
   "cell_type": "code",
   "execution_count": 9,
   "id": "b4db9da9",
   "metadata": {},
   "outputs": [
    {
     "name": "stdout",
     "output_type": "stream",
     "text": [
      "['ML', 'DL', 'AI', 'CV', 'NLP', 'RNN', 'CNN', 'SVN']\n",
      "['RNN', 'CNN', 'SVN', 'RNN', 'CNN', 'SVN']\n"
     ]
    }
   ],
   "source": [
    "list_1 = ['ML','DL','AI','CV','NLP']\n",
    "list_2 = ['RNN','CNN','SVN']\n",
    "\n",
    "\n",
    "print(list_1 + list_2) # List Concatenation\n",
    "print(list_2 * 2) # List Replication"
   ]
  },
  {
   "cell_type": "markdown",
   "id": "70a90699",
   "metadata": {},
   "source": [
    "#### 10. What is difference between the list methods append() and insert()?"
   ]
  },
  {
   "cell_type": "markdown",
   "id": "de896c24",
   "metadata": {},
   "source": [
    "**Ans:**\n",
    "\n",
    "While `append()` will add values only to the end of a list, `insert()` can add values to anywhere(any index) of the list."
   ]
  },
  {
   "cell_type": "code",
   "execution_count": 10,
   "id": "b5eccef4",
   "metadata": {},
   "outputs": [
    {
     "name": "stdout",
     "output_type": "stream",
     "text": [
      "[1, 2, 3, 4, 5]\n",
      "[1, 2, 3, 4, 5, 6]\n",
      "[1, 2, 'Demo', 3, 4, 5, 6]\n"
     ]
    }
   ],
   "source": [
    "lst = [1,2,3,4,5]\n",
    "print(lst)              # Original list\n",
    "lst.append(6)\n",
    "print(lst)              # The new element 6 will add to the list at the end\n",
    "lst.insert(2,'Demo')\n",
    "print(lst)              # The element 'Demo' will be added as the 3rd element(2nd index) of the list"
   ]
  },
  {
   "cell_type": "markdown",
   "id": "4506ef23",
   "metadata": {},
   "source": [
    "#### 11. What are the two methods for removing items from a list?"
   ]
  },
  {
   "cell_type": "markdown",
   "id": "225f12c4",
   "metadata": {},
   "source": [
    "**Ans:**\n",
    "\n",
    "The `clear()` and the `remove()` method are two ways to remove values from a list.  While `remove()` can remove any specific element from the list, the `clear()` can remove all the elements from the list and make it an empty list. \n",
    "\n",
    "There is another `del` statement to remove the list itself."
   ]
  },
  {
   "cell_type": "markdown",
   "id": "732dd7a0",
   "metadata": {},
   "source": [
    "#### 12. Describe how list values and string values are identical."
   ]
  },
  {
   "cell_type": "markdown",
   "id": "c2657c8f",
   "metadata": {},
   "source": [
    "**Ans:**\n",
    "\n",
    "Both lists and strings can be passed to `len()` function as both are iterable, both have indexes and can ve sliced, can be used in for loops, can be concatenated or replicated, and can be used with the in and not in operators."
   ]
  },
  {
   "cell_type": "markdown",
   "id": "ea635b1d",
   "metadata": {},
   "source": [
    "#### 13. What's the difference between tuples and lists?"
   ]
  },
  {
   "cell_type": "markdown",
   "id": "6ffc6c0f",
   "metadata": {},
   "source": [
    "**Ans:**\n",
    "\n",
    "Lists are `Mutable, Indexable` and `Slicable`. they can have values added, removed, or changed. Tuples are `Immutable` but `Indexable` and `Slicable`. the tuple values cannot be changed at all. Also, tuples are represented by using Parentheses: `()`, while lists get represented by Square brackets: `[]`."
   ]
  },
  {
   "cell_type": "markdown",
   "id": "6f0004b9",
   "metadata": {},
   "source": [
    "#### 14. How do you type a tuple value that only contains the integer 42?"
   ]
  },
  {
   "cell_type": "markdown",
   "id": "95c81798",
   "metadata": {},
   "source": [
    "**Ans:**\n",
    "\n",
    "(42,) (The trailing comma is mandatory. otherwise its considered as an int by python Interpreter)"
   ]
  },
  {
   "cell_type": "code",
   "execution_count": 11,
   "id": "c288f9b7",
   "metadata": {},
   "outputs": [
    {
     "name": "stdout",
     "output_type": "stream",
     "text": [
      "<class 'int'>\n",
      "<class 'tuple'>\n"
     ]
    }
   ],
   "source": [
    "tup1=(42)\n",
    "tup2=(42,)\n",
    "print(type(tup1))\n",
    "print(type(tup2))"
   ]
  },
  {
   "cell_type": "markdown",
   "id": "950ae11d",
   "metadata": {},
   "source": [
    "#### 15. How do you get a list value's tuple form? How do you get a tuple value's list form?"
   ]
  },
  {
   "cell_type": "markdown",
   "id": "f013c8c6",
   "metadata": {},
   "source": [
    "**Ans:**\n",
    "\n",
    "The `tuple()` and `list()` functions respectively are used to convert a list to tuple and vice versa."
   ]
  },
  {
   "cell_type": "code",
   "execution_count": 14,
   "id": "c6b0cf41",
   "metadata": {},
   "outputs": [
    {
     "name": "stdout",
     "output_type": "stream",
     "text": [
      "[1, 2, 3, 4, 5, 6, 67, 78] <class 'list'>\n",
      "(1, 2, 3, 4, 5, 6, 67, 78) <class 'tuple'>\n",
      "[1, 2, 3, 4, 5, 6, 67, 78] <class 'list'>\n"
     ]
    }
   ],
   "source": [
    "l = [1,2,3,4,5,6,67,78]\n",
    "print(l, type(l))\n",
    "\n",
    "t = tuple(l)            # Converting list to a tuple\n",
    "print(t, type(t))\n",
    "\n",
    "l1 = list(t)            # Converting tuple to a list\n",
    "print(l1, type(l1))"
   ]
  },
  {
   "cell_type": "markdown",
   "id": "7dac641e",
   "metadata": {},
   "source": [
    "#### 16. Variables that \"contain\" list values are not necessarily lists themselves. Instead, what do they contain?"
   ]
  },
  {
   "cell_type": "markdown",
   "id": "0e9a40f6",
   "metadata": {},
   "source": [
    "**Ans:**\n",
    "\n",
    "They contain reference to the list values."
   ]
  },
  {
   "cell_type": "markdown",
   "id": "10e460e4",
   "metadata": {},
   "source": [
    "#### 17. How do you distinguish between copy.copy() and copy.deepcopy()?"
   ]
  },
  {
   "cell_type": "markdown",
   "id": "dc293606",
   "metadata": {},
   "source": [
    "**Ans:**\n",
    "\n",
    "The `copy.copy()` function will do a shallow copy of a list, while the `copy.deepcopy()` function will do a deep copy of a list. That is, only `copy.deepcopy()` will duplicate any lists inside the list."
   ]
  },
  {
   "cell_type": "code",
   "execution_count": null,
   "id": "0def1f8a",
   "metadata": {},
   "outputs": [],
   "source": []
  }
 ],
 "metadata": {
  "kernelspec": {
   "display_name": "Python 3 (ipykernel)",
   "language": "python",
   "name": "python3"
  },
  "language_info": {
   "codemirror_mode": {
    "name": "ipython",
    "version": 3
   },
   "file_extension": ".py",
   "mimetype": "text/x-python",
   "name": "python",
   "nbconvert_exporter": "python",
   "pygments_lexer": "ipython3",
   "version": "3.9.7"
  }
 },
 "nbformat": 4,
 "nbformat_minor": 5
}
