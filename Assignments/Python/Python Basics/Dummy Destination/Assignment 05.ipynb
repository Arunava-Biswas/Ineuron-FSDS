{
 "cells": [
  {
   "cell_type": "raw",
   "id": "342edf4f",
   "metadata": {},
   "source": [
    "1. What does an empty dictionary's code look like?\n",
    "2. What is the value of a dictionary value with the key 'foo' and the value 42?\n",
    "3. What is the most significant distinction between a dictionary and a list?\n",
    "4. What happens if you try to access spam['foo'] if spam is {'bar': 100}?\n",
    "5. If a dictionary is stored in spam, what is the difference between the expressions 'cat' in spam and 'cat' in spam.keys()?\n",
    "6. If a dictionary is stored in spam, what is the difference between the expressions 'cat' in spam and 'cat' in spam.values()?\n",
    "7. What is a shortcut for the following code?\n",
    "if 'color' not in spam:\n",
    "spam['color'] = 'black'\n",
    "\n",
    "8. How do you \"pretty print\" dictionary values using which module and function?\n"
   ]
  },
  {
   "cell_type": "markdown",
   "id": "d671607b",
   "metadata": {},
   "source": [
    "#### 1. What does an empty dictionary's code look like?"
   ]
  },
  {
   "cell_type": "markdown",
   "id": "a960f8d8",
   "metadata": {},
   "source": [
    "**Ans:**\n",
    "\n",
    "An empty dictionary is often represented by two empty curly brackets or by the `dict()`.\n",
    "\n",
    "`d = {}` or `d = dict()`"
   ]
  },
  {
   "cell_type": "markdown",
   "id": "b80a9f35",
   "metadata": {},
   "source": [
    "#### 2. What is the value of a dictionary value with the key 'foo' and the value 42?"
   ]
  },
  {
   "cell_type": "markdown",
   "id": "068ad85d",
   "metadata": {},
   "source": [
    "**Ans:**\n",
    "\n",
    "The value of the dictionary will be:\n",
    "\n",
    "`{'foo' : 42}`"
   ]
  },
  {
   "cell_type": "markdown",
   "id": "481a825f",
   "metadata": {},
   "source": [
    "#### 3. What is the most significant distinction between a dictionary and a list?"
   ]
  },
  {
   "cell_type": "markdown",
   "id": "fa4021a8",
   "metadata": {},
   "source": [
    "**Ans:**\n",
    "\n",
    "- A dictionary ais represented by `{}` where as a list is represented by `[ ]`.\n",
    "- Also the items in list are unordered whereas in dictionary they are ordered. \n",
    "- The items in dictionary are in key:value pair whereas there is no such thing in dictionary. \n",
    "- In list each item has an index but in dictionary there is no index."
   ]
  },
  {
   "cell_type": "markdown",
   "id": "4ff0b916",
   "metadata": {},
   "source": [
    "#### 4. What happens if you try to access spam['foo'] if spam is {'bar': 100}?"
   ]
  },
  {
   "cell_type": "markdown",
   "id": "a5c651b9",
   "metadata": {},
   "source": [
    "**Ans:**\n",
    "\n",
    "It will throw a keyError `KeyError: 'foo'`."
   ]
  },
  {
   "cell_type": "markdown",
   "id": "7d0cf64e",
   "metadata": {},
   "source": [
    "#### 5. If a dictionary is stored in spam, what is the difference between the expressions 'cat' in spam and 'cat' in spam.keys()?"
   ]
  },
  {
   "cell_type": "markdown",
   "id": "ea2c15be",
   "metadata": {},
   "source": [
    "**Ans:** \n",
    "\n",
    "There is no difference . The operator only checks whether a value exists as a key in the dictionary or not."
   ]
  },
  {
   "cell_type": "markdown",
   "id": "90a36f5a",
   "metadata": {},
   "source": [
    "#### 6. If a dictionary is stored in spam, what is the difference between the expressions 'cat' in spam and 'cat' in spam.values()?"
   ]
  },
  {
   "cell_type": "markdown",
   "id": "7ac5742f",
   "metadata": {},
   "source": [
    "**Ans:**\n",
    "\n",
    "'cat' in spam checks whether there is a 'cat' key in the dictionary, while 'cat' in spam.values() checks whether there is a value 'cat' for one of the keys in spam."
   ]
  },
  {
   "cell_type": "markdown",
   "id": "3020b392",
   "metadata": {},
   "source": [
    "#### 7. What is a shortcut for the following code?\n",
    "`if 'color' not in spam :`\n",
    "\n",
    "   `spam['color'] = 'black'`"
   ]
  },
  {
   "cell_type": "markdown",
   "id": "30c37e8a",
   "metadata": {},
   "source": [
    "**Ans:**\n",
    "\n",
    "Shortcut is using `setdefault()` like:\n",
    "\n",
    "`spam.setdefault('color','black')`"
   ]
  },
  {
   "cell_type": "markdown",
   "id": "7ccb8adf",
   "metadata": {},
   "source": [
    "#### 8. How do you \"pretty print\" dictionary values using which module and function?"
   ]
  },
  {
   "cell_type": "markdown",
   "id": "d10e7972",
   "metadata": {},
   "source": [
    "**Ans:**\n",
    "\n",
    "we can pretty print a dictionary using three functions\n",
    "\n",
    "- By using `pprint()` function of `pprint` module.\n",
    "\n",
    "(Note: pprint() function doesnot prettify nested dictionaries)\n",
    "- By using `dumps()` method of json module\n",
    "- By using `dumps()` method of yaml module"
   ]
  },
  {
   "cell_type": "code",
   "execution_count": 13,
   "id": "bd1407d0",
   "metadata": {},
   "outputs": [
    {
     "name": "stdout",
     "output_type": "stream",
     "text": [
      "Printing using print() function\n",
      " [{'Name': 'John', 'Age': '23', 'Residence': {'Country': 'USA', 'City': 'Chicago'}}, {'Name': 'Joe', 'Age': '44', 'Residence': {'Country': 'France', 'City': 'Paris'}}, {'Name': 'Jenny', 'Age': '29', 'Residence': {'Country': 'UK', 'City': 'London'}}, {'Name': 'Julia', 'Age': '35', 'Residence': {'Country': 'South Korea', 'City': 'Seoul'}}]\n",
      "----------------------------------------------------------------------------------------------------\n",
      "Printing using pprint() funciton\n",
      "[{'Age': '23',\n",
      "  'Name': 'John',\n",
      "  'Residence': {'City': 'Chicago', 'Country': 'USA'}},\n",
      " {'Age': '44',\n",
      "  'Name': 'Joe',\n",
      "  'Residence': {'City': 'Paris', 'Country': 'France'}},\n",
      " {'Age': '29',\n",
      "  'Name': 'Jenny',\n",
      "  'Residence': {'City': 'London', 'Country': 'UK'}},\n",
      " {'Age': '35',\n",
      "  'Name': 'Julia',\n",
      "  'Residence': {'City': 'Seoul', 'Country': 'South Korea'}}]\n",
      "----------------------------------------------------------------------------------------------------\n",
      "Printing using dumps() method of json module\n",
      " [\n",
      "    {\n",
      "        \"Name\": \"John\",\n",
      "        \"Age\": \"23\",\n",
      "        \"Residence\": {\n",
      "            \"Country\": \"USA\",\n",
      "            \"City\": \"Chicago\"\n",
      "        }\n",
      "    },\n",
      "    {\n",
      "        \"Name\": \"Joe\",\n",
      "        \"Age\": \"44\",\n",
      "        \"Residence\": {\n",
      "            \"Country\": \"France\",\n",
      "            \"City\": \"Paris\"\n",
      "        }\n",
      "    },\n",
      "    {\n",
      "        \"Name\": \"Jenny\",\n",
      "        \"Age\": \"29\",\n",
      "        \"Residence\": {\n",
      "            \"Country\": \"UK\",\n",
      "            \"City\": \"London\"\n",
      "        }\n",
      "    },\n",
      "    {\n",
      "        \"Name\": \"Julia\",\n",
      "        \"Age\": \"35\",\n",
      "        \"Residence\": {\n",
      "            \"Country\": \"South Korea\",\n",
      "            \"City\": \"Seoul\"\n",
      "        }\n",
      "    }\n",
      "]\n",
      "----------------------------------------------------------------------------------------------------\n",
      "Printing using dump() method of yaml module\n",
      " - Age: '23'\n",
      "  Name: John\n",
      "  Residence:\n",
      "    City: Chicago\n",
      "    Country: USA\n",
      "- Age: '44'\n",
      "  Name: Joe\n",
      "  Residence:\n",
      "    City: Paris\n",
      "    Country: France\n",
      "- Age: '29'\n",
      "  Name: Jenny\n",
      "  Residence:\n",
      "    City: London\n",
      "    Country: UK\n",
      "- Age: '35'\n",
      "  Name: Julia\n",
      "  Residence:\n",
      "    City: Seoul\n",
      "    Country: South Korea\n",
      "\n"
     ]
    }
   ],
   "source": [
    "ndict = [\n",
    "  {'Name': 'John', 'Age': '23', 'Residence': {'Country':'USA', 'City': 'Chicago'}},\n",
    "  {'Name': 'Joe', 'Age': '44', 'Residence': {'Country':'France', 'City': 'Paris'}},\n",
    "  {'Name': 'Jenny', 'Age': '29', 'Residence': {'Country':'UK', 'City': 'London'}},\n",
    "  {'Name': 'Julia', 'Age': '35', 'Residence': {'Country':'South Korea', 'City': 'Seoul'}}\n",
    "]\n",
    "\n",
    "print('Printing using print() function\\n',ndict)\n",
    "print('-'*100)\n",
    "\n",
    "\n",
    "import pprint\n",
    "print('Printing using pprint() funciton')\n",
    "pprint.pprint(ndict)\n",
    "print('-'*100)\n",
    "\n",
    "\n",
    "import json\n",
    "dump = json.dumps(ndict, indent=4)\n",
    "print('Printing using dumps() method of json module\\n', dump)\n",
    "print('-'*100)\n",
    "\n",
    "\n",
    "import yaml\n",
    "dump = yaml.dump(ndict)\n",
    "print('Printing using dump() method of yaml module\\n', dump)\n"
   ]
  },
  {
   "cell_type": "code",
   "execution_count": null,
   "id": "1fb1795a",
   "metadata": {},
   "outputs": [],
   "source": []
  }
 ],
 "metadata": {
  "kernelspec": {
   "display_name": "Python 3 (ipykernel)",
   "language": "python",
   "name": "python3"
  },
  "language_info": {
   "codemirror_mode": {
    "name": "ipython",
    "version": 3
   },
   "file_extension": ".py",
   "mimetype": "text/x-python",
   "name": "python",
   "nbconvert_exporter": "python",
   "pygments_lexer": "ipython3",
   "version": "3.9.7"
  }
 },
 "nbformat": 4,
 "nbformat_minor": 5
}
