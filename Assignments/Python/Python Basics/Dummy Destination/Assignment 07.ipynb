{
 "cells": [
  {
   "cell_type": "raw",
   "id": "2664308b",
   "metadata": {},
   "source": [
    "1. What is the name of the feature responsible for generating Regex objects?\n",
    "2. Why do raw strings often appear in Regex objects?\n",
    "3. What is the return value of the search() method?\n",
    "4. From a Match item, how do you get the actual strings that match the pattern?\n",
    "5. In the regex which created from the r'(\\d\\d\\d)-(\\d\\d\\d-\\d\\d\\d\\d)', what does group zero cover? Group 2? Group 1?\n",
    "6. In standard expression syntax, parentheses and intervals have distinct meanings. How can you tell a regex that you want it to fit real parentheses and periods?\n",
    "7. The findall() method returns a string list or a list of string tuples. What causes it to return one of the two options?\n",
    "8. In standard expressions, what does the | character mean?\n",
    "9. In regular expressions, what does the character stand for?\n",
    "10.In regular expressions, what is the difference between the + and * characters?\n",
    "11. What is the difference between {4} and {4,5} in regular expression?\n",
    "12. What do you mean by the \\d, \\w, and \\s shorthand character classes signify in regular expressions?\n",
    "13. What do means by \\D, \\W, and \\S shorthand character classes signify in regular expressions?\n",
    "14. What is the difference between .* and .*?\n",
    "15. What is the syntax for matching both numbers and lowercase letters with a character class?\n",
    "16. What is the procedure for making a normal expression in regax case insensitive?\n",
    "17. What does the . character normally match? What does it match if re.DOTALL is passed as 2nd argument in re.compile()?\n",
    "18. If numReg = re.compile(r'\\d+'), what will numRegex.sub('X', '11 drummers, 10 pipers, five rings, 4 hen') return?\n",
    "19. What does passing re.VERBOSE as the 2nd argument to re.compile() allow to do?\n",
    "20. How would you write a regex that match a number with comma for every three digits? It must match the given following:\n",
    "'42'\n",
    "'1,234'\n",
    "'6,368,745'\n",
    "but not the following:\n",
    "'12,34,567' (which has only two digits between the commas)\n",
    "'1234' (which lacks commas)\n",
    "21. How would you write a regex that matches the full name of someone whose last name is Watanabe? You can assume that the first name that comes before it will always be one word that begins with a capital letter. The regex must match the following:\n",
    "'Haruto Watanabe'\n",
    "'Alice Watanabe'\n",
    "'RoboCop Watanabe'\n",
    "but not the following:\n",
    "'haruto Watanabe' (where the first name is not capitalized)\n",
    "'Mr. Watanabe' (where the preceding word has a nonletter character)\n",
    "'Watanabe' (which has no first name)\n",
    "'Haruto watanabe' (where Watanabe is not capitalized)\n",
    "22. How would you write a regex that matches a sentence where the first word is either Alice, Bob, or Carol; the second word is either eats, pets, or throws; the third word is apples, cats, or baseballs; and the sentence ends with a period? This regex should be case-insensitive. It must match the following:\n",
    "'Alice eats apples.'\n",
    "'Bob pets cats.'\n",
    "'Carol throws baseballs.'\n",
    "'Alice throws Apples.'\n",
    "'BOB EATS CATS.'\n",
    "but not the following:\n",
    "'RoboCop eats apples.'\n",
    "'ALICE THROWS FOOTBALLS.'\n",
    "'Carol eats 7 cats.'\n",
    "\n"
   ]
  },
  {
   "cell_type": "markdown",
   "id": "2715d9f1",
   "metadata": {},
   "source": [
    "#### 1. What is the name of the feature responsible for generating Regex objects?"
   ]
  },
  {
   "cell_type": "markdown",
   "id": "826accba",
   "metadata": {},
   "source": [
    "**Ans:**\n",
    "\n",
    "`re.compile()` is the feature responsible for generation of Regex objects."
   ]
  },
  {
   "cell_type": "code",
   "execution_count": 1,
   "id": "5ada0562",
   "metadata": {},
   "outputs": [
    {
     "name": "stdout",
     "output_type": "stream",
     "text": [
      "<class 're.Pattern'>\n"
     ]
    }
   ],
   "source": [
    "import re\n",
    "\n",
    "# Target String \n",
    "str1 = \"Emma's luck numbers are 251 761 231 451\"\n",
    "\n",
    "# pattern to find three consecutive digits\n",
    "string_pattern = r\"\\d{3}\"\n",
    "\n",
    "# compile string pattern to re.Pattern object\n",
    "regex_pattern = re.compile(string_pattern)\n",
    "\n",
    "# print the type of compiled pattern\n",
    "print(type(regex_pattern))"
   ]
  },
  {
   "cell_type": "markdown",
   "id": "401d3638",
   "metadata": {},
   "source": [
    "#### 2. Why do raw strings often appear in Regex objects?"
   ]
  },
  {
   "cell_type": "markdown",
   "id": "5e00fc0b",
   "metadata": {},
   "source": [
    "**Ans:**\n",
    "\n",
    "Regular expressions use the backslash character `('\\')` to indicate special forms **(Metacharacters)** or to allow special characters **(speical sequences)** to be used without invoking their special meaning. This collides with Python’s usage of the same character for the same purpose in string literals. Hence, Raw strings are used `(e.g. r\"\\n\")` so that backslashes do not have to be escaped."
   ]
  },
  {
   "cell_type": "markdown",
   "id": "2914d91b",
   "metadata": {},
   "source": [
    "#### 3. What is the return value of the search() method?"
   ]
  },
  {
   "cell_type": "markdown",
   "id": "86b82476",
   "metadata": {},
   "source": [
    "**Ans:**\n",
    "\n",
    "The return value of `search()` method is the matched object if the pattern is found in the string else it returns a `None`."
   ]
  },
  {
   "cell_type": "code",
   "execution_count": 2,
   "id": "8dd26ed1",
   "metadata": {},
   "outputs": [
    {
     "name": "stdout",
     "output_type": "stream",
     "text": [
      "Output: <re.Match object; span=(0, 1), match='I'>\n",
      "Output: None\n"
     ]
    }
   ],
   "source": [
    "import re\n",
    "\n",
    "match = re.search('i','Ineuron Full Stack Data Science Program', flags=re.IGNORECASE)\n",
    "print('Output:',match)\n",
    "\n",
    "match = re.search('X','Ineuron Full Stack Data Science Program', flags=re.IGNORECASE)\n",
    "print('Output:',match)"
   ]
  },
  {
   "cell_type": "markdown",
   "id": "3c0803a7",
   "metadata": {},
   "source": [
    "#### 4. From a Match item, how do you get the actual strings that match the pattern?"
   ]
  },
  {
   "cell_type": "markdown",
   "id": "d023addd",
   "metadata": {},
   "source": [
    "**Ans:**\n",
    "\n",
    "For Matched items `group()` method returns actual strings that match the pattern."
   ]
  },
  {
   "cell_type": "code",
   "execution_count": 3,
   "id": "37066036",
   "metadata": {},
   "outputs": [
    {
     "name": "stdout",
     "output_type": "stream",
     "text": [
      "Output: Ineuron\n"
     ]
    }
   ],
   "source": [
    "import re\n",
    "\n",
    "match = re.search('ineuron','Ineuron Full Stack Data Science Program', flags=re.IGNORECASE)\n",
    "print('Output:',match.group())"
   ]
  },
  {
   "cell_type": "markdown",
   "id": "f7c7b9a9",
   "metadata": {},
   "source": [
    "#### 5. In the regex which created from the r'(\\d\\d\\d)-(\\d\\d\\d-\\d\\d\\d\\d)', what does group zero cover? Group 2? Group 1?"
   ]
  },
  {
   "cell_type": "markdown",
   "id": "bfe966a7",
   "metadata": {},
   "source": [
    "**Ans:**\n",
    "\n",
    "In the Regex `r'(\\d\\d\\d)-(\\d\\d\\d-\\d\\d\\d\\d)'` the zero group covers the entire pattern match where as the first group cover `(\\d\\d\\d)` and the second group cover `(\\d\\d\\d-\\d\\d\\d\\d)`."
   ]
  },
  {
   "cell_type": "code",
   "execution_count": 7,
   "id": "ce90dec3",
   "metadata": {},
   "outputs": [
    {
     "name": "stdout",
     "output_type": "stream",
     "text": [
      "('535', '626-3434')\n",
      "535-626-3434\n",
      "535\n",
      "626-3434\n"
     ]
    }
   ],
   "source": [
    "import re\n",
    "\n",
    "phoneNumRegex = re.compile(r'(\\d\\d\\d)-(\\d\\d\\d-\\d\\d\\d\\d)')\n",
    "\n",
    "mo = phoneNumRegex.search('My number is 535-626-3434.')\n",
    "\n",
    "print(mo.groups()) # Prints all groups in a tuple format\n",
    "print(mo.group())  # Always returns the fully matched string \n",
    "print(mo.group(1)) # Returns the first group\n",
    "print(mo.group(2)) # Returns the second group"
   ]
  },
  {
   "cell_type": "markdown",
   "id": "84062db0",
   "metadata": {},
   "source": [
    "#### 6. In standard expression syntax, parentheses and intervals have distinct meanings. How can you tell a regex that you want it to fit real parentheses and periods?"
   ]
  },
  {
   "cell_type": "markdown",
   "id": "a4554f53",
   "metadata": {},
   "source": [
    "**Ans:** \n",
    "\n",
    "The `\\.`, `\\(` and `\\)` escape characters in the raw string passed to `re.compile()` will match actual parenthesis characters."
   ]
  },
  {
   "cell_type": "code",
   "execution_count": 9,
   "id": "861719b0",
   "metadata": {},
   "outputs": [
    {
     "name": "stdout",
     "output_type": "stream",
     "text": [
      "(535) 626-3434\n"
     ]
    }
   ],
   "source": [
    "import re\n",
    "\n",
    "phoneNumRegex = re.compile(r'(\\(\\d\\d\\d\\)) (\\d\\d\\d-\\d\\d\\d\\d)')\n",
    "mo = phoneNumRegex.search('My phone number is (535) 626-3434.')\n",
    "print(mo.group())"
   ]
  },
  {
   "cell_type": "markdown",
   "id": "22ee5057",
   "metadata": {},
   "source": [
    "#### 7. The findall() method returns a string list or a list of string tuples. What causes it to return one of the two options?"
   ]
  },
  {
   "cell_type": "markdown",
   "id": "e931c164",
   "metadata": {},
   "source": [
    "**Ans:** \n",
    "\n",
    "If the regex pattern has no groups, a list of strings matched is returned. if the regex pattern has groups, a list of tuple of strings is returned."
   ]
  },
  {
   "cell_type": "code",
   "execution_count": 12,
   "id": "4990fd22",
   "metadata": {},
   "outputs": [
    {
     "name": "stdout",
     "output_type": "stream",
     "text": [
      "[('(535)', '626-3434')]\n",
      "['535-626-3434']\n"
     ]
    }
   ],
   "source": [
    "import re\n",
    "phoneNumRegex = re.compile(r'(\\(\\d\\d\\d\\)) (\\d\\d\\d-\\d\\d\\d\\d)')\n",
    "mo = phoneNumRegex.findall('My phone number is (535) 626-3434.')\n",
    "print(mo)  # Prints all groups in a tuple format\n",
    "\n",
    "\n",
    "phoneNumRegex = re.compile(r'\\d{3}-\\d{3}-\\d{4}')\n",
    "mo = phoneNumRegex.findall('My number is 535-626-3434.')\n",
    "print(mo) "
   ]
  },
  {
   "cell_type": "markdown",
   "id": "37982691",
   "metadata": {},
   "source": [
    "#### 8. In standard expressions, what does the | character mean?"
   ]
  },
  {
   "cell_type": "markdown",
   "id": "116564eb",
   "metadata": {},
   "source": [
    "**Ans:** \n",
    "\n",
    "In Standard Expressions `|` means `OR` operator."
   ]
  },
  {
   "cell_type": "markdown",
   "id": "f476a299",
   "metadata": {},
   "source": [
    "#### 9. In regular expressions, what does the ? character stands for?"
   ]
  },
  {
   "cell_type": "markdown",
   "id": "491691cf",
   "metadata": {},
   "source": [
    "**Ans:** \n",
    "    \n",
    "In regular Expressions, `?` characters represents `zero` or one match of the preceeding group."
   ]
  },
  {
   "cell_type": "code",
   "execution_count": 13,
   "id": "fd8aa8c5",
   "metadata": {},
   "outputs": [
    {
     "name": "stdout",
     "output_type": "stream",
     "text": [
      "<re.Match object; span=(0, 6), match='Batman'>\n",
      "<re.Match object; span=(0, 8), match='Batwoman'>\n"
     ]
    }
   ],
   "source": [
    "import re\n",
    "\n",
    "match_1 = re.search(\"Bat(wo)?man\",\"Batman returns\")\n",
    "print(match_1)\n",
    "match_2 = re.search(\"Bat(wo)?man\",\"Batwoman returns\")\n",
    "print(match_2)"
   ]
  },
  {
   "cell_type": "markdown",
   "id": "21cda314",
   "metadata": {},
   "source": [
    "#### 10.In regular expressions, what is the difference between the + and * characters?"
   ]
  },
  {
   "cell_type": "markdown",
   "id": "836abd5f",
   "metadata": {},
   "source": [
    "**Ans:** \n",
    "\n",
    "In Regular Expressions, `*` Represents Zero or more occurances of the preceeding group, whereas `+` represents one or more occurances of the preceeding group."
   ]
  },
  {
   "cell_type": "code",
   "execution_count": 14,
   "id": "996e0224",
   "metadata": {},
   "outputs": [
    {
     "name": "stdout",
     "output_type": "stream",
     "text": [
      "<re.Match object; span=(0, 6), match='Batman'>\n",
      "None\n"
     ]
    }
   ],
   "source": [
    "import re\n",
    "\n",
    "match_1 = re.search(\"Bat(wo)*man\",\"Batman returns\")\n",
    "print(match_1)\n",
    "match_2 = re.search(\"Bat(wo)+man\",\"Batman returns\")\n",
    "print(match_2)"
   ]
  },
  {
   "cell_type": "markdown",
   "id": "a2ae417f",
   "metadata": {},
   "source": [
    "#### 11. What is the difference between {4} and {4,5} in regular expression?"
   ]
  },
  {
   "cell_type": "markdown",
   "id": "0991cbf3",
   "metadata": {},
   "source": [
    "**Ans:** \n",
    "\n",
    "`{4}` means that its preceeding group should repeat 4 times, whereas `{4,5}` means that its preceeding group should repeat mininum 4 times and maximum 5 times inclusively."
   ]
  },
  {
   "cell_type": "markdown",
   "id": "0239aaf8",
   "metadata": {},
   "source": [
    "#### 12. What do you mean by the \\d, \\w, and \\s shorthand character classes signify in regular expressions?"
   ]
  },
  {
   "cell_type": "markdown",
   "id": "8d3b1c61",
   "metadata": {},
   "source": [
    "**Ans:** \n",
    "\n",
    "`\\d`, `\\w` and `\\s` are special sequences in regular expresssions in python:\n",
    "\n",
    "- `\\w` – Matches a word character equivalent to [a-z A-Z 0-9_]\n",
    "\n",
    "- `\\d` – Matches digit character equivalent to [0-9]\n",
    "\n",
    "- `\\s` – Matches whitespace character (space, tab, newline, etc.)"
   ]
  },
  {
   "cell_type": "markdown",
   "id": "6a201476",
   "metadata": {},
   "source": [
    "#### 13. What do means by \\D, \\W, and \\S shorthand character classes signify in regular expressions?"
   ]
  },
  {
   "cell_type": "markdown",
   "id": "92757ec7",
   "metadata": {},
   "source": [
    "**Ans:**\n",
    "`\\D`, `\\W` and `\\S` are special sequences in regular expresssions in python:\n",
    "\n",
    "- `\\W` – Matches any non-alphanumeric character equivalent to [^a-z A-Z 0-9_]\n",
    "\n",
    "- `\\D` – Matches any non-digit character, this is equivalent to the set class [^0-9]\n",
    "\n",
    "- `\\S` – Matches any non-whitespace character"
   ]
  },
  {
   "cell_type": "markdown",
   "id": "1bff09f0",
   "metadata": {},
   "source": [
    "#### 14. What is the difference between .* and .* ?"
   ]
  },
  {
   "cell_type": "markdown",
   "id": "1219bdaa",
   "metadata": {},
   "source": [
    "**Ans:** \n",
    "\n",
    "`.*` is a Greedy mode, which returns the longest string that meets the condition. Whereas `.*?` is a non greedy mode which returns the shortest string that meets the condition."
   ]
  },
  {
   "cell_type": "markdown",
   "id": "235bee26",
   "metadata": {},
   "source": [
    "#### 15. What is the syntax for matching both numbers and lowercase letters with a character class?"
   ]
  },
  {
   "cell_type": "markdown",
   "id": "7f4c687f",
   "metadata": {},
   "source": [
    "**Ans:** \n",
    "\n",
    "The Syntax is Either **[a-z 0-9]** or **[0-9 a-z]**."
   ]
  },
  {
   "cell_type": "markdown",
   "id": "8cd9c110",
   "metadata": {},
   "source": [
    "#### 16. What is the procedure for making a normal expression in regax case insensitive?"
   ]
  },
  {
   "cell_type": "markdown",
   "id": "3c9c5566",
   "metadata": {},
   "source": [
    "**Ans:** \n",
    "\n",
    "We can pass `re.IGNORECASE` as a flag to make a noraml expression case insensitive."
   ]
  },
  {
   "cell_type": "markdown",
   "id": "eacc7740",
   "metadata": {},
   "source": [
    "#### 17. What does the . character normally match? What does it match if re.DOTALL is passed as 2nd argument in re.compile()?\n"
   ]
  },
  {
   "cell_type": "markdown",
   "id": "aa251076",
   "metadata": {},
   "source": [
    "**Ans:** \n",
    "\n",
    "Dot `.` character matches everything in input except newline character `.`. \n",
    "\n",
    "By passing `re.DOTALL` as a flag to `re.compile()`, we can make the dot character match all characters, including the newline character."
   ]
  },
  {
   "cell_type": "markdown",
   "id": "35ecec58",
   "metadata": {},
   "source": [
    "#### 18. If numReg = re.compile(r'\\d+'), what will numRegex.sub('X', '11 drummers, 10 pipers, five rings, 4 hen') return?"
   ]
  },
  {
   "cell_type": "markdown",
   "id": "0b1efdbc",
   "metadata": {},
   "source": [
    "**Ans:** \n",
    "\n",
    "The Ouput will be `'X drummers`,` X pipers`, `five rings`, `X hen'`."
   ]
  },
  {
   "cell_type": "code",
   "execution_count": 17,
   "id": "a4815e4c",
   "metadata": {},
   "outputs": [
    {
     "data": {
      "text/plain": [
       "'X drummers, X pipers, five rings, X hen'"
      ]
     },
     "execution_count": 17,
     "metadata": {},
     "output_type": "execute_result"
    }
   ],
   "source": [
    "import re\n",
    "\n",
    "numReg = re.compile(r'\\d+')\n",
    "numReg.sub('X', '11 drummers, 10 pipers, five rings, 4 hen')"
   ]
  },
  {
   "cell_type": "markdown",
   "id": "dbac1222",
   "metadata": {},
   "source": [
    "#### 19. What does passing re.VERBOSE as the 2nd argument to re.compile() allow to do?"
   ]
  },
  {
   "cell_type": "markdown",
   "id": "78d47d57",
   "metadata": {},
   "source": [
    "**Ans:** \n",
    "\n",
    "`re.VERBOSE` will allow to add whitespace and comments to string passed to `re.compile()`."
   ]
  },
  {
   "cell_type": "markdown",
   "id": "3628a8aa",
   "metadata": {},
   "source": [
    "#### 20. How would you write a regex that match a number with comma for every three digits? It must match the given following:\n",
    "\n",
    "- `'42'`\n",
    "\n",
    "- `'1,234'`\n",
    "\n",
    "- `'6,368,745'`\n",
    "\n",
    "but not the following:\n",
    "\n",
    "- `'12,34,567'` (which has only two digits between the commas)\n",
    "\n",
    "- `'1234'` (which lacks commas)"
   ]
  },
  {
   "cell_type": "markdown",
   "id": "b95fdc42",
   "metadata": {},
   "source": [
    "**Ans:**"
   ]
  },
  {
   "cell_type": "code",
   "execution_count": 24,
   "id": "4c639252",
   "metadata": {},
   "outputs": [
    {
     "name": "stdout",
     "output_type": "stream",
     "text": [
      "Output: 42 : <re.Match object; span=(0, 2), match='42'>\n",
      "Output: 1,234 : <re.Match object; span=(0, 5), match='1,234'>\n",
      "Output: 6,368,745 : <re.Match object; span=(0, 9), match='6,368,745'>\n",
      "Output: 12,34,567 : None\n",
      "Output: 1234 : None\n"
     ]
    }
   ],
   "source": [
    "import re\n",
    "\n",
    "pattern = r'^\\d{1,3}(,\\d{3})*$'\n",
    "pagex = re.compile(pattern)\n",
    "for ele in ['42','1,234', '6,368,745','12,34,567','1234']:\n",
    "    print('Output:',ele, ':', pagex.search(ele))"
   ]
  },
  {
   "cell_type": "markdown",
   "id": "253d81ba",
   "metadata": {},
   "source": [
    "#### 21. How would you write a regex that matches the full name of someone whose last name is Watanabe? You can assume that the first name that comes before it will always be one word that begins with a capital letter. The regex must match the following:\n",
    "\n",
    "- `'Haruto Watanabe'`\n",
    "\n",
    "- `'Alice Watanabe'`\n",
    "\n",
    "- `'RoboCop Watanabe'`\n",
    "\n",
    "but not the following:\n",
    "\n",
    "- `'haruto Watanabe'` (where the first name is not capitalized)\n",
    "\n",
    "- `'Mr. Watanabe'` (where the preceding word has a nonletter character)\n",
    "\n",
    "- `'Watanabe'` (which has no first name)\n",
    "\n",
    "- `'Haruto watanabe'` (where Watanabe is not capitalized)"
   ]
  },
  {
   "cell_type": "markdown",
   "id": "5efa09d6",
   "metadata": {},
   "source": [
    "**Ans:**"
   ]
  },
  {
   "cell_type": "code",
   "execution_count": 25,
   "id": "28e4e034",
   "metadata": {},
   "outputs": [
    {
     "name": "stdout",
     "output_type": "stream",
     "text": [
      "Output:  Haruto Watanabe : <re.Match object; span=(0, 15), match='Haruto Watanabe'>\n",
      "Output:  Alice Watanabe : <re.Match object; span=(0, 14), match='Alice Watanabe'>\n",
      "Output:  RoboCop Watanabe : <re.Match object; span=(4, 16), match='Cop Watanabe'>\n",
      "Output:  haruto Watanabe : None\n",
      "Output:  Mr. Watanabe : None\n",
      "Output:  Watanabe : None\n",
      "Output:  Haruto watanabe : None\n"
     ]
    }
   ],
   "source": [
    "import re\n",
    "\n",
    "pattern = r'[A-Z]{1}[a-z]*\\sWatanabe'\n",
    "namex = re.compile(pattern)\n",
    "for name in ['Haruto Watanabe','Alice Watanabe','RoboCop Watanabe','haruto Watanabe','Mr. Watanabe','Watanabe','Haruto watanabe']:\n",
    "    print('Output: ',name,':',namex.search(name))"
   ]
  },
  {
   "cell_type": "markdown",
   "id": "1d800c7d",
   "metadata": {},
   "source": [
    "#### 22. How would you write a regex that matches a sentence where the first word is either Alice, Bob, or Carol; the second word is either eats, pets, or throws; the third word is apples, cats, or baseballs; and the sentence ends with a period? This regex should be case-insensitive. It must match the following:\n",
    "\n",
    "- `'Alice eats apples.'`\n",
    "\n",
    "- `'Bob pets cats.'`\n",
    "\n",
    "- `'Carol throws baseballs.'`\n",
    "\n",
    "- `'Alice throws Apples.'`\n",
    "\n",
    "- `'BOB EATS CATS.'`\n",
    "\n",
    "but not the following:\n",
    "\n",
    "- `'RoboCop eats apples.'`\n",
    "\n",
    "- `'ALICE THROWS FOOTBALLS.'`\n",
    "\n",
    "- `'Carol eats 7 cats.'`\n"
   ]
  },
  {
   "cell_type": "markdown",
   "id": "f3336874",
   "metadata": {},
   "source": [
    "**Ans:** \n",
    "\n",
    "pattern = `r'(Alice|Bob|Carol)\\s(eats|pets|throws)\\s(apples|cats|baseballs)\\.'`"
   ]
  },
  {
   "cell_type": "code",
   "execution_count": 26,
   "id": "fe1433da",
   "metadata": {},
   "outputs": [
    {
     "name": "stdout",
     "output_type": "stream",
     "text": [
      "Output:  Alice eats apples. : <re.Match object; span=(0, 18), match='Alice eats apples.'>\n",
      "Output:  Bob pets cats. : <re.Match object; span=(0, 14), match='Bob pets cats.'>\n",
      "Output:  Carol throws baseballs. : <re.Match object; span=(0, 23), match='Carol throws baseballs.'>\n",
      "Output:  Alice throws Apples. : <re.Match object; span=(0, 20), match='Alice throws Apples.'>\n",
      "Output:  BOB EATS CATS. : <re.Match object; span=(0, 14), match='BOB EATS CATS.'>\n",
      "Output:  RoboCop eats apples. : None\n",
      "Output:  ALICE THROWS FOOTBALLS. : None\n",
      "Output:  Carol eats 7 cats. : None\n"
     ]
    }
   ],
   "source": [
    "import re\n",
    "pattern = r'(Alice|Bob|Carol)\\s(eats|pets|throws)\\s(apples|cats|baseballs)\\.'\n",
    "casex = re.compile(pattern,re.IGNORECASE)\n",
    "for ele in ['Alice eats apples.','Bob pets cats.','Carol throws baseballs.','Alice throws Apples.','BOB EATS CATS.','RoboCop eats apples.'\n",
    ",'ALICE THROWS FOOTBALLS.','Carol eats 7 cats.']:\n",
    "    print('Output: ',ele,':',casex.search(ele))"
   ]
  },
  {
   "cell_type": "code",
   "execution_count": null,
   "id": "fafbccb1",
   "metadata": {},
   "outputs": [],
   "source": []
  }
 ],
 "metadata": {
  "kernelspec": {
   "display_name": "Python 3 (ipykernel)",
   "language": "python",
   "name": "python3"
  },
  "language_info": {
   "codemirror_mode": {
    "name": "ipython",
    "version": 3
   },
   "file_extension": ".py",
   "mimetype": "text/x-python",
   "name": "python",
   "nbconvert_exporter": "python",
   "pygments_lexer": "ipython3",
   "version": "3.9.7"
  }
 },
 "nbformat": 4,
 "nbformat_minor": 5
}
