{
 "cells": [
  {
   "cell_type": "raw",
   "id": "e7345b48",
   "metadata": {},
   "source": [
    "1. Set the variable test1 to the string 'This is a test of the emergency text system,' and save test1 to a file named test.txt.\n",
    "2. Read the contents of the file test.txt into the variable test2. Is there a difference between test 1 and test 2?\n",
    "3. Create a CSV file called books.csv by using these lines:\n",
    "title,author,year\n",
    "The Weirdstone of Brisingamen,Alan Garner,1960\n",
    "Perdido Street Station,China Miéville,2000\n",
    "Thud!,Terry Pratchett,2005\n",
    "The Spellman Files,Lisa Lutz,2007\n",
    "Small Gods,Terry Pratchett,1992\n",
    "4. Use the sqlite3 module to create a SQLite database called books.db, and a table called books with these fields: title (text), author (text), and year (integer).\n",
    "5. Read books.csv and insert its data into the book table.\n",
    "6. Select and print the title column from the book table in alphabetical order.\n",
    "7. From the book table, select and print all columns in the order of publication.\n",
    "8. Use the sqlalchemy module to connect to the sqlite3 database books.db that you just made in exercise 6.\n",
    "9. Install the Redis server and the Python redis library (pip install redis) on your computer. Create a Redis hash called test with the fields count (1) and name ('Fester Bestertester'). Print all the fields for test.\n",
    "10. Increment the count field of test and print it.\n",
    "\n"
   ]
  },
  {
   "cell_type": "markdown",
   "id": "eee3317d",
   "metadata": {},
   "source": [
    "#### 1. Set the variable test1 to the string 'This is a test of the emergency text system,' and save test1 to a file named test.txt."
   ]
  },
  {
   "cell_type": "code",
   "execution_count": 2,
   "id": "7dd2f7a7",
   "metadata": {},
   "outputs": [
    {
     "name": "stdout",
     "output_type": "stream",
     "text": [
      "This is a test of the emergency text system,\n"
     ]
    }
   ],
   "source": [
    "test1 = 'This is a test of the emergency text system,'\n",
    "print(test1)\n",
    "\n",
    "f = open('test.txt','w')\n",
    "f.write(test1)\n",
    "f.close()"
   ]
  },
  {
   "cell_type": "markdown",
   "id": "8e3dd524",
   "metadata": {},
   "source": [
    "#### 2. Read the contents of the file test.txt into the variable test2. Is there a difference between test 1 and test 2?"
   ]
  },
  {
   "cell_type": "code",
   "execution_count": 3,
   "id": "e9615083",
   "metadata": {},
   "outputs": [
    {
     "name": "stdout",
     "output_type": "stream",
     "text": [
      "This is a test of the emergency text system,\n",
      "There is no difference between test1 and test2.\n"
     ]
    }
   ],
   "source": [
    "f = open('test.txt','r')\n",
    "test2 = f.read()\n",
    "print(test2)  \n",
    "# Checking difference between test1 and test2\n",
    "var = test1 == test2\n",
    "if var == True:\n",
    "    print(\"There is no difference between test1 and test2.\")\n",
    "else:\n",
    "    print(\"There is difference between test1 and test2.\")\n",
    "f.close()"
   ]
  },
  {
   "cell_type": "markdown",
   "id": "10b8ac4e",
   "metadata": {},
   "source": [
    "#### 3. Create a CSV file called books.csv by using these lines:\n",
    "`title,author,year`\n",
    "\n",
    "`The Weirdstone of Brisingamen,Alan Garner,1960`\n",
    "\n",
    "`Perdido Street Station,China Miéville,2000`\n",
    "\n",
    "`Thud!,Terry Pratchett,2005`\n",
    "\n",
    "`The Spellman Files,Lisa Lutz,2007`\n",
    "\n",
    "`Small Gods,Terry Pratchett,1992`"
   ]
  },
  {
   "cell_type": "code",
   "execution_count": 5,
   "id": "6a66662e",
   "metadata": {},
   "outputs": [],
   "source": [
    "data = '''title,author,year\n",
    "The Weirdstone of Brisingamen,Alan Garner,1960\n",
    "Perdido Street Station,China Miéville,2000\n",
    "Thud!,Terry Pratchett,2005\n",
    "The Spellman Files,Lisa Lutz,2007\n",
    "Small Gods,Terry Pratchett,1992'''\n",
    "\n",
    "# Here we need to pass the encoding parameter and set it's value to utf-8 as here we are trying to write a .csv file\n",
    "f = open('books.csv','w', encoding=\"utf-8\")\n",
    "f.write(data)\n",
    "f.close()"
   ]
  },
  {
   "cell_type": "markdown",
   "id": "0d529d2f",
   "metadata": {},
   "source": [
    "#### 4. Use the sqlite3 module to create a SQLite database called books.db, and a table called books with these fields: title (text), author (text), and year (integer)."
   ]
  },
  {
   "cell_type": "code",
   "execution_count": 10,
   "id": "06e91654",
   "metadata": {},
   "outputs": [
    {
     "name": "stdout",
     "output_type": "stream",
     "text": [
      "Database is created\n"
     ]
    }
   ],
   "source": [
    "# Importing the module\n",
    "import sqlite3\n",
    "\n",
    "try:\n",
    "# Creating the database and connecting to it\n",
    "    db = sqlite3.connect('books.db')\n",
    "    cursor = db.cursor()\n",
    "    print(\"Database is created\")\n",
    "except Exception as e:\n",
    "    print(e)\n",
    "else:\n",
    "# Creating table\n",
    "    cursor.execute(\"CREATE TABLE books (title text, author text, year int)\")\n",
    "    db.commit()\n",
    "finally:\n",
    "# Closing the connection to the database\n",
    "    db.close()"
   ]
  },
  {
   "cell_type": "markdown",
   "id": "8e7ec928",
   "metadata": {},
   "source": [
    "#### 5. Read books.csv and insert its data into the book table."
   ]
  },
  {
   "cell_type": "code",
   "execution_count": 11,
   "id": "9c05ec07",
   "metadata": {},
   "outputs": [],
   "source": [
    "# Importing the libraries\n",
    "import sqlite3\n",
    "import csv\n",
    "\n",
    "try:\n",
    "# Creating connection to the database\n",
    "    conn = sqlite3.connect(\"books.db\")\n",
    "    cursor = conn.cursor()\n",
    "except Exception as e:\n",
    "    print(e)\n",
    "else:\n",
    "# Inserting data from books.csv to books Table\n",
    "    with open(\"books.csv\",\"r\") as file:\n",
    "        books = csv.DictReader(file)\n",
    "        for book in books:\n",
    "            cursor.execute(\"INSERT INTO books VALUES (?,?,?)\",(book['title'],book['author'],book['year']))\n",
    "    conn.commit()\n",
    "finally:\n",
    "# Closing the connection\n",
    "    conn.close()"
   ]
  },
  {
   "cell_type": "markdown",
   "id": "36fdadf9",
   "metadata": {},
   "source": [
    "#### 6. Select and print the title column from the book table in alphabetical order."
   ]
  },
  {
   "cell_type": "code",
   "execution_count": 13,
   "id": "b82eb0df",
   "metadata": {},
   "outputs": [
    {
     "name": "stdout",
     "output_type": "stream",
     "text": [
      "Perdido Street Station\n",
      "Small Gods\n",
      "The Spellman Files\n",
      "The Weirdstone of Brisingamen\n",
      "Thud!\n"
     ]
    }
   ],
   "source": [
    "# Importing the libraries\n",
    "import sqlite3\n",
    "\n",
    "try:\n",
    "# Creating connection to the database\n",
    "    conn = sqlite3.connect('books.db')\n",
    "    cursor = conn.cursor()\n",
    "except Exception as e:\n",
    "    print(e)\n",
    "else:\n",
    "# Printing from books\n",
    "    output = cursor.execute(\"SELECT title FROM books ORDER BY title ASC\")\n",
    "    for ele in output:\n",
    "        print(ele[0])\n",
    "    conn.commit()\n",
    "finally:\n",
    "# Closing the connection\n",
    "    conn.close()"
   ]
  },
  {
   "cell_type": "markdown",
   "id": "c7e2bfeb",
   "metadata": {},
   "source": [
    "#### 7. From the book table, select and print all columns in the order of publication."
   ]
  },
  {
   "cell_type": "code",
   "execution_count": 14,
   "id": "47c11de1",
   "metadata": {},
   "outputs": [
    {
     "name": "stdout",
     "output_type": "stream",
     "text": [
      "('The Weirdstone of Brisingamen', 'Alan Garner', 1960)\n",
      "('Small Gods', 'Terry Pratchett', 1992)\n",
      "('Perdido Street Station', 'China MiÃ©ville', 2000)\n",
      "('Thud!', 'Terry Pratchett', 2005)\n",
      "('The Spellman Files', 'Lisa Lutz', 2007)\n"
     ]
    }
   ],
   "source": [
    "# Importing the libraries\n",
    "import sqlite3\n",
    "\n",
    "try:\n",
    "# Creating connection to the database\n",
    "    conn = sqlite3.connect('books.db')\n",
    "    cursor = conn.cursor()\n",
    "except Exception as e:\n",
    "    print(e)\n",
    "else:\n",
    "# Printing all columns\n",
    "    ouput = cursor.execute(\"SELECT * FROM books ORDER BY year\")\n",
    "    for record in ouput:\n",
    "        print(record)\n",
    "finally:\n",
    "# Closing the connection\n",
    "    conn.close()"
   ]
  },
  {
   "cell_type": "markdown",
   "id": "02f3ece7",
   "metadata": {},
   "source": [
    "#### 8. Use the sqlalchemy module to connect to the sqlite3 database books.db that you just made in exercise 6."
   ]
  },
  {
   "cell_type": "code",
   "execution_count": 22,
   "id": "be7c69a5",
   "metadata": {},
   "outputs": [
    {
     "data": {
      "text/plain": [
       "Engine(sqlite:///books.db)"
      ]
     },
     "execution_count": 22,
     "metadata": {},
     "output_type": "execute_result"
    }
   ],
   "source": [
    "import sqlalchemy\n",
    "conn = sqlalchemy.create_engine('sqlite:///books.db')\n",
    "conn"
   ]
  },
  {
   "cell_type": "code",
   "execution_count": 24,
   "id": "20a82d92",
   "metadata": {},
   "outputs": [
    {
     "name": "stdout",
     "output_type": "stream",
     "text": [
      "('The Weirdstone of Brisingamen', 'Alan Garner', 1960)\n",
      "('Perdido Street Station', 'China MiÃ©ville', 2000)\n",
      "('Thud!', 'Terry Pratchett', 2005)\n",
      "('The Spellman Files', 'Lisa Lutz', 2007)\n",
      "('Small Gods', 'Terry Pratchett', 1992)\n"
     ]
    }
   ],
   "source": [
    "# Now printing the data\n",
    "rows = conn.execute('select * from books')\n",
    "for i in rows:\n",
    "    print(i)"
   ]
  },
  {
   "cell_type": "markdown",
   "id": "0c800d82",
   "metadata": {},
   "source": [
    "#### 9. Install the Redis server and the Python redis library (pip install redis) on your computer. Create a Redis hash called test with the fields count (1) and name ('Fester Bestertester'). Print all the fields for test."
   ]
  },
  {
   "cell_type": "code",
   "execution_count": 19,
   "id": "793eced9",
   "metadata": {},
   "outputs": [
    {
     "name": "stdout",
     "output_type": "stream",
     "text": [
      "Requirement already satisfied: redis in c:\\users\\arunava\\appdata\\roaming\\python\\python39\\site-packages (4.3.3)"
     ]
    },
    {
     "name": "stderr",
     "output_type": "stream",
     "text": [
      "WARNING: You are using pip version 21.3.1; however, version 22.1.2 is available.\n",
      "You should consider upgrading via the 'C:\\Users\\Arunava\\anaconda3\\envs\\data\\python.exe -m pip install --upgrade pip' command.\n"
     ]
    },
    {
     "name": "stdout",
     "output_type": "stream",
     "text": [
      "\n",
      "Requirement already satisfied: packaging>=20.4 in c:\\users\\arunava\\anaconda3\\envs\\data\\lib\\site-packages (from redis) (21.3)\n",
      "Requirement already satisfied: async-timeout>=4.0.2 in c:\\users\\arunava\\appdata\\roaming\\python\\python39\\site-packages (from redis) (4.0.2)\n",
      "Requirement already satisfied: deprecated>=1.2.3 in c:\\users\\arunava\\appdata\\roaming\\python\\python39\\site-packages (from redis) (1.2.13)\n",
      "Requirement already satisfied: wrapt<2,>=1.10 in c:\\users\\arunava\\appdata\\roaming\\python\\python39\\site-packages (from deprecated>=1.2.3->redis) (1.12.1)\n",
      "Requirement already satisfied: pyparsing!=3.0.5,>=2.0.2 in c:\\users\\arunava\\anaconda3\\envs\\data\\lib\\site-packages (from packaging>=20.4->redis) (3.0.4)\n"
     ]
    }
   ],
   "source": [
    "!pip install --user redis"
   ]
  },
  {
   "cell_type": "code",
   "execution_count": 33,
   "id": "ee5a1455",
   "metadata": {},
   "outputs": [],
   "source": [
    "\n",
    "import redis\n",
    "conn = redis.StrictRedis(host='localhost', port=6379, db=0)\n",
    "conn.hset('test','count', 1)\n",
    "conn.hset('test','name','Fester Bestertester')\n",
    "\n",
    "conn.hgetall('test')\n",
    "\n",
    "\n",
    "# Coudnot complete it as everytime i tried to run it it throw the following error:\n",
    "# Error 10061 connecting to localhost:6379. No connection could be made because the target machine actively refused it."
   ]
  },
  {
   "cell_type": "markdown",
   "id": "cbb76281",
   "metadata": {},
   "source": [
    "#### 10. Increment the count field of test and print it."
   ]
  },
  {
   "cell_type": "code",
   "execution_count": null,
   "id": "599c4542",
   "metadata": {},
   "outputs": [],
   "source": [
    "conn.hincrby('test', 'count', 1)\n",
    "conn.hget('test', 'count')"
   ]
  }
 ],
 "metadata": {
  "kernelspec": {
   "display_name": "Python 3 (ipykernel)",
   "language": "python",
   "name": "python3"
  },
  "language_info": {
   "codemirror_mode": {
    "name": "ipython",
    "version": 3
   },
   "file_extension": ".py",
   "mimetype": "text/x-python",
   "name": "python",
   "nbconvert_exporter": "python",
   "pygments_lexer": "ipython3",
   "version": "3.9.7"
  }
 },
 "nbformat": 4,
 "nbformat_minor": 5
}
