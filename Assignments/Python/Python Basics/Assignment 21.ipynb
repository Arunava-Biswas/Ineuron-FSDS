{
 "cells": [
  {
   "cell_type": "raw",
   "id": "6feb5532",
   "metadata": {},
   "source": [
    "1. Add the current date to the text file today.txt as a string.\n",
    "2. Read the text file today.txt into the string today_string\n",
    "3. Parse the date from today_string.\n",
    "4. List the files in your current directory\n",
    "5. Create a list of all of the files in your parent directory (minimum five files should be available).\n",
    "6. Use multiprocessing to create three separate processes. Make each one wait a random number of seconds between one and five, print the current time, and then exit.\n",
    "7. Create a date object of your day of birth.\n",
    "8. What day of the week was your day of birth?\n",
    "9. When will you be (or when were you) 10,000 days old?\n",
    "\n"
   ]
  },
  {
   "cell_type": "markdown",
   "id": "bc2a5db0",
   "metadata": {},
   "source": [
    "#### 1. Add the current date to the text file today.txt as a string."
   ]
  },
  {
   "cell_type": "code",
   "execution_count": 1,
   "id": "5a49037e",
   "metadata": {},
   "outputs": [],
   "source": [
    "# Importing the library\n",
    "import datetime\n",
    "\n",
    "# Code to Add current date to the today.txt file\n",
    "file = open('today.txt','w')\n",
    "file.write(datetime.datetime.now().strftime(\"%d-%m-%Y\"))\n",
    "file.close()"
   ]
  },
  {
   "cell_type": "markdown",
   "id": "e299df6c",
   "metadata": {},
   "source": [
    "#### 2. Read the text file today.txt into the string today_string"
   ]
  },
  {
   "cell_type": "code",
   "execution_count": 2,
   "id": "d46729f7",
   "metadata": {},
   "outputs": [
    {
     "name": "stdout",
     "output_type": "stream",
     "text": [
      "15-06-2022\n"
     ]
    }
   ],
   "source": [
    "# Code to Read current date from today.txt file\n",
    "file = open('today.txt','r')\n",
    "today_string = file.read()\n",
    "print(today_string)\n",
    "file.close()"
   ]
  },
  {
   "cell_type": "markdown",
   "id": "a87d930a",
   "metadata": {},
   "source": [
    "#### 3. Parse the date from today_string."
   ]
  },
  {
   "cell_type": "code",
   "execution_count": 3,
   "id": "9781e59a",
   "metadata": {},
   "outputs": [
    {
     "name": "stdout",
     "output_type": "stream",
     "text": [
      "2022-06-15 00:00:00\n"
     ]
    }
   ],
   "source": [
    "from datetime import datetime\n",
    "parse_date = datetime.strptime(today_string, '%d-%m-%Y')\n",
    "print(parse_date)"
   ]
  },
  {
   "cell_type": "markdown",
   "id": "4dea3dbe",
   "metadata": {},
   "source": [
    "#### 4. List the files in your current directory"
   ]
  },
  {
   "cell_type": "code",
   "execution_count": 5,
   "id": "767eafca",
   "metadata": {},
   "outputs": [
    {
     "name": "stdout",
     "output_type": "stream",
     "text": [
      "apple.jpg\n",
      "Assignment 01.ipynb\n",
      "Assignment 02.ipynb\n",
      "Assignment 03.ipynb\n",
      "Assignment 04.ipynb\n",
      "Assignment 05.ipynb\n",
      "Assignment 06.ipynb\n",
      "Assignment 07.ipynb\n",
      "Assignment 08.ipynb\n",
      "Assignment 09.ipynb\n",
      "Assignment 10.ipynb\n",
      "Assignment 11.ipynb\n",
      "Assignment 12.ipynb\n",
      "Assignment 13.ipynb\n",
      "Assignment 14.ipynb\n",
      "Assignment 15.ipynb\n",
      "Assignment 16.ipynb\n",
      "Assignment 17.ipynb\n",
      "Assignment 18.ipynb\n",
      "Assignment 19.ipynb\n",
      "Assignment 20.ipynb\n",
      "Assignment 21.ipynb\n",
      "books.csv\n",
      "books.db\n",
      "pic.jpg\n",
      "pic2.jpg\n",
      "programLog.txt\n",
      "test.txt\n",
      "today.txt\n",
      "zoo.py\n",
      "Assignment 01-checkpoint.ipynb\n",
      "Assignment 02-checkpoint.ipynb\n",
      "Assignment 03-checkpoint.ipynb\n",
      "Assignment 04-checkpoint.ipynb\n",
      "Assignment 05-checkpoint.ipynb\n",
      "Assignment 06-checkpoint.ipynb\n",
      "Assignment 07-checkpoint.ipynb\n",
      "Assignment 08-checkpoint.ipynb\n",
      "Assignment 09-checkpoint.ipynb\n",
      "Assignment 10-checkpoint.ipynb\n",
      "Assignment 11-checkpoint.ipynb\n",
      "Assignment 12-checkpoint.ipynb\n",
      "Assignment 13-checkpoint.ipynb\n",
      "Assignment 14-checkpoint.ipynb\n",
      "Assignment 15-checkpoint.ipynb\n",
      "Assignment 16-checkpoint.ipynb\n",
      "Assignment 17-checkpoint.ipynb\n",
      "Assignment 18-checkpoint.ipynb\n",
      "Assignment 19-checkpoint.ipynb\n",
      "Assignment 20-checkpoint.ipynb\n",
      "Assignment 21-checkpoint.ipynb\n",
      "Assignment 01.ipynb\n",
      "Assignment 02.ipynb\n",
      "Assignment 03.ipynb\n",
      "Assignment 04.ipynb\n",
      "Assignment 05.ipynb\n",
      "Assignment 06.ipynb\n",
      "Assignment 07.ipynb\n",
      "Assignment 08.ipynb\n",
      "Assignment 09.ipynb\n",
      "Assignment 10.ipynb\n",
      "zoo.cpython-39.pyc\n"
     ]
    }
   ],
   "source": [
    "import os\n",
    "\n",
    "# Creating list of all the files\n",
    "file_list = []\n",
    "for folders, subfolders, files in os.walk(os.getcwd()):\n",
    "    for file in files:\n",
    "        file_list.append(file)\n",
    "\n",
    "# printing all the files from the list\n",
    "for file in file_list:\n",
    "    print(file)"
   ]
  },
  {
   "cell_type": "markdown",
   "id": "5de7b402",
   "metadata": {},
   "source": [
    "#### 5. Create a list of all of the files in your parent directory (minimum five files should be available)."
   ]
  },
  {
   "cell_type": "code",
   "execution_count": 6,
   "id": "833340f1",
   "metadata": {},
   "outputs": [
    {
     "data": {
      "text/plain": [
       "['.ipynb_checkpoints',\n",
       " 'apple.jpg',\n",
       " 'Assignment 01.ipynb',\n",
       " 'Assignment 02.ipynb',\n",
       " 'Assignment 03.ipynb',\n",
       " 'Assignment 04.ipynb',\n",
       " 'Assignment 05.ipynb',\n",
       " 'Assignment 06.ipynb',\n",
       " 'Assignment 07.ipynb',\n",
       " 'Assignment 08.ipynb',\n",
       " 'Assignment 09.ipynb',\n",
       " 'Assignment 10.ipynb',\n",
       " 'Assignment 11.ipynb',\n",
       " 'Assignment 12.ipynb',\n",
       " 'Assignment 13.ipynb',\n",
       " 'Assignment 14.ipynb',\n",
       " 'Assignment 15.ipynb',\n",
       " 'Assignment 16.ipynb',\n",
       " 'Assignment 17.ipynb',\n",
       " 'Assignment 18.ipynb',\n",
       " 'Assignment 19.ipynb',\n",
       " 'Assignment 20.ipynb',\n",
       " 'Assignment 21.ipynb',\n",
       " 'books.csv',\n",
       " 'books.db',\n",
       " 'Dummy Destination',\n",
       " 'pic.jpg',\n",
       " 'pic2.jpg',\n",
       " 'programLog.txt',\n",
       " 'test.txt',\n",
       " 'today.txt',\n",
       " 'zoo.py',\n",
       " '__pycache__']"
      ]
     },
     "execution_count": 6,
     "metadata": {},
     "output_type": "execute_result"
    }
   ],
   "source": [
    "import os \n",
    "os.listdir()"
   ]
  },
  {
   "cell_type": "markdown",
   "id": "36ab3eff",
   "metadata": {},
   "source": [
    "#### 6. Use multiprocessing to create three separate processes. Make each one wait a random number of seconds between one and five, print the current time, and then exit."
   ]
  },
  {
   "cell_type": "code",
   "execution_count": 7,
   "id": "81c7f344",
   "metadata": {},
   "outputs": [],
   "source": [
    "# Importing libraries\n",
    "import multiprocessing\n",
    "import time \n",
    "import random\n",
    "import datetime\n",
    "\n",
    "# Defining functions\n",
    "def process_One():\n",
    "    print(f'Process_one_Starttime : {datetime.datetime.now()}')\n",
    "    time.sleep(random.randint(1,5))\n",
    "    print(f'Process_one_Endtime : {datetime.datetime.now()}')\n",
    "    \n",
    "def process_Two():\n",
    "    print(f'Process_two_Starttime : {datetime.datetime.now()}')\n",
    "    time.sleep(random.randint(1,5))\n",
    "    print(f'Process_two_Endtime : {datetime.datetime.now()}')\n",
    "\n",
    "def process_Three():\n",
    "    print(f'Process_three_Starttime : {datetime.datetime.now()}')\n",
    "    time.sleep(random.randint(1,5))\n",
    "    print(f'Process_three_Endtime : {datetime.datetime.now()}')\n",
    "\n",
    "# Calling the processes\n",
    "if __name__ == \"__main__\":    \n",
    "    p1 = multiprocessing.Process(target=process_One)\n",
    "    p2 = multiprocessing.Process(target=process_Two)\n",
    "    p3 = multiprocessing.Process(target=process_Three)\n",
    "\n",
    "    p1.start()\n",
    "    p2.start()\n",
    "    p3.start()\n",
    "\n",
    "    p1.join()\n",
    "    p2.join()\n",
    "    p3.join()"
   ]
  },
  {
   "cell_type": "markdown",
   "id": "6693eae9",
   "metadata": {},
   "source": [
    "Due to some unknown reason there is no output in jupyter notebook. So I copied the code in a python file, executed it and here pasting the results.\n",
    "\n",
    "`Process_one_Starttime : 2022-06-15 14:35:34.818289`\n",
    "\n",
    "`Process_two_Starttime : 2022-06-15 14:35:34.818535`\n",
    "\n",
    "`Process_three_Starttime : 2022-06-15 14:35:34.819661`\n",
    "\n",
    "`Process_one_Endtime : 2022-06-15 14:35:36.820120`\n",
    "\n",
    "`Process_two_Endtime : 2022-06-15 14:35:39.820212`\n",
    "\n",
    "`Process_three_Endtime : 2022-06-15 14:35:39.824846`"
   ]
  },
  {
   "cell_type": "markdown",
   "id": "5723bf65",
   "metadata": {},
   "source": [
    "#### 7. Create a date object of your day of birth."
   ]
  },
  {
   "cell_type": "code",
   "execution_count": 8,
   "id": "7cb69052",
   "metadata": {},
   "outputs": [
    {
     "name": "stdout",
     "output_type": "stream",
     "text": [
      "1987-05-18 00:00:00 <class 'datetime.datetime'>\n"
     ]
    }
   ],
   "source": [
    "from datetime import datetime\n",
    "\n",
    "my_dob = datetime.strptime('18/05/1987','%d/%m/%Y')\n",
    "print(my_dob, type(my_dob))"
   ]
  },
  {
   "cell_type": "markdown",
   "id": "1e8b308b",
   "metadata": {},
   "source": [
    "#### 8. What day of the week was your day of birth?"
   ]
  },
  {
   "cell_type": "code",
   "execution_count": 10,
   "id": "494fbd38",
   "metadata": {},
   "outputs": [
    {
     "data": {
      "text/plain": [
       "'Monday'"
      ]
     },
     "execution_count": 10,
     "metadata": {},
     "output_type": "execute_result"
    }
   ],
   "source": [
    "from datetime import datetime\n",
    "\n",
    "my_dob = datetime(1987,5,18)\n",
    "my_dob.strftime(\"%A\")"
   ]
  },
  {
   "cell_type": "markdown",
   "id": "fb36dd8e",
   "metadata": {},
   "source": [
    "#### 9. When will you be (or when were you) 10,000 days old?"
   ]
  },
  {
   "cell_type": "code",
   "execution_count": 16,
   "id": "638916b5",
   "metadata": {},
   "outputs": [
    {
     "name": "stdout",
     "output_type": "stream",
     "text": [
      "I will be 10000 days old on 1959-12-31 00:00:00.\n"
     ]
    }
   ],
   "source": [
    "from datetime import datetime, timedelta\n",
    "\n",
    "my_dob = datetime.strptime(\"18/05/1987\",'%d/%m/%Y')\n",
    "future_age = my_dob-timedelta(10000)\n",
    "print(f\"I will be 10000 days old on {future_age}.\")"
   ]
  },
  {
   "cell_type": "code",
   "execution_count": null,
   "id": "55a12679",
   "metadata": {},
   "outputs": [],
   "source": []
  }
 ],
 "metadata": {
  "kernelspec": {
   "display_name": "Python 3 (ipykernel)",
   "language": "python",
   "name": "python3"
  },
  "language_info": {
   "codemirror_mode": {
    "name": "ipython",
    "version": 3
   },
   "file_extension": ".py",
   "mimetype": "text/x-python",
   "name": "python",
   "nbconvert_exporter": "python",
   "pygments_lexer": "ipython3",
   "version": "3.9.7"
  }
 },
 "nbformat": 4,
 "nbformat_minor": 5
}
