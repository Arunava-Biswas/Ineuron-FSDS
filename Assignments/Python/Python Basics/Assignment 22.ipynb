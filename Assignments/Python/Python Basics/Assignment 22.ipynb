{
 "cells": [
  {
   "cell_type": "raw",
   "id": "b07c233d",
   "metadata": {},
   "source": [
    "1. What is the result of the code, and explain?\n",
    "\n",
    "\n",
    ">>> X = 'iNeuron'\n",
    ">>> def func():\n",
    "print(X)\n",
    "\n",
    "\n",
    ">>> func()\n",
    "\n",
    "\n",
    "2. What is the result of the code, and explain?\n",
    "\n",
    "\n",
    ">>> X = 'iNeuron'\n",
    ">>> def func():\n",
    "X = 'NI!'\n",
    "\n",
    "\n",
    ">>> func()\n",
    ">>> print(X)\n",
    "\n",
    "\n",
    "3. What does this code print, and why?\n",
    "\n",
    "\n",
    ">>> X = 'iNeuron'\n",
    ">>> def func():\n",
    "X = 'NI'\n",
    "print(X)\n",
    "\n",
    "\n",
    ">>> func()\n",
    ">>> print(X)\n",
    "\n",
    "\n",
    "4. What output does this code produce? Why?\n",
    "\n",
    "\n",
    ">>> X = 'iNeuron'\n",
    ">>> def func():\n",
    "global X\n",
    "X = 'NI'\n",
    "\n",
    "\n",
    ">>> func()\n",
    ">>> print(X)\n",
    "\n",
    "\n",
    "5. What about this code—what’s the output, and why?\n",
    "\n",
    "\n",
    ">>> X = 'iNeuron'\n",
    ">>> def func():\n",
    "X = 'NI'\n",
    "def nested():\n",
    "print(X)\n",
    "nested()\n",
    "\n",
    "\n",
    ">>> func()\n",
    ">>> X\n",
    "\n",
    "\n",
    "6. How about this code: what is its output in Python 3, and explain?\n",
    "\n",
    "\n",
    ">>> def func():\n",
    "X = 'NI'\n",
    "def nested():\n",
    "nonlocal X\n",
    "X = 'Spam'\n",
    "nested()\n",
    "print(X)\n",
    "\n",
    "\n",
    ">>> func()\n",
    "\n",
    "\n",
    "\n",
    "\n",
    "\n"
   ]
  },
  {
   "cell_type": "markdown",
   "id": "59132122",
   "metadata": {},
   "source": [
    "#### 1. What is the result of the code, and explain?\n",
    "\n",
    "\n",
    "`>>> X = 'iNeuron'`\n",
    "\n",
    "`>>> def func():`\n",
    "\n",
    "`print(X)`\n",
    "\n",
    "`>>> func()`\n"
   ]
  },
  {
   "cell_type": "markdown",
   "id": "94f2aa96",
   "metadata": {},
   "source": [
    "**Ans:** \n",
    "\n",
    "The Result of this code is `iNeuron`, it's because the function intially looks for the variable `X` in its local scope,But since there is no local variable `X`, so it returns the value of global variable `X` ie `iNeuron`."
   ]
  },
  {
   "cell_type": "code",
   "execution_count": 1,
   "id": "c85f3246",
   "metadata": {},
   "outputs": [
    {
     "name": "stdout",
     "output_type": "stream",
     "text": [
      "iNeuron\n"
     ]
    }
   ],
   "source": [
    "# Code\n",
    "\n",
    "X = 'iNeuron'\n",
    "\n",
    "def func():\n",
    "    print(X)\n",
    "    \n",
    "func()"
   ]
  },
  {
   "cell_type": "markdown",
   "id": "2bb69f52",
   "metadata": {},
   "source": [
    "#### 2. What is the result of the code, and explain?\n",
    "\n",
    "\n",
    "`>>> X = 'iNeuron'`\n",
    "\n",
    "`>>> def func():`\n",
    "\n",
    "`X = 'NI!'`\n",
    "\n",
    "\n",
    "`>>> func()`\n",
    "\n",
    "`>>> print(X)`\n"
   ]
  },
  {
   "cell_type": "markdown",
   "id": "4e168743",
   "metadata": {},
   "source": [
    "**Ans:** \n",
    "\n",
    "The Result of this code is when we run the code `print(X)` there it will print the value of `X` in it's global form i.e. `iNeuron`\n",
    "\n",
    "But when we call the function `func()` then it will show nothing as we don't return or print anything in the function."
   ]
  },
  {
   "cell_type": "code",
   "execution_count": 8,
   "id": "f444b727",
   "metadata": {},
   "outputs": [
    {
     "name": "stdout",
     "output_type": "stream",
     "text": [
      "iNeuron\n"
     ]
    }
   ],
   "source": [
    "# Code\n",
    "\n",
    "X = 'iNeuron'\n",
    "\n",
    "def func():\n",
    "    X = 'NI!'\n",
    "    \n",
    "func()  \n",
    "print(X)"
   ]
  },
  {
   "cell_type": "markdown",
   "id": "1cf14ea9",
   "metadata": {},
   "source": [
    "#### 3. What does this code print, and why?\n",
    "\n",
    "\n",
    "`>>> X = 'iNeuron'`\n",
    "\n",
    "`>>> def func():`\n",
    "\n",
    "`X = 'NI'`\n",
    "\n",
    "`print(X)`\n",
    "\n",
    "\n",
    "`>>> func()`\n",
    "\n",
    "`>>> print(X)`"
   ]
  },
  {
   "cell_type": "markdown",
   "id": "7f067d33",
   "metadata": {},
   "source": [
    "**Ans:**\n",
    "\n",
    "Here in this code it will return `NI!` as value when we call the function `func()` as there the value `NI!` is in local scope of variable `X`. And when we run the code `print(X)` there it will print the value of `X` in it's global form i.e. `iNeuron`"
   ]
  },
  {
   "cell_type": "code",
   "execution_count": 9,
   "id": "1cd437f0",
   "metadata": {},
   "outputs": [
    {
     "name": "stdout",
     "output_type": "stream",
     "text": [
      "NI!\n",
      "iNeuron\n"
     ]
    }
   ],
   "source": [
    "# Code\n",
    "\n",
    "X = 'iNeuron'\n",
    "\n",
    "def func():\n",
    "    X = 'NI!'\n",
    "    print(X)\n",
    "    \n",
    "func()  \n",
    "print(X)"
   ]
  },
  {
   "cell_type": "markdown",
   "id": "b867d0eb",
   "metadata": {},
   "source": [
    "#### 4. What output does this code produce? Why?\n",
    "\n",
    "\n",
    "`>>> X = 'iNeuron'`\n",
    "\n",
    "`>>> def func():`\n",
    "\n",
    "`global X`\n",
    "\n",
    "`X = 'NI'`\n",
    "\n",
    "\n",
    "`>>> func()`\n",
    "\n",
    "`>>> print(X)`"
   ]
  },
  {
   "cell_type": "markdown",
   "id": "34d2a889",
   "metadata": {},
   "source": [
    "**Ans:**\n",
    "\n",
    "Here again when we call the function `func()` it will show nothing as we return nothing.\n",
    "\n",
    "But when we run the code `print(X)` it will show the value as `NI!` because when we call the function `func()` in that we used the keyword `global` to set the value of the variable `X` and because of usage of the keyword the value in this case get set to the variable's global scope instead of the local scope. So whenever now after this we print the value of the variable, it will print the new value set to the variable i.e. `N!`."
   ]
  },
  {
   "cell_type": "code",
   "execution_count": 10,
   "id": "961893ef",
   "metadata": {},
   "outputs": [
    {
     "name": "stdout",
     "output_type": "stream",
     "text": [
      "NI!\n"
     ]
    }
   ],
   "source": [
    "# Code\n",
    "\n",
    "X = 'iNeuron'\n",
    "\n",
    "def func():\n",
    "    global X\n",
    "    X = 'NI!'\n",
    "\n",
    "    \n",
    "func()  \n",
    "print(X)"
   ]
  },
  {
   "cell_type": "markdown",
   "id": "18be7f1a",
   "metadata": {},
   "source": [
    "#### 5. What about this code—what’s the output, and why?\n",
    "\n",
    "\n",
    "`>>> X = 'iNeuron'`\n",
    "\n",
    "`>>> def func():`\n",
    "\n",
    "`X = 'NI'`\n",
    "\n",
    "`def nested():`\n",
    "\n",
    "`print(X)`\n",
    "\n",
    "`nested()`\n",
    "\n",
    "\n",
    "`>>> func()`\n",
    "\n",
    "`>>> X`"
   ]
  },
  {
   "cell_type": "markdown",
   "id": "9b2ebfc7",
   "metadata": {},
   "source": [
    "**ANS**\n",
    "\n",
    "Here for the function call `nested()` it will search for the variable `X` in it's global scope i.e. in function `func()` because it is not available in it's local scope and print the value set for the variable in it's global scope i.e. `NI!`.\n",
    "\n",
    "For running the code `func()` it will show nothing as we don't return anything from the function.\n",
    "\n",
    "For running the code `X` it will return the value set for the variable `X` in it's global scope i.e. `iNeuron`."
   ]
  },
  {
   "cell_type": "code",
   "execution_count": 13,
   "id": "29ffeb41",
   "metadata": {},
   "outputs": [
    {
     "name": "stdout",
     "output_type": "stream",
     "text": [
      "NI!\n"
     ]
    },
    {
     "data": {
      "text/plain": [
       "'iNeuron'"
      ]
     },
     "execution_count": 13,
     "metadata": {},
     "output_type": "execute_result"
    }
   ],
   "source": [
    "# Code\n",
    "\n",
    "X = 'iNeuron'\n",
    "\n",
    "def func():\n",
    "    X = 'NI!'\n",
    "    def nested():\n",
    "        print(X)\n",
    "    nested()\n",
    "\n",
    "func()\n",
    "X"
   ]
  },
  {
   "cell_type": "markdown",
   "id": "c4b5ea2e",
   "metadata": {},
   "source": [
    "#### 6. How about this code: what is its output in Python 3, and explain?\n",
    "\n",
    "\n",
    "`>>> def func():`\n",
    "\n",
    "`X = 'NI'`\n",
    "\n",
    "`def nested():`\n",
    "\n",
    "`nonlocal X`\n",
    "\n",
    "`X = 'Spam'`\n",
    "\n",
    "`nested()`\n",
    "\n",
    "`print(X)`\n",
    "\n",
    "\n",
    "`>>> func()`"
   ]
  },
  {
   "cell_type": "markdown",
   "id": "bebf1d6f",
   "metadata": {},
   "source": [
    "**Ans**\n",
    "\n",
    "The `nonlocal` keyword is used to work with variables inside nested functions, where the variable should not belong to the inner function. So in this case the statement `X = \"Spam\"` is modified in the global scope, hence the output of `print(X)` statement is `Spam` when we call the function `func()`."
   ]
  },
  {
   "cell_type": "code",
   "execution_count": 14,
   "id": "0904ed9b",
   "metadata": {},
   "outputs": [
    {
     "name": "stdout",
     "output_type": "stream",
     "text": [
      "Spam\n"
     ]
    }
   ],
   "source": [
    "# Code\n",
    "\n",
    "def func():\n",
    "    X = 'NI'\n",
    "    def nested():\n",
    "        nonlocal X\n",
    "        X = 'Spam'\n",
    "    nested()\n",
    "    print(X)\n",
    "    \n",
    "    \n",
    "func()"
   ]
  },
  {
   "cell_type": "code",
   "execution_count": null,
   "id": "b194a20e",
   "metadata": {},
   "outputs": [],
   "source": []
  }
 ],
 "metadata": {
  "kernelspec": {
   "display_name": "Python 3 (ipykernel)",
   "language": "python",
   "name": "python3"
  },
  "language_info": {
   "codemirror_mode": {
    "name": "ipython",
    "version": 3
   },
   "file_extension": ".py",
   "mimetype": "text/x-python",
   "name": "python",
   "nbconvert_exporter": "python",
   "pygments_lexer": "ipython3",
   "version": "3.9.7"
  }
 },
 "nbformat": 4,
 "nbformat_minor": 5
}
