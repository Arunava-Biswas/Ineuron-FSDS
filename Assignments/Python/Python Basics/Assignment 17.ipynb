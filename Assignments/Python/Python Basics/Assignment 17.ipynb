{
 "cells": [
  {
   "cell_type": "raw",
   "id": "9361fbb6",
   "metadata": {},
   "source": [
    "1. Assign the value 7 to the variable guess_me. Then, write the conditional tests (if, else, and elif) to print the string 'too low' if guess_me is less than 7, 'too high' if greater than 7, and 'just right' if equal to 7.\n",
    "2. Assign the value 7 to the variable guess_me and the value 1 to the variable start. Write a while loop that compares start with guess_me. Print too low if start is less than guess me. If start equals guess_me, print 'found it!' and exit the loop. If start is greater than guess_me, print 'oops' and exit the loop. Increment start at the end of the loop.\n",
    "3. Print the following values of the list [3, 2, 1, 0] using a for loop.\n",
    "4. Use a list comprehension to make a list of the even numbers in range(10)\n",
    "5. Use a dictionary comprehension to create the dictionary squares. Use range(10) to return the keys, and use the square of each key as its value.\n",
    "6. Construct the set odd from the odd numbers in the range using a set comprehension (10).\n",
    "7. Use a generator comprehension to return the string 'Got ' and a number for the numbers in range(10). Iterate through this by using a for loop.\n",
    "8. Define a function called good that returns the list ['Harry', 'Ron', 'Hermione'].\n",
    "9. Define a generator function called get_odds that returns the odd numbers from range(10). Use a for loop to find and print the third value returned.\n",
    "10. Define an exception called OopsException. Raise this exception to see what happens. Then write the code to catch this exception and print 'Caught an oops'.\n",
    "11. Use zip() to make a dictionary called movies that pairs these lists: titles = ['Creature of Habit', 'Crewel Fate'] and plots = ['A nun turns into a monster', 'A haunted yarn shop'].\n",
    "\n"
   ]
  },
  {
   "cell_type": "markdown",
   "id": "123ea3fe",
   "metadata": {},
   "source": [
    "#### 1. Assign the value 7 to the variable guess_me. Then, write the conditional tests (if, else, and elif) to print the string 'too low' if guess_me is less than 7, 'too high' if greater than 7, and 'just right' if equal to 7."
   ]
  },
  {
   "cell_type": "code",
   "execution_count": 1,
   "id": "0f5ed358",
   "metadata": {},
   "outputs": [
    {
     "name": "stdout",
     "output_type": "stream",
     "text": [
      "too Low\n",
      "exactly same\n",
      "too High\n"
     ]
    }
   ],
   "source": [
    "# Assigning the value\n",
    "guess_me = 7\n",
    "\n",
    "# Defining function to check the conditions\n",
    "def condition(num):\n",
    "    if num < guess_me:\n",
    "        print('too Low')\n",
    "    elif num > guess_me:\n",
    "        print('too High')\n",
    "    else:\n",
    "        print('exactly same')\n",
    "\n",
    "\n",
    "# Calling the function with different values to check the conditions        \n",
    "condition(5)\n",
    "condition(7)\n",
    "condition(12)"
   ]
  },
  {
   "cell_type": "markdown",
   "id": "28e27bb9",
   "metadata": {},
   "source": [
    "#### 2. Assign the value 7 to the variable guess_me and the value 1 to the variable start. Write a while loop that compares start with guess_me. Print too low if start is less than guess me. If start equals guess_me, print 'found it!' and exit the loop. If start is greater than guess_me, print 'oops' and exit the loop. Increment start at the end of the loop."
   ]
  },
  {
   "cell_type": "code",
   "execution_count": 2,
   "id": "cdc2b0cc",
   "metadata": {},
   "outputs": [
    {
     "name": "stdout",
     "output_type": "stream",
     "text": [
      "too low\n",
      "too low\n",
      "too low\n",
      "too low\n",
      "too low\n",
      "too low\n",
      "found it\n"
     ]
    }
   ],
   "source": [
    "# Assigning the values\n",
    "guess_me = 7\n",
    "start = 1\n",
    "\n",
    "# Creating loop to check the conditions\n",
    "while True:\n",
    "    if start < guess_me:\n",
    "        print('too low')\n",
    "    elif start == guess_me:\n",
    "        print('found it')\n",
    "        break\n",
    "    else:\n",
    "        print('oops')\n",
    "        break\n",
    "    start += 1"
   ]
  },
  {
   "cell_type": "markdown",
   "id": "be46b0b1",
   "metadata": {},
   "source": [
    "#### 3. Print the following values of the list [3, 2, 1, 0] using a for loop."
   ]
  },
  {
   "cell_type": "code",
   "execution_count": 3,
   "id": "c6dadff4",
   "metadata": {},
   "outputs": [
    {
     "name": "stdout",
     "output_type": "stream",
     "text": [
      "3\n",
      "2\n",
      "1\n",
      "0\n"
     ]
    }
   ],
   "source": [
    "lst = [3,2,1,0]\n",
    "\n",
    "for items in lst:\n",
    "    print(items)"
   ]
  },
  {
   "cell_type": "markdown",
   "id": "6650ea7c",
   "metadata": {},
   "source": [
    "#### 4. Use a list comprehension to make a list of the even numbers in range(10)"
   ]
  },
  {
   "cell_type": "code",
   "execution_count": 4,
   "id": "3e9db2d6",
   "metadata": {},
   "outputs": [
    {
     "name": "stdout",
     "output_type": "stream",
     "text": [
      "[0, 2, 4, 6, 8]\n"
     ]
    }
   ],
   "source": [
    "lst = [n for n in range(10) if n%2 == 0]\n",
    "\n",
    "print(lst)"
   ]
  },
  {
   "cell_type": "markdown",
   "id": "56d3163b",
   "metadata": {},
   "source": [
    "#### 5. Use a dictionary comprehension to create the dictionary squares. Use range(10) to return the keys, and use the square of each key as its value."
   ]
  },
  {
   "cell_type": "code",
   "execution_count": 5,
   "id": "05f242fb",
   "metadata": {},
   "outputs": [
    {
     "name": "stdout",
     "output_type": "stream",
     "text": [
      "{0: 0, 1: 1, 2: 4, 3: 9, 4: 16, 5: 25, 6: 36, 7: 49, 8: 64, 9: 81}\n"
     ]
    }
   ],
   "source": [
    "d = {x: x**2 for x in range(10)}\n",
    "\n",
    "print(d)"
   ]
  },
  {
   "cell_type": "markdown",
   "id": "4bab0ad0",
   "metadata": {},
   "source": [
    "#### 6. Construct the set odd from the odd numbers in the range using a set comprehension (10)."
   ]
  },
  {
   "cell_type": "code",
   "execution_count": 6,
   "id": "697d0242",
   "metadata": {},
   "outputs": [
    {
     "name": "stdout",
     "output_type": "stream",
     "text": [
      "{1, 3, 5, 7, 9}\n"
     ]
    }
   ],
   "source": [
    "s = {x for x in range(10) if x%2 !=0}\n",
    "\n",
    "print(s)"
   ]
  },
  {
   "cell_type": "markdown",
   "id": "2a827732",
   "metadata": {},
   "source": [
    "#### 7. Use a generator comprehension to return the string 'Got ' and a number for the numbers in range(10). Iterate through this by using a for loop."
   ]
  },
  {
   "cell_type": "code",
   "execution_count": 7,
   "id": "e5495c52",
   "metadata": {},
   "outputs": [
    {
     "name": "stdout",
     "output_type": "stream",
     "text": [
      "Got_0\n",
      "Got_1\n",
      "Got_2\n",
      "Got_3\n",
      "Got_4\n",
      "Got_5\n",
      "Got_6\n",
      "Got_7\n",
      "Got_8\n",
      "Got_9\n"
     ]
    }
   ],
   "source": [
    "gen_comp = ('Got_' + str(x) for x in range(10))\n",
    "\n",
    "for ele in gen_comp:\n",
    "    print(ele)"
   ]
  },
  {
   "cell_type": "markdown",
   "id": "9cbaf2b8",
   "metadata": {},
   "source": [
    "#### 8. Define a function called good that returns the list ['Harry', 'Ron', 'Hermione']."
   ]
  },
  {
   "cell_type": "code",
   "execution_count": 8,
   "id": "89b4c757",
   "metadata": {},
   "outputs": [
    {
     "name": "stdout",
     "output_type": "stream",
     "text": [
      "['Harry', 'Ron', 'Hermonie']\n"
     ]
    }
   ],
   "source": [
    "# Defining the function\n",
    "def good():\n",
    "    lst = ['Harry', 'Ron', 'Hermonie']\n",
    "    return lst\n",
    "\n",
    "\n",
    "# Calling the function\n",
    "a = good()\n",
    "print(a)"
   ]
  },
  {
   "cell_type": "markdown",
   "id": "74ae9d3c",
   "metadata": {},
   "source": [
    "#### 9. Define a generator function called get_odds that returns the odd numbers from range(10). Use a for loop to find and print the third value returned."
   ]
  },
  {
   "cell_type": "code",
   "execution_count": 10,
   "id": "e029c09e",
   "metadata": {},
   "outputs": [
    {
     "name": "stdout",
     "output_type": "stream",
     "text": [
      "5\n"
     ]
    }
   ],
   "source": [
    "# Defining the function\n",
    "def get_odds():\n",
    "    out = []\n",
    "    for i in range(10):\n",
    "        if i%2 != 0:\n",
    "            out.append(i)\n",
    "    yield out\n",
    "\n",
    "# Calling the function\n",
    "x = get_odds()\n",
    "\n",
    "# printing the 3rd value using a for loop\n",
    "for j in x:\n",
    "    print(j[2])\n",
    "    "
   ]
  },
  {
   "cell_type": "markdown",
   "id": "09e5a3e0",
   "metadata": {},
   "source": [
    "#### 10. Define an exception called OopsException. Raise this exception to see what happens. Then write the code to catch this exception and print 'Caught an oops'."
   ]
  },
  {
   "cell_type": "code",
   "execution_count": 13,
   "id": "26df6f37",
   "metadata": {},
   "outputs": [
    {
     "name": "stdout",
     "output_type": "stream",
     "text": [
      "Caught an Oops : name 'b' is not defined\n"
     ]
    }
   ],
   "source": [
    "# Creating OopsException from Exception class\n",
    "class OopsException(Exception):\n",
    "    pass\n",
    "\n",
    "def test(input):\n",
    "    if input <0:\n",
    "        raise OopsException(b)\n",
    "try:\n",
    "    test(-100)\n",
    "except Exception as e:\n",
    "    print('Caught an Oops :',e)"
   ]
  },
  {
   "cell_type": "markdown",
   "id": "982d0e4c",
   "metadata": {},
   "source": [
    "#### 11. Use zip() to make a dictionary called movies that pairs these lists: titles = ['Creature of Habit', 'Crewel Fate'] and plots = ['A nun turns into a monster', 'A haunted yarn shop']."
   ]
  },
  {
   "cell_type": "code",
   "execution_count": 14,
   "id": "e92e5f5b",
   "metadata": {},
   "outputs": [
    {
     "name": "stdout",
     "output_type": "stream",
     "text": [
      "{'Creature of Habit': 'A nun turns into a monster', 'Crewel Fate': 'A haunted yarn shop'}\n"
     ]
    }
   ],
   "source": [
    "titles = ['Creature of Habit', 'Crewel Fate']\n",
    "plots = ['A nun turns into a monster', 'A haunted yarn shop']\n",
    "\n",
    "# Using zip() to make the dictionary\n",
    "output = dict(zip(titles,plots))\n",
    "print(output)"
   ]
  },
  {
   "cell_type": "code",
   "execution_count": null,
   "id": "25aa1a59",
   "metadata": {},
   "outputs": [],
   "source": []
  }
 ],
 "metadata": {
  "kernelspec": {
   "display_name": "Python 3 (ipykernel)",
   "language": "python",
   "name": "python3"
  },
  "language_info": {
   "codemirror_mode": {
    "name": "ipython",
    "version": 3
   },
   "file_extension": ".py",
   "mimetype": "text/x-python",
   "name": "python",
   "nbconvert_exporter": "python",
   "pygments_lexer": "ipython3",
   "version": "3.9.7"
  }
 },
 "nbformat": 4,
 "nbformat_minor": 5
}
