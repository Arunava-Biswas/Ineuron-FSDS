{
 "cells": [
  {
   "cell_type": "raw",
   "id": "57457956",
   "metadata": {},
   "source": [
    "1. Why are functions advantageous to have in your programs?\n",
    "2. When does the code in a function run: when it's specified or when it's called?\n",
    "3. What statement creates a function?\n",
    "4. What is the difference between a function and a function call?\n",
    "5. How many global scopes are there in a Python program? How many local scopes?\n",
    "6. What happens to variables in a local scope when the function call returns?\n",
    "7. What is the concept of a return value? Is it possible to have a return value in an expression?\n",
    "8. If a function does not have a return statement, what is the return value of a call to that function?\n",
    "9. How do you make a function variable refer to the global variable?\n",
    "10. What is the data type of None?\n",
    "11. What does the sentence import areallyourpetsnamederic do?\n",
    "12. If you had a bacon() feature in a spam module, what would you call it after importing spam?\n",
    "13. What can you do to save a programme from crashing if it encounters an error?\n",
    "14. What is the purpose of the try clause? What is the purpose of the except clause?\n",
    "\n"
   ]
  },
  {
   "cell_type": "markdown",
   "id": "8aa116d0",
   "metadata": {},
   "source": [
    "#### 1. Why are functions advantageous to have in your programs?"
   ]
  },
  {
   "cell_type": "markdown",
   "id": "c1c7b1bd",
   "metadata": {},
   "source": [
    "**Ans:**\n",
    "\n",
    "Functions are reusable codes, means that functions reduce the need for rewrite a code. This makes programs shorter, easier to read, and easier to update."
   ]
  },
  {
   "cell_type": "markdown",
   "id": "5e8c568a",
   "metadata": {},
   "source": [
    "#### 2. When does the code in a function run: when it's specified or when it's called?"
   ]
  },
  {
   "cell_type": "markdown",
   "id": "d8e72456",
   "metadata": {},
   "source": [
    "**Ans:** \n",
    "\n",
    "The code in a function executes when the function is called, and not when the function is specified or defined."
   ]
  },
  {
   "cell_type": "markdown",
   "id": "91997701",
   "metadata": {},
   "source": [
    "#### 3. What statement creates a function?"
   ]
  },
  {
   "cell_type": "markdown",
   "id": "8846f84a",
   "metadata": {},
   "source": [
    "**Ans:**\n",
    "\n",
    "In general we can create a function by using the `def` keyword or for an anonymous or one line function we can use keyword `lambda`."
   ]
  },
  {
   "cell_type": "code",
   "execution_count": 1,
   "id": "0b856873",
   "metadata": {},
   "outputs": [],
   "source": [
    "# Normal function syntax:\n",
    "\n",
    "# def function_name(arguements):\n",
    "#     function body\n",
    "#     return value\n",
    "\n",
    "\n",
    "# Lambda function syntax:\n",
    "\n",
    "# lambda arguements: return value using the arguements"
   ]
  },
  {
   "cell_type": "markdown",
   "id": "f83e003f",
   "metadata": {},
   "source": [
    "#### 4. What is the difference between a function and a function call?"
   ]
  },
  {
   "cell_type": "markdown",
   "id": "2977d805",
   "metadata": {},
   "source": [
    "**Ans:**\n",
    "\n",
    "A function is a procedure to achieve a result by using the passed arguements to it, while function call is using the created function to pass the arguements to achive a particular task. Using a function to do a particular task at any point in program is called as function call."
   ]
  },
  {
   "cell_type": "markdown",
   "id": "b63d38df",
   "metadata": {},
   "source": [
    "#### 5. How many global scopes are there in a Python program? How many local scopes?"
   ]
  },
  {
   "cell_type": "markdown",
   "id": "0ff4a0d5",
   "metadata": {},
   "source": [
    "**Ans:**\n",
    "\n",
    "There's only one global Python scope per program execution. Whereas there can be as many local scopes as needed. A local scope is created whenever a function is called."
   ]
  },
  {
   "cell_type": "markdown",
   "id": "e89d1aca",
   "metadata": {},
   "source": [
    "#### 6. What happens to variables in a local scope when the function call returns?"
   ]
  },
  {
   "cell_type": "markdown",
   "id": "c54d3f68",
   "metadata": {},
   "source": [
    "**Ans:**\n",
    "\n",
    "When a function returns, the local scope ends, and all the variables in the function are reset to their initial values."
   ]
  },
  {
   "cell_type": "markdown",
   "id": "53855948",
   "metadata": {},
   "source": [
    "#### 7. What is the concept of a return value? Is it possible to have a return value in an expression?"
   ]
  },
  {
   "cell_type": "markdown",
   "id": "8b94f4b1",
   "metadata": {},
   "source": [
    "**Ans:**\n",
    "\n",
    "A return value is the value that a function call evaluates to through the function body. Like any value, a return value can be used as part of an expression."
   ]
  },
  {
   "cell_type": "markdown",
   "id": "0e8fcfc8",
   "metadata": {},
   "source": [
    "#### 8. If a function does not have a return statement, what is the return value of a call to that function?"
   ]
  },
  {
   "cell_type": "markdown",
   "id": "932af916",
   "metadata": {},
   "source": [
    "**Ans:**\n",
    "\n",
    "If there is no return statement for a function, its return value will be `None`."
   ]
  },
  {
   "cell_type": "markdown",
   "id": "7eed7884",
   "metadata": {},
   "source": [
    "#### 9. How do you make a function variable refer to the global variable?"
   ]
  },
  {
   "cell_type": "markdown",
   "id": "bd4776bd",
   "metadata": {},
   "source": [
    "**Ans:**\n",
    "\n",
    "Variables that are created outside of a function body are known as global variables. Global variables can be used both inside and outside of the functions. To refer to a global variable inside a function we need to use the keyword `global` with the variable name."
   ]
  },
  {
   "cell_type": "markdown",
   "id": "0e34b75b",
   "metadata": {},
   "source": [
    "#### 10. What is the data type of None?"
   ]
  },
  {
   "cell_type": "markdown",
   "id": "db37e865",
   "metadata": {},
   "source": [
    "**Ans:**\n",
    "\n",
    "The data type of None is `NoneType`."
   ]
  },
  {
   "cell_type": "markdown",
   "id": "802fad67",
   "metadata": {},
   "source": [
    "#### 11. What does the sentence import areallyourpetsnamederic do?"
   ]
  },
  {
   "cell_type": "markdown",
   "id": "626e4718",
   "metadata": {},
   "source": [
    "**Ans:**\n",
    "\n",
    "It will import a module named `areallyourpetsnamederic`."
   ]
  },
  {
   "cell_type": "markdown",
   "id": "40e4b280",
   "metadata": {},
   "source": [
    "#### 12. If you had a bacon() feature in a spam module, what would you call it after importing spam?"
   ]
  },
  {
   "cell_type": "markdown",
   "id": "f36d2030",
   "metadata": {},
   "source": [
    "**Ans:**\n",
    "\n",
    "After importing the module `spam` I will call the feature `bacon()` as `spam.bacon()`."
   ]
  },
  {
   "cell_type": "markdown",
   "id": "6016cfd2",
   "metadata": {},
   "source": [
    "#### 13. What can you do to save a programme from crashing if it encounters an error?"
   ]
  },
  {
   "cell_type": "markdown",
   "id": "bd0ad6d4",
   "metadata": {},
   "source": [
    "**Ans:**\n",
    "\n",
    " Place the line of code that might cause an error in a `try` block and use `except` block to handle the error.\n",
    " \n",
    " e.g.\n",
    " \n",
    " try:\n",
    "     \n",
    "     problem code\n",
    "     \n",
    " except:\n",
    "     \n",
    "     error code"
   ]
  },
  {
   "cell_type": "markdown",
   "id": "93af4400",
   "metadata": {},
   "source": [
    "#### 14. What is the purpose of the try clause? What is the purpose of the except clause?"
   ]
  },
  {
   "cell_type": "markdown",
   "id": "a8599760",
   "metadata": {},
   "source": [
    "**Ans:**\n",
    "\n",
    "The code that could potentially can cause an error goes in the `try` block. \n",
    "\n",
    "After the code executed in the `try` block if an error occurs it goes to the `except` block where it gets handeled by handlers."
   ]
  },
  {
   "cell_type": "code",
   "execution_count": null,
   "id": "4678b70f",
   "metadata": {},
   "outputs": [],
   "source": []
  }
 ],
 "metadata": {
  "kernelspec": {
   "display_name": "Python 3 (ipykernel)",
   "language": "python",
   "name": "python3"
  },
  "language_info": {
   "codemirror_mode": {
    "name": "ipython",
    "version": 3
   },
   "file_extension": ".py",
   "mimetype": "text/x-python",
   "name": "python",
   "nbconvert_exporter": "python",
   "pygments_lexer": "ipython3",
   "version": "3.9.7"
  }
 },
 "nbformat": 4,
 "nbformat_minor": 5
}
