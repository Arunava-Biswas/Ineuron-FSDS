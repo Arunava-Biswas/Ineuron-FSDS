{
 "cells": [
  {
   "cell_type": "raw",
   "id": "a7d51209",
   "metadata": {},
   "source": [
    "1. What is the result of the code, and why?\n",
    ">>> def func(a, b=6, c=8):\n",
    "print(a, b, c)\n",
    ">>> func(1, 2)\n",
    "2. What is the result of this code, and why?\n",
    ">>> def func(a, b, c=5):\n",
    "print(a, b, c)\n",
    ">>> func(1, c=3, b=2)\n",
    "3. How about this code: what is its result, and why?\n",
    ">>> def func(a, *pargs):\n",
    "print(a, pargs)\n",
    ">>> func(1, 2, 3)\n",
    "4. What does this code print, and why?\n",
    ">>> def func(a, **kargs):\n",
    "print(a, kargs)\n",
    ">>> func(a=1, c=3, b=2)\n",
    "5. What gets printed by this, and explain?\n",
    ">>> def func(a, b, c=8, d=5): print(a, b, c, d)\n",
    ">>> func(1, *(5, 6))\n",
    "6. what is the result of this, and explain?\n",
    ">>> def func(a, b, c): a = 2; b[0] = 'x'; c['a'] = 'y'\n",
    ">>> l=1; m=[1]; n={'a':0}\n",
    ">>> func(l, m, n)\n",
    ">>> l, m, n\n",
    "\n"
   ]
  },
  {
   "cell_type": "markdown",
   "id": "4419b2b4",
   "metadata": {},
   "source": [
    "#### 1. What is the result of the code, and why?\n",
    "\n",
    "`>>> def func(a, b=6, c=8):`\n",
    "\n",
    "`print(a, b, c)`\n",
    "\n",
    "`>>> func(1, 2)`"
   ]
  },
  {
   "cell_type": "markdown",
   "id": "d5e02f39",
   "metadata": {},
   "source": [
    "**Ans:** \n",
    "\n",
    "The result of the above code is `1 2 8`. It is because the function uses the default value of `c` i.e. `8` which is provided at the time of creation of the function."
   ]
  },
  {
   "cell_type": "code",
   "execution_count": 1,
   "id": "73e57687",
   "metadata": {},
   "outputs": [
    {
     "name": "stdout",
     "output_type": "stream",
     "text": [
      "1 2 8\n"
     ]
    }
   ],
   "source": [
    "# Code\n",
    "\n",
    "def func(a, b=6, c=8):\n",
    "    print(a,b,c)\n",
    "    \n",
    "func(1,2)"
   ]
  },
  {
   "cell_type": "markdown",
   "id": "55bb2097",
   "metadata": {},
   "source": [
    "#### 2. What is the result of this code, and why?\n",
    "\n",
    "`>>> def func(a, b, c=5):`\n",
    "\n",
    "`print(a, b, c)`\n",
    "\n",
    "`>>> func(1, c=3, b=2)`"
   ]
  },
  {
   "cell_type": "markdown",
   "id": "bf804979",
   "metadata": {},
   "source": [
    "**Ans:**\n",
    "\n",
    "The result of the above code is `1 2 3`. It is because the function uses the user provided value of `c` i.e. `3` and `b` i.e. `2` and taking arguement `1` as the value for parameter `a`. "
   ]
  },
  {
   "cell_type": "code",
   "execution_count": 2,
   "id": "16a498af",
   "metadata": {},
   "outputs": [
    {
     "name": "stdout",
     "output_type": "stream",
     "text": [
      "1 2 3\n"
     ]
    }
   ],
   "source": [
    "# Code\n",
    "\n",
    "def func(a, b, c=5):\n",
    "    print(a,b,c)\n",
    "    \n",
    "func(1, c=3, b=2)"
   ]
  },
  {
   "cell_type": "markdown",
   "id": "a35df0fe",
   "metadata": {},
   "source": [
    "#### 3. How about this code: what is its result, and why?\n",
    "\n",
    "`>>> def func(a, *pargs):`\n",
    "\n",
    "`print(a, pargs)`\n",
    "\n",
    "`>>> func(1, 2, 3)`"
   ]
  },
  {
   "cell_type": "markdown",
   "id": "ea0d5984",
   "metadata": {},
   "source": [
    "**Ans:**\n",
    "\n",
    "Here the result will be `1, (2,3)`. The `*pargs` can take any number of variables passed to it and return them as a tuple. So in this case the 1st arguement passed to the function i.e. `1` is store in variable `a` and all other values passed to the function are stored in the `*pargs` and returned as tuple."
   ]
  },
  {
   "cell_type": "code",
   "execution_count": 3,
   "id": "d7782a7c",
   "metadata": {},
   "outputs": [
    {
     "name": "stdout",
     "output_type": "stream",
     "text": [
      "1 (2, 3)\n"
     ]
    }
   ],
   "source": [
    "# Code\n",
    "\n",
    "def func(a, *pargs):\n",
    "    print(a,pargs)\n",
    "    \n",
    "func(1,2,3)"
   ]
  },
  {
   "cell_type": "markdown",
   "id": "767742d3",
   "metadata": {},
   "source": [
    "#### 4. What does this code print, and why?\n",
    "\n",
    "`>>> def func(a, **kargs):`\n",
    "\n",
    "`print(a, kargs)`\n",
    "\n",
    "`>>> func(a=1, c=3, b=2)`"
   ]
  },
  {
   "cell_type": "markdown",
   "id": "8eed8890",
   "metadata": {},
   "source": [
    "Ans: The result of the above code is `1 {'c': 3, 'b': 2}`. The variable `**args` takes any number of variables passed to it in `key:value` pair and returns the result in dictionary format. So here the 1st variable a takes the value i.e. `1` passed to it when calling the function, and the rest are passed as key value pair and returned as dictionary form."
   ]
  },
  {
   "cell_type": "code",
   "execution_count": 4,
   "id": "ddd896b5",
   "metadata": {},
   "outputs": [
    {
     "name": "stdout",
     "output_type": "stream",
     "text": [
      "1 {'c': 3, 'b': 2}\n"
     ]
    }
   ],
   "source": [
    "# Code\n",
    "\n",
    "def func(a, **kargs):\n",
    "    print(a,kargs)\n",
    "    \n",
    "func(a=1, c=3, b=2)"
   ]
  },
  {
   "cell_type": "markdown",
   "id": "4112c414",
   "metadata": {},
   "source": [
    "#### 5. What gets printed by this, and explain?\n",
    "\n",
    "`>>> def func(a, b, c=8, d=5): print(a, b, c, d)`\n",
    "\n",
    "`>>> func(1, *(5, 6))`"
   ]
  },
  {
   "cell_type": "markdown",
   "id": "08b2e8fb",
   "metadata": {},
   "source": [
    "**Ans:** \n",
    "\n",
    "The output of the above is `1 5 6 5`. The reason for this is the function expects 4 arguments, but the value for `a` is provided explicitly whereas for arguments `b` and `c`, the function will expand the `*(5,6)` and consider the value of `b` as `5` and value of `c` as `6`. Since the default value of `d` is provided in function declaration `d` value will be `5`. However it is recommended to use the feature of positional arguments at the end."
   ]
  },
  {
   "cell_type": "code",
   "execution_count": 5,
   "id": "c90baf22",
   "metadata": {},
   "outputs": [
    {
     "name": "stdout",
     "output_type": "stream",
     "text": [
      "1 5 6 5\n"
     ]
    }
   ],
   "source": [
    "# Code\n",
    "\n",
    "def func(a, b, c=8, d=5): print(a,b,c,d)\n",
    "    \n",
    "func(1,*(5,6))"
   ]
  },
  {
   "cell_type": "markdown",
   "id": "5d915522",
   "metadata": {},
   "source": [
    "#### 6. what is the result of this, and explain?\n",
    "\n",
    "`>>> def func(a, b, c): a = 2; b[0] = 'x'; c['a'] = 'y'`\n",
    "\n",
    "`>>> l=1; m=[1]; n={'a':0}`\n",
    "\n",
    "`>>> func(l, m, n)`\n",
    "\n",
    "`>>> l, m, n`"
   ]
  },
  {
   "cell_type": "markdown",
   "id": "1bafb24c",
   "metadata": {},
   "source": [
    "**Ans:** \n",
    "\n",
    "The output of above code is `1, ['x'], {'a': 'y'}`.\n",
    "\n",
    "- Even though Python gives importance to indentation, it provides a facility to declare an entire function in one single line, where statements in a function body are sepereated by `;`\n",
    "\n",
    "- When `l,m,n` are provided as inputs to the function it modifies the values of `l,m,n` and sets the value of `l=2` ,`m=['x']` and `n={'a':'y'}`."
   ]
  },
  {
   "cell_type": "code",
   "execution_count": 6,
   "id": "411b0c56",
   "metadata": {},
   "outputs": [
    {
     "data": {
      "text/plain": [
       "(1, ['x'], {'a': 'y'})"
      ]
     },
     "execution_count": 6,
     "metadata": {},
     "output_type": "execute_result"
    }
   ],
   "source": [
    "# Code\n",
    "\n",
    "def func(a, b, c): a = 2; b[0] = 'x'; c['a'] = 'y'\n",
    "l=1; m=[1]; n={'a':0}\n",
    "func(l, m, n)\n",
    "l,m,n"
   ]
  },
  {
   "cell_type": "code",
   "execution_count": null,
   "id": "6edde45c",
   "metadata": {},
   "outputs": [],
   "source": []
  }
 ],
 "metadata": {
  "kernelspec": {
   "display_name": "Python 3 (ipykernel)",
   "language": "python",
   "name": "python3"
  },
  "language_info": {
   "codemirror_mode": {
    "name": "ipython",
    "version": 3
   },
   "file_extension": ".py",
   "mimetype": "text/x-python",
   "name": "python",
   "nbconvert_exporter": "python",
   "pygments_lexer": "ipython3",
   "version": "3.9.7"
  }
 },
 "nbformat": 4,
 "nbformat_minor": 5
}
