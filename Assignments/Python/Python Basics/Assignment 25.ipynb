{
 "cells": [
  {
   "cell_type": "raw",
   "id": "8bad7804",
   "metadata": {},
   "source": [
    "1. What is the difference between enclosing a list comprehension in square brackets and parentheses?\n",
    "2. What is the relationship between generators and iterators?\n",
    "3. What are the signs that a function is a generator function?\n",
    "4. What is the purpose of a yield statement?\n",
    "5. What is the relationship between map calls and list comprehensions? Make a comparison and contrast between the two.\n",
    "\n"
   ]
  },
  {
   "cell_type": "markdown",
   "id": "396c7863",
   "metadata": {},
   "source": [
    "#### 1. What is the difference between enclosing a list comprehension in square brackets and parentheses?"
   ]
  },
  {
   "cell_type": "markdown",
   "id": "51050a0c",
   "metadata": {},
   "source": [
    "**Ans:** \n",
    "\n",
    "Enclosing a list comprehension in square brackets returns a list, whereas enclosing a list comprehension in parentheses returns a generator object."
   ]
  },
  {
   "cell_type": "code",
   "execution_count": 1,
   "id": "f0d10190",
   "metadata": {},
   "outputs": [
    {
     "name": "stdout",
     "output_type": "stream",
     "text": [
      "[0, 1, 2, 3, 4, 5, 6, 7, 8, 9] <class 'list'>\n",
      "<generator object <genexpr> at 0x0000021B8BCD5190> <class 'generator'>\n"
     ]
    }
   ],
   "source": [
    "# Code\n",
    "l = [ele for ele in range(10)]\n",
    "print(l, type(l))\n",
    "\n",
    "g = (ele for ele in range(10))\n",
    "print(g, type(g))"
   ]
  },
  {
   "cell_type": "markdown",
   "id": "2acd4222",
   "metadata": {},
   "source": [
    "#### 2. What is the relationship between generators and iterators?"
   ]
  },
  {
   "cell_type": "markdown",
   "id": "1833d9dd",
   "metadata": {},
   "source": [
    "**Ans:** \n",
    "\n",
    "An `iterator` is an object which contains a countable number of values and it is used to iterate over iterable objects like list, tuples, sets, etc. Iterators are implemented using a class. It follows lazy evaluation where the evaluation of the expression will be on hold and stored in the memory until the item is called specifically which helps us to avoid repeated evaluation. As lazy evaluation is implemented, it requires only 1 memory location to process the value and when we are using a large dataset then, wastage of RAM space will be reduced the need to load the entire dataset at the same time will not be there.For an iterator: `iter()` keyword is used to create an iterator containing an iterable object.`next()` keyword is used to call the next element in the iterable object.\n",
    "\n",
    "Similarly `Generators` are an another way of creating iterators in a simple way where it uses the keyword `yield` statement instead of `return` statement in a defined function. Generators are implemented using a function. Just as iterators, generators also follow lazy evaluation. Here, the yield function returns the data without affecting or exiting the function. It will return a sequence of data in an iterable format where we need to iterate over the sequence to use the data as they won’t store the entire sequence in the memory."
   ]
  },
  {
   "cell_type": "code",
   "execution_count": 4,
   "id": "750f048f",
   "metadata": {},
   "outputs": [
    {
     "name": "stdout",
     "output_type": "stream",
     "text": [
      "<class 'list_iterator'>\n",
      "iNeuron\n",
      "Full\n",
      "Stack\n",
      "Data Science\n",
      "Course\n",
      "<list_iterator object at 0x0000021B8BCC9880>\n",
      "\n",
      "\n",
      "<class 'generator'>\n",
      "0\n",
      "1\n",
      "8\n",
      "27\n",
      "64\n"
     ]
    }
   ],
   "source": [
    "# Example of iterartor\n",
    "iter_str = iter(['iNeuron','Full','Stack','Data Science', 'Course'])\n",
    "print(type(iter_str))\n",
    "# Printing the result using the 'next' keyword\n",
    "print(next(iter_str))\n",
    "print(next(iter_str))\n",
    "print(next(iter_str))\n",
    "print(next(iter_str))\n",
    "print(next(iter_str))\n",
    "print(iter_str) # After the iterable object is completed, to use them again we need to reassign them to the same object.\n",
    "\n",
    "print(\"\\n\")\n",
    "\n",
    "# Example of Generator\n",
    "def cube_numbers(in_num):\n",
    "    for ele in range(in_num+1):\n",
    "        yield ele**3\n",
    "\n",
    "out_num = cube_numbers(4)\n",
    "print(type(out_num))\n",
    "print(next(out_num))\n",
    "print(next(out_num))\n",
    "print(next(out_num))\n",
    "print(next(out_num))\n",
    "print(next(out_num))"
   ]
  },
  {
   "cell_type": "markdown",
   "id": "990aac61",
   "metadata": {},
   "source": [
    "#### 3. What are the signs that a function is a generator function?"
   ]
  },
  {
   "cell_type": "markdown",
   "id": "93a31a38",
   "metadata": {},
   "source": [
    "**Ans:** \n",
    "\n",
    "A generator function uses a `yield` statement instead of a `return` statement. A generator function will always return a iterable object called generator. where as a normal function can return a `string/list/tuple/dict/NoneType` ... etc."
   ]
  },
  {
   "cell_type": "markdown",
   "id": "5b09e655",
   "metadata": {},
   "source": [
    "#### 4. What is the purpose of a yield statement?"
   ]
  },
  {
   "cell_type": "markdown",
   "id": "b2fbec1c",
   "metadata": {},
   "source": [
    "**Ans:** \n",
    "\n",
    "The `yield` statement suspends the function’s execution and sends a value back to the caller, but retains enough state to enable function to resume where it is left off. When resumed, the function continues execution immediately after the last yield run. This allows its code to produce a series of values over time, rather than computing them at once and sending them back like a list."
   ]
  },
  {
   "cell_type": "markdown",
   "id": "9803bc77",
   "metadata": {},
   "source": [
    "#### 5. What is the relationship between map calls and list comprehensions? Make a comparison and contrast between the two."
   ]
  },
  {
   "cell_type": "markdown",
   "id": "c4293b4b",
   "metadata": {},
   "source": [
    "**Ans:** \n",
    "\n",
    "The main differences between map calls and list comprehensiosn are:\n",
    "\n",
    "- List comprehension is more concise and easier to read as compared to map.\n",
    "\n",
    "- List comprehension allows filtering. In map, we have no such facility. For example, to print all even numbers in range of 30, we can write `[n for n in range(30) if n%2 == 0]`. There is no alternate for it in map.\n",
    "\n",
    "- List comprehension are used when a list of results is required as final output.but map only returns a map object. it needs to be explicitly coverted to desired datatype.\n",
    "\n",
    "- List comprehension is faster than map when we need to evaluate expressions that are too long or complicated to express.\n",
    "\n",
    "- Map is faster in case of calling an already defined function on a set of values."
   ]
  },
  {
   "cell_type": "code",
   "execution_count": null,
   "id": "ea1c3577",
   "metadata": {},
   "outputs": [],
   "source": []
  }
 ],
 "metadata": {
  "kernelspec": {
   "display_name": "Python 3 (ipykernel)",
   "language": "python",
   "name": "python3"
  },
  "language_info": {
   "codemirror_mode": {
    "name": "ipython",
    "version": 3
   },
   "file_extension": ".py",
   "mimetype": "text/x-python",
   "name": "python",
   "nbconvert_exporter": "python",
   "pygments_lexer": "ipython3",
   "version": "3.9.7"
  }
 },
 "nbformat": 4,
 "nbformat_minor": 5
}
