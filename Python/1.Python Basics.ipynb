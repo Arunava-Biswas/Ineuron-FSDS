{
 "cells": [
  {
   "cell_type": "markdown",
   "id": "8c6174f3",
   "metadata": {},
   "source": [
    "### This is for the basics of python\n"
   ]
  },
  {
   "cell_type": "code",
   "execution_count": 1,
   "id": "dbe7c421",
   "metadata": {},
   "outputs": [
    {
     "name": "stdout",
     "output_type": "stream",
     "text": [
      "This is my first python program.\n"
     ]
    }
   ],
   "source": [
    "## 1st print statement\n",
    "## In Python 2.X version the print staement was use to be without the () i.e. print \"This is my first python program.\"\n",
    "\n",
    "print(\"This is my first python program.\")"
   ]
  },
  {
   "cell_type": "code",
   "execution_count": 2,
   "id": "59786b78",
   "metadata": {},
   "outputs": [
    {
     "data": {
      "text/plain": [
       "'\\nThis\\nis a\\nmulti-line\\ncomment.\\n'"
      ]
     },
     "execution_count": 2,
     "metadata": {},
     "output_type": "execute_result"
    }
   ],
   "source": [
    "# This is a single line comment.\n",
    "\n",
    "'''\n",
    "This\n",
    "is a\n",
    "multi-line\n",
    "comment.\n",
    "'''"
   ]
  },
  {
   "cell_type": "code",
   "execution_count": 3,
   "id": "1a9f09bd",
   "metadata": {},
   "outputs": [
    {
     "name": "stdout",
     "output_type": "stream",
     "text": [
      "Arunava\n",
      "10\n",
      "Arunava\n"
     ]
    }
   ],
   "source": [
    "## Creating variables.\n",
    "## Here we donot need to define the variable data type.\n",
    "\n",
    "var_1 = \"Arunava\"\n",
    "var_2 = 10\n",
    "var_3 = var_1\n",
    "\n",
    "\n",
    "print(var_1)\n",
    "print(var_2)\n",
    "print(var_3)"
   ]
  },
  {
   "cell_type": "code",
   "execution_count": 4,
   "id": "435c7054",
   "metadata": {},
   "outputs": [
    {
     "data": {
      "text/plain": [
       "str"
      ]
     },
     "execution_count": 4,
     "metadata": {},
     "output_type": "execute_result"
    }
   ],
   "source": [
    "## To check the datatype we use type()\n",
    "\n",
    "type(var_1)"
   ]
  },
  {
   "cell_type": "code",
   "execution_count": 5,
   "id": "2a99da33",
   "metadata": {},
   "outputs": [
    {
     "data": {
      "text/plain": [
       "int"
      ]
     },
     "execution_count": 5,
     "metadata": {},
     "output_type": "execute_result"
    }
   ],
   "source": [
    "type(var_2)"
   ]
  },
  {
   "cell_type": "code",
   "execution_count": 6,
   "id": "622a385d",
   "metadata": {},
   "outputs": [
    {
     "data": {
      "text/plain": [
       "str"
      ]
     },
     "execution_count": 6,
     "metadata": {},
     "output_type": "execute_result"
    }
   ],
   "source": [
    "type(var_3)"
   ]
  },
  {
   "cell_type": "code",
   "execution_count": 7,
   "id": "e854c20d",
   "metadata": {},
   "outputs": [
    {
     "data": {
      "text/plain": [
       "'Arunava'"
      ]
     },
     "execution_count": 7,
     "metadata": {},
     "output_type": "execute_result"
    }
   ],
   "source": [
    "var_1"
   ]
  },
  {
   "cell_type": "code",
   "execution_count": 8,
   "id": "d3175442",
   "metadata": {},
   "outputs": [
    {
     "data": {
      "text/plain": [
       "45"
      ]
     },
     "execution_count": 8,
     "metadata": {},
     "output_type": "execute_result"
    }
   ],
   "source": [
    "## Creating multiple variables in single line.\n",
    "\n",
    "a, b = 45, \"Arunava\"\n",
    "\n",
    "a"
   ]
  },
  {
   "cell_type": "code",
   "execution_count": 9,
   "id": "5d779eeb",
   "metadata": {},
   "outputs": [
    {
     "data": {
      "text/plain": [
       "'Arunava'"
      ]
     },
     "execution_count": 9,
     "metadata": {},
     "output_type": "execute_result"
    }
   ],
   "source": [
    "b"
   ]
  },
  {
   "cell_type": "code",
   "execution_count": 10,
   "id": "b814395c",
   "metadata": {},
   "outputs": [
    {
     "data": {
      "text/plain": [
       "(45, 'Arunava')"
      ]
     },
     "execution_count": 10,
     "metadata": {},
     "output_type": "execute_result"
    }
   ],
   "source": [
    "a,b"
   ]
  },
  {
   "cell_type": "code",
   "execution_count": 11,
   "id": "475ce7d3",
   "metadata": {},
   "outputs": [
    {
     "name": "stdout",
     "output_type": "stream",
     "text": [
      "4\n",
      "0\n"
     ]
    }
   ],
   "source": [
    "print(True + True + True + False + True)\n",
    "print(False - True + True)"
   ]
  },
  {
   "cell_type": "code",
   "execution_count": 12,
   "id": "e960a82a",
   "metadata": {},
   "outputs": [
    {
     "ename": "ZeroDivisionError",
     "evalue": "division by zero",
     "output_type": "error",
     "traceback": [
      "\u001b[1;31m---------------------------------------------------------------------------\u001b[0m",
      "\u001b[1;31mZeroDivisionError\u001b[0m                         Traceback (most recent call last)",
      "Input \u001b[1;32mIn [12]\u001b[0m, in \u001b[0;36m<module>\u001b[1;34m\u001b[0m\n\u001b[1;32m----> 1\u001b[0m \u001b[38;5;28;43;01mTrue\u001b[39;49;00m\u001b[43m \u001b[49m\u001b[38;5;241;43m/\u001b[39;49m\u001b[43m \u001b[49m\u001b[38;5;28;43;01mFalse\u001b[39;49;00m\n",
      "\u001b[1;31mZeroDivisionError\u001b[0m: division by zero"
     ]
    }
   ],
   "source": [
    "True / False"
   ]
  },
  {
   "cell_type": "code",
   "execution_count": 13,
   "id": "514d2e88",
   "metadata": {},
   "outputs": [
    {
     "data": {
      "text/plain": [
       "complex"
      ]
     },
     "execution_count": 13,
     "metadata": {},
     "output_type": "execute_result"
    }
   ],
   "source": [
    "## Let's see a complex number\n",
    "## j is the notation.\n",
    "## Remember any other character other than j will throw an error.\n",
    "\n",
    "n = 45 + 6j\n",
    "\n",
    "type(n)"
   ]
  },
  {
   "cell_type": "code",
   "execution_count": 14,
   "id": "202721cf",
   "metadata": {},
   "outputs": [
    {
     "data": {
      "text/plain": [
       "(45+6j)"
      ]
     },
     "execution_count": 14,
     "metadata": {},
     "output_type": "execute_result"
    }
   ],
   "source": [
    "n"
   ]
  },
  {
   "cell_type": "code",
   "execution_count": 15,
   "id": "acf14019",
   "metadata": {},
   "outputs": [
    {
     "data": {
      "text/plain": [
       "45.0"
      ]
     },
     "execution_count": 15,
     "metadata": {},
     "output_type": "execute_result"
    }
   ],
   "source": [
    "## To get the real part\n",
    "\n",
    "n.real"
   ]
  },
  {
   "cell_type": "code",
   "execution_count": 16,
   "id": "96d415e2",
   "metadata": {},
   "outputs": [
    {
     "data": {
      "text/plain": [
       "6.0"
      ]
     },
     "execution_count": 16,
     "metadata": {},
     "output_type": "execute_result"
    }
   ],
   "source": [
    "## To get the imaginary part\n",
    "\n",
    "n.imag"
   ]
  },
  {
   "cell_type": "code",
   "execution_count": 17,
   "id": "ea51f93f",
   "metadata": {},
   "outputs": [
    {
     "name": "stdout",
     "output_type": "stream",
     "text": [
      "Arunava\n"
     ]
    }
   ],
   "source": [
    "## Taking input from an user. For this we use an inbuilt function input(). By default it keeps str values.\n",
    "\n",
    "a = input()"
   ]
  },
  {
   "cell_type": "code",
   "execution_count": 18,
   "id": "9f9863c8",
   "metadata": {},
   "outputs": [
    {
     "data": {
      "text/plain": [
       "'Arunava'"
      ]
     },
     "execution_count": 18,
     "metadata": {},
     "output_type": "execute_result"
    }
   ],
   "source": [
    "a"
   ]
  },
  {
   "cell_type": "markdown",
   "id": "f54b98ce",
   "metadata": {},
   "source": [
    "### Q.\n",
    "\n",
    "- Take 3 integer inputs from user using input() only and store them in variables a,b,c.\n",
    "- Now perform the calculation (a+b)/c and keep the result in a variable 'o'.\n",
    "- Now add a complex variable with the output 'o' and store the result in a variable o1.\n",
    "- Now concatinate variable 'o1' with your name."
   ]
  },
  {
   "cell_type": "code",
   "execution_count": 31,
   "id": "dbea26d8",
   "metadata": {},
   "outputs": [
    {
     "name": "stdout",
     "output_type": "stream",
     "text": [
      "Enter the ineteger 1: 45\n",
      "Enter the ineteger 2: 56\n",
      "Enter the ineteger 3: 34\n"
     ]
    }
   ],
   "source": [
    "a = int(input(\"Enter the ineteger 1: \"))\n",
    "b = int(input(\"Enter the ineteger 2: \"))\n",
    "c = int(input(\"Enter the ineteger 3: \"))"
   ]
  },
  {
   "cell_type": "code",
   "execution_count": 32,
   "id": "a3a4dfd7",
   "metadata": {},
   "outputs": [
    {
     "data": {
      "text/plain": [
       "2.9705882352941178"
      ]
     },
     "execution_count": 32,
     "metadata": {},
     "output_type": "execute_result"
    }
   ],
   "source": [
    "o = (a + b) / c\n",
    "\n",
    "o"
   ]
  },
  {
   "cell_type": "code",
   "execution_count": 33,
   "id": "75aff9af",
   "metadata": {},
   "outputs": [],
   "source": [
    "Comp_var = 10 + 45j\n",
    "\n",
    "o1 = o + Comp_var"
   ]
  },
  {
   "cell_type": "code",
   "execution_count": 34,
   "id": "a90e8535",
   "metadata": {},
   "outputs": [
    {
     "data": {
      "text/plain": [
       "'(12.970588235294118+45j)Arunava'"
      ]
     },
     "execution_count": 34,
     "metadata": {},
     "output_type": "execute_result"
    }
   ],
   "source": [
    "str(o1) + \"Arunava\""
   ]
  },
  {
   "cell_type": "code",
   "execution_count": null,
   "id": "6d7e0225",
   "metadata": {},
   "outputs": [],
   "source": []
  },
  {
   "cell_type": "code",
   "execution_count": null,
   "id": "aed82765",
   "metadata": {},
   "outputs": [],
   "source": []
  },
  {
   "cell_type": "code",
   "execution_count": null,
   "id": "7b0c7626",
   "metadata": {},
   "outputs": [],
   "source": []
  },
  {
   "cell_type": "markdown",
   "id": "38f961a7",
   "metadata": {},
   "source": [
    "#### Conditionals"
   ]
  },
  {
   "cell_type": "code",
   "execution_count": 36,
   "id": "26d83693",
   "metadata": {},
   "outputs": [
    {
     "name": "stdout",
     "output_type": "stream",
     "text": [
      "Enter a number lesser than 34: 33\n",
      "Enetered data is okay.\n"
     ]
    }
   ],
   "source": [
    "## If enetered data by the user is lesser than 34 then it's okay, else show him error.\n",
    "\n",
    "a = int(input(\"Enter a number lesser than 34: \"))\n",
    "\n",
    "if a < 34:\n",
    "    print(\"Enetered data is okay.\")\n",
    "else:\n",
    "    print(\"Entered data is not less than 34.\")"
   ]
  },
  {
   "cell_type": "code",
   "execution_count": 1,
   "id": "c4f07304",
   "metadata": {},
   "outputs": [
    {
     "name": "stdout",
     "output_type": "stream",
     "text": [
      "Enter your salary: 4\n",
      "I will buy a car.\n"
     ]
    }
   ],
   "source": [
    "salary = int(input(\"Enter your salary: \"))\n",
    "\n",
    "if salary < 1000:\n",
    "    print(\"I will buy a car.\")\n",
    "elif salary < 500:\n",
    "    print(\"I will go for a bike.\")\n",
    "elif salary < 100:\n",
    "    print(\"I will not do anything.\")\n",
    "else:\n",
    "    print(\"I will go for saving.\")"
   ]
  },
  {
   "cell_type": "code",
   "execution_count": 7,
   "id": "ba72a464",
   "metadata": {},
   "outputs": [
    {
     "name": "stdout",
     "output_type": "stream",
     "text": [
      "Enter your salary: 567\n",
      "I will buy a car.\n"
     ]
    }
   ],
   "source": [
    "salary = int(input(\"Enter your salary: \"))\n",
    "\n",
    "if (salary < 1000) and (salary > 500):\n",
    "    print(\"I will buy a car.\")\n",
    "elif salary < 500 and (salary > 100):\n",
    "    print(\"I will go for a bike.\")\n",
    "elif salary < 100:\n",
    "    print(\"I will not do anything.\")\n",
    "else:\n",
    "    print(\"I will go for saving.\")"
   ]
  },
  {
   "cell_type": "code",
   "execution_count": null,
   "id": "3085e677",
   "metadata": {},
   "outputs": [],
   "source": []
  }
 ],
 "metadata": {
  "kernelspec": {
   "display_name": "Python 3 (ipykernel)",
   "language": "python",
   "name": "python3"
  },
  "language_info": {
   "codemirror_mode": {
    "name": "ipython",
    "version": 3
   },
   "file_extension": ".py",
   "mimetype": "text/x-python",
   "name": "python",
   "nbconvert_exporter": "python",
   "pygments_lexer": "ipython3",
   "version": "3.9.7"
  }
 },
 "nbformat": 4,
 "nbformat_minor": 5
}
